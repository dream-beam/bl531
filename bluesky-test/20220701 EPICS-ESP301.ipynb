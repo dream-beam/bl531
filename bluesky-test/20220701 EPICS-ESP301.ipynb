{
 "cells": [
  {
   "cell_type": "markdown",
   "id": "e27e920c",
   "metadata": {},
   "source": [
    "# BL531 remote EPICS test"
   ]
  },
  {
   "cell_type": "markdown",
   "id": "93c76a2c",
   "metadata": {},
   "source": [
    "We want to use the Windows computer (BCS531-1) to talk to the Linux computer running the EPICS IOCs and brodcasting over the network.\n",
    "\n",
    "We had to make sure the Windosw environment variable \"EPICS_CA_ADDR_LIST\" was set to \"131.243.90.255 131.243.80.255\" (listening), and that the IOCs where running on the Linux/Controls computer"
   ]
  },
  {
   "cell_type": "code",
   "execution_count": 1,
   "id": "6fa90d6b",
   "metadata": {},
   "outputs": [],
   "source": [
    "# April 2022\n",
    "# awojdyla@lbl.gov"
   ]
  },
  {
   "cell_type": "code",
   "execution_count": 22,
   "id": "39dcc363",
   "metadata": {},
   "outputs": [],
   "source": [
    "import epics\n",
    "import bluesky #unused for now\n",
    "import numpy as np\n",
    "import time"
   ]
  },
  {
   "cell_type": "markdown",
   "id": "5fdd055e",
   "metadata": {},
   "source": [
    "### Read initial hexapod position"
   ]
  },
  {
   "cell_type": "code",
   "execution_count": 16,
   "id": "e8dd9d1a",
   "metadata": {},
   "outputs": [
    {
     "data": {
      "text/plain": [
       "'ESP301 ch3 5.100000 mm'"
      ]
     },
     "execution_count": 16,
     "metadata": {},
     "output_type": "execute_result"
    }
   ],
   "source": [
    "pre_move_ps_mm = epics.caget('newport:m13')\n",
    "(\"ESP301 ch3 %1.6f mm\" % (pre_move_ps_mm))"
   ]
  },
  {
   "cell_type": "markdown",
   "id": "706b6691",
   "metadata": {},
   "source": [
    "### Move hexapod over EPICS"
   ]
  },
  {
   "cell_type": "code",
   "execution_count": 17,
   "id": "078133ea",
   "metadata": {},
   "outputs": [
    {
     "data": {
      "text/plain": [
       "1"
      ]
     },
     "execution_count": 17,
     "metadata": {},
     "output_type": "execute_result"
    }
   ],
   "source": [
    "new_pos_mm = 1.2\n",
    "epics.caput('newport:m13',new_pos_mm)"
   ]
  },
  {
   "cell_type": "code",
   "execution_count": 18,
   "id": "686c813e",
   "metadata": {},
   "outputs": [
    {
     "data": {
      "text/plain": [
       "'ESP301 ch3 1.200000 mm'"
      ]
     },
     "execution_count": 18,
     "metadata": {},
     "output_type": "execute_result"
    }
   ],
   "source": [
    "pos_mm = epics.caget('newport:m13')\n",
    "(\"ESP301 ch3 %1.6f mm\" % (pos_mm))"
   ]
  },
  {
   "cell_type": "code",
   "execution_count": 42,
   "id": "e7b0b618",
   "metadata": {},
   "outputs": [
    {
     "data": {
      "text/plain": [
       "1"
      ]
     },
     "execution_count": 42,
     "metadata": {},
     "output_type": "execute_result"
    }
   ],
   "source": [
    "x0_mm = -12\n",
    "z0_mm = 25\n",
    "epics.caput('newport:m11',x0_mm)\n",
    "epics.caput('newport:m13',z0_mm)"
   ]
  },
  {
   "cell_type": "code",
   "execution_count": 35,
   "id": "35db63a3",
   "metadata": {},
   "outputs": [],
   "source": [
    "N = 8\n",
    "\n",
    "zs_mm = z0_mm - np.arange(N)*20\n",
    "xs_mm = x0_mm - np.arange(N)*10"
   ]
  },
  {
   "cell_type": "markdown",
   "id": "2f55c208",
   "metadata": {},
   "source": [
    "### Motion loop"
   ]
  },
  {
   "cell_type": "code",
   "execution_count": 43,
   "id": "44e639e6",
   "metadata": {},
   "outputs": [],
   "source": [
    "for ip in np.arange(N):\n",
    "    time.sleep(60)\n",
    "    epics.caput('newport:m11',zs_mm[ip])\n",
    "    epics.caput('newport:m13',xs_mm[ip])"
   ]
  },
  {
   "cell_type": "code",
   "execution_count": 39,
   "id": "e12b9c8d",
   "metadata": {},
   "outputs": [
    {
     "data": {
      "text/plain": [
       "array([  25,    5,  -15,  -35,  -55,  -75,  -95, -115])"
      ]
     },
     "execution_count": 39,
     "metadata": {},
     "output_type": "execute_result"
    }
   ],
   "source": [
    "zs_mm"
   ]
  },
  {
   "cell_type": "code",
   "execution_count": 40,
   "id": "be1bac95",
   "metadata": {},
   "outputs": [
    {
     "data": {
      "text/plain": [
       "array([-12, -22, -32, -42, -52, -62, -72, -82])"
      ]
     },
     "execution_count": 40,
     "metadata": {},
     "output_type": "execute_result"
    }
   ],
   "source": [
    "xs_mm"
   ]
  },
  {
   "cell_type": "code",
   "execution_count": null,
   "id": "69ba0004",
   "metadata": {},
   "outputs": [],
   "source": []
  }
 ],
 "metadata": {
  "kernelspec": {
   "display_name": "Python 3 (ipykernel)",
   "language": "python",
   "name": "python3"
  },
  "language_info": {
   "codemirror_mode": {
    "name": "ipython",
    "version": 3
   },
   "file_extension": ".py",
   "mimetype": "text/x-python",
   "name": "python",
   "nbconvert_exporter": "python",
   "pygments_lexer": "ipython3",
   "version": "3.9.7"
  }
 },
 "nbformat": 4,
 "nbformat_minor": 5
}

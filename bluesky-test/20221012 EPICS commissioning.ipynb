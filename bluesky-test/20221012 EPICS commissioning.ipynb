{
 "cells": [
  {
   "cell_type": "code",
   "execution_count": null,
   "metadata": {},
   "outputs": [],
   "source": []
  },
  {
   "cell_type": "code",
   "execution_count": null,
   "metadata": {},
   "outputs": [],
   "source": []
  },
  {
   "cell_type": "code",
   "execution_count": 1,
   "metadata": {},
   "outputs": [],
   "source": [
    "import epics\n",
    "import bluesky\n",
    "#import numpy\n",
    "#import matplotlib.pyplot as plt\n",
    "#import time \n",
    "from ophyd import EpicsMotor\n",
    "import ophyd\n",
    "ophyd.set_cl('caproto')\n",
    "os.environ['EPICS_CA_ADDR_LIST'] = '192.168.10.255'\n",
    "os.environ['EPICS_CA_AUTO_ADDR_LIST'] = 'NO'"
   ]
  },
  {
   "cell_type": "code",
   "execution_count": 2,
   "metadata": {},
   "outputs": [],
   "source": []
  },
  {
   "cell_type": "code",
   "execution_count": 4,
   "metadata": {},
   "outputs": [
    {
     "name": "stdout",
     "output_type": "stream",
     "text": [
      "65.0\n"
     ]
    }
   ],
   "source": [
    "a = mono_theta.position\n",
    "print(a)"
   ]
  },
  {
   "cell_type": "code",
   "execution_count": 14,
   "metadata": {},
   "outputs": [
    {
     "name": "stdout",
     "output_type": "stream",
     "text": [
      "5.070752143859863\n"
     ]
    }
   ],
   "source": [
    "reading = epics.caget('bl531:LJT4:1:AI1')\n",
    "print(reading)"
   ]
  },
  {
   "cell_type": "code",
   "execution_count": 41,
   "metadata": {},
   "outputs": [],
   "source": [
    "os.environ['c'] = '1920*1080*3'\n",
    "reading = epics.caput('AVT_Manta_507C:cam1:Acquire',1)"
   ]
  },
  {
   "cell_type": "code",
   "execution_count": 42,
   "metadata": {},
   "outputs": [],
   "source": [
    "reading=epics.caget('BL531acA1920:image1:ArrayData',count=(1920*1080))"
   ]
  },
  {
   "cell_type": "code",
   "execution_count": 48,
   "metadata": {},
   "outputs": [
    {
     "ename": "ValueError",
     "evalue": "could not broadcast input array from shape (1179359,) into shape (1920,1080)",
     "output_type": "error",
     "traceback": [
      "\u001b[0;31m---------------------------------------------------------------------------\u001b[0m",
      "\u001b[0;31mValueError\u001b[0m                                Traceback (most recent call last)",
      "\u001b[1;32m/home/bl531/bl531/bluesky-test/20221012 EPICS commissioning.ipynb Cell 9\u001b[0m in \u001b[0;36m<cell line: 4>\u001b[0;34m()\u001b[0m\n\u001b[1;32m      <a href='vscode-notebook-cell:/home/bl531/bl531/bluesky-test/20221012%20EPICS%20commissioning.ipynb#ch0000009?line=1'>2</a>\u001b[0m \u001b[39mimport\u001b[39;00m \u001b[39mmatplotlib\u001b[39;00m\u001b[39m.\u001b[39;00m\u001b[39mpyplot\u001b[39;00m \u001b[39mas\u001b[39;00m \u001b[39mplt\u001b[39;00m\n\u001b[1;32m      <a href='vscode-notebook-cell:/home/bl531/bl531/bluesky-test/20221012%20EPICS%20commissioning.ipynb#ch0000009?line=2'>3</a>\u001b[0m rpad \u001b[39m=\u001b[39m np\u001b[39m.\u001b[39mzeros((\u001b[39m1921\u001b[39m,\u001b[39m1080\u001b[39m))\n\u001b[0;32m----> <a href='vscode-notebook-cell:/home/bl531/bl531/bluesky-test/20221012%20EPICS%20commissioning.ipynb#ch0000009?line=3'>4</a>\u001b[0m rpad[\u001b[39m1\u001b[39m:\u001b[39mlen\u001b[39m(reading)]\u001b[39m=\u001b[39mreading[\u001b[39m1\u001b[39m:\u001b[39mlen\u001b[39m(reading)]\n\u001b[1;32m      <a href='vscode-notebook-cell:/home/bl531/bl531/bluesky-test/20221012%20EPICS%20commissioning.ipynb#ch0000009?line=4'>5</a>\u001b[0m \u001b[39m#plt.plot(np.reshape(reading,(1920,1080)))\u001b[39;00m\n\u001b[1;32m      <a href='vscode-notebook-cell:/home/bl531/bl531/bluesky-test/20221012%20EPICS%20commissioning.ipynb#ch0000009?line=5'>6</a>\u001b[0m plt\u001b[39m.\u001b[39mplot(rpad)\n",
      "\u001b[0;31mValueError\u001b[0m: could not broadcast input array from shape (1179359,) into shape (1920,1080)"
     ]
    }
   ],
   "source": [
    "import numpy as np\n",
    "import matplotlib.pyplot as plt\n",
    "rpad = np.zeros((1921,1080))\n",
    "rpad[1:len(reading)]=reading[1:len(reading)]\n",
    "#plt.plot(np.reshape(reading,(1920,1080)))\n",
    "plt.plot(rpad)\n",
    "plt.show()"
   ]
  },
  {
   "cell_type": "code",
   "execution_count": 51,
   "metadata": {},
   "outputs": [
    {
     "ename": "ValueError",
     "evalue": "could not broadcast input array from shape (1179360,1) into shape (1921,1080)",
     "output_type": "error",
     "traceback": [
      "\u001b[0;31m---------------------------------------------------------------------------\u001b[0m",
      "\u001b[0;31mValueError\u001b[0m                                Traceback (most recent call last)",
      "\u001b[1;32m/home/bl531/bl531/bluesky-test/20221012 EPICS commissioning.ipynb Cell 10\u001b[0m in \u001b[0;36m<cell line: 1>\u001b[0;34m()\u001b[0m\n\u001b[0;32m----> <a href='vscode-notebook-cell:/home/bl531/bl531/bluesky-test/20221012%20EPICS%20commissioning.ipynb#ch0000010?line=0'>1</a>\u001b[0m np\u001b[39m.\u001b[39;49mfull((\u001b[39m1921\u001b[39;49m,\u001b[39m1080\u001b[39;49m), reading[:,\u001b[39mNone\u001b[39;49;00m])\n",
      "File \u001b[0;32m~/.local/lib/python3.10/site-packages/numpy/core/numeric.py:344\u001b[0m, in \u001b[0;36mfull\u001b[0;34m(shape, fill_value, dtype, order, like)\u001b[0m\n\u001b[1;32m    342\u001b[0m     dtype \u001b[39m=\u001b[39m fill_value\u001b[39m.\u001b[39mdtype\n\u001b[1;32m    343\u001b[0m a \u001b[39m=\u001b[39m empty(shape, dtype, order)\n\u001b[0;32m--> 344\u001b[0m multiarray\u001b[39m.\u001b[39;49mcopyto(a, fill_value, casting\u001b[39m=\u001b[39;49m\u001b[39m'\u001b[39;49m\u001b[39munsafe\u001b[39;49m\u001b[39m'\u001b[39;49m)\n\u001b[1;32m    345\u001b[0m \u001b[39mreturn\u001b[39;00m a\n",
      "File \u001b[0;32m<__array_function__ internals>:180\u001b[0m, in \u001b[0;36mcopyto\u001b[0;34m(*args, **kwargs)\u001b[0m\n",
      "\u001b[0;31mValueError\u001b[0m: could not broadcast input array from shape (1179360,1) into shape (1921,1080)"
     ]
    }
   ],
   "source": [
    "np.full((1921,1080), reading)"
   ]
  },
  {
   "cell_type": "code",
   "execution_count": null,
   "metadata": {},
   "outputs": [],
   "source": []
  }
 ],
 "metadata": {
  "kernelspec": {
   "display_name": "Python 3.10.4 64-bit",
   "language": "python",
   "name": "python3"
  },
  "language_info": {
   "codemirror_mode": {
    "name": "ipython",
    "version": 3
   },
   "file_extension": ".py",
   "mimetype": "text/x-python",
   "name": "python",
   "nbconvert_exporter": "python",
   "pygments_lexer": "ipython3",
   "version": "3.10.6"
  },
  "orig_nbformat": 4,
  "vscode": {
   "interpreter": {
    "hash": "916dbcbb3f70747c44a77c7bcd40155683ae19c65e1c03b4aa3499c5328201f1"
   }
  }
 },
 "nbformat": 4,
 "nbformat_minor": 2
}

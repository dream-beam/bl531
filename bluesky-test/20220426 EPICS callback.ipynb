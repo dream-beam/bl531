{
 "cells": [
  {
   "cell_type": "markdown",
   "id": "e3e8fb80",
   "metadata": {},
   "source": [
    "# Using callbacks for EPICS monitoring"
   ]
  },
  {
   "cell_type": "markdown",
   "id": "053a30a5",
   "metadata": {},
   "source": [
    "works!"
   ]
  },
  {
   "cell_type": "code",
   "execution_count": null,
   "id": "6ba8b509",
   "metadata": {},
   "outputs": [],
   "source": [
    "# April 2022\n",
    "# awojdyla@lbl.gov"
   ]
  },
  {
   "cell_type": "code",
   "execution_count": 1,
   "id": "b1f1ed3e",
   "metadata": {},
   "outputs": [],
   "source": [
    "import epics\n",
    "import time\n",
    "import sys"
   ]
  },
  {
   "cell_type": "code",
   "execution_count": 2,
   "id": "c3f3b683",
   "metadata": {},
   "outputs": [
    {
     "name": "stdout",
     "output_type": "stream",
     "text": [
      "PV value changed: xxx:hxp:c0:m3 (BL531BCS-L.dhcp.lbl.gov:40137)  -5.0\n",
      "Now waiting, watching values and connection changes:\n",
      "PV value changed: xxx:hxp:c0:m3 (BL531BCS-L.dhcp.lbl.gov:40137)  5.1\n"
     ]
    },
    {
     "ename": "KeyboardInterrupt",
     "evalue": "",
     "output_type": "error",
     "traceback": [
      "\u001b[1;31m---------------------------------------------------------------------------\u001b[0m",
      "\u001b[1;31mKeyboardInterrupt\u001b[0m                         Traceback (most recent call last)",
      "Input \u001b[1;32mIn [2]\u001b[0m, in \u001b[0;36m<cell line: 14>\u001b[1;34m()\u001b[0m\n\u001b[0;32m     13\u001b[0m t0 \u001b[38;5;241m=\u001b[39m time\u001b[38;5;241m.\u001b[39mtime()\n\u001b[0;32m     14\u001b[0m \u001b[38;5;28;01mwhile\u001b[39;00m time\u001b[38;5;241m.\u001b[39mtime()\u001b[38;5;241m-\u001b[39mt0 \u001b[38;5;241m<\u001b[39m \u001b[38;5;241m300\u001b[39m:\n\u001b[1;32m---> 15\u001b[0m     \u001b[43mtime\u001b[49m\u001b[38;5;241;43m.\u001b[39;49m\u001b[43msleep\u001b[49m\u001b[43m(\u001b[49m\u001b[38;5;241;43m0.01\u001b[39;49m\u001b[43m)\u001b[49m\n",
      "\u001b[1;31mKeyboardInterrupt\u001b[0m: "
     ]
    }
   ],
   "source": [
    "pvname = 'xxx:hxp:c0:m3'\n",
    "\n",
    "write = sys.stdout.write\n",
    "def onValueChange(pvname=None, value=None, host=None, **kws):\n",
    "    write('PV value changed: %s (%s)  %s\\n' % ( pvname, host, repr(value)))\n",
    "    sys.stdout.flush()\n",
    "    \n",
    "mypv = epics.PV(pvname, callback= onValueChange)\n",
    "\n",
    "mypv.get()\n",
    "\n",
    "write('Now waiting, watching values and connection changes:\\n')\n",
    "t0 = time.time()\n",
    "while time.time()-t0 < 300:\n",
    "    time.sleep(0.01)"
   ]
  },
  {
   "cell_type": "code",
   "execution_count": 3,
   "id": "6b611231",
   "metadata": {},
   "outputs": [
    {
     "name": "stdout",
     "output_type": "stream",
     "text": [
      "PV value changed: xxx:hxp:c0:m3 (BL531BCS-L.dhcp.lbl.gov:40137)  -5.0\n"
     ]
    },
    {
     "data": {
      "text/plain": [
       "1"
      ]
     },
     "execution_count": 3,
     "metadata": {},
     "output_type": "execute_result"
    }
   ],
   "source": [
    "new_pos_mm = -5\n",
    "epics.caput(pvname, new_pos_mm)"
   ]
  },
  {
   "cell_type": "code",
   "execution_count": 4,
   "id": "14788bc3",
   "metadata": {},
   "outputs": [
    {
     "name": "stdout",
     "output_type": "stream",
     "text": [
      "== xxx:hxp:c0:m3  (time_double) ==\n",
      "   value      = -5\n",
      "   char_value = '-5.00000'\n",
      "   count      = 1\n",
      "   nelm       = 1\n",
      "   type       = time_double\n",
      "   units      = mm\n",
      "   precision  = 5\n",
      "   host       = BL531BCS-L.dhcp.lbl.gov:40137\n",
      "   access     = read/write\n",
      "   status     = 0\n",
      "   char_status= NO_ALARM\n",
      "   severity   = 0\n",
      "   char_severity       = NO_ALARM\n",
      "   timestamp  = 1651015473.924 (2022-04-26 16:24:33.92423)\n",
      "   posixseconds        = 1651015473.0\n",
      "   nanoseconds= 924228039\n",
      "   upper_ctrl_limit    = 0.0\n",
      "   lower_ctrl_limit    = 0.0\n",
      "   upper_disp_limit    = 0.0\n",
      "   lower_disp_limit    = 0.0\n",
      "   upper_alarm_limit   = 0.0\n",
      "   lower_alarm_limit   = 0.0\n",
      "   upper_warning_limit = 0.0\n",
      "   lower_warning_limit = 0.0\n",
      "   PV is internally monitored, with 0 user-defined callbacks:\n",
      "=============================\n"
     ]
    }
   ],
   "source": [
    "epics.cainfo(pvname)"
   ]
  },
  {
   "cell_type": "code",
   "execution_count": 5,
   "id": "04710316",
   "metadata": {},
   "outputs": [],
   "source": [
    "epics.camonitor(pvname)"
   ]
  },
  {
   "cell_type": "code",
   "execution_count": 6,
   "id": "4ad0f12c",
   "metadata": {},
   "outputs": [],
   "source": [
    "epics.camonitor_clear(pvname)"
   ]
  }
 ],
 "metadata": {
  "kernelspec": {
   "display_name": "Python 3 (ipykernel)",
   "language": "python",
   "name": "python3"
  },
  "language_info": {
   "codemirror_mode": {
    "name": "ipython",
    "version": 3
   },
   "file_extension": ".py",
   "mimetype": "text/x-python",
   "name": "python",
   "nbconvert_exporter": "python",
   "pygments_lexer": "ipython3",
   "version": "3.9.7"
  }
 },
 "nbformat": 4,
 "nbformat_minor": 5
}

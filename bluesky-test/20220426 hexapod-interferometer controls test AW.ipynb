{
 "cells": [
  {
   "cell_type": "markdown",
   "id": "28a4fdee",
   "metadata": {},
   "source": [
    "# hexapod-interferometer controls test"
   ]
  },
  {
   "cell_type": "code",
   "execution_count": null,
   "id": "cb97f053",
   "metadata": {},
   "outputs": [],
   "source": []
  },
  {
   "cell_type": "code",
   "execution_count": 1,
   "id": "bb85c441",
   "metadata": {},
   "outputs": [],
   "source": [
    "# April 2022\n",
    "# awojdyla@lbl.gov"
   ]
  },
  {
   "cell_type": "code",
   "execution_count": 1,
   "id": "3f90e57e",
   "metadata": {},
   "outputs": [],
   "source": [
    "import epics\n",
    "import bluesky #unused for now\n",
    "import numpy\n",
    "import matplotlib.pyplot as plt\n",
    "import time "
   ]
  },
  {
   "cell_type": "code",
   "execution_count": 2,
   "id": "092597c5",
   "metadata": {},
   "outputs": [
    {
     "name": "stdout",
     "output_type": "stream",
     "text": [
      "hexapod z position (picoscale reading): -1.982846 mm\n"
     ]
    }
   ],
   "source": [
    "pre_move_ps_pm = epics.caget('BL531:PS:POS_0')\n",
    "print(\"hexapod z position (picoscale reading): %1.6f mm\" % (pre_move_ps_pm*1e-9))"
   ]
  },
  {
   "cell_type": "code",
   "execution_count": 4,
   "id": "b3de3a4a",
   "metadata": {},
   "outputs": [
    {
     "name": "stdout",
     "output_type": "stream",
     "text": [
      "hexapod z position (picoscale reading): -1.250343 mm\n",
      "hexapod z position (hexapod reading): -7.010mm\n"
     ]
    }
   ],
   "source": [
    "pre_move_ps_pm = epics.caget('BL531:PS:POS_0')\n",
    "print(\"hexapod z position (picoscale reading): %1.6f mm\" % (pre_move_ps_pm*1e-9))\n",
    "pre_move_mm = epics.caget('xxx:hxp:c0:m3')\n",
    "print(\"hexapod z position (hexapod reading): %1.3fmm\" % pre_move_mm)\n",
    "new_pos_mm = -7.01\n",
    "move_done = epics.caput('xxx:hxp:c0:m3',new_pos_mm)"
   ]
  },
  {
   "cell_type": "code",
   "execution_count": 59,
   "id": "246a3d8f",
   "metadata": {},
   "outputs": [],
   "source": [
    "N_z = 11\n",
    "zs_mm = numpy.linspace(-7.0,8.0,N_z)\n",
    "zs_readings_mm = zs_mm*0\n",
    "move_done = epics.caput('xxx:hxp:c0:m3',zs_mm[0])\n",
    "z_start_pm = epics.caget('BL531:PS:POS_0')"
   ]
  },
  {
   "cell_type": "code",
   "execution_count": 60,
   "id": "de618635",
   "metadata": {},
   "outputs": [
    {
     "name": "stdout",
     "output_type": "stream",
     "text": [
      "-7.0\n",
      "hexapod z position (picoscale reading): 0.009223 mm\n",
      "-5.5\n",
      "hexapod z position (picoscale reading): -1.488955 mm\n",
      "-4.0\n",
      "hexapod z position (picoscale reading): 1.317156 mm\n",
      "-2.5\n",
      "hexapod z position (picoscale reading): -0.157231 mm\n",
      "-1.0\n",
      "hexapod z position (picoscale reading): -1.597155 mm\n",
      "0.5\n",
      "hexapod z position (picoscale reading): 1.277105 mm\n",
      "2.0\n",
      "hexapod z position (picoscale reading): -0.163742 mm\n",
      "3.5\n",
      "hexapod z position (picoscale reading): -1.584675 mm\n",
      "5.0\n",
      "hexapod z position (picoscale reading): 1.289020 mm\n",
      "6.5\n",
      "hexapod z position (picoscale reading): -0.156632 mm\n",
      "8.0\n",
      "hexapod z position (picoscale reading): -0.598391 mm\n"
     ]
    }
   ],
   "source": [
    "for i in range(N_z):\n",
    "    print(zs_mm[i])\n",
    "    new_pos_mm = zs_mm[i]\n",
    "    move_done = epics.caput('xxx:hxp:c0:m3',new_pos_mm)\n",
    "    time.sleep(2)\n",
    "    zs_readings_mm[i] = epics.caget('BL531:PS:POS_0')*1e-9\n",
    "    post_move_ps_pm = epics.caget('BL531:PS:POS_0')\n",
    "    print(\"hexapod z position (picoscale reading): %1.6f mm\" % (post_move_ps_pm*1e-9))"
   ]
  },
  {
   "cell_type": "code",
   "execution_count": 27,
   "id": "61be1714",
   "metadata": {},
   "outputs": [
    {
     "data": {
      "text/plain": [
       "array([0.0000000e+00, 2.5666000e-05, 1.3555500e-04, 2.8339300e-03,\n",
       "       8.6830910e-03, 1.5044303e-02, 2.0717921e-02, 2.0746087e-02,\n",
       "       2.0811522e-02, 2.0775795e-02, 2.0792904e-02])"
      ]
     },
     "execution_count": 27,
     "metadata": {},
     "output_type": "execute_result"
    }
   ],
   "source": [
    "zs_readings_mm-zs_readings_mm[0]"
   ]
  },
  {
   "cell_type": "code",
   "execution_count": 61,
   "id": "214c67f3",
   "metadata": {},
   "outputs": [
    {
     "data": {
      "image/png": "[encoded data removed]",
      "text/plain": [
       "<Figure size 432x288 with 1 Axes>"
      ]
     },
     "metadata": {
      "needs_background": "light"
     },
     "output_type": "display_data"
    }
   ],
   "source": [
    "plt.plot(zs_mm,zs_readings_mm)\n",
    "plt.title('haxapod Z motion')\n",
    "plt.xlabel('requested position [mm]')\n",
    "plt.ylabel('interferometer reading [mm]')\n",
    "plt.show()\n"
   ]
  },
  {
   "cell_type": "code",
   "execution_count": 62,
   "id": "29b26d53",
   "metadata": {},
   "outputs": [],
   "source": [
    "z_end_pm = epics.caget('BL531:PS:POS_0')"
   ]
  },
  {
   "cell_type": "code",
   "execution_count": 63,
   "id": "ce7b37e9",
   "metadata": {},
   "outputs": [
    {
     "data": {
      "text/plain": [
       "-607489271"
      ]
     },
     "execution_count": 63,
     "metadata": {},
     "output_type": "execute_result"
    }
   ],
   "source": [
    "z_end_pm-z_start_pm"
   ]
  },
  {
   "cell_type": "code",
   "execution_count": null,
   "id": "c01a73ee",
   "metadata": {},
   "outputs": [],
   "source": []
  }
 ],
 "metadata": {
  "kernelspec": {
   "display_name": "Python 3.10.6 64-bit",
   "language": "python",
   "name": "python3"
  },
  "language_info": {
   "codemirror_mode": {
    "name": "ipython",
    "version": 3
   },
   "file_extension": ".py",
   "mimetype": "text/x-python",
   "name": "python",
   "nbconvert_exporter": "python",
   "pygments_lexer": "ipython3",
   "version": "3.10.6"
  },
  "vscode": {
   "interpreter": {
    "hash": "916dbcbb3f70747c44a77c7bcd40155683ae19c65e1c03b4aa3499c5328201f1"
   }
  }
 },
 "nbformat": 4,
 "nbformat_minor": 5
}

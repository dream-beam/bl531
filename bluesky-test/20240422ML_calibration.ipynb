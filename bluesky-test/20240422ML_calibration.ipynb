{
 "cells": [
  {
   "cell_type": "code",
   "execution_count": 6,
   "metadata": {},
   "outputs": [],
   "source": [
    "import epics\n",
    "import numpy as np\n",
    "from PIL import Image"
   ]
  },
  {
   "cell_type": "code",
   "execution_count": 2,
   "metadata": {},
   "outputs": [
    {
     "name": "stderr",
     "output_type": "stream",
     "text": [
      "CA.Client.Exception...............................................\n",
      "    Warning: \"Identical process variable names on multiple servers\"\n",
      "    Context: \"Channel: \"bl531_xps1:mono_angle_deg\", Connecting to: 131.243.80.239:5064, Ignored: 192.168.10.123:5064\"\n",
      "    Source File: ../cac.cpp line 1320\n",
      "    Current Time: Mon Apr 22 2024 17:52:17.779838292\n",
      "..................................................................\n"
     ]
    },
    {
     "data": {
      "text/plain": [
       "25.8"
      ]
     },
     "execution_count": 2,
     "metadata": {},
     "output_type": "execute_result"
    }
   ],
   "source": [
    "# testing EPICS with the monochromator\n",
    "epics.caget('bl531_xps1:mono_angle_deg')"
   ]
  },
  {
   "cell_type": "code",
   "execution_count": 4,
   "metadata": {},
   "outputs": [
    {
     "name": "stderr",
     "output_type": "stream",
     "text": [
      "CA.Client.Exception...............................................\n",
      "    Warning: \"Identical process variable names on multiple servers\"\n",
      "    Context: \"Channel: \"bl201-beamstop:current\", Connecting to: 131.243.80.239:39163, Ignored: 192.168.10.123:39163\"\n",
      "    Source File: ../cac.cpp line 1320\n",
      "    Current Time: Mon Apr 22 2024 17:52:43.506558663\n",
      "..................................................................\n"
     ]
    },
    {
     "data": {
      "text/plain": [
       "-122.83"
      ]
     },
     "execution_count": 4,
     "metadata": {},
     "output_type": "execute_result"
    }
   ],
   "source": [
    "\n",
    "epics.caget('bl201-beamstop:current')"
   ]
  },
  {
   "cell_type": "code",
   "execution_count": 18,
   "metadata": {},
   "outputs": [],
   "source": [
    "import matplotlib.pyplot as plt\n",
    "from time import sleep as time_sleep\n",
    "\n",
    "mono_angles_deg = np.linspace(25,26,101)\n",
    "pd_val_nA = mono_angles_deg*0\n",
    "\n",
    "\n",
    "epics.caput('bl531_xps1:mono_angle_deg', mono_angles_deg[0])\n",
    "time_sleep(5)\n",
    "for i_a in np.arange(len(mono_angles_deg)):\n",
    "    epics.caput('bl531_xps1:mono_angle_deg', mono_angles_deg[i_a])\n",
    "    time_sleep(0.5)\n",
    "    pd_val_nA[i_a] = epics.caget('bl201-beamstop:current')\n",
    "\n",
    "\n"
   ]
  },
  {
   "cell_type": "code",
   "execution_count": 19,
   "metadata": {},
   "outputs": [
    {
     "data": {
      "image/png": "[encoded data removed]",
      "text/plain": [
       "<Figure size 432x288 with 1 Axes>"
      ]
     },
     "metadata": {
      "needs_background": "light"
     },
     "output_type": "display_data"
    }
   ],
   "source": [
    "plt.plot(mono_angles_deg,pd_val_nA)\n",
    "plt.xlabel('Mono angle [deg]')\n",
    "plt.ylabel('beamstop diode intensity [nA]')\n",
    "plt.show()\n"
   ]
  },
  {
   "cell_type": "code",
   "execution_count": 17,
   "metadata": {},
   "outputs": [
    {
     "data": {
      "text/plain": [
       "array([  -29.85,   -29.85,   -29.85,   -29.85,   -29.85,   -29.85,\n",
       "         -29.85,   -29.85,   -29.85,   -29.85,   -29.85,   -29.85,\n",
       "         -29.85,   -29.85,   -29.85,   -29.85,   -29.85,   -29.85,\n",
       "         -29.85,   -29.85,   -29.85,   -29.85,   -29.81,   -29.81,\n",
       "         -29.81,   -29.81,   -29.81,   -29.81,   -29.81,   -29.81,\n",
       "         -29.81,   -29.81,   -29.81,   -29.81,   -29.8 ,   -29.8 ,\n",
       "         -29.8 ,   -29.8 ,   -29.8 ,   -29.8 ,   -29.8 ,   -29.8 ,\n",
       "         -29.8 ,   -29.8 ,   -29.8 ,   -29.8 ,   -29.78,   -29.78,\n",
       "         -29.78,   -29.78,   -29.78,   -29.78,   -29.78,   -29.78,\n",
       "         -29.78,   -29.78,   -29.78,   -29.78,   -29.81,   -29.81,\n",
       "         -29.81,   -29.81,   -29.81,   -29.81,   -29.81,   -29.81,\n",
       "         -29.81,   -29.81,   -29.81,   -29.81, -1204.  , -1204.  ,\n",
       "       -1204.  , -1204.  , -1204.  , -1204.  , -1204.  , -1204.  ,\n",
       "       -1204.  , -1204.  , -1204.  ,  -835.7 ,  -835.7 ,  -835.7 ,\n",
       "        -835.7 ,  -835.7 ,  -835.7 ,  -835.7 ,  -835.7 ,  -835.7 ,\n",
       "        -835.7 ,  -835.7 ,  -835.7 ,  -777.1 ,  -777.1 ,  -777.1 ,\n",
       "        -777.1 ,  -777.1 ,  -777.1 ,  -777.1 ,  -777.1 ])"
      ]
     },
     "execution_count": 17,
     "metadata": {},
     "output_type": "execute_result"
    }
   ],
   "source": [
    "pd_val_nA"
   ]
  },
  {
   "cell_type": "markdown",
   "metadata": {},
   "source": [
    "# DO NOT OPERATE WHAT IS BELOW"
   ]
  },
  {
   "cell_type": "code",
   "execution_count": null,
   "metadata": {},
   "outputs": [],
   "source": [
    "from bluesky import RunEngine\n",
    "RE = RunEngine({})\n",
    "\n",
    "from databroker import Broker\n",
    "db = Broker.named('temp')\n",
    "\n",
    "# Insert all metadata/data captured into db.\n",
    "RE.subscribe(db.insert)"
   ]
  },
  {
   "cell_type": "code",
   "execution_count": null,
   "metadata": {},
   "outputs": [],
   "source": [
    "from ophyd import EpicsMotor\n",
    "import ophyd\n",
    "ophyd.set_cl('caproto')\n",
    "\n",
    "#that does not work\n",
    "#det = ophyd.EpicsMotor('BL531:PS:POS_0', name='picoscale') \n",
    "#det.read()\n",
    "\n",
    "bl531_current = ophyd.EpicsSignal('bl201-beamstop:current', name='picoammeter')\n",
    "# do not do a read in the same cell! too fast\n",
    "\n",
    "#this works\n",
    "bl531_current.wait_for_connection(timeout=2.0)\n",
    "bl531_current.read()"
   ]
  },
  {
   "cell_type": "code",
   "execution_count": null,
   "metadata": {},
   "outputs": [],
   "source": [
    "#worked at some point... needs to be launched\n",
    "bl531_mono = EpicsMotor('IOC:m1', name='Mono theta')\n",
    "#mono_theta = EpicsMotor('IOC:m1', name='theta')\n",
    "bl531_mono.wait_for_connection(timeout=2.0)\n",
    "bl531_mono.read()"
   ]
  },
  {
   "cell_type": "code",
   "execution_count": null,
   "metadata": {},
   "outputs": [],
   "source": [
    "from bluesky.plans import count\n",
    "#dets = [det1, det2]   # a list of any number of detectors\n",
    "\n",
    "dets = [bl531_current]   # a list of any number of detectors\n",
    "motors = bl531_mono \n",
    "\n",
    "RE(count(dets))"
   ]
  },
  {
   "cell_type": "code",
   "execution_count": null,
   "metadata": {},
   "outputs": [],
   "source": [
    "from bluesky.plans import scan\n",
    "RE(scan(dets, motors, 20, 21, 2))"
   ]
  },
  {
   "cell_type": "code",
   "execution_count": null,
   "metadata": {},
   "outputs": [],
   "source": [
    "header = db[-1]\n",
    "header.table()"
   ]
  }
 ],
 "metadata": {
  "kernelspec": {
   "display_name": "Python 3.10.6 64-bit",
   "language": "python",
   "name": "python3"
  },
  "language_info": {
   "codemirror_mode": {
    "name": "ipython",
    "version": 3
   },
   "file_extension": ".py",
   "mimetype": "text/x-python",
   "name": "python",
   "nbconvert_exporter": "python",
   "pygments_lexer": "ipython3",
   "version": "3.10.6"
  },
  "orig_nbformat": 4,
  "vscode": {
   "interpreter": {
    "hash": "916dbcbb3f70747c44a77c7bcd40155683ae19c65e1c03b4aa3499c5328201f1"
   }
  }
 },
 "nbformat": 4,
 "nbformat_minor": 2
}

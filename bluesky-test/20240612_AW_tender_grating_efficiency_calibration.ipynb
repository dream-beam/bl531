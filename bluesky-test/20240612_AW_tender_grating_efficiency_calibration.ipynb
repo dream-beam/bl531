{
 "cells": [
  {
   "cell_type": "markdown",
   "metadata": {},
   "source": [
    "# BL531 tender grating efficiency measurements\n",
    "Xiaoya Chong, AW, SP, VV\n",
    "\n",
    "4 June, 2024"
   ]
  },
  {
   "cell_type": "code",
   "execution_count": null,
   "metadata": {},
   "outputs": [],
   "source": [
    "import epics\n",
    "import numpy as np\n",
    "from PIL import Image\n",
    "import matplotlib.pyplot as plt\n",
    "from time import sleep as time_sleep\n",
    "from tqdm import tqdm\n",
    "import socket\n"
   ]
  },
  {
   "cell_type": "markdown",
   "metadata": {},
   "source": [
    "## Define mono calibration and routine"
   ]
  },
  {
   "cell_type": "code",
   "execution_count": null,
   "metadata": {},
   "outputs": [],
   "source": [
    "# --------------------------------------------------------------------------------------------------------------------------------------------------------------\n",
    "\n",
    "# define mono angle to energy conversion\n",
    "\n",
    "#physical constants\n",
    "h_m2kgps = 6.6261e-34\n",
    "c_mps    = 299792458   \n",
    "e_eV     = 6.2415e+18\n",
    "# Silicon spacing (for Bragg condition)\n",
    "Si_m = 5.43E-10\n",
    "a_Si111_m = Si_m/np.sqrt(1^2+1^2+1^2)\n",
    "# Monochromotor offset\n",
    "mono_offset_deg = 12.787\n",
    "#Wavelength from energy\n",
    "lambda_m = lambda E_eV : h_m2kgps*c_mps*e_eV/E_eV\n",
    "#Bragg angle from Wavelength\n",
    "bragg_deg = lambda E_eV: np.arcsin(lambda_m(E_eV)/(2*a_Si111_m))*180/np.pi\n",
    "# Mono angle from Bragg angle\n",
    "mono_deg = lambda E_eV: bragg_deg(E_eV)+mono_offset_deg\n",
    "\n",
    "# inverse function to go from mono angle to eV\n",
    "energy_eV = lambda mono_deg_input: (h_m2kgps*c_mps*e_eV)/((2 * a_Si111_m) * np.sin((np.pi/180)*(mono_deg_input - mono_offset_deg)))\n",
    "\n"
   ]
  },
  {
   "cell_type": "code",
   "execution_count": 6,
   "metadata": {},
   "outputs": [
    {
     "data": {
      "text/plain": [
       "1"
      ]
     },
     "execution_count": 6,
     "metadata": {},
     "output_type": "execute_result"
    }
   ],
   "source": [
    "#sample\n",
    "series_nb = \"%03.0f\" % 0\n",
    "image_nb = \"%03.0f\"  % 0\n",
    "current_filename = \"20240612a_tender_grating_\" + series_nb + \"_\" +image_nb\n",
    "epics.caput('13PIL1:cam1:FileName',current_filename)\n",
    "epics.caput('13PIL1:cam1:Acquire',1)"
   ]
  },
  {
   "cell_type": "markdown",
   "metadata": {},
   "source": [
    "## Calibration scan\n",
    "One measurement every 10 seconds for 5 min. Acquiring straight beam.\n",
    "Before the second image, the beam is off, and we're expecting to see a drift in total photon count,\n",
    "\n",
    "Photon energy 8keV.\n",
    "Let's go"
   ]
  },
  {
   "cell_type": "code",
   "execution_count": 16,
   "metadata": {},
   "outputs": [
    {
     "name": "stdout",
     "output_type": "stream",
     "text": [
      "0\n",
      "1\n",
      "2\n",
      "3\n",
      "4\n",
      "5\n",
      "6\n",
      "7\n",
      "8\n",
      "9\n",
      "10\n",
      "11\n",
      "12\n",
      "13\n",
      "14\n",
      "15\n",
      "16\n",
      "17\n",
      "18\n",
      "19\n",
      "20\n",
      "21\n",
      "22\n",
      "23\n",
      "24\n",
      "25\n",
      "26\n",
      "27\n",
      "28\n",
      "29\n",
      "30\n"
     ]
    }
   ],
   "source": [
    "# reference energy scan\n",
    "calib_id = np.arange(31)       # same energy range/resolution as nexafs\n",
    "\n",
    "\n",
    "filenames = ()\n",
    "for i_c in range(len(calib_id)): \n",
    "    time_sleep(10)\n",
    "\n",
    "    series_nb = \"%03.0f\" % 0\n",
    "    image_nb = \"%03.0f\"  % (i_c+1)\n",
    "\n",
    "    current_filename = \"20240612a_tender_grating_\" + series_nb + \"_\" +image_nb\n",
    "    epics.caput('13PIL1:cam1:FileName',current_filename)\n",
    "    epics.caput('13PIL1:cam1:Acquire',1)\n",
    "    filenames += (current_filename,)\n",
    "    print(i_c)"
   ]
  },
  {
   "cell_type": "markdown",
   "metadata": {},
   "source": [
    "## loading data and summuning it up"
   ]
  },
  {
   "cell_type": "code",
   "execution_count": 26,
   "metadata": {},
   "outputs": [],
   "source": [
    "# first, display\n",
    "folder = '/mnt/data531/'\n",
    "\n",
    "filepath = folder+filenames[4]+'.tif'\n",
    "# read the image\n",
    "im_tiff = Image.open(filepath)\n",
    "# make the image a numpy array so that we can process it\n",
    "im_np = np.squeeze(np.array(im_tiff.getdata()).reshape(im_tiff.size[1], im_tiff.size[0], 1))\n",
    "\n",
    "im_thr = im_np\n",
    "im_thr[im_np>200000]=0\n",
    "\n",
    "dx_m = 172e-6\n",
    "Nx_px = 487\n",
    "Ny_px = 619\n",
    "Dx_m = Nx_px*dx_m\n",
    "Dy_m = Ny_px*dx_m\n",
    "\n",
    "fig=plt.figure(figsize=(5, 5), dpi= 120, facecolor='w', edgecolor='k')\n",
    "extent = (-Dx_m/2 * 1e3, +Dx_m/2 * 1e3, -Dy_m/2 * 1e3, +Dy_m/2 * 1e3)\n",
    "\n",
    "#mask = im_np > np.max(im_np)\n",
    "#im_np[mask]=0\n",
    "\n",
    "plt.imshow(im_thr, extent=extent, cmap = 'inferno')\n",
    "plt.xlabel('horizontal Position [mm]')\n",
    "plt.ylabel('vertical Positon [mm]')\n",
    "plt.xlim((0,4))\n",
    "plt.ylim((-6,-10))\n",
    "plt.show()"
   ]
  },
  {
   "cell_type": "code",
   "execution_count": 29,
   "metadata": {},
   "outputs": [],
   "source": [
    "# then loop woohoo\n",
    "\n",
    "folder = '/mnt/data531/'\n",
    "imgs_sum = ()\n",
    "for i_im in np.arange(len(filenames)):\n",
    "    filepath = folder+filenames[i_im ]+'.tif'\n",
    "    # read the image\n",
    "    im_tiff = Image.open(filepath)\n",
    "    # make the image a numpy array so that we can process it\n",
    "    im_np = np.squeeze(np.array(im_tiff.getdata()).reshape(im_tiff.size[1], im_tiff.size[0], 1))\n",
    "\n",
    "    im_thr = im_np\n",
    "    im_thr[im_np>200000]=0\n",
    "    img_sum = np.sum(im_thr)\n",
    "    imgs_sum += (img_sum,)\n"
   ]
  },
  {
   "cell_type": "code",
   "execution_count": 33,
   "metadata": {},
   "outputs": [
    {
     "data": {
      "image/png": "[encoded data removed]",
      "text/plain": [
       "<Figure size 432x288 with 1 Axes>"
      ]
     },
     "metadata": {
      "needs_background": "light"
     },
     "output_type": "display_data"
    }
   ],
   "source": [
    "%matplotlib inline\n",
    "plt.plot(calib_id, imgs_sum)\n",
    "plt.xlabel('image id [~10s]')\n",
    "plt.ylabel('total flux (1s exp time) [ph]')\n",
    "plt.title('thermal drift for 5 min at 8keV')\n",
    "plt.show()"
   ]
  },
  {
   "cell_type": "markdown",
   "metadata": {},
   "source": [
    "## Second attempt"
   ]
  },
  {
   "cell_type": "code",
   "execution_count": 34,
   "metadata": {},
   "outputs": [
    {
     "name": "stdout",
     "output_type": "stream",
     "text": [
      "0\n",
      "1\n",
      "2\n",
      "3\n",
      "4\n",
      "5\n",
      "6\n",
      "7\n",
      "8\n",
      "9\n",
      "10\n",
      "11\n",
      "12\n",
      "13\n",
      "14\n",
      "15\n",
      "16\n",
      "17\n",
      "18\n",
      "19\n",
      "20\n",
      "21\n",
      "22\n",
      "23\n",
      "24\n",
      "25\n",
      "26\n",
      "27\n",
      "28\n",
      "29\n",
      "30\n"
     ]
    }
   ],
   "source": [
    "# reference energy scan\n",
    "calib_id = np.arange(31)       # same energy range/resolution as nexafs\n",
    "\n",
    "\n",
    "filenames = ()\n",
    "for i_c in range(len(calib_id)): \n",
    "    time_sleep(10)\n",
    "\n",
    "    series_nb = \"%03.0f\" % 0\n",
    "    image_nb = \"%03.0f\"  % (i_c+1)\n",
    "\n",
    "    current_filename = \"20240612b_tender_grating_\" + series_nb + \"_\" +image_nb\n",
    "    epics.caput('13PIL1:cam1:FileName',current_filename)\n",
    "    epics.caput('13PIL1:cam1:Acquire',1)\n",
    "    filenames += (current_filename,)\n",
    "    print(i_c)"
   ]
  },
  {
   "cell_type": "code",
   "execution_count": 36,
   "metadata": {},
   "outputs": [
    {
     "data": {
      "image/png": "[encoded data removed]",
      "text/plain": [
       "<Figure size 432x288 with 1 Axes>"
      ]
     },
     "metadata": {
      "needs_background": "light"
     },
     "output_type": "display_data"
    }
   ],
   "source": [
    "# then loop woohoo\n",
    "\n",
    "folder = '/mnt/data531/'\n",
    "imgs_sum = ()\n",
    "for i_im in np.arange(len(filenames)):\n",
    "    filepath = folder+filenames[i_im ]+'.tif'\n",
    "    # read the image\n",
    "    im_tiff = Image.open(filepath)\n",
    "    # make the image a numpy array so that we can process it\n",
    "    im_np = np.squeeze(np.array(im_tiff.getdata()).reshape(im_tiff.size[1], im_tiff.size[0], 1))\n",
    "\n",
    "    im_thr = im_np\n",
    "    im_thr[im_np>200000]=0\n",
    "    img_sum = np.sum(im_thr)\n",
    "    imgs_sum += (img_sum,)\n",
    "\n",
    "%matplotlib inline\n",
    "plt.plot(calib_id, imgs_sum)\n",
    "plt.xlabel('image id [~10s]')\n",
    "plt.ylabel('total flux (1s exp time) [ph]')\n",
    "plt.title('thermal drift for 5 min at 8keV')\n",
    "plt.show()\n"
   ]
  },
  {
   "cell_type": "markdown",
   "metadata": {},
   "source": [
    "it didn't cool down completely. thermal drift roughly repeatable"
   ]
  },
  {
   "cell_type": "markdown",
   "metadata": {},
   "source": [
    "## Define connection to rotary stage"
   ]
  },
  {
   "cell_type": "code",
   "execution_count": null,
   "metadata": {},
   "outputs": [],
   "source": [
    "# settings: the host and port of the Windows PC\n",
    "host = '131.243.80.251'  # Standard loopback interface address         \n",
    "port = 6000        # Port to listen on (non-privileged ports are > 1023)\n",
    "\n",
    "# send a message (tpye: bytes) to the Windows PC \n",
    "def apt_send(msg_str):\n",
    "    # connect to the server\n",
    "    client = socket.socket(socket.AF_INET, socket.SOCK_STREAM)\n",
    "    client.connect((host, port))\n",
    "\n",
    "    # recieve a message from the server to see if the connection is successful\n",
    "    msg_from_server = client.recv(4096)\n",
    "    print (msg_from_server)\n",
    "\n",
    "    # send the message to the server\n",
    "    client.send(msg_str)\n",
    "\n",
    "    msg_from_server2 = client.recv(4096)\n",
    "    print(msg_from_server2)\n",
    "\n",
    "    # close the connection\n",
    "    client.close()\n",
    "    return msg_from_server2\n",
    "\n",
    "\n",
    "# transfer the position value from int to bytes and call apt_send() \n",
    "def apt_move(position_au):\n",
    "    msg_str = str(position_au).encode(\"utf-8\")\n",
    "    apt_send(msg_str)\n",
    "\n",
    "# send \"close\" to the Windows PC to close the server\n",
    "def apt_stop():\n",
    "    apt_send(b\"close\")"
   ]
  },
  {
   "cell_type": "code",
   "execution_count": null,
   "metadata": {},
   "outputs": [],
   "source": [
    "# define the postion value, call apt_move() to send the message to the server\n",
    "position_au = 0\n",
    "apt_move(position_au)"
   ]
  },
  {
   "cell_type": "code",
   "execution_count": null,
   "metadata": {},
   "outputs": [],
   "source": [
    "# close the server\n",
    "\n",
    "#ARE YOU SURE???????\n",
    "apt_stop()"
   ]
  },
  {
   "cell_type": "markdown",
   "metadata": {},
   "source": [
    "## Move the monochromator with EPICS"
   ]
  },
  {
   "cell_type": "code",
   "execution_count": null,
   "metadata": {},
   "outputs": [],
   "source": [
    "# set the mono angle\n",
    "epics.caput('bl531_xps1:mono_angle_deg', mono_deg(8000))\n",
    "\n",
    "time_sleep(2)\n",
    "\n",
    "# print mono angle for reference\n",
    "epics.caget('bl531_xps1:mono_angle_deg')\n"
   ]
  },
  {
   "cell_type": "markdown",
   "metadata": {},
   "source": [
    "## Save and read a Pilatus image"
   ]
  },
  {
   "cell_type": "code",
   "execution_count": null,
   "metadata": {},
   "outputs": [],
   "source": [
    "filepath = '/mnt/data531/WAXS531_016.tif'\n",
    "\n",
    "\n",
    "# read the image\n",
    "im_tiff = Image.open(filepath)\n",
    "# make the image a numpy array so that we can process it\n",
    "im_np = np.squeeze(np.array(im_tiff.getdata()).reshape(im_tiff.size[1], im_tiff.size[0], 1))\n",
    "\n",
    "# dealing with dyanmic range\n",
    "#im_np[np.where(im_np>100000.0)] =0\n",
    "\n",
    "dx_m = 172e-6\n",
    "Nx_px = 487\n",
    "Ny_px = 619\n",
    "Dx_m = Nx_px*dx_m\n",
    "Dy_m = Ny_px*dx_m\n",
    "\n",
    "fig=plt.figure(figsize=(5, 5), dpi= 120, facecolor='w', edgecolor='k')\n",
    "extent = (-Dx_m/2 * 1e3, +Dx_m/2 * 1e3, -Dy_m/2 * 1e3, +Dy_m/2 * 1e3)\n",
    "\n",
    "#mask = im_np > np.max(im_np)\n",
    "#im_np[mask]=0\n",
    "\n",
    "plt.imshow(im_np, extent=extent, cmap = 'inferno', norm=LogNorm())\n",
    "plt.xlabel('horizontal Position [mm]')\n",
    "plt.ylabel('vertical Positon [mm]')\n",
    "plt.show()"
   ]
  },
  {
   "cell_type": "markdown",
   "metadata": {},
   "source": [
    "## Energy scan"
   ]
  },
  {
   "cell_type": "code",
   "execution_count": null,
   "metadata": {},
   "outputs": [],
   "source": [
    "# # saxs energy scan\n",
    "\n",
    "# Es_eV = np.linspace(6000, 10000, 9)        # same energy range/resolution as nexafs\n",
    "\n",
    "\n",
    "# epics.caput('bl531_xps1:mono_angle_deg',mono_deg(Es_eV[0]))\n",
    "# time_sleep(5)\n",
    "# filenames = ()\n",
    "# for i_e in tqdm(range(len(Es_eV))):\n",
    "#     mono_angle_deg = mono_deg(Es_eV[i_e])\n",
    "    \n",
    "#     epics.caput('bl531_xps1:mono_angle_deg',mono_angle_deg)\n",
    "#     time_sleep(5)\n",
    "\n",
    "\n",
    "#     aqtime_s = 2\n",
    "#     # epics.caput('13PIL1:cam1:AcquireTime', 1)\n",
    "#     #epics.caput('13PIL1:cam1:AcquirePeriod', 1)\n",
    "#     #epics.caput('13PIL1:cam1:Acquire',1)\n",
    "#     time_sleep(5)\n",
    "\n",
    "#     # last_filename_ascii = epics.caget('13PIL1:cam1:FullFileName_RBV')\n",
    "#     # last_filename = bytes(last_filename_ascii).decode()\n",
    "#     # filenames += (last_filename,)"
   ]
  },
  {
   "cell_type": "code",
   "execution_count": null,
   "metadata": {},
   "outputs": [],
   "source": [
    "## Energy scan nested into angle scan\n",
    "\n",
    "# ga_deg = np.linspace(87, 88.5, 31  )#        grazing angles\n",
    "# Es_eV = np.linspace(6000, 10000, 9)        # same energy range/resolution as nexafs\n",
    "\n",
    "\n",
    "# filenames = ()\n",
    "# for i_g in range(len(ga_deg)):\n",
    "#     position_au = ga_deg[i_g]\n",
    "#     apt_move(position_au)\n",
    "#     time_sleep(2)\n",
    "#     #break\n",
    "#     epics.caput('bl531_xps1:mono_angle_deg',mono_deg(Es_eV[0]))\n",
    "#     time_sleep(5)\n",
    "#     for i_e in range(len(Es_eV)): \n",
    "        \n",
    "#         mono_angle_deg = mono_deg(Es_eV[i_e])        \n",
    "#         epics.caput('bl531_xps1:mono_angle_deg',mono_angle_deg)\n",
    "#         time_sleep(10)\n",
    "\n",
    "#         series_nb = \"%03.0f\" % (i_g+1)\n",
    "#         image_nb = \"%03.0f\"  % (i_e+1)\n",
    "\n",
    "#         current_filename = \"20240604_tender_grating_\" + series_nb + \"_\" +image_nb\n",
    "#         epics.caput('13PIL1:cam1:FileName',current_filename)\n",
    "#         epics.caput('13PIL1:cam1:Acquire',1)"
   ]
  },
  {
   "cell_type": "markdown",
   "metadata": {},
   "source": [
    "## Angle and energy scan"
   ]
  },
  {
   "cell_type": "code",
   "execution_count": null,
   "metadata": {},
   "outputs": [],
   "source": [
    "## Energy scan nested into angle scan\n",
    "\n",
    "ga_deg = np.linspace(87, 88.5, 61)#        grazing angles\n",
    "Es_eV = np.linspace(6000, 10000, 9)        # same energy range/resolution as nexafs\n",
    "\n",
    "\n",
    "filenames = ()\n",
    "for i_g in range(len(ga_deg)):\n",
    "    position_au = ga_deg[i_g]\n",
    "    apt_move(position_au)\n",
    "    epics.caput('bl531_xps1:mono_angle_deg',mono_deg(Es_eV[0]))\n",
    "    time_sleep(5)\n",
    "    for i_e in range(len(Es_eV)): \n",
    "        \n",
    "        mono_angle_deg = mono_deg(Es_eV[i_e])        \n",
    "        epics.caput('bl531_xps1:mono_angle_deg',mono_angle_deg)\n",
    "        time_sleep(5)\n",
    "\n",
    "        series_nb = \"%03.0f\" % (i_g+1)\n",
    "        image_nb = \"%03.0f\"  % (i_e+1)\n",
    "\n",
    "        current_filename = \"20240606e_tender_grating_\" + series_nb + \"_\" +image_nb\n",
    "        epics.caput('13PIL1:cam1:FileName',current_filename)\n",
    "        epics.caput('13PIL1:cam1:Acquire',1)\n",
    "        time_sleep(5)"
   ]
  },
  {
   "cell_type": "markdown",
   "metadata": {},
   "source": [
    "## reference energy scan"
   ]
  },
  {
   "cell_type": "code",
   "execution_count": null,
   "metadata": {},
   "outputs": [],
   "source": [
    "# reference energy scan\n",
    "Es_eV = np.linspace(6000, 10000, 9)        # same energy range/resolution as nexafs\n",
    "\n",
    "\n",
    "filenames = ()\n",
    "epics.caput('bl531_xps1:mono_angle_deg',mono_deg(Es_eV[0]))\n",
    "time_sleep(5)\n",
    "for i_e in range(len(Es_eV)): \n",
    "    \n",
    "    mono_angle_deg = mono_deg(Es_eV[i_e])        \n",
    "    epics.caput('bl531_xps1:mono_angle_deg',mono_angle_deg)\n",
    "    time_sleep(10)\n",
    "\n",
    "    series_nb = \"%03.0f\" % 0\n",
    "    image_nb = \"%03.0f\"  % (i_e+1)\n",
    "\n",
    "    current_filename = \"20240606e_tender_grating_\" + series_nb + \"_\" +image_nb\n",
    "    epics.caput('13PIL1:cam1:FileName',current_filename)\n",
    "    epics.caput('13PIL1:cam1:Acquire',1)"
   ]
  },
  {
   "cell_type": "markdown",
   "metadata": {},
   "source": [
    "## Fine angle scan at fixed energy"
   ]
  },
  {
   "cell_type": "code",
   "execution_count": null,
   "metadata": {},
   "outputs": [],
   "source": [
    "## Fine angle scan\n",
    "\n",
    "ga_deg = np.linspace(87, 88.5, 151)#        grazing angles\n",
    "Es_eV = np.linspace(8000,8000,1)      # same energy range/resolution as nexafs\n",
    "\n",
    "\n",
    "filenames = ()\n",
    "for i_g in range(len(ga_deg)):\n",
    "    position_au = ga_deg[i_g]\n",
    "    apt_move(position_au)\n",
    "    #break\n",
    "    epics.caput('bl531_xps1:mono_angle_deg',mono_deg(Es_eV[0]))\n",
    "    time_sleep(5)\n",
    "    for i_e in range(len(Es_eV)): \n",
    "        \n",
    "        mono_angle_deg = mono_deg(Es_eV[i_e])        \n",
    "        epics.caput('bl531_xps1:mono_angle_deg',mono_angle_deg)\n",
    "        time_sleep(5)\n",
    "\n",
    "        series_nb = \"%03.0f\" % (i_g+1)\n",
    "        image_nb = \"%03.0f\"  % (i_e+1)\n",
    "\n",
    "        current_filename = \"20240606d_tender_grating_\" + series_nb + \"_\" +image_nb\n",
    "        epics.caput('13PIL1:cam1:FileName',current_filename)\n",
    "        epics.caput('13PIL1:cam1:Acquire',1)\n",
    "        time_sleep(5)"
   ]
  },
  {
   "cell_type": "markdown",
   "metadata": {},
   "source": [
    "### Collect a single image (000-000)"
   ]
  },
  {
   "cell_type": "code",
   "execution_count": null,
   "metadata": {},
   "outputs": [],
   "source": [
    "#sample\n",
    "series_nb = \"%03.0f\" % 0\n",
    "image_nb = \"%03.0f\"  % 0\n",
    "current_filename = \"20240606e_tender_grating_\" + series_nb + \"_\" +image_nb\n",
    "epics.caput('13PIL1:cam1:FileName',current_filename)\n",
    "epics.caput('13PIL1:cam1:Acquire',1)"
   ]
  },
  {
   "cell_type": "markdown",
   "metadata": {},
   "source": [
    "## Changing some beamline settings manually"
   ]
  },
  {
   "cell_type": "markdown",
   "metadata": {},
   "source": [
    "### Change sample slit position"
   ]
  },
  {
   "cell_type": "code",
   "execution_count": null,
   "metadata": {},
   "outputs": [],
   "source": [
    "# 1 enable motor\n",
    "epics.caput('DMC02:E.CNEN', 1)\n",
    "#E- Outboard slit\n"
   ]
  },
  {
   "cell_type": "code",
   "execution_count": null,
   "metadata": {},
   "outputs": [],
   "source": [
    "# 2- read motor position\n",
    "epics.caget('DMC02:E', 1)"
   ]
  },
  {
   "cell_type": "code",
   "execution_count": null,
   "metadata": {},
   "outputs": [],
   "source": [
    "# 3- change slit position\n",
    "epics.caput('DMC02:E', -28) #was -25 initially"
   ]
  },
  {
   "cell_type": "markdown",
   "metadata": {},
   "source": [
    "### Change camera exposure time"
   ]
  },
  {
   "cell_type": "code",
   "execution_count": null,
   "metadata": {},
   "outputs": [],
   "source": [
    "epics.caput('13PIL1:cam1:AcquireTime', 1)\n",
    "epics.caput('13PIL1:cam1:AcquirePeriod', 1)"
   ]
  },
  {
   "cell_type": "markdown",
   "metadata": {},
   "source": [
    "### Move rotary stage"
   ]
  },
  {
   "cell_type": "code",
   "execution_count": null,
   "metadata": {},
   "outputs": [],
   "source": [
    "apt_move(87.5)"
   ]
  },
  {
   "cell_type": "markdown",
   "metadata": {},
   "source": [
    "### Change mono energy"
   ]
  },
  {
   "cell_type": "code",
   "execution_count": 4,
   "metadata": {},
   "outputs": [
    {
     "data": {
      "text/plain": [
       "1"
      ]
     },
     "execution_count": 4,
     "metadata": {},
     "output_type": "execute_result"
    }
   ],
   "source": [
    "# change mon energy\n",
    "epics.caput('bl531_xps1:mono_angle_deg',mono_deg(8000))"
   ]
  },
  {
   "cell_type": "code",
   "execution_count": 5,
   "metadata": {},
   "outputs": [
    {
     "data": {
      "text/plain": [
       "27.097538443499513"
      ]
     },
     "execution_count": 5,
     "metadata": {},
     "output_type": "execute_result"
    }
   ],
   "source": [
    "# readout mono angle\n",
    "epics.caget('bl531_xps1:mono_angle_deg')"
   ]
  },
  {
   "cell_type": "code",
   "execution_count": null,
   "metadata": {},
   "outputs": [],
   "source": [
    "# disconnect motor server\n",
    "apt_stop()"
   ]
  }
 ],
 "metadata": {
  "kernelspec": {
   "display_name": "Python 3.10.6 64-bit",
   "language": "python",
   "name": "python3"
  },
  "language_info": {
   "codemirror_mode": {
    "name": "ipython",
    "version": 3
   },
   "file_extension": ".py",
   "mimetype": "text/x-python",
   "name": "python",
   "nbconvert_exporter": "python",
   "pygments_lexer": "ipython3",
   "version": "3.10.6"
  },
  "orig_nbformat": 4,
  "vscode": {
   "interpreter": {
    "hash": "916dbcbb3f70747c44a77c7bcd40155683ae19c65e1c03b4aa3499c5328201f1"
   }
  }
 },
 "nbformat": 4,
 "nbformat_minor": 2
}

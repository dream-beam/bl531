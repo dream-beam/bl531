{
 "cells": [
  {
   "cell_type": "markdown",
   "metadata": {},
   "source": [
    "# Bluesky diode scan\n",
    "We are going to do this and that\n",
    "xchong@lbl.gov, awojdyla@lbl.gov, dec 2023"
   ]
  },
  {
   "cell_type": "code",
   "execution_count": null,
   "metadata": {},
   "outputs": [],
   "source": [
    "import epics\n",
    "import bluesky\n",
    "import numpy as np"
   ]
  },
  {
   "cell_type": "code",
   "execution_count": null,
   "metadata": {},
   "outputs": [
    {
     "data": {
      "text/plain": [
       "0"
      ]
     },
     "execution_count": 177,
     "metadata": {},
     "output_type": "execute_result"
    }
   ],
   "source": [
    "from bluesky import RunEngine\n",
    "RE = RunEngine({})\n",
    "\n",
    "from databroker import Broker\n",
    "db = Broker.named('temp')\n",
    "\n",
    "# Insert all metadata/data captured into db.\n",
    "RE.subscribe(db.insert)"
   ]
  },
  {
   "cell_type": "markdown",
   "metadata": {},
   "source": [
    "The 1st experiment on 20231215 does not work well. There is no edge after we do angle scan. The (wrong) codes we use are as follows:"
   ]
  },
  {
   "cell_type": "code",
   "execution_count": null,
   "metadata": {},
   "outputs": [],
   "source": [
    "#For the 1st experiment on 20231215, we use mono_angle_deg only (which does not work, no edge found)\n",
    "pv_mono_angle_deg = 'bl531_xps1:mono_angle_deg'\n",
    "pv_photodiode_mA  = 'bl201-beamstop:current'\n",
    "\n",
    "\n",
    "# pv_m101_pitch_mm  = 'bl531_esp300:m101_pitch_mm'\n",
    "# #pv_m101_bend_um   = 'bl531_esp300:m101_bend_um'\n",
    "# pv_mono_height_mm = 'bl531_xps1:mono_height_mm'"
   ]
  },
  {
   "cell_type": "code",
   "execution_count": null,
   "metadata": {},
   "outputs": [],
   "source": [
    "##d"
   ]
  },
  {
   "cell_type": "code",
   "execution_count": null,
   "metadata": {},
   "outputs": [
    {
     "data": {
      "text/plain": [
       "OrderedDict([('Mono theta deg',\n",
       "              {'value': 26.0, 'timestamp': 1703016511.921417}),\n",
       "             ('Mono theta deg_user_setpoint',\n",
       "              {'value': 26.0, 'timestamp': 1703016646.708014})])"
      ]
     },
     "execution_count": 179,
     "metadata": {},
     "output_type": "execute_result"
    }
   ],
   "source": [
    "from ophyd import EpicsMotor\n",
    "import ophyd\n",
    "ophyd.set_cl('caproto')\n",
    "\n",
    "#for diode_mA, use EpicsSignal() instead of EpicsMotor\n",
    "diode_mA = ophyd.EpicsSignal('bl201-beamstop:current', name='photodiode') \n",
    "diode_mA.wait_for_connection(timeout=2.0)\n",
    "diode_mA.read()\n",
    "\n",
    "#create a motor for angle\n",
    "mono_angle_deg = EpicsMotor(pv_mono_angle_deg, name='Mono theta deg')\n",
    "mono_angle_deg.wait_for_connection(timeout=2.0)\n",
    "mono_angle_deg.read()"
   ]
  },
  {
   "cell_type": "code",
   "execution_count": null,
   "metadata": {},
   "outputs": [
    {
     "data": {
      "text/plain": [
       "{'photodiode': {'value': -74.43, 'timestamp': 1703016652.825827}}"
      ]
     },
     "execution_count": 182,
     "metadata": {},
     "output_type": "execute_result"
    }
   ],
   "source": [
    "#run this line to check the value of photodiode everytime we change angle/pitch/height\n",
    "diode_mA.read()"
   ]
  },
  {
   "cell_type": "code",
   "execution_count": null,
   "metadata": {},
   "outputs": [
    {
     "data": {
      "text/plain": [
       "MoveStatus(done=True, pos=Mono theta deg, elapsed=0.0, success=True, settle_time=0.0)"
      ]
     },
     "execution_count": 185,
     "metadata": {},
     "output_type": "execute_result"
    }
   ],
   "source": [
    "#Run this line before starting angle scan, otherwise the edge does not look good\n",
    "mono_angle_deg.move(25)"
   ]
  },
  {
   "cell_type": "code",
   "execution_count": null,
   "metadata": {},
   "outputs": [
    {
     "data": {
      "text/plain": [
       "('499524b5-42b9-4eb4-beb3-d7b61a919edc',)"
      ]
     },
     "execution_count": 184,
     "metadata": {},
     "output_type": "execute_result"
    }
   ],
   "source": [
    "from bluesky.plans import count\n",
    "\n",
    "dets = [diode_mA]   # a list of any number of detectors\n",
    "\n",
    "RE(count(dets))"
   ]
  },
  {
   "cell_type": "code",
   "execution_count": null,
   "metadata": {},
   "outputs": [],
   "source": [
    "# Run callback before scan, so that we can see the plot\n",
    "from bluesky.callbacks.best_effort import BestEffortCallback\n",
    "bec = BestEffortCallback()\n",
    "\n",
    "# Send all metadata/data captured to the BestEffortCallback.\n",
    "RE.subscribe(bec)"
   ]
  },
  {
   "cell_type": "code",
   "execution_count": null,
   "metadata": {},
   "outputs": [],
   "source": [
    "# We cannot see the edge if directly run the following code.\n",
    "from bluesky.plans import scan\n",
    "RE(scan(dets, mono_angle_deg, 25, 26, 51))"
   ]
  },
  {
   "cell_type": "markdown",
   "metadata": {},
   "source": [
    "On 20231219, we try to find the best height (41) and pitch values (0.25) before angle scan. After we find the values, we do angle scan again and see the edge."
   ]
  },
  {
   "cell_type": "code",
   "execution_count": null,
   "metadata": {},
   "outputs": [],
   "source": [
    "#For the 2nd experiment on 20231219, we first create a new motor mono_height_mm\n",
    "pv_mono_height_mm = 'bl531_xps1:mono_height_mm'\n",
    "mono_height_mm = EpicsMotor(pv_mono_height_mm, name='Mono height mm')\n",
    "mono_height_mm.wait_for_connection(timeout=2.0)\n",
    "mono_height_mm.read()"
   ]
  },
  {
   "cell_type": "code",
   "execution_count": null,
   "metadata": {},
   "outputs": [
    {
     "data": {
      "text/plain": [
       "MoveStatus(done=True, pos=Mono height mm, elapsed=0.9, success=True, settle_time=0.0)"
      ]
     },
     "execution_count": 193,
     "metadata": {},
     "output_type": "execute_result"
    }
   ],
   "source": [
    "#At first, we do not know the value for move(), just set it to 40. Then we use scan() to find the best value.\n",
    "mono_height_mm.move(41)"
   ]
  },
  {
   "cell_type": "code",
   "execution_count": null,
   "metadata": {},
   "outputs": [
    {
     "data": {
      "text/plain": [
       "{'photodiode': {'value': -67.09, 'timestamp': 1703017143.969778}}"
      ]
     },
     "execution_count": 194,
     "metadata": {},
     "output_type": "execute_result"
    }
   ],
   "source": [
    "diode_mA.read()"
   ]
  },
  {
   "cell_type": "code",
   "execution_count": null,
   "metadata": {},
   "outputs": [
    {
     "name": "stdout",
     "output_type": "stream",
     "text": [
      "\n",
      "\n",
      "Transient Scan ID: 13     Time: 2023-12-19 11:56:58\n",
      "Persistent Unique Scan ID: '29fbd8d5-6b40-486c-b6a9-d463a5dd0fd3'\n",
      "New stream: 'primary'\n",
      "+-----------+------------+----------------+------------+\n",
      "|   seq_num |       time | Mono height mm | photodiode |\n",
      "+-----------+------------+----------------+------------+\n",
      "|         1 | 11:56:58.6 |        40.0000 |         -4 |\n",
      "|         2 | 11:56:59.4 |        40.1500 |         -4 |\n",
      "|         3 | 11:57:00.3 |        40.3000 |         -5 |\n",
      "|         4 | 11:57:01.2 |        40.4500 |        -19 |\n",
      "|         5 | 11:57:02.0 |        40.6000 |        -40 |\n",
      "|         6 | 11:57:02.9 |        40.7500 |        -40 |\n",
      "|         7 | 11:57:03.8 |        40.9000 |        -64 |\n",
      "|         8 | 11:57:04.7 |        41.0500 |        -75 |\n",
      "|         9 | 11:57:05.5 |        41.2000 |        -76 |\n",
      "|        10 | 11:57:06.4 |        41.3500 |        -76 |\n",
      "|        11 | 11:57:07.3 |        41.5000 |        -48 |\n",
      "|        12 | 11:57:08.2 |        41.6500 |         -5 |\n",
      "|        13 | 11:57:09.0 |        41.8000 |         -1 |\n",
      "|        14 | 11:57:09.9 |        41.9500 |         -1 |\n",
      "|        15 | 11:57:10.8 |        42.1000 |         -1 |\n",
      "|        16 | 11:57:11.7 |        42.2500 |         -1 |\n",
      "|        17 | 11:57:12.5 |        42.4000 |         -1 |\n",
      "|        18 | 11:57:13.4 |        42.5500 |         -1 |\n",
      "|        19 | 11:57:14.3 |        42.7000 |         -1 |\n",
      "|        20 | 11:57:15.2 |        42.8500 |         -1 |\n",
      "|        21 | 11:57:16.0 |        43.0000 |         -1 |\n",
      "+-----------+------------+----------------+------------+\n",
      "generator scan ['29fbd8d5'] (scan num: 13)\n",
      "\n",
      "\n",
      "\n"
     ]
    },
    {
     "data": {
      "text/plain": [
       "('29fbd8d5-6b40-486c-b6a9-d463a5dd0fd3',)"
      ]
     },
     "execution_count": 148,
     "metadata": {},
     "output_type": "execute_result"
    },
    {
     "data": {
      "image/png": "[encoded data removed]",
      "text/plain": [
       "<Figure size 500x500 with 1 Axes>"
      ]
     },
     "metadata": {},
     "output_type": "display_data"
    }
   ],
   "source": [
    "#Through scanning, we find that the best height is around 41, hence we use mono_height_mm.move(41), then run diode_mA.read()\n",
    "from bluesky.plans import scan\n",
    "RE(scan(dets, mono_height_mm, 40, 43, 21))"
   ]
  },
  {
   "cell_type": "code",
   "execution_count": null,
   "metadata": {},
   "outputs": [],
   "source": [
    "#for the 3rd experiment on 20231219, we create a new motor pv_m101_pitch_mm\n",
    "pv_m101_pitch_mm  = 'bl531_esp300:m101_pitch_mm'\n",
    "\n",
    "m101_pitch_mm = EpicsMotor(pv_m101_pitch_mm, name='M101 pitch mm')\n",
    "m101_pitch_mm.wait_for_connection(timeout=2.0)\n",
    "m101_pitch_mm.read()"
   ]
  },
  {
   "cell_type": "code",
   "execution_count": null,
   "metadata": {},
   "outputs": [],
   "source": [
    "#set a initial value (e.g. 0.2)\n",
    "m101_pitch_mm.move(0.25)"
   ]
  },
  {
   "cell_type": "code",
   "execution_count": null,
   "metadata": {},
   "outputs": [],
   "source": [
    "#use scan() to find the best pitch value, which is 0.25\n",
    "from bluesky.plans import scan\n",
    "RE(scan(dets, m101_pitch_mm, 0.2, 0.3, 21))"
   ]
  },
  {
   "cell_type": "code",
   "execution_count": 187,
   "metadata": {},
   "outputs": [
    {
     "name": "stdout",
     "output_type": "stream",
     "text": [
      "\n",
      "\n",
      "Transient Scan ID: 2     Time: 2023-12-19 12:11:20\n",
      "Persistent Unique Scan ID: 'b519dad2-2959-414c-a69d-c2dc30d917b1'\n",
      "New stream: 'primary'\n",
      "+-----------+------------+---------------+----------------+------------+\n",
      "|   seq_num |       time | M101 pitch mm | Mono height mm | photodiode |\n",
      "+-----------+------------+---------------+----------------+------------+\n",
      "|         1 | 12:11:26.0 |       0.00002 |        40.0000 |         -2 |\n",
      "|         2 | 12:11:27.0 |       0.00002 |        40.2000 |         -2 |\n",
      "|         3 | 12:11:28.0 |       0.00002 |        40.4000 |         -2 |\n",
      "|         4 | 12:11:29.0 |       0.00002 |        40.6000 |         -2 |\n",
      "|         5 | 12:11:30.0 |       0.00002 |        40.8000 |         -2 |\n",
      "|         6 | 12:11:31.0 |       0.00002 |        41.0000 |         -2 |\n",
      "|         7 | 12:11:31.9 |       0.00002 |        41.2000 |         -2 |\n",
      "|         8 | 12:11:33.0 |       0.00002 |        41.4000 |         -2 |\n",
      "|         9 | 12:11:34.0 |       0.00002 |        41.6000 |         -1 |\n",
      "|        10 | 12:11:35.0 |       0.00002 |        41.8000 |         -1 |\n",
      "|        11 | 12:11:36.0 |       0.00002 |        42.0000 |         -1 |\n",
      "|        12 | 12:11:39.7 |       0.04998 |        40.0000 |        -10 |\n",
      "|        13 | 12:11:40.7 |       0.04998 |        40.2000 |         -2 |\n",
      "|        14 | 12:11:41.7 |       0.04998 |        40.4000 |         -0 |\n",
      "|        15 | 12:11:42.7 |       0.04998 |        40.6000 |         -2 |\n",
      "|        16 | 12:11:43.7 |       0.04998 |        40.8000 |         -2 |\n",
      "|        17 | 12:11:44.7 |       0.04998 |        41.0000 |         -2 |\n",
      "|        18 | 12:11:45.7 |       0.04998 |        41.2000 |         -2 |\n",
      "|        19 | 12:11:46.7 |       0.04998 |        41.4000 |         -2 |\n",
      "|        20 | 12:11:47.8 |       0.04998 |        41.6000 |         -1 |\n",
      "|        21 | 12:11:48.8 |       0.04998 |        41.8000 |         -1 |\n",
      "|        22 | 12:11:49.8 |       0.04998 |        42.0000 |         -1 |\n",
      "|        23 | 12:11:53.5 |       0.09998 |        40.0000 |         -2 |\n",
      "|        24 | 12:11:54.5 |       0.09998 |        40.2000 |         -2 |\n",
      "|        25 | 12:11:55.6 |       0.09998 |        40.4000 |         -2 |\n",
      "|        26 | 12:11:56.6 |       0.09998 |        40.6000 |         -2 |\n",
      "|        27 | 12:11:57.6 |       0.09998 |        40.8000 |         -2 |\n",
      "|        28 | 12:11:58.6 |       0.09998 |        41.0000 |         -2 |\n",
      "|        29 | 12:11:59.6 |       0.09998 |        41.2000 |         -2 |\n",
      "|        30 | 12:12:00.6 |       0.09998 |        41.4000 |         -2 |\n",
      "|        31 | 12:12:01.6 |       0.09998 |        41.6000 |         -1 |\n",
      "|        32 | 12:12:02.7 |       0.09998 |        41.8000 |         -1 |\n",
      "|        33 | 12:12:03.7 |       0.09998 |        42.0000 |         -1 |\n",
      "|        34 | 12:12:07.3 |       0.14998 |        40.0000 |        -21 |\n",
      "|        35 | 12:12:08.3 |       0.14998 |        40.2000 |        -40 |\n",
      "|        36 | 12:12:09.3 |       0.14998 |        40.4000 |         -1 |\n",
      "|        37 | 12:12:10.4 |       0.14998 |        40.6000 |         -4 |\n",
      "|        38 | 12:12:11.4 |       0.14998 |        40.8000 |         -4 |\n",
      "|        39 | 12:12:12.4 |       0.14998 |        41.0000 |         -3 |\n",
      "|        40 | 12:12:13.4 |       0.14998 |        41.2000 |         -2 |\n",
      "|        41 | 12:12:14.4 |       0.14998 |        41.4000 |         -0 |\n",
      "|        42 | 12:12:15.5 |       0.14998 |        41.6000 |         -1 |\n",
      "|        43 | 12:12:16.4 |       0.14998 |        41.8000 |         -1 |\n",
      "|        44 | 12:12:17.4 |       0.14998 |        42.0000 |         -1 |\n",
      "|        45 | 12:12:21.1 |       0.19998 |        40.0000 |        -60 |\n",
      "|        46 | 12:12:22.1 |       0.19998 |        40.2000 |        -53 |\n",
      "|        47 | 12:12:23.1 |       0.19998 |        40.4000 |        -53 |\n",
      "|        48 | 12:12:24.1 |       0.19998 |        40.6000 |        -70 |\n",
      "|        49 | 12:12:25.1 |       0.19998 |        40.8000 |        -74 |\n",
      "+-----------+------------+---------------+----------------+------------+\n",
      "|   seq_num |       time | M101 pitch mm | Mono height mm | photodiode |\n",
      "+-----------+------------+---------------+----------------+------------+\n",
      "|        50 | 12:12:26.2 |       0.19998 |        41.0000 |        -52 |\n",
      "|        51 | 12:12:27.2 |       0.19998 |        41.2000 |         -1 |\n",
      "|        52 | 12:12:28.2 |       0.19998 |        41.4000 |         -2 |\n",
      "|        53 | 12:12:29.2 |       0.19998 |        41.6000 |         -2 |\n",
      "|        54 | 12:12:30.2 |       0.19998 |        41.8000 |         -1 |\n",
      "|        55 | 12:12:31.2 |       0.19998 |        42.0000 |         -1 |\n",
      "|        56 | 12:12:34.9 |       0.24998 |        40.0000 |        -36 |\n",
      "|        57 | 12:12:35.9 |       0.24998 |        40.2000 |         -3 |\n",
      "|        58 | 12:12:36.9 |       0.24998 |        40.4000 |        -12 |\n",
      "|        59 | 12:12:37.9 |       0.24998 |        40.6000 |        -31 |\n",
      "|        60 | 12:12:38.9 |       0.24998 |        40.8000 |        -41 |\n",
      "|        61 | 12:12:39.9 |       0.24998 |        41.0000 |        -41 |\n",
      "|        62 | 12:12:40.9 |       0.24998 |        41.2000 |        -57 |\n",
      "|        63 | 12:12:42.0 |       0.24998 |        41.4000 |        -68 |\n",
      "|        64 | 12:12:43.0 |       0.24998 |        41.6000 |         -4 |\n",
      "|        65 | 12:12:44.0 |       0.24998 |        41.8000 |         -2 |\n",
      "|        66 | 12:12:45.0 |       0.24998 |        42.0000 |         -1 |\n",
      "|        67 | 12:12:48.6 |       0.29998 |        40.0000 |         -2 |\n",
      "|        68 | 12:12:49.6 |       0.29998 |        40.2000 |         -2 |\n",
      "|        69 | 12:12:50.7 |       0.29998 |        40.4000 |         -2 |\n",
      "|        70 | 12:12:51.7 |       0.29998 |        40.6000 |         -2 |\n",
      "|        71 | 12:12:52.7 |       0.29998 |        40.8000 |         -3 |\n",
      "|        72 | 12:12:53.7 |       0.29998 |        41.0000 |         -7 |\n",
      "|        73 | 12:12:54.7 |       0.29998 |        41.2000 |         -6 |\n",
      "|        74 | 12:12:55.7 |       0.29998 |        41.4000 |         -2 |\n",
      "|        75 | 12:12:56.7 |       0.29998 |        41.6000 |         -2 |\n",
      "|        76 | 12:12:57.7 |       0.29998 |        41.8000 |         -1 |\n",
      "|        77 | 12:12:58.8 |       0.29998 |        42.0000 |         -1 |\n",
      "|        78 | 12:13:02.4 |       0.34998 |        40.0000 |         -0 |\n",
      "|        79 | 12:13:03.5 |       0.34998 |        40.2000 |         -2 |\n",
      "|        80 | 12:13:04.4 |       0.34998 |        40.4000 |         -2 |\n",
      "|        81 | 12:13:05.5 |       0.34998 |        40.6000 |        -10 |\n",
      "|        82 | 12:13:06.5 |       0.34998 |        40.8000 |         -2 |\n",
      "|        83 | 12:13:07.5 |       0.34998 |        41.0000 |         -2 |\n",
      "|        84 | 12:13:08.5 |       0.34998 |        41.2000 |         -2 |\n",
      "|        85 | 12:13:09.5 |       0.34998 |        41.4000 |         -0 |\n",
      "|        86 | 12:13:10.5 |       0.34998 |        41.6000 |         -1 |\n",
      "|        87 | 12:13:11.5 |       0.34998 |        41.8000 |         -1 |\n",
      "|        88 | 12:13:12.5 |       0.34998 |        42.0000 |         -1 |\n",
      "|        89 | 12:13:16.1 |       0.39998 |        40.0000 |         -2 |\n",
      "|        90 | 12:13:17.1 |       0.39998 |        40.2000 |         -2 |\n",
      "|        91 | 12:13:18.1 |       0.39998 |        40.4000 |         -2 |\n",
      "|        92 | 12:13:19.1 |       0.39998 |        40.6000 |         -2 |\n",
      "|        93 | 12:13:20.1 |       0.39998 |        40.8000 |         -2 |\n",
      "|        94 | 12:13:21.1 |       0.39998 |        41.0000 |         -0 |\n",
      "|        95 | 12:13:22.2 |       0.39998 |        41.2000 |         -2 |\n",
      "|        96 | 12:13:23.2 |       0.39998 |        41.4000 |         -1 |\n",
      "|        97 | 12:13:24.2 |       0.39998 |        41.6000 |         -1 |\n",
      "|        98 | 12:13:25.2 |       0.39998 |        41.8000 |         -1 |\n",
      "|        99 | 12:13:26.2 |       0.39998 |        42.0000 |         -1 |\n",
      "+-----------+------------+---------------+----------------+------------+\n",
      "|   seq_num |       time | M101 pitch mm | Mono height mm | photodiode |\n",
      "+-----------+------------+---------------+----------------+------------+\n",
      "|       100 | 12:13:29.8 |       0.44998 |        40.0000 |         -2 |\n",
      "|       101 | 12:13:30.8 |       0.44998 |        40.2000 |         -2 |\n",
      "|       102 | 12:13:31.9 |       0.44998 |        40.4000 |         -2 |\n",
      "|       103 | 12:13:32.9 |       0.44998 |        40.6000 |         -2 |\n",
      "|       104 | 12:13:33.9 |       0.44998 |        40.8000 |         -2 |\n",
      "|       105 | 12:13:34.9 |       0.44998 |        41.0000 |         -2 |\n",
      "|       106 | 12:13:35.9 |       0.44998 |        41.2000 |         -2 |\n",
      "|       107 | 12:13:36.9 |       0.44998 |        41.4000 |         -2 |\n",
      "|       108 | 12:13:37.9 |       0.44998 |        41.6000 |         -1 |\n",
      "|       109 | 12:13:38.9 |       0.44998 |        41.8000 |         -1 |\n",
      "|       110 | 12:13:40.0 |       0.44998 |        42.0000 |         -1 |\n",
      "|       111 | 12:13:43.6 |       0.49998 |        40.0000 |         -1 |\n",
      "|       112 | 12:13:44.6 |       0.49998 |        40.2000 |         -2 |\n",
      "|       113 | 12:13:45.7 |       0.49998 |        40.4000 |         -2 |\n",
      "|       114 | 12:13:46.7 |       0.49998 |        40.6000 |         -2 |\n",
      "|       115 | 12:13:47.7 |       0.49998 |        40.8000 |         -2 |\n",
      "|       116 | 12:13:48.7 |       0.49998 |        41.0000 |         -2 |\n",
      "|       117 | 12:13:49.8 |       0.49998 |        41.2000 |         -2 |\n",
      "|       118 | 12:13:50.8 |       0.49998 |        41.4000 |         -2 |\n",
      "|       119 | 12:13:51.8 |       0.49998 |        41.6000 |         -1 |\n",
      "|       120 | 12:13:52.8 |       0.49998 |        41.8000 |         -1 |\n",
      "|       121 | 12:13:53.8 |       0.49998 |        42.0000 |         -1 |\n",
      "+-----------+------------+---------------+----------------+------------+\n",
      "generator grid_scan ['b519dad2'] (scan num: 2)\n",
      "\n",
      "\n",
      "\n"
     ]
    },
    {
     "data": {
      "text/plain": [
       "('b519dad2-2959-414c-a69d-c2dc30d917b1',)"
      ]
     },
     "execution_count": 187,
     "metadata": {},
     "output_type": "execute_result"
    },
    {
     "data": {
      "image/png": "[encoded data removed]",
      "text/plain": [
       "<Figure size 500x500 with 2 Axes>"
      ]
     },
     "metadata": {},
     "output_type": "display_data"
    }
   ],
   "source": [
    "#For the 4th experiments on 20231219, we use 2Dscan (grid_scan) to find the pitch and height values at the same time.\n",
    "#Through this experiment, we find that the pitch and height are 0.2 and 40.8, which are not accurate. We use 0.25 and 41 instead.\n",
    "#useful link: https://nsls-ii.github.io/bluesky/tutorial.html#common-experiments-plans\n",
    "from bluesky.plans import grid_scan\n",
    "RE(grid_scan(dets,\n",
    "             m101_pitch_mm, 0.0, 0.5, 11,  # scan motor1 from -1.5 to 1.5 in 3 steps\n",
    "             mono_height_mm, 40, 42, 11  # scan motor2 from -0.1 to 0.1 in 5 steps\n",
    "             ))  # scan motor3 from 10 to -10 in 5 steps"
   ]
  },
  {
   "cell_type": "code",
   "execution_count": null,
   "metadata": {},
   "outputs": [],
   "source": [
    "# check the value (should be around -70) before angle scan\n",
    "diode_mA.read()"
   ]
  },
  {
   "cell_type": "code",
   "execution_count": null,
   "metadata": {},
   "outputs": [],
   "source": [
    "# After we set the height (41) and pitch (0.25) values, we can do deg scan now (just repeat the 1st experiment). Then we can see the edge.\n",
    "mono_angle_deg.move(25)\n",
    "from bluesky.plans import scan\n",
    "RE(scan(dets, mono_angle_deg, 25, 26, 51))"
   ]
  },
  {
   "cell_type": "code",
   "execution_count": 128,
   "metadata": {},
   "outputs": [
    {
     "data": {
      "text/html": [
       "<div>\n",
       "<style scoped>\n",
       "    .dataframe tbody tr th:only-of-type {\n",
       "        vertical-align: middle;\n",
       "    }\n",
       "\n",
       "    .dataframe tbody tr th {\n",
       "        vertical-align: top;\n",
       "    }\n",
       "\n",
       "    .dataframe thead th {\n",
       "        text-align: right;\n",
       "    }\n",
       "</style>\n",
       "<table border=\"1\" class=\"dataframe\">\n",
       "  <thead>\n",
       "    <tr style=\"text-align: right;\">\n",
       "      <th></th>\n",
       "      <th>time</th>\n",
       "      <th>photodiode</th>\n",
       "      <th>M101 pitch mm</th>\n",
       "      <th>M101 pitch mm_user_setpoint</th>\n",
       "    </tr>\n",
       "    <tr>\n",
       "      <th>seq_num</th>\n",
       "      <th></th>\n",
       "      <th></th>\n",
       "      <th></th>\n",
       "      <th></th>\n",
       "    </tr>\n",
       "  </thead>\n",
       "  <tbody>\n",
       "    <tr>\n",
       "      <th>1</th>\n",
       "      <td>2023-12-19 19:33:58.300783634</td>\n",
       "      <td>-539.6</td>\n",
       "      <td>0.000020</td>\n",
       "      <td>0.00</td>\n",
       "    </tr>\n",
       "    <tr>\n",
       "      <th>2</th>\n",
       "      <td>2023-12-19 19:34:01.862716436</td>\n",
       "      <td>-538.8</td>\n",
       "      <td>0.049980</td>\n",
       "      <td>0.05</td>\n",
       "    </tr>\n",
       "    <tr>\n",
       "      <th>3</th>\n",
       "      <td>2023-12-19 19:34:05.451926708</td>\n",
       "      <td>-539.5</td>\n",
       "      <td>0.099976</td>\n",
       "      <td>0.10</td>\n",
       "    </tr>\n",
       "    <tr>\n",
       "      <th>4</th>\n",
       "      <td>2023-12-19 19:34:09.038368225</td>\n",
       "      <td>-541.7</td>\n",
       "      <td>0.149980</td>\n",
       "      <td>0.15</td>\n",
       "    </tr>\n",
       "    <tr>\n",
       "      <th>5</th>\n",
       "      <td>2023-12-19 19:34:12.626232386</td>\n",
       "      <td>-558.9</td>\n",
       "      <td>0.199978</td>\n",
       "      <td>0.20</td>\n",
       "    </tr>\n",
       "    <tr>\n",
       "      <th>6</th>\n",
       "      <td>2023-12-19 19:34:16.231402397</td>\n",
       "      <td>-1068.2</td>\n",
       "      <td>0.249982</td>\n",
       "      <td>0.25</td>\n",
       "    </tr>\n",
       "    <tr>\n",
       "      <th>7</th>\n",
       "      <td>2023-12-19 19:34:19.787846088</td>\n",
       "      <td>-589.7</td>\n",
       "      <td>0.299974</td>\n",
       "      <td>0.30</td>\n",
       "    </tr>\n",
       "    <tr>\n",
       "      <th>8</th>\n",
       "      <td>2023-12-19 19:34:23.359917402</td>\n",
       "      <td>-540.6</td>\n",
       "      <td>0.349980</td>\n",
       "      <td>0.35</td>\n",
       "    </tr>\n",
       "    <tr>\n",
       "      <th>9</th>\n",
       "      <td>2023-12-19 19:34:26.898728609</td>\n",
       "      <td>-539.2</td>\n",
       "      <td>0.399978</td>\n",
       "      <td>0.40</td>\n",
       "    </tr>\n",
       "    <tr>\n",
       "      <th>10</th>\n",
       "      <td>2023-12-19 19:34:30.424187899</td>\n",
       "      <td>-539.2</td>\n",
       "      <td>0.449978</td>\n",
       "      <td>0.45</td>\n",
       "    </tr>\n",
       "    <tr>\n",
       "      <th>11</th>\n",
       "      <td>2023-12-19 19:34:34.011747599</td>\n",
       "      <td>-540.6</td>\n",
       "      <td>0.499980</td>\n",
       "      <td>0.50</td>\n",
       "    </tr>\n",
       "    <tr>\n",
       "      <th>12</th>\n",
       "      <td>2023-12-19 19:34:37.598673820</td>\n",
       "      <td>-538.0</td>\n",
       "      <td>0.549982</td>\n",
       "      <td>0.55</td>\n",
       "    </tr>\n",
       "    <tr>\n",
       "      <th>13</th>\n",
       "      <td>2023-12-19 19:34:41.202853680</td>\n",
       "      <td>-537.2</td>\n",
       "      <td>0.599980</td>\n",
       "      <td>0.60</td>\n",
       "    </tr>\n",
       "    <tr>\n",
       "      <th>14</th>\n",
       "      <td>2023-12-19 19:34:44.742854357</td>\n",
       "      <td>-536.8</td>\n",
       "      <td>0.649980</td>\n",
       "      <td>0.65</td>\n",
       "    </tr>\n",
       "    <tr>\n",
       "      <th>15</th>\n",
       "      <td>2023-12-19 19:34:48.314146519</td>\n",
       "      <td>-536.8</td>\n",
       "      <td>0.699978</td>\n",
       "      <td>0.70</td>\n",
       "    </tr>\n",
       "    <tr>\n",
       "      <th>16</th>\n",
       "      <td>2023-12-19 19:34:51.838617802</td>\n",
       "      <td>-536.3</td>\n",
       "      <td>0.749980</td>\n",
       "      <td>0.75</td>\n",
       "    </tr>\n",
       "    <tr>\n",
       "      <th>17</th>\n",
       "      <td>2023-12-19 19:34:55.427175999</td>\n",
       "      <td>-536.3</td>\n",
       "      <td>0.799980</td>\n",
       "      <td>0.80</td>\n",
       "    </tr>\n",
       "    <tr>\n",
       "      <th>18</th>\n",
       "      <td>2023-12-19 19:34:58.998347998</td>\n",
       "      <td>-535.8</td>\n",
       "      <td>0.849978</td>\n",
       "      <td>0.85</td>\n",
       "    </tr>\n",
       "    <tr>\n",
       "      <th>19</th>\n",
       "      <td>2023-12-19 19:35:02.585757256</td>\n",
       "      <td>-535.9</td>\n",
       "      <td>0.899980</td>\n",
       "      <td>0.90</td>\n",
       "    </tr>\n",
       "    <tr>\n",
       "      <th>20</th>\n",
       "      <td>2023-12-19 19:35:06.134989977</td>\n",
       "      <td>-535.8</td>\n",
       "      <td>0.949980</td>\n",
       "      <td>0.95</td>\n",
       "    </tr>\n",
       "    <tr>\n",
       "      <th>21</th>\n",
       "      <td>2023-12-19 19:35:09.726579666</td>\n",
       "      <td>-535.8</td>\n",
       "      <td>0.999982</td>\n",
       "      <td>1.00</td>\n",
       "    </tr>\n",
       "  </tbody>\n",
       "</table>\n",
       "</div>"
      ],
      "text/plain": [
       "                                 time  photodiode  M101 pitch mm  \\\n",
       "seq_num                                                            \n",
       "1       2023-12-19 19:33:58.300783634      -539.6       0.000020   \n",
       "2       2023-12-19 19:34:01.862716436      -538.8       0.049980   \n",
       "3       2023-12-19 19:34:05.451926708      -539.5       0.099976   \n",
       "4       2023-12-19 19:34:09.038368225      -541.7       0.149980   \n",
       "5       2023-12-19 19:34:12.626232386      -558.9       0.199978   \n",
       "6       2023-12-19 19:34:16.231402397     -1068.2       0.249982   \n",
       "7       2023-12-19 19:34:19.787846088      -589.7       0.299974   \n",
       "8       2023-12-19 19:34:23.359917402      -540.6       0.349980   \n",
       "9       2023-12-19 19:34:26.898728609      -539.2       0.399978   \n",
       "10      2023-12-19 19:34:30.424187899      -539.2       0.449978   \n",
       "11      2023-12-19 19:34:34.011747599      -540.6       0.499980   \n",
       "12      2023-12-19 19:34:37.598673820      -538.0       0.549982   \n",
       "13      2023-12-19 19:34:41.202853680      -537.2       0.599980   \n",
       "14      2023-12-19 19:34:44.742854357      -536.8       0.649980   \n",
       "15      2023-12-19 19:34:48.314146519      -536.8       0.699978   \n",
       "16      2023-12-19 19:34:51.838617802      -536.3       0.749980   \n",
       "17      2023-12-19 19:34:55.427175999      -536.3       0.799980   \n",
       "18      2023-12-19 19:34:58.998347998      -535.8       0.849978   \n",
       "19      2023-12-19 19:35:02.585757256      -535.9       0.899980   \n",
       "20      2023-12-19 19:35:06.134989977      -535.8       0.949980   \n",
       "21      2023-12-19 19:35:09.726579666      -535.8       0.999982   \n",
       "\n",
       "         M101 pitch mm_user_setpoint  \n",
       "seq_num                               \n",
       "1                               0.00  \n",
       "2                               0.05  \n",
       "3                               0.10  \n",
       "4                               0.15  \n",
       "5                               0.20  \n",
       "6                               0.25  \n",
       "7                               0.30  \n",
       "8                               0.35  \n",
       "9                               0.40  \n",
       "10                              0.45  \n",
       "11                              0.50  \n",
       "12                              0.55  \n",
       "13                              0.60  \n",
       "14                              0.65  \n",
       "15                              0.70  \n",
       "16                              0.75  \n",
       "17                              0.80  \n",
       "18                              0.85  \n",
       "19                              0.90  \n",
       "20                              0.95  \n",
       "21                              1.00  "
      ]
     },
     "execution_count": 128,
     "metadata": {},
     "output_type": "execute_result"
    }
   ],
   "source": [
    "#others:print the value (not used in this experiment)\n",
    "header = db[-1]\n",
    "header.table()\n",
    "table = db[-1].table(fill=True)"
   ]
  },
  {
   "cell_type": "code",
   "execution_count": null,
   "metadata": {},
   "outputs": [],
   "source": [
    "#Others: how to know the angle is around 25.5.\n",
    "#useful link: https://henke.lbl.gov/optical_constants/filter2.html\n",
    "#We can calculate the angle using equations as follows:\n",
    "\n",
    "# #physical constants\n",
    "# h_m2kgps = 6.6261e-34\n",
    "# c_mps    = 299792458   \n",
    "# e_eV     = 6.2415e+18\n",
    "# # Silicon spacing (for Bragg condition)\n",
    "# Si_m = 5.43E-10\n",
    "# a_Si111_m = Si_m/np.sqrt(1^2+1^2+1^2)\n",
    "# # Monochromotor offset\n",
    "# mono_offset_deg = 12.787\n",
    "# #Wavelength from energy\n",
    "# lambda_m = lambda E_eV : h_m2kgps*c_mps*e_eV/E_eV\n",
    "# #Bragg angle from Wavelength\n",
    "# bragg_deg = lambda E_eV: np.arcsin(lambda_m(E_eV)/(2*a_Si111_m))*180/np.pi\n",
    "# # Mono angle from Bragg angle\n",
    "# mono_deg = lambda E_eV: bragg_deg(E_eV)+mono_offset_deg\n",
    "# mono_deg(7000)"
   ]
  }
 ],
 "metadata": {
  "kernelspec": {
   "display_name": "Python 3.10.6 64-bit",
   "language": "python",
   "name": "python3"
  },
  "language_info": {
   "codemirror_mode": {
    "name": "ipython",
    "version": 3
   },
   "file_extension": ".py",
   "mimetype": "text/x-python",
   "name": "python",
   "nbconvert_exporter": "python",
   "pygments_lexer": "ipython3",
   "version": "3.10.6"
  },
  "orig_nbformat": 4,
  "vscode": {
   "interpreter": {
    "hash": "916dbcbb3f70747c44a77c7bcd40155683ae19c65e1c03b4aa3499c5328201f1"
   }
  }
 },
 "nbformat": 4,
 "nbformat_minor": 2
}

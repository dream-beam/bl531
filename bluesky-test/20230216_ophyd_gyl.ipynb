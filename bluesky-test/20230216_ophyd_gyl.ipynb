{
 "cells": [
  {
   "cell_type": "code",
   "execution_count": null,
   "metadata": {},
   "outputs": [],
   "source": [
    "from ophyd import ADComponent\n",
    "from ophyd import ImagePlugin\n",
    "from ophyd import PilatusDetector\n",
    "from ophyd import SingleTrigger\n",
    "from ophyd.areadetector.filestore_mixins import FileStoreHDF5IterativeWrite\n",
    "from ophyd.areadetector.plugins import HDF5Plugin_V34\n",
    "import os"
   ]
  },
  {
   "cell_type": "code",
   "execution_count": null,
   "metadata": {},
   "outputs": [],
   "source": [
    "\n",
    "PILATUS_FILES_ROOT = \"/mnt/fileserver/data\"\n",
    "# BLUESKY_FILES_ROOT = \"/export/raid5/fileshare/data\"\n",
    "# TEST_IMAGE_DIR = \"test/pilatus/%Y/%m/%d/\"\n",
    "\n",
    "# class MyHDF5Plugin(FileStoreHDF5IterativeWrite, HDF5Plugin_V34): ...\n",
    "\n",
    "class PilatusDetector(SingleTrigger, PilatusDetector):\n",
    "    \"\"\"Pilatus detector\"\"\"\n",
    "\n",
    "    image = ADComponent(ImagePlugin, \"image1:\")\n",
    "    hdf1 = ADComponent(\n",
    "        MyHDF5Plugin,\n",
    "        \"HDF1:\",\n",
    "        write_path_template=os.path.join(PILATUS_FILES_ROOT, TEST_IMAGE_DIR),\n",
    "        read_path_template=os.path.join(PILATUS_FILES_ROOT, TEST_IMAGE_DIR),\n",
    "    )\n",
    "\n",
    "det = PilatusDetector(\"Pilatus:\", name=\"13PIL1\")\n",
    "det.hdf1.create_directory.put(-5)\n",
    "det.cam.stage_sigs[\"image_mode\"] = \"Single\"\n",
    "det.cam.stage_sigs[\"num_images\"] = 1\n",
    "det.cam.stage_sigs[\"acquire_time\"] = 0.1\n",
    "det.cam.stage_sigs[\"acquire_period\"] = 0.105\n",
    "# det.hdf1.stage_sigs[\"lazy_open\"] = 1\n",
    "# det.hdf1.stage_sigs[\"compression\"] = \"LZ4\"\n",
    "# det.hdf1.stage_sigs[\"file_template\"] = \"%s%s_%3.3d.h5\"\n",
    "# del det.hdf1.stage_sigs[\"capture\"]\n",
    "# det.hdf1.stage_sigs[\"capture\"] = 1"
   ]
  }
 ],
 "metadata": {
  "kernelspec": {
   "display_name": "Python 3.10.4 64-bit",
   "language": "python",
   "name": "python3"
  },
  "language_info": {
   "name": "python",
   "version": "3.10.6"
  },
  "orig_nbformat": 4,
  "vscode": {
   "interpreter": {
    "hash": "916dbcbb3f70747c44a77c7bcd40155683ae19c65e1c03b4aa3499c5328201f1"
   }
  }
 },
 "nbformat": 4,
 "nbformat_minor": 2
}

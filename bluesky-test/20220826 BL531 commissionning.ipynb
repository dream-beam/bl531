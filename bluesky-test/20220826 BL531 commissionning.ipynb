{
 "cells": [
  {
   "cell_type": "markdown",
   "id": "daad3847",
   "metadata": {},
   "source": [
    "# Testing bluesky + EPICS"
   ]
  },
  {
   "cell_type": "markdown",
   "id": "717b6dd2",
   "metadata": {},
   "source": [
    "Following the bluesky tutorial https://nsls-ii.github.io/bluesky/tutorial.html with simulated and live motors"
   ]
  },
  {
   "cell_type": "code",
   "execution_count": 3,
   "id": "53d02f73",
   "metadata": {},
   "outputs": [],
   "source": [
    "# August 2022\n",
    "# awojdyla@lbl.gov"
   ]
  },
  {
   "cell_type": "code",
   "execution_count": 4,
   "id": "9e5a92f6",
   "metadata": {},
   "outputs": [],
   "source": [
    "import epics\n",
    "import bluesky\n",
    "#import numpy\n",
    "#import matplotlib.pyplot as plt\n",
    "#import time "
   ]
  },
  {
   "cell_type": "markdown",
   "id": "f085786c",
   "metadata": {},
   "source": [
    "### Connecting to EPICS motors\n",
    "We had some issues here witht the picoscale interformeter -- we need to use caproto to talk to it (ophyd's motor does not work directly out of the box)\n",
    "\n",
    "from: https://nsls-ii.github.io/bluesky/tutorial.html\n",
    "\n",
    "```\n",
    "from ophyd import EpicsMotor\n",
    "nano_top_x = EpicsMotor('XF:31ID-ES{Dif:Nano-Ax:TopX}Mtr', name='nano_top_x')\n",
    "```\n"
   ]
  },
  {
   "cell_type": "code",
   "execution_count": 195,
   "id": "3d72c8ac",
   "metadata": {},
   "outputs": [
    {
     "ename": "TimeoutError",
     "evalue": "Failed to connect to all signals: m101_pitch.user_readback (newport:m21.RBV), m101_pitch.user_setpoint (newport:m21.VAL), m101_pitch.user_offset (newport:m21.OFF), m101_pitch.user_offset_dir (newport:m21.DIR), m101_pitch.offset_freeze_switch (newport:m21.FOFF), m101_pitch.set_use_switch (newport:m21.SET), m101_pitch.velocity (newport:m21.VELO), m101_pitch.acceleration (newport:m21.ACCL), m101_pitch.motor_egu (newport:m21.EGU), m101_pitch.motor_is_moving (newport:m21.MOVN), m101_pitch.motor_done_move (newport:m21.DMOV), m101_pitch.high_limit_switch (newport:m21.HLS), m101_pitch.low_limit_switch (newport:m21.LLS), m101_pitch.high_limit_travel (newport:m21.HLM), m101_pitch.low_limit_travel (newport:m21.LLM), m101_pitch.direction_of_travel (newport:m21.TDIR), m101_pitch.motor_stop (newport:m21.STOP), m101_pitch.home_forward (newport:m21.HOMF), m101_pitch.home_reverse (newport:m21.HOMR); Pending operations: EpicsMotor(prefix='newport:m21', name='m101_pitch', settle_time=0.0, timeout=None, read_attrs=['user_readback', 'user_setpoint'], configuration_attrs=['user_offset', 'user_offset_dir', 'velocity', 'acceleration', 'motor_egu'])._pos_changed[value] subscription, EpicsMotor(prefix='newport:m21', name='m101_pitch', settle_time=0.0, timeout=None, read_attrs=['user_readback', 'user_setpoint'], configuration_attrs=['user_offset', 'user_offset_dir', 'velocity', 'acceleration', 'motor_egu'])._move_changed[value] subscription",
     "output_type": "error",
     "traceback": [
      "\u001b[0;31m---------------------------------------------------------------------------\u001b[0m",
      "\u001b[0;31mTimeoutError\u001b[0m                              Traceback (most recent call last)",
      "\u001b[1;32m/home/bl531/bl531/bluesky-test/20220826 BL531 commissionning.ipynb Cell 6\u001b[0m in \u001b[0;36m<cell line: 21>\u001b[0;34m()\u001b[0m\n\u001b[1;32m     <a href='vscode-notebook-cell:/home/bl531/bl531/bluesky-test/20220826%20BL531%20commissionning.ipynb#ch0000007?line=17'>18</a>\u001b[0m linear_x \u001b[39m=\u001b[39m EpicsMotor(\u001b[39m'\u001b[39m\u001b[39mnewport:m11\u001b[39m\u001b[39m'\u001b[39m, name\u001b[39m=\u001b[39m\u001b[39m'\u001b[39m\u001b[39mnewport_x\u001b[39m\u001b[39m'\u001b[39m)\n\u001b[1;32m     <a href='vscode-notebook-cell:/home/bl531/bl531/bluesky-test/20220826%20BL531%20commissionning.ipynb#ch0000007?line=18'>19</a>\u001b[0m linear_z \u001b[39m=\u001b[39m EpicsMotor(\u001b[39m'\u001b[39m\u001b[39mnewport:m13\u001b[39m\u001b[39m'\u001b[39m, name\u001b[39m=\u001b[39m\u001b[39m'\u001b[39m\u001b[39mnewport_z\u001b[39m\u001b[39m'\u001b[39m)\n\u001b[0;32m---> <a href='vscode-notebook-cell:/home/bl531/bl531/bluesky-test/20220826%20BL531%20commissionning.ipynb#ch0000007?line=20'>21</a>\u001b[0m m101_pitch\u001b[39m.\u001b[39;49mwait_for_connection(timeout\u001b[39m=\u001b[39;49m\u001b[39m2.0\u001b[39;49m)\n\u001b[1;32m     <a href='vscode-notebook-cell:/home/bl531/bl531/bluesky-test/20220826%20BL531%20commissionning.ipynb#ch0000007?line=21'>22</a>\u001b[0m m101_pitch\u001b[39m.\u001b[39mread()\n",
      "File \u001b[0;32m~/.local/lib/python3.10/site-packages/ophyd/device.py:1153\u001b[0m, in \u001b[0;36mDevice.wait_for_connection\u001b[0;34m(self, all_signals, timeout)\u001b[0m\n\u001b[1;32m   1149\u001b[0m     pending \u001b[39m=\u001b[39m \u001b[39m'\u001b[39m\u001b[39m, \u001b[39m\u001b[39m'\u001b[39m\u001b[39m.\u001b[39mjoin(description\u001b[39m.\u001b[39mformat(device\u001b[39m=\u001b[39mdev)\n\u001b[1;32m   1150\u001b[0m                         \u001b[39mfor\u001b[39;00m dev, funcs \u001b[39min\u001b[39;00m pending_funcs\u001b[39m.\u001b[39mitems()\n\u001b[1;32m   1151\u001b[0m                         \u001b[39mfor\u001b[39;00m obj, description \u001b[39min\u001b[39;00m funcs\u001b[39m.\u001b[39mitems())\n\u001b[1;32m   1152\u001b[0m     reasons\u001b[39m.\u001b[39mappend(\u001b[39mf\u001b[39m\u001b[39m'\u001b[39m\u001b[39mPending operations: \u001b[39m\u001b[39m{\u001b[39;00mpending\u001b[39m}\u001b[39;00m\u001b[39m'\u001b[39m)\n\u001b[0;32m-> 1153\u001b[0m \u001b[39mraise\u001b[39;00m \u001b[39mTimeoutError\u001b[39;00m(\u001b[39m'\u001b[39m\u001b[39m; \u001b[39m\u001b[39m'\u001b[39m\u001b[39m.\u001b[39mjoin(reasons))\n",
      "\u001b[0;31mTimeoutError\u001b[0m: Failed to connect to all signals: m101_pitch.user_readback (newport:m21.RBV), m101_pitch.user_setpoint (newport:m21.VAL), m101_pitch.user_offset (newport:m21.OFF), m101_pitch.user_offset_dir (newport:m21.DIR), m101_pitch.offset_freeze_switch (newport:m21.FOFF), m101_pitch.set_use_switch (newport:m21.SET), m101_pitch.velocity (newport:m21.VELO), m101_pitch.acceleration (newport:m21.ACCL), m101_pitch.motor_egu (newport:m21.EGU), m101_pitch.motor_is_moving (newport:m21.MOVN), m101_pitch.motor_done_move (newport:m21.DMOV), m101_pitch.high_limit_switch (newport:m21.HLS), m101_pitch.low_limit_switch (newport:m21.LLS), m101_pitch.high_limit_travel (newport:m21.HLM), m101_pitch.low_limit_travel (newport:m21.LLM), m101_pitch.direction_of_travel (newport:m21.TDIR), m101_pitch.motor_stop (newport:m21.STOP), m101_pitch.home_forward (newport:m21.HOMF), m101_pitch.home_reverse (newport:m21.HOMR); Pending operations: EpicsMotor(prefix='newport:m21', name='m101_pitch', settle_time=0.0, timeout=None, read_attrs=['user_readback', 'user_setpoint'], configuration_attrs=['user_offset', 'user_offset_dir', 'velocity', 'acceleration', 'motor_egu'])._pos_changed[value] subscription, EpicsMotor(prefix='newport:m21', name='m101_pitch', settle_time=0.0, timeout=None, read_attrs=['user_readback', 'user_setpoint'], configuration_attrs=['user_offset', 'user_offset_dir', 'velocity', 'acceleration', 'motor_egu'])._move_changed[value] subscription"
     ]
    }
   ],
   "source": [
    "from ophyd import EpicsMotor\n",
    "import ophyd\n",
    "ophyd.set_cl('caproto')\n",
    "\n",
    "\n",
    "# det_ps = ophyd.EpicsSignal('newport:m21', name='newport_z_in')\n",
    "# # do not do a read in the same cell! too fast\n",
    "\n",
    "# #this works\n",
    "# det_ps.wait_for_connection(timeout=2.0)\n",
    "# det_ps.read()\n",
    "\n",
    "\n",
    "m101_pitch = EpicsMotor('newport:m21', name='m101_pitch')\n",
    "m101_bend = EpicsMotor('newport:m22', name='m101_bend')\n",
    "m101_slit = EpicsMotor('newport:m23', name='m101_slit')\n",
    "\n",
    "linear_x = EpicsMotor('newport:m11', name='newport_x')\n",
    "linear_z = EpicsMotor('newport:m13', name='newport_z')\n",
    "\n",
    "m101_pitch.wait_for_connection(timeout=2.0)\n",
    "m101_pitch.read()"
   ]
  },
  {
   "cell_type": "code",
   "execution_count": 200,
   "id": "5a6ddbed",
   "metadata": {},
   "outputs": [],
   "source": [
    "#hs_m1 = EpicsMotor('micronix:m1', name='hs_m1')\n",
    "hs_m1 = EpicsMotor('IOC_MMC200:m1', name='hs_m1')\n"
   ]
  },
  {
   "cell_type": "code",
   "execution_count": 203,
   "id": "53d55a63",
   "metadata": {},
   "outputs": [
    {
     "data": {
      "text/plain": [
       "-0.0034252929687500003"
      ]
     },
     "execution_count": 203,
     "metadata": {},
     "output_type": "execute_result"
    }
   ],
   "source": [
    "hs_m1.position"
   ]
  },
  {
   "cell_type": "code",
   "execution_count": 202,
   "id": "c5361cf1",
   "metadata": {},
   "outputs": [
    {
     "ename": "KeyboardInterrupt",
     "evalue": "",
     "output_type": "error",
     "traceback": [
      "\u001b[0;31m---------------------------------------------------------------------------\u001b[0m",
      "\u001b[0;31mKeyboardInterrupt\u001b[0m                         Traceback (most recent call last)",
      "\u001b[1;32m/home/bl531/bl531/bluesky-test/20220826 BL531 commissionning.ipynb Cell 9\u001b[0m in \u001b[0;36m<cell line: 1>\u001b[0;34m()\u001b[0m\n\u001b[0;32m----> <a href='vscode-notebook-cell:/home/bl531/bl531/bluesky-test/20220826%20BL531%20commissionning.ipynb#ch0000043?line=0'>1</a>\u001b[0m hs_m1\u001b[39m.\u001b[39;49mmove(\u001b[39m5\u001b[39;49m)\n",
      "File \u001b[0;32m~/.local/lib/python3.10/site-packages/ophyd/utils/epics_pvs.py:198\u001b[0m, in \u001b[0;36mraise_if_disconnected.<locals>.wrapper\u001b[0;34m(self, *args, **kwargs)\u001b[0m\n\u001b[1;32m    195\u001b[0m \u001b[39m@functools\u001b[39m\u001b[39m.\u001b[39mwraps(fcn)\n\u001b[1;32m    196\u001b[0m \u001b[39mdef\u001b[39;00m \u001b[39mwrapper\u001b[39m(\u001b[39mself\u001b[39m, \u001b[39m*\u001b[39margs, \u001b[39m*\u001b[39m\u001b[39m*\u001b[39mkwargs):\n\u001b[1;32m    197\u001b[0m     \u001b[39mif\u001b[39;00m \u001b[39mself\u001b[39m\u001b[39m.\u001b[39mconnected:\n\u001b[0;32m--> 198\u001b[0m         \u001b[39mreturn\u001b[39;00m fcn(\u001b[39mself\u001b[39;49m, \u001b[39m*\u001b[39;49margs, \u001b[39m*\u001b[39;49m\u001b[39m*\u001b[39;49mkwargs)\n\u001b[1;32m    199\u001b[0m     \u001b[39melse\u001b[39;00m:\n\u001b[1;32m    200\u001b[0m         \u001b[39mraise\u001b[39;00m DisconnectedError(\u001b[39m'\u001b[39m\u001b[39m{}\u001b[39;00m\u001b[39m is not connected\u001b[39m\u001b[39m'\u001b[39m\u001b[39m.\u001b[39mformat(\u001b[39mself\u001b[39m\u001b[39m.\u001b[39mname))\n",
      "File \u001b[0;32m~/.local/lib/python3.10/site-packages/ophyd/epics_motor.py:173\u001b[0m, in \u001b[0;36mEpicsMotor.move\u001b[0;34m(self, position, wait, **kwargs)\u001b[0m\n\u001b[1;32m    171\u001b[0m \u001b[39mtry\u001b[39;00m:\n\u001b[1;32m    172\u001b[0m     \u001b[39mif\u001b[39;00m wait:\n\u001b[0;32m--> 173\u001b[0m         status_wait(status)\n\u001b[1;32m    174\u001b[0m \u001b[39mexcept\u001b[39;00m \u001b[39mKeyboardInterrupt\u001b[39;00m:\n\u001b[1;32m    175\u001b[0m     \u001b[39mself\u001b[39m\u001b[39m.\u001b[39mstop()\n",
      "File \u001b[0;32m~/.local/lib/python3.10/site-packages/ophyd/status.py:896\u001b[0m, in \u001b[0;36mwait\u001b[0;34m(status, timeout, poll_rate)\u001b[0m\n\u001b[1;32m    871\u001b[0m \u001b[39mdef\u001b[39;00m \u001b[39mwait\u001b[39m(status, timeout\u001b[39m=\u001b[39m\u001b[39mNone\u001b[39;00m, \u001b[39m*\u001b[39m, poll_rate\u001b[39m=\u001b[39m\u001b[39m\"\u001b[39m\u001b[39mDEPRECATED\u001b[39m\u001b[39m\"\u001b[39m):\n\u001b[1;32m    872\u001b[0m     \u001b[39m\"\"\"(Blocking) wait for the status object to complete\u001b[39;00m\n\u001b[1;32m    873\u001b[0m \n\u001b[1;32m    874\u001b[0m \u001b[39m    Parameters\u001b[39;00m\n\u001b[0;32m   (...)\u001b[0m\n\u001b[1;32m    894\u001b[0m \u001b[39m        from ``WaitTimeoutError`` above.\u001b[39;00m\n\u001b[1;32m    895\u001b[0m \u001b[39m    \"\"\"\u001b[39;00m\n\u001b[0;32m--> 896\u001b[0m     \u001b[39mreturn\u001b[39;00m status\u001b[39m.\u001b[39;49mwait(timeout)\n",
      "File \u001b[0;32m~/.local/lib/python3.10/site-packages/ophyd/status.py:411\u001b[0m, in \u001b[0;36mStatusBase.wait\u001b[0;34m(self, timeout)\u001b[0m\n\u001b[1;32m    385\u001b[0m \u001b[39mdef\u001b[39;00m \u001b[39mwait\u001b[39m(\u001b[39mself\u001b[39m, timeout\u001b[39m=\u001b[39m\u001b[39mNone\u001b[39;00m):\n\u001b[1;32m    386\u001b[0m     \u001b[39m\"\"\"\u001b[39;00m\n\u001b[1;32m    387\u001b[0m \u001b[39m    Block until the action completes.\u001b[39;00m\n\u001b[1;32m    388\u001b[0m \n\u001b[0;32m   (...)\u001b[0m\n\u001b[1;32m    409\u001b[0m \u001b[39m        from ``WaitTimeoutError`` above.\u001b[39;00m\n\u001b[1;32m    410\u001b[0m \u001b[39m    \"\"\"\u001b[39;00m\n\u001b[0;32m--> 411\u001b[0m     \u001b[39mif\u001b[39;00m \u001b[39mnot\u001b[39;00m \u001b[39mself\u001b[39;49m\u001b[39m.\u001b[39;49m_event\u001b[39m.\u001b[39;49mwait(timeout\u001b[39m=\u001b[39;49mtimeout):\n\u001b[1;32m    412\u001b[0m         \u001b[39mraise\u001b[39;00m WaitTimeoutError(\u001b[39m\"\u001b[39m\u001b[39mStatus has not completed yet.\u001b[39m\u001b[39m\"\u001b[39m)\n\u001b[1;32m    413\u001b[0m     \u001b[39mif\u001b[39;00m \u001b[39mself\u001b[39m\u001b[39m.\u001b[39m_exception \u001b[39mis\u001b[39;00m \u001b[39mnot\u001b[39;00m \u001b[39mNone\u001b[39;00m:\n",
      "File \u001b[0;32m/usr/lib/python3.10/threading.py:600\u001b[0m, in \u001b[0;36mEvent.wait\u001b[0;34m(self, timeout)\u001b[0m\n\u001b[1;32m    598\u001b[0m signaled \u001b[39m=\u001b[39m \u001b[39mself\u001b[39m\u001b[39m.\u001b[39m_flag\n\u001b[1;32m    599\u001b[0m \u001b[39mif\u001b[39;00m \u001b[39mnot\u001b[39;00m signaled:\n\u001b[0;32m--> 600\u001b[0m     signaled \u001b[39m=\u001b[39m \u001b[39mself\u001b[39;49m\u001b[39m.\u001b[39;49m_cond\u001b[39m.\u001b[39;49mwait(timeout)\n\u001b[1;32m    601\u001b[0m \u001b[39mreturn\u001b[39;00m signaled\n",
      "File \u001b[0;32m/usr/lib/python3.10/threading.py:320\u001b[0m, in \u001b[0;36mCondition.wait\u001b[0;34m(self, timeout)\u001b[0m\n\u001b[1;32m    318\u001b[0m \u001b[39mtry\u001b[39;00m:    \u001b[39m# restore state no matter what (e.g., KeyboardInterrupt)\u001b[39;00m\n\u001b[1;32m    319\u001b[0m     \u001b[39mif\u001b[39;00m timeout \u001b[39mis\u001b[39;00m \u001b[39mNone\u001b[39;00m:\n\u001b[0;32m--> 320\u001b[0m         waiter\u001b[39m.\u001b[39;49macquire()\n\u001b[1;32m    321\u001b[0m         gotit \u001b[39m=\u001b[39m \u001b[39mTrue\u001b[39;00m\n\u001b[1;32m    322\u001b[0m     \u001b[39melse\u001b[39;00m:\n",
      "\u001b[0;31mKeyboardInterrupt\u001b[0m: "
     ]
    }
   ],
   "source": [
    "hs_m1.move(5)"
   ]
  },
  {
   "cell_type": "code",
   "execution_count": 31,
   "id": "405b0598",
   "metadata": {},
   "outputs": [],
   "source": [
    "mono_theta = EpicsMotor('IOC:m1', name='mono_theta')\n",
    "mono_z = EpicsMotor('IOC:m2', name='mono_z')"
   ]
  },
  {
   "cell_type": "markdown",
   "id": "0071361a",
   "metadata": {},
   "source": [
    "### Reading motor position"
   ]
  },
  {
   "cell_type": "code",
   "execution_count": 135,
   "id": "bab893b8",
   "metadata": {},
   "outputs": [
    {
     "name": "stdout",
     "output_type": "stream",
     "text": [
      "43.0\n"
     ]
    }
   ],
   "source": [
    "#a = m101_pitch.position\n",
    "a = mono_theta.position\n",
    "a = mono_z.position\n",
    "print(a)"
   ]
  },
  {
   "cell_type": "markdown",
   "id": "090e6c77",
   "metadata": {},
   "source": [
    "### Moving a motor"
   ]
  },
  {
   "cell_type": "code",
   "execution_count": 10,
   "id": "72fd1127",
   "metadata": {},
   "outputs": [
    {
     "data": {
      "text/plain": [
       "MoveStatus(done=True, pos=m101_pitch, elapsed=14.7, success=True, settle_time=0.0)"
      ]
     },
     "execution_count": 10,
     "metadata": {},
     "output_type": "execute_result"
    }
   ],
   "source": [
    "m101_pitch.move(0.5)"
   ]
  },
  {
   "cell_type": "markdown",
   "id": "04b0f79c",
   "metadata": {},
   "source": [
    "## various motions"
   ]
  },
  {
   "cell_type": "code",
   "execution_count": 86,
   "id": "c2e3a65a",
   "metadata": {},
   "outputs": [
    {
     "data": {
      "text/plain": [
       "MoveStatus(done=True, pos=m101_pitch, elapsed=3.7, success=True, settle_time=0.0)"
      ]
     },
     "execution_count": 86,
     "metadata": {},
     "output_type": "execute_result"
    }
   ],
   "source": [
    "m101_pitch.move(0.45)"
   ]
  },
  {
   "cell_type": "code",
   "execution_count": 43,
   "id": "8ebf7696",
   "metadata": {},
   "outputs": [
    {
     "data": {
      "text/plain": [
       "0.500018"
      ]
     },
     "execution_count": 43,
     "metadata": {},
     "output_type": "execute_result"
    }
   ],
   "source": [
    "m101_pitch.position"
   ]
  },
  {
   "cell_type": "code",
   "execution_count": 158,
   "id": "91d9e4ae",
   "metadata": {},
   "outputs": [
    {
     "data": {
      "text/plain": [
       "MoveStatus(done=True, pos=m101_bend, elapsed=692.9, success=True, settle_time=0.0)"
      ]
     },
     "execution_count": 158,
     "metadata": {},
     "output_type": "execute_result"
    }
   ],
   "source": [
    "m101_bend.move(100)"
   ]
  },
  {
   "cell_type": "code",
   "execution_count": 157,
   "id": "b0311edc",
   "metadata": {},
   "outputs": [
    {
     "data": {
      "text/plain": [
       "0.02544"
      ]
     },
     "execution_count": 157,
     "metadata": {},
     "output_type": "execute_result"
    }
   ],
   "source": [
    "m101_bend.position"
   ]
  },
  {
   "cell_type": "code",
   "execution_count": 116,
   "id": "00626d9a",
   "metadata": {},
   "outputs": [
    {
     "data": {
      "text/plain": [
       "MoveStatus(done=True, pos=m101_slit, elapsed=10.4, success=True, settle_time=0.0)"
      ]
     },
     "execution_count": 116,
     "metadata": {},
     "output_type": "execute_result"
    }
   ],
   "source": [
    "m101_slit.move(-3)"
   ]
  },
  {
   "cell_type": "code",
   "execution_count": 194,
   "id": "5879c510",
   "metadata": {},
   "outputs": [
    {
     "ename": "DisconnectedError",
     "evalue": "mono_theta is not connected",
     "output_type": "error",
     "traceback": [
      "\u001b[0;31m---------------------------------------------------------------------------\u001b[0m",
      "\u001b[0;31mDisconnectedError\u001b[0m                         Traceback (most recent call last)",
      "\u001b[1;32m/home/bl531/bl531/bluesky-test/20220826 BL531 commissionning.ipynb Cell 21\u001b[0m in \u001b[0;36m<cell line: 1>\u001b[0;34m()\u001b[0m\n\u001b[0;32m----> <a href='vscode-notebook-cell:/home/bl531/bl531/bluesky-test/20220826%20BL531%20commissionning.ipynb#ch0000031?line=0'>1</a>\u001b[0m mono_theta\u001b[39m.\u001b[39;49mmove(\u001b[39m30\u001b[39;49m)\n",
      "File \u001b[0;32m~/.local/lib/python3.10/site-packages/ophyd/utils/epics_pvs.py:200\u001b[0m, in \u001b[0;36mraise_if_disconnected.<locals>.wrapper\u001b[0;34m(self, *args, **kwargs)\u001b[0m\n\u001b[1;32m    198\u001b[0m     \u001b[39mreturn\u001b[39;00m fcn(\u001b[39mself\u001b[39m, \u001b[39m*\u001b[39margs, \u001b[39m*\u001b[39m\u001b[39m*\u001b[39mkwargs)\n\u001b[1;32m    199\u001b[0m \u001b[39melse\u001b[39;00m:\n\u001b[0;32m--> 200\u001b[0m     \u001b[39mraise\u001b[39;00m DisconnectedError(\u001b[39m'\u001b[39m\u001b[39m{}\u001b[39;00m\u001b[39m is not connected\u001b[39m\u001b[39m'\u001b[39m\u001b[39m.\u001b[39mformat(\u001b[39mself\u001b[39m\u001b[39m.\u001b[39mname))\n",
      "\u001b[0;31mDisconnectedError\u001b[0m: mono_theta is not connected"
     ]
    }
   ],
   "source": [
    "mono_theta.move(30)"
   ]
  },
  {
   "cell_type": "code",
   "execution_count": 160,
   "id": "a37f2a88",
   "metadata": {},
   "outputs": [
    {
     "data": {
      "text/plain": [
       "30.0"
      ]
     },
     "execution_count": 160,
     "metadata": {},
     "output_type": "execute_result"
    }
   ],
   "source": [
    "mono_theta.position\n"
   ]
  },
  {
   "cell_type": "code",
   "execution_count": 129,
   "id": "eea7c887",
   "metadata": {},
   "outputs": [
    {
     "data": {
      "text/plain": [
       "MoveStatus(done=True, pos=mono_z, elapsed=2.0, success=True, settle_time=0.0)"
      ]
     },
     "execution_count": 129,
     "metadata": {},
     "output_type": "execute_result"
    }
   ],
   "source": [
    "mono_z.move(43)"
   ]
  },
  {
   "cell_type": "code",
   "execution_count": 66,
   "id": "af220b94",
   "metadata": {},
   "outputs": [
    {
     "data": {
      "text/plain": [
       "43.12"
      ]
     },
     "execution_count": 66,
     "metadata": {},
     "output_type": "execute_result"
    }
   ],
   "source": [
    "mono_z.position"
   ]
  },
  {
   "cell_type": "markdown",
   "id": "aacf1e5d",
   "metadata": {},
   "source": [
    "## Pitch optimization"
   ]
  },
  {
   "cell_type": "code",
   "execution_count": null,
   "id": "df3cc80a",
   "metadata": {},
   "outputs": [],
   "source": [
    "#m101_pitch.move(0.45)\n",
    "#mono_z.move(43)\n",
    "m101_pitch.move(0.45)\n",
    "mono_z.move(43)\n"
   ]
  },
  {
   "cell_type": "code",
   "execution_count": 122,
   "id": "4b24242b",
   "metadata": {},
   "outputs": [
    {
     "data": {
      "text/plain": [
       "MoveStatus(done=True, pos=m101_pitch, elapsed=5.1, success=True, settle_time=0.0)"
      ]
     },
     "execution_count": 122,
     "metadata": {},
     "output_type": "execute_result"
    }
   ],
   "source": [
    "m101_pitch.move(0.5)\n"
   ]
  },
  {
   "cell_type": "code",
   "execution_count": 126,
   "id": "dcab4c6a",
   "metadata": {},
   "outputs": [
    {
     "data": {
      "text/plain": [
       "MoveStatus(done=True, pos=mono_z, elapsed=2.0, success=True, settle_time=0.0)"
      ]
     },
     "execution_count": 126,
     "metadata": {},
     "output_type": "execute_result"
    }
   ],
   "source": [
    "mono_z.move(44)"
   ]
  },
  {
   "cell_type": "code",
   "execution_count": null,
   "id": "9be0f016",
   "metadata": {},
   "outputs": [],
   "source": []
  },
  {
   "cell_type": "markdown",
   "id": "e5e928a2",
   "metadata": {},
   "source": [
    "## bluesky"
   ]
  },
  {
   "cell_type": "code",
   "execution_count": null,
   "id": "d979ddad",
   "metadata": {},
   "outputs": [],
   "source": []
  },
  {
   "cell_type": "code",
   "execution_count": null,
   "id": "04c05f23",
   "metadata": {},
   "outputs": [],
   "source": [
    "# from bluesky import RunEngine\n",
    "# RE = RunEngine({})\n",
    "# from databroker import Broker\n",
    "# %% db = Broker.named('temp')\n",
    "\n",
    "# # Insert all metadata/data captured into db.\n",
    "# RE.subscribe(db.insert)"
   ]
  },
  {
   "cell_type": "code",
   "execution_count": 11,
   "id": "55e3069f",
   "metadata": {},
   "outputs": [],
   "source": [
    "#from bluesky.plans import scan\n",
    "#dets = [det_ps]\n",
    "#RE(scan(dets, motor_z, 25, -75, motor_x, -12, -62, 5))"
   ]
  },
  {
   "cell_type": "code",
   "execution_count": 9,
   "id": "d468e1e0",
   "metadata": {},
   "outputs": [],
   "source": [
    "#header = db[-1]\n",
    "#header.table()"
   ]
  },
  {
   "cell_type": "code",
   "execution_count": null,
   "id": "cb4f8909",
   "metadata": {},
   "outputs": [],
   "source": []
  }
 ],
 "metadata": {
  "kernelspec": {
   "display_name": "Python 3.10.4 64-bit",
   "language": "python",
   "name": "python3"
  },
  "language_info": {
   "codemirror_mode": {
    "name": "ipython",
    "version": 3
   },
   "file_extension": ".py",
   "mimetype": "text/x-python",
   "name": "python",
   "nbconvert_exporter": "python",
   "pygments_lexer": "ipython3",
   "version": "3.10.6"
  },
  "vscode": {
   "interpreter": {
    "hash": "916dbcbb3f70747c44a77c7bcd40155683ae19c65e1c03b4aa3499c5328201f1"
   }
  }
 },
 "nbformat": 4,
 "nbformat_minor": 5
}

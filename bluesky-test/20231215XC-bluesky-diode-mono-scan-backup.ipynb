{
 "cells": [
  {
   "cell_type": "markdown",
   "metadata": {},
   "source": [
    "# Bluesky diode scan\n",
    "We are going to do this and that\n",
    "xchong@lbl.gov, awojdyla@lbl.gov, dec 2023"
   ]
  },
  {
   "cell_type": "code",
   "execution_count": 176,
   "metadata": {},
   "outputs": [],
   "source": [
    "import epics\n",
    "import bluesky\n",
    "import numpy as np\n",
    "# we had issues with the kernel, bluesky error, noe we us the blop kernel"
   ]
  },
  {
   "cell_type": "code",
   "execution_count": 177,
   "metadata": {},
   "outputs": [
    {
     "data": {
      "text/plain": [
       "0"
      ]
     },
     "execution_count": 177,
     "metadata": {},
     "output_type": "execute_result"
    }
   ],
   "source": [
    "from bluesky import RunEngine\n",
    "RE = RunEngine({})\n",
    "\n",
    "from databroker import Broker\n",
    "db = Broker.named('temp')\n",
    "\n",
    "# Insert all metadata/data captured into db.\n",
    "RE.subscribe(db.insert)"
   ]
  },
  {
   "cell_type": "code",
   "execution_count": 178,
   "metadata": {},
   "outputs": [],
   "source": [
    "pv_mono_angle_deg = 'bl531_xps1:mono_angle_deg'\n",
    "pv_photodiode_mA  = 'bl201-beamstop:current'\n",
    "\n",
    "\n",
    "pv_m101_pitch_mm  = 'bl531_esp300:m101_pitch_mm'\n",
    "#pv_m101_bend_um   = 'bl531_esp300:m101_bend_um'\n",
    "pv_mono_height_mm = 'bl531_xps1:mono_height_mm'"
   ]
  },
  {
   "cell_type": "code",
   "execution_count": 179,
   "metadata": {},
   "outputs": [
    {
     "data": {
      "text/plain": [
       "OrderedDict([('Mono theta deg',\n",
       "              {'value': 26.0, 'timestamp': 1703016511.921417}),\n",
       "             ('Mono theta deg_user_setpoint',\n",
       "              {'value': 26.0, 'timestamp': 1703016646.708014})])"
      ]
     },
     "execution_count": 179,
     "metadata": {},
     "output_type": "execute_result"
    }
   ],
   "source": [
    "from ophyd import EpicsMotor\n",
    "import ophyd\n",
    "ophyd.set_cl('caproto')\n",
    "\n",
    "#that does not work\n",
    "diode_mA = ophyd.EpicsSignal('bl201-beamstop:current', name='photodiode') \n",
    "diode_mA.wait_for_connection(timeout=2.0)\n",
    "diode_mA.read()\n",
    "\n",
    "#\n",
    "mono_angle_deg = EpicsMotor(pv_mono_angle_deg, name='Mono theta deg')\n",
    "mono_angle_deg.wait_for_connection(timeout=2.0)\n",
    "mono_angle_deg.read()"
   ]
  },
  {
   "cell_type": "code",
   "execution_count": 180,
   "metadata": {},
   "outputs": [
    {
     "data": {
      "text/plain": [
       "OrderedDict([('Mono height mm',\n",
       "              {'value': 40.9, 'timestamp': 1703016482.911396}),\n",
       "             ('Mono height mm_user_setpoint',\n",
       "              {'value': 40.9, 'timestamp': 1703016648.8683898})])"
      ]
     },
     "execution_count": 180,
     "metadata": {},
     "output_type": "execute_result"
    }
   ],
   "source": [
    "mono_height_mm = EpicsMotor(pv_mono_height_mm, name='Mono height mm')\n",
    "mono_height_mm.wait_for_connection(timeout=2.0)\n",
    "mono_height_mm.read()"
   ]
  },
  {
   "cell_type": "code",
   "execution_count": 181,
   "metadata": {},
   "outputs": [
    {
     "data": {
      "text/plain": [
       "OrderedDict([('M101 pitch mm',\n",
       "              {'value': 0.24001999999999998, 'timestamp': 1703014784.480117}),\n",
       "             ('M101 pitch mm_user_setpoint',\n",
       "              {'value': 0.24, 'timestamp': 1703016650.587099})])"
      ]
     },
     "execution_count": 181,
     "metadata": {},
     "output_type": "execute_result"
    }
   ],
   "source": [
    "m101_pitch_mm = EpicsMotor(pv_m101_pitch_mm, name='M101 pitch mm')\n",
    "m101_pitch_mm.wait_for_connection(timeout=2.0)\n",
    "m101_pitch_mm.read()"
   ]
  },
  {
   "cell_type": "code",
   "execution_count": 182,
   "metadata": {},
   "outputs": [
    {
     "data": {
      "text/plain": [
       "{'photodiode': {'value': -74.43, 'timestamp': 1703016652.825827}}"
      ]
     },
     "execution_count": 182,
     "metadata": {},
     "output_type": "execute_result"
    }
   ],
   "source": [
    "diode_mA.read()"
   ]
  },
  {
   "cell_type": "code",
   "execution_count": 185,
   "metadata": {},
   "outputs": [
    {
     "data": {
      "text/plain": [
       "MoveStatus(done=True, pos=Mono theta deg, elapsed=0.0, success=True, settle_time=0.0)"
      ]
     },
     "execution_count": 185,
     "metadata": {},
     "output_type": "execute_result"
    }
   ],
   "source": [
    "mono_angle_deg.move(26)"
   ]
  },
  {
   "cell_type": "code",
   "execution_count": 184,
   "metadata": {},
   "outputs": [
    {
     "data": {
      "text/plain": [
       "('499524b5-42b9-4eb4-beb3-d7b61a919edc',)"
      ]
     },
     "execution_count": 184,
     "metadata": {},
     "output_type": "execute_result"
    }
   ],
   "source": [
    "from bluesky.plans import count\n",
    "#dets = [det1, det2]   # a list of any number of detectors\n",
    "\n",
    "dets = [diode_mA]   # a list of any number of detectors\n",
    "motors = mono_angle_deg\n",
    "\n",
    "RE(count(dets))"
   ]
  },
  {
   "cell_type": "code",
   "execution_count": 96,
   "metadata": {},
   "outputs": [
    {
     "data": {
      "text/plain": [
       "('db7921ce-cc0c-4b80-8ed4-8c97add28bfb',)"
      ]
     },
     "execution_count": 96,
     "metadata": {},
     "output_type": "execute_result"
    }
   ],
   "source": [
    "# from bluesky.plans import count\n",
    "# #dets = [det1, det2]   # a list of any number of detectors\n",
    "\n",
    "# dets = [diode_mA]   # a list of any number of detectors\n",
    "# #motors_h = mono_height_mm\n",
    "\n",
    "# RE(count(dets))"
   ]
  },
  {
   "cell_type": "code",
   "execution_count": 193,
   "metadata": {},
   "outputs": [
    {
     "data": {
      "text/plain": [
       "MoveStatus(done=True, pos=Mono height mm, elapsed=0.9, success=True, settle_time=0.0)"
      ]
     },
     "execution_count": 193,
     "metadata": {},
     "output_type": "execute_result"
    }
   ],
   "source": [
    "mono_height_mm.move(41)"
   ]
  },
  {
   "cell_type": "code",
   "execution_count": 194,
   "metadata": {},
   "outputs": [
    {
     "data": {
      "text/plain": [
       "{'photodiode': {'value': -67.09, 'timestamp': 1703017143.969778}}"
      ]
     },
     "execution_count": 194,
     "metadata": {},
     "output_type": "execute_result"
    }
   ],
   "source": [
    "diode_mA.read()"
   ]
  },
  {
   "cell_type": "code",
   "execution_count": 148,
   "metadata": {},
   "outputs": [
    {
     "name": "stdout",
     "output_type": "stream",
     "text": [
      "\n",
      "\n",
      "Transient Scan ID: 13     Time: 2023-12-19 11:56:58\n",
      "Persistent Unique Scan ID: '29fbd8d5-6b40-486c-b6a9-d463a5dd0fd3'\n",
      "New stream: 'primary'\n",
      "+-----------+------------+----------------+------------+\n",
      "|   seq_num |       time | Mono height mm | photodiode |\n",
      "+-----------+------------+----------------+------------+\n",
      "|         1 | 11:56:58.6 |        40.0000 |         -4 |\n",
      "|         2 | 11:56:59.4 |        40.1500 |         -4 |\n",
      "|         3 | 11:57:00.3 |        40.3000 |         -5 |\n",
      "|         4 | 11:57:01.2 |        40.4500 |        -19 |\n",
      "|         5 | 11:57:02.0 |        40.6000 |        -40 |\n",
      "|         6 | 11:57:02.9 |        40.7500 |        -40 |\n",
      "|         7 | 11:57:03.8 |        40.9000 |        -64 |\n",
      "|         8 | 11:57:04.7 |        41.0500 |        -75 |\n",
      "|         9 | 11:57:05.5 |        41.2000 |        -76 |\n",
      "|        10 | 11:57:06.4 |        41.3500 |        -76 |\n",
      "|        11 | 11:57:07.3 |        41.5000 |        -48 |\n",
      "|        12 | 11:57:08.2 |        41.6500 |         -5 |\n",
      "|        13 | 11:57:09.0 |        41.8000 |         -1 |\n",
      "|        14 | 11:57:09.9 |        41.9500 |         -1 |\n",
      "|        15 | 11:57:10.8 |        42.1000 |         -1 |\n",
      "|        16 | 11:57:11.7 |        42.2500 |         -1 |\n",
      "|        17 | 11:57:12.5 |        42.4000 |         -1 |\n",
      "|        18 | 11:57:13.4 |        42.5500 |         -1 |\n",
      "|        19 | 11:57:14.3 |        42.7000 |         -1 |\n",
      "|        20 | 11:57:15.2 |        42.8500 |         -1 |\n",
      "|        21 | 11:57:16.0 |        43.0000 |         -1 |\n",
      "+-----------+------------+----------------+------------+\n",
      "generator scan ['29fbd8d5'] (scan num: 13)\n",
      "\n",
      "\n",
      "\n"
     ]
    },
    {
     "data": {
      "text/plain": [
       "('29fbd8d5-6b40-486c-b6a9-d463a5dd0fd3',)"
      ]
     },
     "execution_count": 148,
     "metadata": {},
     "output_type": "execute_result"
    },
    {
     "data": {
      "image/png": "[encoded data removed]",
      "text/plain": [
       "<Figure size 500x500 with 1 Axes>"
      ]
     },
     "metadata": {},
     "output_type": "display_data"
    }
   ],
   "source": [
    "from bluesky.plans import scan\n",
    "RE(scan(dets, mono_height_mm, 40, 43, 21))"
   ]
  },
  {
   "cell_type": "code",
   "execution_count": 138,
   "metadata": {},
   "outputs": [
    {
     "name": "stdout",
     "output_type": "stream",
     "text": [
      "\n",
      "\n",
      "Transient Scan ID: 7     Time: 2023-12-19 11:44:23\n",
      "Persistent Unique Scan ID: '0beb1ba8-e57d-4e8d-b787-45bf5e1c166b'\n",
      "New stream: 'primary'\n",
      "+-----------+------------+----------------+------------+\n",
      "|   seq_num |       time | Mono theta deg | photodiode |\n",
      "+-----------+------------+----------------+------------+\n",
      "|         1 | 11:44:23.9 |        25.0000 |         -1 |\n",
      "|         2 | 11:44:24.1 |        25.0200 |         -1 |\n",
      "|         3 | 11:44:24.4 |        25.0400 |         -1 |\n",
      "|         4 | 11:44:24.6 |        25.0600 |         -1 |\n",
      "|         5 | 11:44:24.8 |        25.0800 |         -1 |\n",
      "|         6 | 11:44:25.0 |        25.1000 |         -1 |\n",
      "|         7 | 11:44:25.2 |        25.1200 |         -1 |\n",
      "|         8 | 11:44:25.4 |        25.1400 |         -1 |\n",
      "|         9 | 11:44:25.7 |        25.1600 |         -1 |\n",
      "|        10 | 11:44:25.9 |        25.1800 |         -1 |\n",
      "|        11 | 11:44:26.1 |        25.2000 |         -1 |\n",
      "|        12 | 11:44:26.3 |        25.2200 |         -1 |\n",
      "|        13 | 11:44:26.5 |        25.2400 |         -1 |\n",
      "|        14 | 11:44:26.8 |        25.2600 |         -1 |\n",
      "|        15 | 11:44:27.0 |        25.2800 |         -1 |\n",
      "|        16 | 11:44:27.2 |        25.3000 |         -1 |\n",
      "|        17 | 11:44:27.4 |        25.3200 |         -1 |\n",
      "|        18 | 11:44:27.7 |        25.3400 |         -1 |\n",
      "|        19 | 11:44:27.9 |        25.3600 |         -1 |\n",
      "|        20 | 11:44:28.1 |        25.3800 |         -1 |\n",
      "|        21 | 11:44:28.3 |        25.4000 |         -1 |\n",
      "|        22 | 11:44:28.6 |        25.4200 |         -1 |\n",
      "|        23 | 11:44:28.8 |        25.4400 |         -1 |\n",
      "|        24 | 11:44:29.0 |        25.4600 |         -1 |\n",
      "|        25 | 11:44:29.2 |        25.4800 |         -1 |\n",
      "|        26 | 11:44:29.5 |        25.5000 |         -1 |\n",
      "|        27 | 11:44:29.7 |        25.5200 |         -1 |\n",
      "|        28 | 11:44:29.9 |        25.5400 |         -1 |\n",
      "|        29 | 11:44:30.1 |        25.5600 |         -1 |\n",
      "|        30 | 11:44:30.3 |        25.5800 |         -1 |\n",
      "|        31 | 11:44:30.6 |        25.6000 |         -1 |\n",
      "|        32 | 11:44:30.8 |        25.6200 |         -2 |\n",
      "|        33 | 11:44:31.0 |        25.6400 |         -2 |\n",
      "|        34 | 11:44:31.2 |        25.6600 |         -2 |\n",
      "|        35 | 11:44:31.4 |        25.6800 |         -2 |\n",
      "|        36 | 11:44:31.7 |        25.7000 |         -2 |\n",
      "|        37 | 11:44:31.9 |        25.7200 |         -2 |\n",
      "|        38 | 11:44:32.1 |        25.7400 |        -80 |\n",
      "|        39 | 11:44:32.3 |        25.7600 |        -80 |\n",
      "|        40 | 11:44:32.5 |        25.7800 |        -80 |\n",
      "|        41 | 11:44:32.8 |        25.8000 |        -80 |\n",
      "|        42 | 11:44:33.0 |        25.8200 |        -80 |\n",
      "|        43 | 11:44:33.2 |        25.8400 |        -81 |\n",
      "|        44 | 11:44:33.4 |        25.8600 |        -81 |\n",
      "|        45 | 11:44:33.6 |        25.8800 |        -81 |\n",
      "|        46 | 11:44:33.8 |        25.9000 |        -81 |\n",
      "|        47 | 11:44:34.1 |        25.9200 |        -81 |\n",
      "|        48 | 11:44:34.3 |        25.9400 |        -81 |\n",
      "|        49 | 11:44:34.5 |        25.9600 |        -81 |\n",
      "+-----------+------------+----------------+------------+\n",
      "|   seq_num |       time | Mono theta deg | photodiode |\n",
      "+-----------+------------+----------------+------------+\n",
      "|        50 | 11:44:34.7 |        25.9800 |        -81 |\n",
      "|        51 | 11:44:34.9 |        26.0000 |        -81 |\n",
      "+-----------+------------+----------------+------------+\n",
      "generator scan ['0beb1ba8'] (scan num: 7)\n",
      "\n",
      "\n",
      "\n"
     ]
    },
    {
     "data": {
      "text/plain": [
       "('0beb1ba8-e57d-4e8d-b787-45bf5e1c166b',)"
      ]
     },
     "execution_count": 138,
     "metadata": {},
     "output_type": "execute_result"
    },
    {
     "data": {
      "image/png": "[encoded data removed]",
      "text/plain": [
       "<Figure size 500x500 with 1 Axes>"
      ]
     },
     "metadata": {},
     "output_type": "display_data"
    }
   ],
   "source": [
    "from bluesky.plans import scan\n",
    "RE(scan(dets, mono_angle_deg, 25, 26, 51))"
   ]
  },
  {
   "cell_type": "code",
   "execution_count": 187,
   "metadata": {},
   "outputs": [
    {
     "name": "stdout",
     "output_type": "stream",
     "text": [
      "\n",
      "\n",
      "Transient Scan ID: 2     Time: 2023-12-19 12:11:20\n",
      "Persistent Unique Scan ID: 'b519dad2-2959-414c-a69d-c2dc30d917b1'\n",
      "New stream: 'primary'\n",
      "+-----------+------------+---------------+----------------+------------+\n",
      "|   seq_num |       time | M101 pitch mm | Mono height mm | photodiode |\n",
      "+-----------+------------+---------------+----------------+------------+\n",
      "|         1 | 12:11:26.0 |       0.00002 |        40.0000 |         -2 |\n",
      "|         2 | 12:11:27.0 |       0.00002 |        40.2000 |         -2 |\n",
      "|         3 | 12:11:28.0 |       0.00002 |        40.4000 |         -2 |\n",
      "|         4 | 12:11:29.0 |       0.00002 |        40.6000 |         -2 |\n",
      "|         5 | 12:11:30.0 |       0.00002 |        40.8000 |         -2 |\n",
      "|         6 | 12:11:31.0 |       0.00002 |        41.0000 |         -2 |\n",
      "|         7 | 12:11:31.9 |       0.00002 |        41.2000 |         -2 |\n",
      "|         8 | 12:11:33.0 |       0.00002 |        41.4000 |         -2 |\n",
      "|         9 | 12:11:34.0 |       0.00002 |        41.6000 |         -1 |\n",
      "|        10 | 12:11:35.0 |       0.00002 |        41.8000 |         -1 |\n",
      "|        11 | 12:11:36.0 |       0.00002 |        42.0000 |         -1 |\n",
      "|        12 | 12:11:39.7 |       0.04998 |        40.0000 |        -10 |\n",
      "|        13 | 12:11:40.7 |       0.04998 |        40.2000 |         -2 |\n",
      "|        14 | 12:11:41.7 |       0.04998 |        40.4000 |         -0 |\n",
      "|        15 | 12:11:42.7 |       0.04998 |        40.6000 |         -2 |\n",
      "|        16 | 12:11:43.7 |       0.04998 |        40.8000 |         -2 |\n",
      "|        17 | 12:11:44.7 |       0.04998 |        41.0000 |         -2 |\n",
      "|        18 | 12:11:45.7 |       0.04998 |        41.2000 |         -2 |\n",
      "|        19 | 12:11:46.7 |       0.04998 |        41.4000 |         -2 |\n",
      "|        20 | 12:11:47.8 |       0.04998 |        41.6000 |         -1 |\n",
      "|        21 | 12:11:48.8 |       0.04998 |        41.8000 |         -1 |\n",
      "|        22 | 12:11:49.8 |       0.04998 |        42.0000 |         -1 |\n",
      "|        23 | 12:11:53.5 |       0.09998 |        40.0000 |         -2 |\n",
      "|        24 | 12:11:54.5 |       0.09998 |        40.2000 |         -2 |\n",
      "|        25 | 12:11:55.6 |       0.09998 |        40.4000 |         -2 |\n",
      "|        26 | 12:11:56.6 |       0.09998 |        40.6000 |         -2 |\n",
      "|        27 | 12:11:57.6 |       0.09998 |        40.8000 |         -2 |\n",
      "|        28 | 12:11:58.6 |       0.09998 |        41.0000 |         -2 |\n",
      "|        29 | 12:11:59.6 |       0.09998 |        41.2000 |         -2 |\n",
      "|        30 | 12:12:00.6 |       0.09998 |        41.4000 |         -2 |\n",
      "|        31 | 12:12:01.6 |       0.09998 |        41.6000 |         -1 |\n",
      "|        32 | 12:12:02.7 |       0.09998 |        41.8000 |         -1 |\n",
      "|        33 | 12:12:03.7 |       0.09998 |        42.0000 |         -1 |\n",
      "|        34 | 12:12:07.3 |       0.14998 |        40.0000 |        -21 |\n",
      "|        35 | 12:12:08.3 |       0.14998 |        40.2000 |        -40 |\n",
      "|        36 | 12:12:09.3 |       0.14998 |        40.4000 |         -1 |\n",
      "|        37 | 12:12:10.4 |       0.14998 |        40.6000 |         -4 |\n",
      "|        38 | 12:12:11.4 |       0.14998 |        40.8000 |         -4 |\n",
      "|        39 | 12:12:12.4 |       0.14998 |        41.0000 |         -3 |\n",
      "|        40 | 12:12:13.4 |       0.14998 |        41.2000 |         -2 |\n",
      "|        41 | 12:12:14.4 |       0.14998 |        41.4000 |         -0 |\n",
      "|        42 | 12:12:15.5 |       0.14998 |        41.6000 |         -1 |\n",
      "|        43 | 12:12:16.4 |       0.14998 |        41.8000 |         -1 |\n",
      "|        44 | 12:12:17.4 |       0.14998 |        42.0000 |         -1 |\n",
      "|        45 | 12:12:21.1 |       0.19998 |        40.0000 |        -60 |\n",
      "|        46 | 12:12:22.1 |       0.19998 |        40.2000 |        -53 |\n",
      "|        47 | 12:12:23.1 |       0.19998 |        40.4000 |        -53 |\n",
      "|        48 | 12:12:24.1 |       0.19998 |        40.6000 |        -70 |\n",
      "|        49 | 12:12:25.1 |       0.19998 |        40.8000 |        -74 |\n",
      "+-----------+------------+---------------+----------------+------------+\n",
      "|   seq_num |       time | M101 pitch mm | Mono height mm | photodiode |\n",
      "+-----------+------------+---------------+----------------+------------+\n",
      "|        50 | 12:12:26.2 |       0.19998 |        41.0000 |        -52 |\n",
      "|        51 | 12:12:27.2 |       0.19998 |        41.2000 |         -1 |\n",
      "|        52 | 12:12:28.2 |       0.19998 |        41.4000 |         -2 |\n",
      "|        53 | 12:12:29.2 |       0.19998 |        41.6000 |         -2 |\n",
      "|        54 | 12:12:30.2 |       0.19998 |        41.8000 |         -1 |\n",
      "|        55 | 12:12:31.2 |       0.19998 |        42.0000 |         -1 |\n",
      "|        56 | 12:12:34.9 |       0.24998 |        40.0000 |        -36 |\n",
      "|        57 | 12:12:35.9 |       0.24998 |        40.2000 |         -3 |\n",
      "|        58 | 12:12:36.9 |       0.24998 |        40.4000 |        -12 |\n",
      "|        59 | 12:12:37.9 |       0.24998 |        40.6000 |        -31 |\n",
      "|        60 | 12:12:38.9 |       0.24998 |        40.8000 |        -41 |\n",
      "|        61 | 12:12:39.9 |       0.24998 |        41.0000 |        -41 |\n",
      "|        62 | 12:12:40.9 |       0.24998 |        41.2000 |        -57 |\n",
      "|        63 | 12:12:42.0 |       0.24998 |        41.4000 |        -68 |\n",
      "|        64 | 12:12:43.0 |       0.24998 |        41.6000 |         -4 |\n",
      "|        65 | 12:12:44.0 |       0.24998 |        41.8000 |         -2 |\n",
      "|        66 | 12:12:45.0 |       0.24998 |        42.0000 |         -1 |\n",
      "|        67 | 12:12:48.6 |       0.29998 |        40.0000 |         -2 |\n",
      "|        68 | 12:12:49.6 |       0.29998 |        40.2000 |         -2 |\n",
      "|        69 | 12:12:50.7 |       0.29998 |        40.4000 |         -2 |\n",
      "|        70 | 12:12:51.7 |       0.29998 |        40.6000 |         -2 |\n",
      "|        71 | 12:12:52.7 |       0.29998 |        40.8000 |         -3 |\n",
      "|        72 | 12:12:53.7 |       0.29998 |        41.0000 |         -7 |\n",
      "|        73 | 12:12:54.7 |       0.29998 |        41.2000 |         -6 |\n",
      "|        74 | 12:12:55.7 |       0.29998 |        41.4000 |         -2 |\n",
      "|        75 | 12:12:56.7 |       0.29998 |        41.6000 |         -2 |\n",
      "|        76 | 12:12:57.7 |       0.29998 |        41.8000 |         -1 |\n",
      "|        77 | 12:12:58.8 |       0.29998 |        42.0000 |         -1 |\n",
      "|        78 | 12:13:02.4 |       0.34998 |        40.0000 |         -0 |\n",
      "|        79 | 12:13:03.5 |       0.34998 |        40.2000 |         -2 |\n",
      "|        80 | 12:13:04.4 |       0.34998 |        40.4000 |         -2 |\n",
      "|        81 | 12:13:05.5 |       0.34998 |        40.6000 |        -10 |\n",
      "|        82 | 12:13:06.5 |       0.34998 |        40.8000 |         -2 |\n",
      "|        83 | 12:13:07.5 |       0.34998 |        41.0000 |         -2 |\n",
      "|        84 | 12:13:08.5 |       0.34998 |        41.2000 |         -2 |\n",
      "|        85 | 12:13:09.5 |       0.34998 |        41.4000 |         -0 |\n",
      "|        86 | 12:13:10.5 |       0.34998 |        41.6000 |         -1 |\n",
      "|        87 | 12:13:11.5 |       0.34998 |        41.8000 |         -1 |\n",
      "|        88 | 12:13:12.5 |       0.34998 |        42.0000 |         -1 |\n",
      "|        89 | 12:13:16.1 |       0.39998 |        40.0000 |         -2 |\n",
      "|        90 | 12:13:17.1 |       0.39998 |        40.2000 |         -2 |\n",
      "|        91 | 12:13:18.1 |       0.39998 |        40.4000 |         -2 |\n",
      "|        92 | 12:13:19.1 |       0.39998 |        40.6000 |         -2 |\n",
      "|        93 | 12:13:20.1 |       0.39998 |        40.8000 |         -2 |\n",
      "|        94 | 12:13:21.1 |       0.39998 |        41.0000 |         -0 |\n",
      "|        95 | 12:13:22.2 |       0.39998 |        41.2000 |         -2 |\n",
      "|        96 | 12:13:23.2 |       0.39998 |        41.4000 |         -1 |\n",
      "|        97 | 12:13:24.2 |       0.39998 |        41.6000 |         -1 |\n",
      "|        98 | 12:13:25.2 |       0.39998 |        41.8000 |         -1 |\n",
      "|        99 | 12:13:26.2 |       0.39998 |        42.0000 |         -1 |\n",
      "+-----------+------------+---------------+----------------+------------+\n",
      "|   seq_num |       time | M101 pitch mm | Mono height mm | photodiode |\n",
      "+-----------+------------+---------------+----------------+------------+\n",
      "|       100 | 12:13:29.8 |       0.44998 |        40.0000 |         -2 |\n",
      "|       101 | 12:13:30.8 |       0.44998 |        40.2000 |         -2 |\n",
      "|       102 | 12:13:31.9 |       0.44998 |        40.4000 |         -2 |\n",
      "|       103 | 12:13:32.9 |       0.44998 |        40.6000 |         -2 |\n",
      "|       104 | 12:13:33.9 |       0.44998 |        40.8000 |         -2 |\n",
      "|       105 | 12:13:34.9 |       0.44998 |        41.0000 |         -2 |\n",
      "|       106 | 12:13:35.9 |       0.44998 |        41.2000 |         -2 |\n",
      "|       107 | 12:13:36.9 |       0.44998 |        41.4000 |         -2 |\n",
      "|       108 | 12:13:37.9 |       0.44998 |        41.6000 |         -1 |\n",
      "|       109 | 12:13:38.9 |       0.44998 |        41.8000 |         -1 |\n",
      "|       110 | 12:13:40.0 |       0.44998 |        42.0000 |         -1 |\n",
      "|       111 | 12:13:43.6 |       0.49998 |        40.0000 |         -1 |\n",
      "|       112 | 12:13:44.6 |       0.49998 |        40.2000 |         -2 |\n",
      "|       113 | 12:13:45.7 |       0.49998 |        40.4000 |         -2 |\n",
      "|       114 | 12:13:46.7 |       0.49998 |        40.6000 |         -2 |\n",
      "|       115 | 12:13:47.7 |       0.49998 |        40.8000 |         -2 |\n",
      "|       116 | 12:13:48.7 |       0.49998 |        41.0000 |         -2 |\n",
      "|       117 | 12:13:49.8 |       0.49998 |        41.2000 |         -2 |\n",
      "|       118 | 12:13:50.8 |       0.49998 |        41.4000 |         -2 |\n",
      "|       119 | 12:13:51.8 |       0.49998 |        41.6000 |         -1 |\n",
      "|       120 | 12:13:52.8 |       0.49998 |        41.8000 |         -1 |\n",
      "|       121 | 12:13:53.8 |       0.49998 |        42.0000 |         -1 |\n",
      "+-----------+------------+---------------+----------------+------------+\n",
      "generator grid_scan ['b519dad2'] (scan num: 2)\n",
      "\n",
      "\n",
      "\n"
     ]
    },
    {
     "data": {
      "text/plain": [
       "('b519dad2-2959-414c-a69d-c2dc30d917b1',)"
      ]
     },
     "execution_count": 187,
     "metadata": {},
     "output_type": "execute_result"
    },
    {
     "data": {
      "image/png": "[encoded data removed]",
      "text/plain": [
       "<Figure size 500x500 with 2 Axes>"
      ]
     },
     "metadata": {},
     "output_type": "display_data"
    }
   ],
   "source": [
    "from bluesky.plans import grid_scan\n",
    "RE(grid_scan(dets,\n",
    "             m101_pitch_mm, 0.0, 0.5, 11,  # scan motor1 from -1.5 to 1.5 in 3 steps\n",
    "             mono_height_mm, 40, 42, 11  # scan motor2 from -0.1 to 0.1 in 5 steps\n",
    "             ))  # scan motor3 from 10 to -10 in 5 steps"
   ]
  },
  {
   "cell_type": "code",
   "execution_count": 132,
   "metadata": {},
   "outputs": [
    {
     "name": "stdout",
     "output_type": "stream",
     "text": [
      "\n",
      "\n",
      "Transient Scan ID: 3     Time: 2023-12-19 11:37:31\n",
      "Persistent Unique Scan ID: '282cb006-117e-47a2-b07c-55eeabf7c195'\n",
      "New stream: 'primary'\n",
      "+-----------+------------+---------------+------------+\n",
      "|   seq_num |       time | M101 pitch mm | photodiode |\n",
      "+-----------+------------+---------------+------------+\n",
      "|         1 | 11:37:35.2 |       0.20002 |       -559 |\n",
      "|         2 | 11:37:37.8 |       0.20498 |       -600 |\n",
      "|         3 | 11:37:40.4 |       0.20998 |       -599 |\n",
      "|         4 | 11:37:43.0 |       0.21498 |       -829 |\n",
      "|         5 | 11:37:45.6 |       0.21998 |       -925 |\n",
      "|         6 | 11:37:48.2 |       0.22498 |      -1054 |\n",
      "|         7 | 11:37:50.9 |       0.22998 |      -1125 |\n",
      "|         8 | 11:37:53.5 |       0.23498 |      -1131 |\n",
      "|         9 | 11:37:56.1 |       0.23998 |      -1129 |\n",
      "|        10 | 11:37:58.7 |       0.24498 |      -1109 |\n",
      "|        11 | 11:38:01.3 |       0.24998 |      -1069 |\n",
      "|        12 | 11:38:04.0 |       0.25498 |       -997 |\n",
      "|        13 | 11:38:06.6 |       0.25998 |       -912 |\n",
      "|        14 | 11:38:09.3 |       0.26498 |       -836 |\n",
      "|        15 | 11:38:11.9 |       0.26998 |       -834 |\n",
      "|        16 | 11:38:14.5 |       0.27498 |       -714 |\n",
      "|        17 | 11:38:17.1 |       0.27998 |       -674 |\n",
      "|        18 | 11:38:19.8 |       0.28498 |       -644 |\n",
      "|        19 | 11:38:22.4 |       0.28998 |       -618 |\n",
      "|        20 | 11:38:25.0 |       0.29498 |       -597 |\n",
      "|        21 | 11:38:27.6 |       0.29998 |       -588 |\n",
      "+-----------+------------+---------------+------------+\n",
      "generator scan ['282cb006'] (scan num: 3)\n",
      "\n",
      "\n",
      "\n"
     ]
    },
    {
     "data": {
      "text/plain": [
       "('282cb006-117e-47a2-b07c-55eeabf7c195',)"
      ]
     },
     "execution_count": 132,
     "metadata": {},
     "output_type": "execute_result"
    },
    {
     "data": {
      "image/png": "[encoded data removed]",
      "text/plain": [
       "<Figure size 500x500 with 1 Axes>"
      ]
     },
     "metadata": {},
     "output_type": "display_data"
    }
   ],
   "source": [
    "from bluesky.plans import scan\n",
    "RE(scan(dets, m101_pitch_mm, 0.2, 0.3, 21))"
   ]
  },
  {
   "cell_type": "code",
   "execution_count": 191,
   "metadata": {},
   "outputs": [
    {
     "data": {
      "text/plain": [
       "MoveStatus(done=True, pos=M101 pitch mm, elapsed=3.5, success=True, settle_time=0.0)"
      ]
     },
     "execution_count": 191,
     "metadata": {},
     "output_type": "execute_result"
    }
   ],
   "source": [
    "m101_pitch_mm.move(0.25)"
   ]
  },
  {
   "cell_type": "code",
   "execution_count": 128,
   "metadata": {},
   "outputs": [
    {
     "data": {
      "text/html": [
       "<div>\n",
       "<style scoped>\n",
       "    .dataframe tbody tr th:only-of-type {\n",
       "        vertical-align: middle;\n",
       "    }\n",
       "\n",
       "    .dataframe tbody tr th {\n",
       "        vertical-align: top;\n",
       "    }\n",
       "\n",
       "    .dataframe thead th {\n",
       "        text-align: right;\n",
       "    }\n",
       "</style>\n",
       "<table border=\"1\" class=\"dataframe\">\n",
       "  <thead>\n",
       "    <tr style=\"text-align: right;\">\n",
       "      <th></th>\n",
       "      <th>time</th>\n",
       "      <th>photodiode</th>\n",
       "      <th>M101 pitch mm</th>\n",
       "      <th>M101 pitch mm_user_setpoint</th>\n",
       "    </tr>\n",
       "    <tr>\n",
       "      <th>seq_num</th>\n",
       "      <th></th>\n",
       "      <th></th>\n",
       "      <th></th>\n",
       "      <th></th>\n",
       "    </tr>\n",
       "  </thead>\n",
       "  <tbody>\n",
       "    <tr>\n",
       "      <th>1</th>\n",
       "      <td>2023-12-19 19:33:58.300783634</td>\n",
       "      <td>-539.6</td>\n",
       "      <td>0.000020</td>\n",
       "      <td>0.00</td>\n",
       "    </tr>\n",
       "    <tr>\n",
       "      <th>2</th>\n",
       "      <td>2023-12-19 19:34:01.862716436</td>\n",
       "      <td>-538.8</td>\n",
       "      <td>0.049980</td>\n",
       "      <td>0.05</td>\n",
       "    </tr>\n",
       "    <tr>\n",
       "      <th>3</th>\n",
       "      <td>2023-12-19 19:34:05.451926708</td>\n",
       "      <td>-539.5</td>\n",
       "      <td>0.099976</td>\n",
       "      <td>0.10</td>\n",
       "    </tr>\n",
       "    <tr>\n",
       "      <th>4</th>\n",
       "      <td>2023-12-19 19:34:09.038368225</td>\n",
       "      <td>-541.7</td>\n",
       "      <td>0.149980</td>\n",
       "      <td>0.15</td>\n",
       "    </tr>\n",
       "    <tr>\n",
       "      <th>5</th>\n",
       "      <td>2023-12-19 19:34:12.626232386</td>\n",
       "      <td>-558.9</td>\n",
       "      <td>0.199978</td>\n",
       "      <td>0.20</td>\n",
       "    </tr>\n",
       "    <tr>\n",
       "      <th>6</th>\n",
       "      <td>2023-12-19 19:34:16.231402397</td>\n",
       "      <td>-1068.2</td>\n",
       "      <td>0.249982</td>\n",
       "      <td>0.25</td>\n",
       "    </tr>\n",
       "    <tr>\n",
       "      <th>7</th>\n",
       "      <td>2023-12-19 19:34:19.787846088</td>\n",
       "      <td>-589.7</td>\n",
       "      <td>0.299974</td>\n",
       "      <td>0.30</td>\n",
       "    </tr>\n",
       "    <tr>\n",
       "      <th>8</th>\n",
       "      <td>2023-12-19 19:34:23.359917402</td>\n",
       "      <td>-540.6</td>\n",
       "      <td>0.349980</td>\n",
       "      <td>0.35</td>\n",
       "    </tr>\n",
       "    <tr>\n",
       "      <th>9</th>\n",
       "      <td>2023-12-19 19:34:26.898728609</td>\n",
       "      <td>-539.2</td>\n",
       "      <td>0.399978</td>\n",
       "      <td>0.40</td>\n",
       "    </tr>\n",
       "    <tr>\n",
       "      <th>10</th>\n",
       "      <td>2023-12-19 19:34:30.424187899</td>\n",
       "      <td>-539.2</td>\n",
       "      <td>0.449978</td>\n",
       "      <td>0.45</td>\n",
       "    </tr>\n",
       "    <tr>\n",
       "      <th>11</th>\n",
       "      <td>2023-12-19 19:34:34.011747599</td>\n",
       "      <td>-540.6</td>\n",
       "      <td>0.499980</td>\n",
       "      <td>0.50</td>\n",
       "    </tr>\n",
       "    <tr>\n",
       "      <th>12</th>\n",
       "      <td>2023-12-19 19:34:37.598673820</td>\n",
       "      <td>-538.0</td>\n",
       "      <td>0.549982</td>\n",
       "      <td>0.55</td>\n",
       "    </tr>\n",
       "    <tr>\n",
       "      <th>13</th>\n",
       "      <td>2023-12-19 19:34:41.202853680</td>\n",
       "      <td>-537.2</td>\n",
       "      <td>0.599980</td>\n",
       "      <td>0.60</td>\n",
       "    </tr>\n",
       "    <tr>\n",
       "      <th>14</th>\n",
       "      <td>2023-12-19 19:34:44.742854357</td>\n",
       "      <td>-536.8</td>\n",
       "      <td>0.649980</td>\n",
       "      <td>0.65</td>\n",
       "    </tr>\n",
       "    <tr>\n",
       "      <th>15</th>\n",
       "      <td>2023-12-19 19:34:48.314146519</td>\n",
       "      <td>-536.8</td>\n",
       "      <td>0.699978</td>\n",
       "      <td>0.70</td>\n",
       "    </tr>\n",
       "    <tr>\n",
       "      <th>16</th>\n",
       "      <td>2023-12-19 19:34:51.838617802</td>\n",
       "      <td>-536.3</td>\n",
       "      <td>0.749980</td>\n",
       "      <td>0.75</td>\n",
       "    </tr>\n",
       "    <tr>\n",
       "      <th>17</th>\n",
       "      <td>2023-12-19 19:34:55.427175999</td>\n",
       "      <td>-536.3</td>\n",
       "      <td>0.799980</td>\n",
       "      <td>0.80</td>\n",
       "    </tr>\n",
       "    <tr>\n",
       "      <th>18</th>\n",
       "      <td>2023-12-19 19:34:58.998347998</td>\n",
       "      <td>-535.8</td>\n",
       "      <td>0.849978</td>\n",
       "      <td>0.85</td>\n",
       "    </tr>\n",
       "    <tr>\n",
       "      <th>19</th>\n",
       "      <td>2023-12-19 19:35:02.585757256</td>\n",
       "      <td>-535.9</td>\n",
       "      <td>0.899980</td>\n",
       "      <td>0.90</td>\n",
       "    </tr>\n",
       "    <tr>\n",
       "      <th>20</th>\n",
       "      <td>2023-12-19 19:35:06.134989977</td>\n",
       "      <td>-535.8</td>\n",
       "      <td>0.949980</td>\n",
       "      <td>0.95</td>\n",
       "    </tr>\n",
       "    <tr>\n",
       "      <th>21</th>\n",
       "      <td>2023-12-19 19:35:09.726579666</td>\n",
       "      <td>-535.8</td>\n",
       "      <td>0.999982</td>\n",
       "      <td>1.00</td>\n",
       "    </tr>\n",
       "  </tbody>\n",
       "</table>\n",
       "</div>"
      ],
      "text/plain": [
       "                                 time  photodiode  M101 pitch mm  \\\n",
       "seq_num                                                            \n",
       "1       2023-12-19 19:33:58.300783634      -539.6       0.000020   \n",
       "2       2023-12-19 19:34:01.862716436      -538.8       0.049980   \n",
       "3       2023-12-19 19:34:05.451926708      -539.5       0.099976   \n",
       "4       2023-12-19 19:34:09.038368225      -541.7       0.149980   \n",
       "5       2023-12-19 19:34:12.626232386      -558.9       0.199978   \n",
       "6       2023-12-19 19:34:16.231402397     -1068.2       0.249982   \n",
       "7       2023-12-19 19:34:19.787846088      -589.7       0.299974   \n",
       "8       2023-12-19 19:34:23.359917402      -540.6       0.349980   \n",
       "9       2023-12-19 19:34:26.898728609      -539.2       0.399978   \n",
       "10      2023-12-19 19:34:30.424187899      -539.2       0.449978   \n",
       "11      2023-12-19 19:34:34.011747599      -540.6       0.499980   \n",
       "12      2023-12-19 19:34:37.598673820      -538.0       0.549982   \n",
       "13      2023-12-19 19:34:41.202853680      -537.2       0.599980   \n",
       "14      2023-12-19 19:34:44.742854357      -536.8       0.649980   \n",
       "15      2023-12-19 19:34:48.314146519      -536.8       0.699978   \n",
       "16      2023-12-19 19:34:51.838617802      -536.3       0.749980   \n",
       "17      2023-12-19 19:34:55.427175999      -536.3       0.799980   \n",
       "18      2023-12-19 19:34:58.998347998      -535.8       0.849978   \n",
       "19      2023-12-19 19:35:02.585757256      -535.9       0.899980   \n",
       "20      2023-12-19 19:35:06.134989977      -535.8       0.949980   \n",
       "21      2023-12-19 19:35:09.726579666      -535.8       0.999982   \n",
       "\n",
       "         M101 pitch mm_user_setpoint  \n",
       "seq_num                               \n",
       "1                               0.00  \n",
       "2                               0.05  \n",
       "3                               0.10  \n",
       "4                               0.15  \n",
       "5                               0.20  \n",
       "6                               0.25  \n",
       "7                               0.30  \n",
       "8                               0.35  \n",
       "9                               0.40  \n",
       "10                              0.45  \n",
       "11                              0.50  \n",
       "12                              0.55  \n",
       "13                              0.60  \n",
       "14                              0.65  \n",
       "15                              0.70  \n",
       "16                              0.75  \n",
       "17                              0.80  \n",
       "18                              0.85  \n",
       "19                              0.90  \n",
       "20                              0.95  \n",
       "21                              1.00  "
      ]
     },
     "execution_count": 128,
     "metadata": {},
     "output_type": "execute_result"
    }
   ],
   "source": [
    "header = db[-1]\n",
    "header.table()"
   ]
  },
  {
   "cell_type": "code",
   "execution_count": 186,
   "metadata": {},
   "outputs": [
    {
     "data": {
      "text/plain": [
       "1"
      ]
     },
     "execution_count": 186,
     "metadata": {},
     "output_type": "execute_result"
    }
   ],
   "source": [
    "# some issues here -- not critical\n",
    "from bluesky.callbacks.best_effort import BestEffortCallback\n",
    "bec = BestEffortCallback()\n",
    "\n",
    "# Send all metadata/data captured to the BestEffortCallback.\n",
    "RE.subscribe(bec)\n",
    "\n",
    "# Make plots update live while scans run.\n",
    "#from bluesky.utils import install_kicker\n",
    "#install_kicker()"
   ]
  },
  {
   "cell_type": "code",
   "execution_count": 107,
   "metadata": {},
   "outputs": [],
   "source": [
    "table = db[-1].table(fill=True)"
   ]
  },
  {
   "cell_type": "code",
   "execution_count": 108,
   "metadata": {},
   "outputs": [
    {
     "data": {
      "text/plain": [
       "MoveStatus(done=True, pos=Mono theta deg, elapsed=10.3, success=True, settle_time=0.0)"
      ]
     },
     "execution_count": 108,
     "metadata": {},
     "output_type": "execute_result"
    }
   ],
   "source": [
    "mono_angle_deg.move(25)"
   ]
  },
  {
   "cell_type": "code",
   "execution_count": 109,
   "metadata": {},
   "outputs": [
    {
     "name": "stdout",
     "output_type": "stream",
     "text": [
      "\n",
      "\n",
      "Transient Scan ID: 9     Time: 2023-12-19 11:06:16\n",
      "Persistent Unique Scan ID: 'f1d17612-9608-40f6-b211-d42b806290f8'\n",
      "New stream: 'primary'\n",
      "+-----------+------------+----------------+------------+\n",
      "|   seq_num |       time | Mono theta deg | photodiode |\n",
      "+-----------+------------+----------------+------------+\n",
      "|         1 | 11:06:16.4 |        25.0000 |       -542 |\n",
      "|         2 | 11:06:16.6 |        25.0410 |       -542 |\n",
      "|         3 | 11:06:16.9 |        25.0820 |       -542 |\n",
      "|         4 | 11:06:17.1 |        25.1230 |       -542 |\n",
      "|         5 | 11:06:17.4 |        25.1630 |       -542 |\n",
      "|         6 | 11:06:17.7 |        25.2040 |       -542 |\n",
      "|         7 | 11:06:18.0 |        25.2450 |       -542 |\n",
      "|         8 | 11:06:18.2 |        25.2860 |       -542 |\n",
      "|         9 | 11:06:18.5 |        25.3270 |       -542 |\n",
      "|        10 | 11:06:18.8 |        25.3670 |       -542 |\n",
      "|        11 | 11:06:19.1 |        25.4080 |       -542 |\n",
      "|        12 | 11:06:19.4 |        25.4490 |       -543 |\n",
      "|        13 | 11:06:19.6 |        25.4900 |       -543 |\n",
      "|        14 | 11:06:19.9 |        25.5310 |       -543 |\n",
      "|        15 | 11:06:20.2 |        25.5720 |       -543 |\n",
      "|        16 | 11:06:20.5 |        25.6120 |       -543 |\n",
      "|        17 | 11:06:20.7 |        25.6530 |       -543 |\n",
      "|        18 | 11:06:21.0 |        25.6940 |       -543 |\n",
      "|        19 | 11:06:21.3 |        25.7350 |       -543 |\n",
      "|        20 | 11:06:21.5 |        25.7760 |       -543 |\n",
      "|        21 | 11:06:21.8 |        25.8160 |       -544 |\n",
      "|        22 | 11:06:22.0 |        25.8570 |       -544 |\n",
      "|        23 | 11:06:22.3 |        25.8980 |       -544 |\n",
      "|        24 | 11:06:22.5 |        25.9390 |       -544 |\n",
      "|        25 | 11:06:22.8 |        25.9800 |       -544 |\n",
      "|        26 | 11:06:23.0 |        26.0200 |       -545 |\n",
      "|        27 | 11:06:23.3 |        26.0610 |       -545 |\n",
      "|        28 | 11:06:23.5 |        26.1020 |       -545 |\n",
      "|        29 | 11:06:23.8 |        26.1430 |       -545 |\n",
      "|        30 | 11:06:24.1 |        26.1840 |       -545 |\n",
      "|        31 | 11:06:24.4 |        26.2250 |       -546 |\n",
      "|        32 | 11:06:24.7 |        26.2650 |       -546 |\n",
      "|        33 | 11:06:24.9 |        26.3060 |       -546 |\n",
      "|        34 | 11:06:25.2 |        26.3470 |       -546 |\n",
      "|        35 | 11:06:25.5 |        26.3880 |       -547 |\n",
      "|        36 | 11:06:25.8 |        26.4290 |       -547 |\n",
      "|        37 | 11:06:26.1 |        26.4700 |       -547 |\n",
      "|        38 | 11:06:26.3 |        26.5100 |       -547 |\n",
      "|        39 | 11:06:26.6 |        26.5510 |       -548 |\n",
      "|        40 | 11:06:26.9 |        26.5920 |       -548 |\n",
      "|        41 | 11:06:27.2 |        26.6330 |       -548 |\n",
      "|        42 | 11:06:27.4 |        26.6740 |       -548 |\n",
      "|        43 | 11:06:27.7 |        26.7140 |       -548 |\n",
      "|        44 | 11:06:28.0 |        26.7550 |       -549 |\n",
      "|        45 | 11:06:28.3 |        26.7960 |       -549 |\n",
      "|        46 | 11:06:28.6 |        26.8370 |       -549 |\n",
      "|        47 | 11:06:28.9 |        26.8780 |       -549 |\n",
      "|        48 | 11:06:29.2 |        26.9180 |       -550 |\n",
      "|        49 | 11:06:29.4 |        26.9590 |       -550 |\n",
      "+-----------+------------+----------------+------------+\n",
      "|   seq_num |       time | Mono theta deg | photodiode |\n",
      "+-----------+------------+----------------+------------+\n",
      "|        50 | 11:06:29.7 |        27.0000 |       -550 |\n",
      "+-----------+------------+----------------+------------+\n",
      "generator scan ['f1d17612'] (scan num: 9)\n",
      "\n",
      "\n",
      "\n"
     ]
    },
    {
     "data": {
      "text/plain": [
       "('f1d17612-9608-40f6-b211-d42b806290f8',)"
      ]
     },
     "execution_count": 109,
     "metadata": {},
     "output_type": "execute_result"
    },
    {
     "data": {
      "image/png": "[encoded data removed]",
      "text/plain": [
       "<Figure size 500x500 with 1 Axes>"
      ]
     },
     "metadata": {},
     "output_type": "display_data"
    }
   ],
   "source": [
    "from bluesky.plans import scan\n",
    "RE(scan(dets, motors, 25, 27, 50))"
   ]
  },
  {
   "cell_type": "code",
   "execution_count": 111,
   "metadata": {},
   "outputs": [
    {
     "name": "stdout",
     "output_type": "stream",
     "text": [
      "\n",
      "\n",
      "Transient Scan ID: 11     Time: 2023-12-19 11:29:40\n",
      "Persistent Unique Scan ID: 'd5cb5b16-f31c-411f-b2a7-eb560f1476a1'\n",
      "New stream: 'primary'\n",
      "+-----------+------------+----------------+------------+\n",
      "|   seq_num |       time | Mono height mm | photodiode |\n",
      "+-----------+------------+----------------+------------+\n",
      "|         1 | 11:29:43.2 |        39.0000 |       -535 |\n",
      "|         2 | 11:29:43.9 |        39.1000 |       -535 |\n",
      "A 'deferred pause' has been requested. The RunEngine will pause at the next checkpoint. To pause immediately, hit Ctrl+C again in the next 10 seconds.\n",
      "Deferred pause acknowledged. Continuing to checkpoint.\n",
      "|         3 | 11:29:44.7 |        39.2000 |       -535 |\n",
      "Pausing...\n"
     ]
    },
    {
     "ename": "RunEngineInterrupted",
     "evalue": "\nYour RunEngine is entering a paused state. These are your options for changing\nthe state of the RunEngine:\n\nRE.resume()    Resume the plan.\nRE.abort()     Perform cleanup, then kill plan. Mark exit_stats='aborted'.\nRE.stop()      Perform cleanup, then kill plan. Mark exit_status='success'.\nRE.halt()      Emergency Stop: Do not perform cleanup --- just stop.\n",
     "output_type": "error",
     "traceback": [
      "\u001b[0;31m---------------------------------------------------------------------------\u001b[0m",
      "\u001b[0;31mRunEngineInterrupted\u001b[0m                      Traceback (most recent call last)",
      "Cell \u001b[0;32mIn[111], line 2\u001b[0m\n\u001b[1;32m      1\u001b[0m \u001b[38;5;28;01mfrom\u001b[39;00m \u001b[38;5;21;01mbluesky\u001b[39;00m\u001b[38;5;21;01m.\u001b[39;00m\u001b[38;5;21;01mplans\u001b[39;00m \u001b[38;5;28;01mimport\u001b[39;00m scan\n\u001b[0;32m----> 2\u001b[0m \u001b[43mRE\u001b[49m\u001b[43m(\u001b[49m\u001b[43mscan\u001b[49m\u001b[43m(\u001b[49m\u001b[43mdets\u001b[49m\u001b[43m,\u001b[49m\u001b[43m \u001b[49m\u001b[43mmono_height_mm\u001b[49m\u001b[43m,\u001b[49m\u001b[43m \u001b[49m\u001b[38;5;241;43m39\u001b[39;49m\u001b[43m,\u001b[49m\u001b[43m \u001b[49m\u001b[38;5;241;43m41\u001b[39;49m\u001b[43m,\u001b[49m\u001b[43m \u001b[49m\u001b[38;5;241;43m21\u001b[39;49m\u001b[43m)\u001b[49m\u001b[43m)\u001b[49m\n",
      "File \u001b[0;32m~/miniconda3/envs/blop/lib/python3.9/site-packages/bluesky/run_engine.py:896\u001b[0m, in \u001b[0;36mRunEngine.__call__\u001b[0;34m(self, *args, **metadata_kw)\u001b[0m\n\u001b[1;32m    893\u001b[0m plan_return \u001b[39m=\u001b[39m \u001b[39mself\u001b[39m\u001b[39m.\u001b[39m_resume_task(init_func\u001b[39m=\u001b[39m_build_task)\n\u001b[1;32m    895\u001b[0m \u001b[39mif\u001b[39;00m \u001b[39mself\u001b[39m\u001b[39m.\u001b[39m_interrupted:\n\u001b[0;32m--> 896\u001b[0m     \u001b[39mraise\u001b[39;00m RunEngineInterrupted(\u001b[39mself\u001b[39m\u001b[39m.\u001b[39mpause_msg) \u001b[39mfrom\u001b[39;00m \u001b[39mNone\u001b[39;00m\n\u001b[1;32m    898\u001b[0m \u001b[39mif\u001b[39;00m \u001b[39mself\u001b[39m\u001b[39m.\u001b[39m_call_returns_result:\n\u001b[1;32m    899\u001b[0m     run_engine_result \u001b[39m=\u001b[39m \u001b[39mself\u001b[39m\u001b[39m.\u001b[39m_create_result(plan_return)\n",
      "\u001b[0;31mRunEngineInterrupted\u001b[0m: \nYour RunEngine is entering a paused state. These are your options for changing\nthe state of the RunEngine:\n\nRE.resume()    Resume the plan.\nRE.abort()     Perform cleanup, then kill plan. Mark exit_stats='aborted'.\nRE.stop()      Perform cleanup, then kill plan. Mark exit_status='success'.\nRE.halt()      Emergency Stop: Do not perform cleanup --- just stop.\n"
     ]
    },
    {
     "data": {
      "image/png": "[encoded data removed]",
      "text/plain": [
       "<Figure size 500x500 with 1 Axes>"
      ]
     },
     "metadata": {},
     "output_type": "display_data"
    }
   ],
   "source": [
    "from bluesky.plans import scan\n",
    "RE(scan(dets, mono_height_mm, 39, 41, 21))"
   ]
  },
  {
   "cell_type": "code",
   "execution_count": 68,
   "metadata": {},
   "outputs": [
    {
     "data": {
      "text/plain": [
       "{'photodiode': {'value': -275.63, 'timestamp': 1702948328.513851}}"
      ]
     },
     "execution_count": 68,
     "metadata": {},
     "output_type": "execute_result"
    }
   ],
   "source": [
    "diode_mA.read()"
   ]
  },
  {
   "cell_type": "code",
   "execution_count": 62,
   "metadata": {},
   "outputs": [
    {
     "data": {
      "text/plain": [
       "OrderedDict([('Mono theta deg',\n",
       "              {'value': 27.0, 'timestamp': 1702947838.469244}),\n",
       "             ('Mono theta deg_user_setpoint',\n",
       "              {'value': 27.0, 'timestamp': 1702947842.2226808})])"
      ]
     },
     "execution_count": 62,
     "metadata": {},
     "output_type": "execute_result"
    }
   ],
   "source": [
    "mono_angle_deg.read()"
   ]
  },
  {
   "cell_type": "code",
   "execution_count": 73,
   "metadata": {},
   "outputs": [
    {
     "data": {
      "text/plain": [
       "MoveStatus(done=True, pos=Mono theta deg, elapsed=7.2, success=True, settle_time=0.0)"
      ]
     },
     "execution_count": 73,
     "metadata": {},
     "output_type": "execute_result"
    }
   ],
   "source": [
    "mono_angle_deg.move(25)"
   ]
  },
  {
   "cell_type": "code",
   "execution_count": 74,
   "metadata": {},
   "outputs": [
    {
     "name": "stdout",
     "output_type": "stream",
     "text": [
      "\n",
      "\n",
      "Transient Scan ID: 34     Time: 2023-12-19 10:52:58\n",
      "Persistent Unique Scan ID: '870d308c-8eb9-44ca-8e3c-7072721f3fae'\n",
      "New stream: 'primary'\n",
      "+-----------+------------+----------------+------------+\n",
      "|   seq_num |       time | Mono theta deg | photodiode |\n",
      "+-----------+------------+----------------+------------+\n",
      "|         1 | 10:53:01.9 |        22.0000 |    -124780 |\n",
      "|         2 | 10:53:02.3 |        22.1000 |    -124770 |\n",
      "|         3 | 10:53:02.7 |        22.2000 |    -124770 |\n",
      "|         4 | 10:53:03.0 |        22.3000 |    -124770 |\n",
      "|         5 | 10:53:03.4 |        22.4000 |    -124760 |\n",
      "|         6 | 10:53:03.8 |        22.5000 |    -124760 |\n",
      "|         7 | 10:53:04.1 |        22.6000 |    -124760 |\n",
      "|         8 | 10:53:04.5 |        22.7000 |    -124760 |\n",
      "|         9 | 10:53:04.9 |        22.8000 |    -124760 |\n",
      "|        10 | 10:53:05.2 |        22.9000 |    -124760 |\n",
      "|        11 | 10:53:05.6 |        23.0000 |    -124790 |\n",
      "|        12 | 10:53:06.0 |        23.1000 |    -124790 |\n",
      "|        13 | 10:53:06.4 |        23.2000 |    -124790 |\n",
      "|        14 | 10:53:06.7 |        23.3000 |    -124790 |\n",
      "|        15 | 10:53:07.1 |        23.4000 |    -124790 |\n",
      "|        16 | 10:53:07.5 |        23.5000 |    -124790 |\n",
      "|        17 | 10:53:07.9 |        23.6000 |    -124790 |\n",
      "|        18 | 10:53:08.2 |        23.7000 |    -124890 |\n",
      "|        19 | 10:53:08.6 |        23.8000 |    -124890 |\n",
      "|        20 | 10:53:09.0 |        23.9000 |    -124890 |\n",
      "|        21 | 10:53:09.4 |        24.0000 |    -124890 |\n",
      "|        22 | 10:53:09.8 |        24.1000 |    -124890 |\n",
      "|        23 | 10:53:10.1 |        24.2000 |    -124890 |\n",
      "|        24 | 10:53:10.5 |        24.3000 |    -124890 |\n",
      "|        25 | 10:53:10.9 |        24.4000 |    -124890 |\n",
      "|        26 | 10:53:11.3 |        24.5000 |    -124890 |\n",
      "|        27 | 10:53:11.6 |        24.6000 |    -124880 |\n",
      "|        28 | 10:53:12.0 |        24.7000 |    -124880 |\n",
      "|        29 | 10:53:12.4 |        24.8000 |    -124880 |\n",
      "|        30 | 10:53:12.8 |        24.9000 |    -124860 |\n",
      "|        31 | 10:53:13.1 |        25.0000 |    -124860 |\n",
      "|        32 | 10:53:13.5 |        25.1000 |    -124860 |\n",
      "|        33 | 10:53:13.9 |        25.2000 |    -124860 |\n",
      "|        34 | 10:53:14.3 |        25.3000 |    -124860 |\n",
      "|        35 | 10:53:14.7 |        25.4000 |    -124860 |\n",
      "|        36 | 10:53:15.0 |        25.5000 |    -124860 |\n",
      "|        37 | 10:53:15.4 |        25.6000 |    -124870 |\n",
      "|        38 | 10:53:15.8 |        25.7000 |    -124870 |\n",
      "|        39 | 10:53:16.2 |        25.8000 |    -124870 |\n",
      "|        40 | 10:53:16.6 |        25.9000 |    -124610 |\n",
      "|        41 | 10:53:16.9 |        26.0000 |    -124610 |\n",
      "|        42 | 10:53:17.3 |        26.1000 |    -124610 |\n",
      "|        43 | 10:53:17.7 |        26.2000 |    -123910 |\n",
      "|        44 | 10:53:18.1 |        26.3000 |    -123910 |\n",
      "|        45 | 10:53:18.4 |        26.4000 |    -123910 |\n",
      "|        46 | 10:53:18.8 |        26.5000 |    -123910 |\n",
      "|        47 | 10:53:19.2 |        26.6000 |    -123910 |\n",
      "|        48 | 10:53:19.6 |        26.7000 |    -123910 |\n",
      "|        49 | 10:53:19.9 |        26.8000 |    -119130 |\n",
      "+-----------+------------+----------------+------------+\n",
      "|   seq_num |       time | Mono theta deg | photodiode |\n",
      "+-----------+------------+----------------+------------+\n",
      "|        50 | 10:53:20.3 |        26.9000 |    -119130 |\n",
      "|        51 | 10:53:20.7 |        27.0000 |    -119130 |\n",
      "|        52 | 10:53:21.0 |        27.1000 |    -117090 |\n",
      "|        53 | 10:53:21.4 |        27.2000 |    -117090 |\n",
      "|        54 | 10:53:21.8 |        27.3000 |    -117090 |\n",
      "|        55 | 10:53:22.2 |        27.4000 |    -115090 |\n",
      "|        56 | 10:53:22.5 |        27.5000 |    -115090 |\n",
      "|        57 | 10:53:22.9 |        27.6000 |    -115090 |\n",
      "|        58 | 10:53:23.3 |        27.7000 |    -115090 |\n",
      "|        59 | 10:53:23.7 |        27.8000 |    -112950 |\n",
      "|        60 | 10:53:24.0 |        27.9000 |    -112950 |\n",
      "|        61 | 10:53:24.4 |        28.0000 |    -112950 |\n",
      "A 'deferred pause' has been requested. The RunEngine will pause at the next checkpoint. To pause immediately, hit Ctrl+C again in the next 10 seconds.\n",
      "Deferred pause acknowledged. Continuing to checkpoint.\n",
      "|        62 | 10:53:24.7 |        28.1000 |    -110800 |\n",
      "Pausing...\n"
     ]
    },
    {
     "ename": "RunEngineInterrupted",
     "evalue": "\nYour RunEngine is entering a paused state. These are your options for changing\nthe state of the RunEngine:\n\nRE.resume()    Resume the plan.\nRE.abort()     Perform cleanup, then kill plan. Mark exit_stats='aborted'.\nRE.stop()      Perform cleanup, then kill plan. Mark exit_status='success'.\nRE.halt()      Emergency Stop: Do not perform cleanup --- just stop.\n",
     "output_type": "error",
     "traceback": [
      "\u001b[0;31m---------------------------------------------------------------------------\u001b[0m",
      "\u001b[0;31mRunEngineInterrupted\u001b[0m                      Traceback (most recent call last)",
      "Cell \u001b[0;32mIn[74], line 1\u001b[0m\n\u001b[0;32m----> 1\u001b[0m \u001b[43mRE\u001b[49m\u001b[43m(\u001b[49m\u001b[43mscan\u001b[49m\u001b[43m(\u001b[49m\u001b[43mdets\u001b[49m\u001b[43m,\u001b[49m\u001b[43m \u001b[49m\u001b[43mmotors\u001b[49m\u001b[43m,\u001b[49m\u001b[43m \u001b[49m\u001b[38;5;241;43m22\u001b[39;49m\u001b[43m,\u001b[49m\u001b[43m \u001b[49m\u001b[38;5;241;43m32\u001b[39;49m\u001b[43m,\u001b[49m\u001b[43m \u001b[49m\u001b[38;5;241;43m101\u001b[39;49m\u001b[43m)\u001b[49m\u001b[43m)\u001b[49m\n",
      "File \u001b[0;32m~/miniconda3/envs/blop/lib/python3.9/site-packages/bluesky/run_engine.py:896\u001b[0m, in \u001b[0;36mRunEngine.__call__\u001b[0;34m(self, *args, **metadata_kw)\u001b[0m\n\u001b[1;32m    893\u001b[0m plan_return \u001b[39m=\u001b[39m \u001b[39mself\u001b[39m\u001b[39m.\u001b[39m_resume_task(init_func\u001b[39m=\u001b[39m_build_task)\n\u001b[1;32m    895\u001b[0m \u001b[39mif\u001b[39;00m \u001b[39mself\u001b[39m\u001b[39m.\u001b[39m_interrupted:\n\u001b[0;32m--> 896\u001b[0m     \u001b[39mraise\u001b[39;00m RunEngineInterrupted(\u001b[39mself\u001b[39m\u001b[39m.\u001b[39mpause_msg) \u001b[39mfrom\u001b[39;00m \u001b[39mNone\u001b[39;00m\n\u001b[1;32m    898\u001b[0m \u001b[39mif\u001b[39;00m \u001b[39mself\u001b[39m\u001b[39m.\u001b[39m_call_returns_result:\n\u001b[1;32m    899\u001b[0m     run_engine_result \u001b[39m=\u001b[39m \u001b[39mself\u001b[39m\u001b[39m.\u001b[39m_create_result(plan_return)\n",
      "\u001b[0;31mRunEngineInterrupted\u001b[0m: \nYour RunEngine is entering a paused state. These are your options for changing\nthe state of the RunEngine:\n\nRE.resume()    Resume the plan.\nRE.abort()     Perform cleanup, then kill plan. Mark exit_stats='aborted'.\nRE.stop()      Perform cleanup, then kill plan. Mark exit_status='success'.\nRE.halt()      Emergency Stop: Do not perform cleanup --- just stop.\n"
     ]
    },
    {
     "data": {
      "image/png": "[encoded data removed]",
      "text/plain": [
       "<Figure size 500x500 with 1 Axes>"
      ]
     },
     "metadata": {},
     "output_type": "display_data"
    }
   ],
   "source": [
    "RE(scan(dets, motors, 22, 32, 101))"
   ]
  },
  {
   "cell_type": "code",
   "execution_count": null,
   "metadata": {},
   "outputs": [],
   "source": []
  }
 ],
 "metadata": {
  "kernelspec": {
   "display_name": "Python 3.9.16 ('blop')",
   "language": "python",
   "name": "python3"
  },
  "language_info": {
   "codemirror_mode": {
    "name": "ipython",
    "version": 3
   },
   "file_extension": ".py",
   "mimetype": "text/x-python",
   "name": "python",
   "nbconvert_exporter": "python",
   "pygments_lexer": "ipython3",
   "version": "3.9.16"
  },
  "orig_nbformat": 4,
  "vscode": {
   "interpreter": {
    "hash": "09f2f5ddae0e8299b88e9233674f846101eb93a9f60a84f324d1fc02577b70ef"
   }
  }
 },
 "nbformat": 4,
 "nbformat_minor": 2
}

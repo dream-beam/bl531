{
 "cells": [
  {
   "cell_type": "markdown",
   "metadata": {},
   "source": [
    "# BL531 tender grating efficiency measurements\n",
    "Xiaoya Chong, AW, SP, VV\n",
    "\n",
    "4 June, 2024"
   ]
  },
  {
   "cell_type": "code",
   "execution_count": null,
   "metadata": {},
   "outputs": [],
   "source": [
    "import epics\n",
    "import numpy as np\n",
    "from PIL import Image\n",
    "import matplotlib.pyplot as plt\n",
    "from time import sleep as time_sleep\n",
    "from tqdm import tqdm\n",
    "import socket\n"
   ]
  },
  {
   "cell_type": "markdown",
   "metadata": {},
   "source": [
    "## Define mono calibration and routine"
   ]
  },
  {
   "cell_type": "code",
   "execution_count": null,
   "metadata": {},
   "outputs": [],
   "source": [
    "# --------------------------------------------------------------------------------------------------------------------------------------------------------------\n",
    "\n",
    "# define mono angle to energy conversion\n",
    "\n",
    "#physical constants\n",
    "h_m2kgps = 6.6261e-34\n",
    "c_mps    = 299792458   \n",
    "e_eV     = 6.2415e+18\n",
    "# Silicon spacing (for Bragg condition)\n",
    "Si_m = 5.43E-10\n",
    "a_Si111_m = Si_m/np.sqrt(1^2+1^2+1^2)\n",
    "# Monochromotor offset\n",
    "mono_offset_deg = 12.787\n",
    "#Wavelength from energy\n",
    "lambda_m = lambda E_eV : h_m2kgps*c_mps*e_eV/E_eV\n",
    "#Bragg angle from Wavelength\n",
    "bragg_deg = lambda E_eV: np.arcsin(lambda_m(E_eV)/(2*a_Si111_m))*180/np.pi\n",
    "# Mono angle from Bragg angle\n",
    "mono_deg = lambda E_eV: bragg_deg(E_eV)+mono_offset_deg\n",
    "\n",
    "# inverse function to go from mono angle to eV\n",
    "energy_eV = lambda mono_deg_input: (h_m2kgps*c_mps*e_eV)/((2 * a_Si111_m) * np.sin((np.pi/180)*(mono_deg_input - mono_offset_deg)))\n",
    "\n"
   ]
  },
  {
   "cell_type": "markdown",
   "metadata": {},
   "source": [
    "## Define connection to rotary stage"
   ]
  },
  {
   "cell_type": "code",
   "execution_count": null,
   "metadata": {},
   "outputs": [],
   "source": [
    "# settings: the host and port of the Windows PC\n",
    "host = '131.243.80.251'  # Standard loopback interface address         \n",
    "port = 6000        # Port to listen on (non-privileged ports are > 1023)\n",
    "\n",
    "# send a message (tpye: bytes) to the Windows PC \n",
    "def apt_send(msg_str):\n",
    "    # connect to the server\n",
    "    client = socket.socket(socket.AF_INET, socket.SOCK_STREAM)\n",
    "    client.connect((host, port))\n",
    "\n",
    "    # recieve a message from the server to see if the connection is successful\n",
    "    msg_from_server = client.recv(4096)\n",
    "    print (msg_from_server)\n",
    "\n",
    "    # send the message to the server\n",
    "    client.send(msg_str)\n",
    "\n",
    "    msg_from_server2 = client.recv(4096)\n",
    "    print(msg_from_server2)\n",
    "\n",
    "    # close the connection\n",
    "    client.close()\n",
    "    return msg_from_server2\n",
    "\n",
    "\n",
    "# transfer the position value from int to bytes and call apt_send() \n",
    "def apt_move(position_au):\n",
    "    msg_str = str(position_au).encode(\"utf-8\")\n",
    "    apt_send(msg_str)\n",
    "\n",
    "# send \"close\" to the Windows PC to close the server\n",
    "def apt_stop():\n",
    "    apt_send(b\"close\")"
   ]
  },
  {
   "cell_type": "code",
   "execution_count": null,
   "metadata": {},
   "outputs": [
    {
     "name": "stdout",
     "output_type": "stream",
     "text": [
      "b'Server Message 1: Recieved the position request from the client ...'\n",
      "b'Server Message 2: The position is set to 0'\n"
     ]
    }
   ],
   "source": [
    "# define the postion value, call apt_move() to send the message to the server\n",
    "position_au = 0\n",
    "apt_move(position_au)"
   ]
  },
  {
   "cell_type": "code",
   "execution_count": null,
   "metadata": {},
   "outputs": [],
   "source": [
    "# close the server\n",
    "\n",
    "#ARE YOU SURE???????\n",
    "apt_stop()"
   ]
  },
  {
   "cell_type": "markdown",
   "metadata": {},
   "source": [
    "## Move the monochromator with EPICS"
   ]
  },
  {
   "cell_type": "code",
   "execution_count": null,
   "metadata": {},
   "outputs": [
    {
     "data": {
      "text/plain": [
       "27.097538443499513"
      ]
     },
     "execution_count": 48,
     "metadata": {},
     "output_type": "execute_result"
    }
   ],
   "source": [
    "# set the mono angle\n",
    "epics.caput('bl531_xps1:mono_angle_deg', mono_deg(8000))\n",
    "\n",
    "time_sleep(2)\n",
    "\n",
    "# print mono angle for reference\n",
    "epics.caget('bl531_xps1:mono_angle_deg')\n"
   ]
  },
  {
   "cell_type": "markdown",
   "metadata": {},
   "source": [
    "## Save and read a Pilatus image"
   ]
  },
  {
   "cell_type": "code",
   "execution_count": null,
   "metadata": {},
   "outputs": [
    {
     "data": {
      "image/png": "[encoded data removed]",
      "text/plain": [
       "<Figure size 600x600 with 1 Axes>"
      ]
     },
     "metadata": {},
     "output_type": "display_data"
    }
   ],
   "source": [
    "filepath = '/mnt/data531/WAXS531_016.tif'\n",
    "\n",
    "\n",
    "# read the image\n",
    "im_tiff = Image.open(filepath)\n",
    "# make the image a numpy array so that we can process it\n",
    "im_np = np.squeeze(np.array(im_tiff.getdata()).reshape(im_tiff.size[1], im_tiff.size[0], 1))\n",
    "\n",
    "# dealing with dyanmic range\n",
    "#im_np[np.where(im_np>100000.0)] =0\n",
    "\n",
    "dx_m = 172e-6\n",
    "Nx_px = 487\n",
    "Ny_px = 619\n",
    "Dx_m = Nx_px*dx_m\n",
    "Dy_m = Ny_px*dx_m\n",
    "\n",
    "fig=plt.figure(figsize=(5, 5), dpi= 120, facecolor='w', edgecolor='k')\n",
    "extent = (-Dx_m/2 * 1e3, +Dx_m/2 * 1e3, -Dy_m/2 * 1e3, +Dy_m/2 * 1e3)\n",
    "\n",
    "#mask = im_np > np.max(im_np)\n",
    "#im_np[mask]=0\n",
    "\n",
    "plt.imshow(im_np, extent=extent, cmap = 'inferno', norm=LogNorm())\n",
    "plt.xlabel('horizontal Position [mm]')\n",
    "plt.ylabel('vertical Positon [mm]')\n",
    "plt.show()"
   ]
  },
  {
   "cell_type": "markdown",
   "metadata": {},
   "source": [
    "## Energy scan"
   ]
  },
  {
   "cell_type": "code",
   "execution_count": null,
   "metadata": {},
   "outputs": [
    {
     "name": "stderr",
     "output_type": "stream",
     "text": [
      "100%|██████████| 9/9 [01:03<00:00,  7.01s/it]\n"
     ]
    }
   ],
   "source": [
    "# # saxs energy scan\n",
    "\n",
    "# Es_eV = np.linspace(6000, 10000, 9)        # same energy range/resolution as nexafs\n",
    "\n",
    "\n",
    "# epics.caput('bl531_xps1:mono_angle_deg',mono_deg(Es_eV[0]))\n",
    "# time_sleep(5)\n",
    "# filenames = ()\n",
    "# for i_e in tqdm(range(len(Es_eV))):\n",
    "#     mono_angle_deg = mono_deg(Es_eV[i_e])\n",
    "    \n",
    "#     epics.caput('bl531_xps1:mono_angle_deg',mono_angle_deg)\n",
    "#     time_sleep(5)\n",
    "\n",
    "\n",
    "#     aqtime_s = 2\n",
    "#     # epics.caput('13PIL1:cam1:AcquireTime', 1)\n",
    "#     #epics.caput('13PIL1:cam1:AcquirePeriod', 1)\n",
    "#     #epics.caput('13PIL1:cam1:Acquire',1)\n",
    "#     time_sleep(5)\n",
    "\n",
    "#     # last_filename_ascii = epics.caget('13PIL1:cam1:FullFileName_RBV')\n",
    "#     # last_filename = bytes(last_filename_ascii).decode()\n",
    "#     # filenames += (last_filename,)"
   ]
  },
  {
   "cell_type": "code",
   "execution_count": null,
   "metadata": {},
   "outputs": [
    {
     "name": "stdout",
     "output_type": "stream",
     "text": [
      "b'Server Message 1: Recieved the position request from the client ...'\n",
      "b'Server Message 2: The position is set to 87.0'\n",
      "b'Server Message 1: Recieved the position request from the client ...'\n",
      "b'Server Message 2: The position is set to 87.05'\n",
      "b'Server Message 1: Recieved the position request from the client ...'\n",
      "b'Server Message 2: The position is set to 87.1'\n",
      "b'Server Message 1: Recieved the position request from the client ...'\n",
      "b'Server Message 2: The position is set to 87.15'\n",
      "b'Server Message 1: Recieved the position request from the client ...'\n",
      "b'Server Message 2: The position is set to 87.2'\n",
      "b'Server Message 1: Recieved the position request from the client ...'\n",
      "b'Server Message 2: The position is set to 87.25'\n",
      "b'Server Message 1: Recieved the position request from the client ...'\n",
      "b'Server Message 2: The position is set to 87.3'\n",
      "b'Server Message 1: Recieved the position request from the client ...'\n",
      "b'Server Message 2: The position is set to 87.35'\n",
      "b'Server Message 1: Recieved the position request from the client ...'\n",
      "b'Server Message 2: The position is set to 87.4'\n",
      "b'Server Message 1: Recieved the position request from the client ...'\n",
      "b'Server Message 2: The position is set to 87.45'\n",
      "b'Server Message 1: Recieved the position request from the client ...'\n",
      "b'Server Message 2: The position is set to 87.5'\n",
      "b'Server Message 1: Recieved the position request from the client ...'\n",
      "b'Server Message 2: The position is set to 87.55'\n",
      "b'Server Message 1: Recieved the position request from the client ...'\n",
      "b'Server Message 2: The position is set to 87.6'\n",
      "b'Server Message 1: Recieved the position request from the client ...'\n",
      "b'Server Message 2: The position is set to 87.65'\n",
      "b'Server Message 1: Recieved the position request from the client ...'\n",
      "b'Server Message 2: The position is set to 87.7'\n",
      "b'Server Message 1: Recieved the position request from the client ...'\n",
      "b'Server Message 2: The position is set to 87.75'\n",
      "b'Server Message 1: Recieved the position request from the client ...'\n",
      "b'Server Message 2: The position is set to 87.8'\n",
      "b'Server Message 1: Recieved the position request from the client ...'\n",
      "b'Server Message 2: The position is set to 87.85'\n",
      "b'Server Message 1: Recieved the position request from the client ...'\n",
      "b'Server Message 2: The position is set to 87.9'\n",
      "b'Server Message 1: Recieved the position request from the client ...'\n",
      "b'Server Message 2: The position is set to 87.95'\n",
      "b'Server Message 1: Recieved the position request from the client ...'\n",
      "b'Server Message 2: The position is set to 88.0'\n",
      "b'Server Message 1: Recieved the position request from the client ...'\n",
      "b'Server Message 2: The position is set to 88.05'\n",
      "b'Server Message 1: Recieved the position request from the client ...'\n",
      "b'Server Message 2: The position is set to 88.1'\n",
      "b'Server Message 1: Recieved the position request from the client ...'\n",
      "b'Server Message 2: The position is set to 88.15'\n",
      "b'Server Message 1: Recieved the position request from the client ...'\n",
      "b'Server Message 2: The position is set to 88.2'\n",
      "b'Server Message 1: Recieved the position request from the client ...'\n",
      "b'Server Message 2: The position is set to 88.25'\n",
      "b'Server Message 1: Recieved the position request from the client ...'\n",
      "b'Server Message 2: The position is set to 88.3'\n",
      "b'Server Message 1: Recieved the position request from the client ...'\n",
      "b'Server Message 2: The position is set to 88.35'\n",
      "b'Server Message 1: Recieved the position request from the client ...'\n",
      "b'Server Message 2: The position is set to 88.4'\n",
      "b'Server Message 1: Recieved the position request from the client ...'\n",
      "b'Server Message 2: The position is set to 88.45'\n",
      "b'Server Message 1: Recieved the position request from the client ...'\n",
      "b'Server Message 2: The position is set to 88.5'\n"
     ]
    }
   ],
   "source": [
    "## Energy scan nested into angle scan\n",
    "\n",
    "# ga_deg = np.linspace(87, 88.5, 31  )#        grazing angles\n",
    "# Es_eV = np.linspace(6000, 10000, 9)        # same energy range/resolution as nexafs\n",
    "\n",
    "\n",
    "# filenames = ()\n",
    "# for i_g in range(len(ga_deg)):\n",
    "#     position_au = ga_deg[i_g]\n",
    "#     apt_move(position_au)\n",
    "#     time_sleep(2)\n",
    "#     #break\n",
    "#     epics.caput('bl531_xps1:mono_angle_deg',mono_deg(Es_eV[0]))\n",
    "#     time_sleep(5)\n",
    "#     for i_e in range(len(Es_eV)): \n",
    "        \n",
    "#         mono_angle_deg = mono_deg(Es_eV[i_e])        \n",
    "#         epics.caput('bl531_xps1:mono_angle_deg',mono_angle_deg)\n",
    "#         time_sleep(10)\n",
    "\n",
    "#         series_nb = \"%03.0f\" % (i_g+1)\n",
    "#         image_nb = \"%03.0f\"  % (i_e+1)\n",
    "\n",
    "#         current_filename = \"20240604_tender_grating_\" + series_nb + \"_\" +image_nb\n",
    "#         epics.caput('13PIL1:cam1:FileName',current_filename)\n",
    "#         epics.caput('13PIL1:cam1:Acquire',1)"
   ]
  },
  {
   "cell_type": "markdown",
   "metadata": {},
   "source": [
    "## Angle and energy scan"
   ]
  },
  {
   "cell_type": "code",
   "execution_count": null,
   "metadata": {},
   "outputs": [
    {
     "name": "stdout",
     "output_type": "stream",
     "text": [
      "b'Server Message 1: Recieved the position request successfully from the client'\n",
      "b'Server Message 2: The position is set to 87.0'\n",
      "b'Server Message 1: Recieved the position request successfully from the client'\n",
      "b'Server Message 2: The position is set to 87.025'\n",
      "b'Server Message 1: Recieved the position request successfully from the client'\n",
      "b'Server Message 2: The position is set to 87.05'\n",
      "b'Server Message 1: Recieved the position request successfully from the client'\n",
      "b'Server Message 2: The position is set to 87.075'\n",
      "b'Server Message 1: Recieved the position request successfully from the client'\n",
      "b'Server Message 2: The position is set to 87.1'\n",
      "b'Server Message 1: Recieved the position request successfully from the client'\n",
      "b'Server Message 2: The position is set to 87.125'\n",
      "b'Server Message 1: Recieved the position request successfully from the client'\n",
      "b'Server Message 2: The position is set to 87.15'\n",
      "b'Server Message 1: Recieved the position request successfully from the client'\n",
      "b'Server Message 2: The position is set to 87.175'\n",
      "b'Server Message 1: Recieved the position request successfully from the client'\n",
      "b'Server Message 2: The position is set to 87.2'\n",
      "b'Server Message 1: Recieved the position request successfully from the client'\n",
      "b'Server Message 2: The position is set to 87.225'\n",
      "b'Server Message 1: Recieved the position request successfully from the client'\n",
      "b'Server Message 2: The position is set to 87.25'\n",
      "b'Server Message 1: Recieved the position request successfully from the client'\n",
      "b'Server Message 2: The position is set to 87.275'\n",
      "b'Server Message 1: Recieved the position request successfully from the client'\n",
      "b'Server Message 2: The position is set to 87.3'\n",
      "b'Server Message 1: Recieved the position request successfully from the client'\n",
      "b'Server Message 2: The position is set to 87.325'\n",
      "b'Server Message 1: Recieved the position request successfully from the client'\n",
      "b'Server Message 2: The position is set to 87.35'\n",
      "b'Server Message 1: Recieved the position request successfully from the client'\n",
      "b'Server Message 2: The position is set to 87.375'\n",
      "b'Server Message 1: Recieved the position request successfully from the client'\n",
      "b'Server Message 2: The position is set to 87.4'\n",
      "b'Server Message 1: Recieved the position request successfully from the client'\n",
      "b'Server Message 2: The position is set to 87.425'\n",
      "b'Server Message 1: Recieved the position request successfully from the client'\n",
      "b'Server Message 2: The position is set to 87.45'\n",
      "b'Server Message 1: Recieved the position request successfully from the client'\n",
      "b'Server Message 2: The position is set to 87.475'\n",
      "b'Server Message 1: Recieved the position request successfully from the client'\n",
      "b'Server Message 2: The position is set to 87.5'\n",
      "b'Server Message 1: Recieved the position request successfully from the client'\n",
      "b'Server Message 2: The position is set to 87.525'\n",
      "b'Server Message 1: Recieved the position request successfully from the client'\n",
      "b'Server Message 2: The position is set to 87.55'\n",
      "b'Server Message 1: Recieved the position request successfully from the client'\n",
      "b'Server Message 2: The position is set to 87.575'\n",
      "b'Server Message 1: Recieved the position request successfully from the client'\n",
      "b'Server Message 2: The position is set to 87.6'\n",
      "b'Server Message 1: Recieved the position request successfully from the client'\n",
      "b'Server Message 2: The position is set to 87.625'\n",
      "b'Server Message 1: Recieved the position request successfully from the client'\n",
      "b'Server Message 2: The position is set to 87.65'\n",
      "b'Server Message 1: Recieved the position request successfully from the client'\n",
      "b'Server Message 2: The position is set to 87.675'\n",
      "b'Server Message 1: Recieved the position request successfully from the client'\n",
      "b'Server Message 2: The position is set to 87.7'\n",
      "b'Server Message 1: Recieved the position request successfully from the client'\n",
      "b'Server Message 2: The position is set to 87.725'\n",
      "b'Server Message 1: Recieved the position request successfully from the client'\n",
      "b'Server Message 2: The position is set to 87.75'\n",
      "b'Server Message 1: Recieved the position request successfully from the client'\n",
      "b'Server Message 2: The position is set to 87.775'\n",
      "b'Server Message 1: Recieved the position request successfully from the client'\n",
      "b'Server Message 2: The position is set to 87.8'\n",
      "b'Server Message 1: Recieved the position request successfully from the client'\n",
      "b'Server Message 2: The position is set to 87.825'\n",
      "b'Server Message 1: Recieved the position request successfully from the client'\n",
      "b'Server Message 2: The position is set to 87.85'\n",
      "b'Server Message 1: Recieved the position request successfully from the client'\n",
      "b'Server Message 2: The position is set to 87.875'\n",
      "b'Server Message 1: Recieved the position request successfully from the client'\n",
      "b'Server Message 2: The position is set to 87.9'\n",
      "b'Server Message 1: Recieved the position request successfully from the client'\n",
      "b'Server Message 2: The position is set to 87.925'\n",
      "b'Server Message 1: Recieved the position request successfully from the client'\n",
      "b'Server Message 2: The position is set to 87.95'\n",
      "b'Server Message 1: Recieved the position request successfully from the client'\n",
      "b'Server Message 2: The position is set to 87.975'\n",
      "b'Server Message 1: Recieved the position request successfully from the client'\n",
      "b'Server Message 2: The position is set to 88.0'\n",
      "b'Server Message 1: Recieved the position request successfully from the client'\n",
      "b'Server Message 2: The position is set to 88.025'\n",
      "b'Server Message 1: Recieved the position request successfully from the client'\n",
      "b'Server Message 2: The position is set to 88.05'\n",
      "b'Server Message 1: Recieved the position request successfully from the client'\n",
      "b'Server Message 2: The position is set to 88.075'\n",
      "b'Server Message 1: Recieved the position request successfully from the client'\n",
      "b'Server Message 2: The position is set to 88.1'\n",
      "b'Server Message 1: Recieved the position request successfully from the client'\n",
      "b'Server Message 2: The position is set to 88.125'\n",
      "b'Server Message 1: Recieved the position request successfully from the client'\n",
      "b'Server Message 2: The position is set to 88.15'\n",
      "b'Server Message 1: Recieved the position request successfully from the client'\n",
      "b'Server Message 2: The position is set to 88.175'\n",
      "b'Server Message 1: Recieved the position request successfully from the client'\n",
      "b'Server Message 2: The position is set to 88.2'\n",
      "b'Server Message 1: Recieved the position request successfully from the client'\n",
      "b'Server Message 2: The position is set to 88.225'\n",
      "b'Server Message 1: Recieved the position request successfully from the client'\n",
      "b'Server Message 2: The position is set to 88.25'\n",
      "b'Server Message 1: Recieved the position request successfully from the client'\n",
      "b'Server Message 2: The position is set to 88.275'\n",
      "b'Server Message 1: Recieved the position request successfully from the client'\n",
      "b'Server Message 2: The position is set to 88.3'\n",
      "b'Server Message 1: Recieved the position request successfully from the client'\n",
      "b'Server Message 2: The position is set to 88.325'\n",
      "b'Server Message 1: Recieved the position request successfully from the client'\n",
      "b'Server Message 2: The position is set to 88.35'\n",
      "b'Server Message 1: Recieved the position request successfully from the client'\n",
      "b'Server Message 2: The position is set to 88.375'\n",
      "b'Server Message 1: Recieved the position request successfully from the client'\n",
      "b'Server Message 2: The position is set to 88.4'\n",
      "b'Server Message 1: Recieved the position request successfully from the client'\n",
      "b'Server Message 2: The position is set to 88.425'\n",
      "b'Server Message 1: Recieved the position request successfully from the client'\n",
      "b'Server Message 2: The position is set to 88.45'\n",
      "b'Server Message 1: Recieved the position request successfully from the client'\n",
      "b'Server Message 2: The position is set to 88.475'\n",
      "b'Server Message 1: Recieved the position request successfully from the client'\n",
      "b'Server Message 2: The position is set to 88.5'\n"
     ]
    }
   ],
   "source": [
    "## Energy scan nested into angle scan\n",
    "\n",
    "ga_deg = np.linspace(87, 88.5, 61)#        grazing angles\n",
    "Es_eV = np.linspace(6000, 10000, 9)        # same energy range/resolution as nexafs\n",
    "\n",
    "\n",
    "filenames = ()\n",
    "for i_g in range(len(ga_deg)):\n",
    "    position_au = ga_deg[i_g]\n",
    "    apt_move(position_au)\n",
    "    epics.caput('bl531_xps1:mono_angle_deg',mono_deg(Es_eV[0]))\n",
    "    time_sleep(5)\n",
    "    for i_e in range(len(Es_eV)): \n",
    "        \n",
    "        mono_angle_deg = mono_deg(Es_eV[i_e])        \n",
    "        epics.caput('bl531_xps1:mono_angle_deg',mono_angle_deg)\n",
    "        time_sleep(5)\n",
    "\n",
    "        series_nb = \"%03.0f\" % (i_g+1)\n",
    "        image_nb = \"%03.0f\"  % (i_e+1)\n",
    "\n",
    "        current_filename = \"20240606e_tender_grating_\" + series_nb + \"_\" +image_nb\n",
    "        epics.caput('13PIL1:cam1:FileName',current_filename)\n",
    "        epics.caput('13PIL1:cam1:Acquire',1)\n",
    "        time_sleep(5)"
   ]
  },
  {
   "cell_type": "markdown",
   "metadata": {},
   "source": [
    "## reference energy scan"
   ]
  },
  {
   "cell_type": "code",
   "execution_count": 124,
   "metadata": {},
   "outputs": [],
   "source": [
    "# reference energy scan\n",
    "Es_eV = np.linspace(6000, 10000, 9)        # same energy range/resolution as nexafs\n",
    "\n",
    "\n",
    "filenames = ()\n",
    "epics.caput('bl531_xps1:mono_angle_deg',mono_deg(Es_eV[0]))\n",
    "time_sleep(5)\n",
    "for i_e in range(len(Es_eV)): \n",
    "    \n",
    "    mono_angle_deg = mono_deg(Es_eV[i_e])        \n",
    "    epics.caput('bl531_xps1:mono_angle_deg',mono_angle_deg)\n",
    "    time_sleep(10)\n",
    "\n",
    "    series_nb = \"%03.0f\" % 0\n",
    "    image_nb = \"%03.0f\"  % (i_e+1)\n",
    "\n",
    "    current_filename = \"20240606e_tender_grating_\" + series_nb + \"_\" +image_nb\n",
    "    epics.caput('13PIL1:cam1:FileName',current_filename)\n",
    "    epics.caput('13PIL1:cam1:Acquire',1)"
   ]
  },
  {
   "cell_type": "markdown",
   "metadata": {},
   "source": [
    "## Fine angle scan at fixed energy"
   ]
  },
  {
   "cell_type": "code",
   "execution_count": 111,
   "metadata": {},
   "outputs": [
    {
     "name": "stdout",
     "output_type": "stream",
     "text": [
      "b'Server Message 1: Recieved the position request successfully from the client'\n",
      "b'Server Message 2: The position is set to 87.0'\n",
      "b'Server Message 1: Recieved the position request successfully from the client'\n",
      "b'Server Message 2: The position is set to 87.01'\n",
      "b'Server Message 1: Recieved the position request successfully from the client'\n",
      "b'Server Message 2: The position is set to 87.02'\n",
      "b'Server Message 1: Recieved the position request successfully from the client'\n",
      "b'Server Message 2: The position is set to 87.03'\n",
      "b'Server Message 1: Recieved the position request successfully from the client'\n",
      "b'Server Message 2: The position is set to 87.04'\n",
      "b'Server Message 1: Recieved the position request successfully from the client'\n",
      "b'Server Message 2: The position is set to 87.05'\n",
      "b'Server Message 1: Recieved the position request successfully from the client'\n",
      "b'Server Message 2: The position is set to 87.06'\n",
      "b'Server Message 1: Recieved the position request successfully from the client'\n",
      "b'Server Message 2: The position is set to 87.07'\n",
      "b'Server Message 1: Recieved the position request successfully from the client'\n",
      "b'Server Message 2: The position is set to 87.08'\n",
      "b'Server Message 1: Recieved the position request successfully from the client'\n",
      "b'Server Message 2: The position is set to 87.09'\n",
      "b'Server Message 1: Recieved the position request successfully from the client'\n",
      "b'Server Message 2: The position is set to 87.1'\n",
      "b'Server Message 1: Recieved the position request successfully from the client'\n",
      "b'Server Message 2: The position is set to 87.11'\n",
      "b'Server Message 1: Recieved the position request successfully from the client'\n",
      "b'Server Message 2: The position is set to 87.12'\n",
      "b'Server Message 1: Recieved the position request successfully from the client'\n",
      "b'Server Message 2: The position is set to 87.13'\n",
      "b'Server Message 1: Recieved the position request successfully from the client'\n",
      "b'Server Message 2: The position is set to 87.14'\n",
      "b'Server Message 1: Recieved the position request successfully from the client'\n",
      "b'Server Message 2: The position is set to 87.15'\n",
      "b'Server Message 1: Recieved the position request successfully from the client'\n",
      "b'Server Message 2: The position is set to 87.16'\n",
      "b'Server Message 1: Recieved the position request successfully from the client'\n",
      "b'Server Message 2: The position is set to 87.17'\n",
      "b'Server Message 1: Recieved the position request successfully from the client'\n",
      "b'Server Message 2: The position is set to 87.18'\n",
      "b'Server Message 1: Recieved the position request successfully from the client'\n",
      "b'Server Message 2: The position is set to 87.19'\n",
      "b'Server Message 1: Recieved the position request successfully from the client'\n",
      "b'Server Message 2: The position is set to 87.2'\n",
      "b'Server Message 1: Recieved the position request successfully from the client'\n",
      "b'Server Message 2: The position is set to 87.21'\n",
      "b'Server Message 1: Recieved the position request successfully from the client'\n",
      "b'Server Message 2: The position is set to 87.22'\n",
      "b'Server Message 1: Recieved the position request successfully from the client'\n",
      "b'Server Message 2: The position is set to 87.23'\n",
      "b'Server Message 1: Recieved the position request successfully from the client'\n",
      "b'Server Message 2: The position is set to 87.24'\n",
      "b'Server Message 1: Recieved the position request successfully from the client'\n",
      "b'Server Message 2: The position is set to 87.25'\n",
      "b'Server Message 1: Recieved the position request successfully from the client'\n",
      "b'Server Message 2: The position is set to 87.26'\n",
      "b'Server Message 1: Recieved the position request successfully from the client'\n",
      "b'Server Message 2: The position is set to 87.27'\n",
      "b'Server Message 1: Recieved the position request successfully from the client'\n",
      "b'Server Message 2: The position is set to 87.28'\n",
      "b'Server Message 1: Recieved the position request successfully from the client'\n",
      "b'Server Message 2: The position is set to 87.29'\n",
      "b'Server Message 1: Recieved the position request successfully from the client'\n",
      "b'Server Message 2: The position is set to 87.3'\n",
      "b'Server Message 1: Recieved the position request successfully from the client'\n",
      "b'Server Message 2: The position is set to 87.31'\n",
      "b'Server Message 1: Recieved the position request successfully from the client'\n",
      "b'Server Message 2: The position is set to 87.32'\n",
      "b'Server Message 1: Recieved the position request successfully from the client'\n",
      "b'Server Message 2: The position is set to 87.33'\n",
      "b'Server Message 1: Recieved the position request successfully from the client'\n",
      "b'Server Message 2: The position is set to 87.34'\n",
      "b'Server Message 1: Recieved the position request successfully from the client'\n",
      "b'Server Message 2: The position is set to 87.35'\n",
      "b'Server Message 1: Recieved the position request successfully from the client'\n",
      "b'Server Message 2: The position is set to 87.36'\n",
      "b'Server Message 1: Recieved the position request successfully from the client'\n",
      "b'Server Message 2: The position is set to 87.37'\n",
      "b'Server Message 1: Recieved the position request successfully from the client'\n",
      "b'Server Message 2: The position is set to 87.38'\n",
      "b'Server Message 1: Recieved the position request successfully from the client'\n",
      "b'Server Message 2: The position is set to 87.39'\n",
      "b'Server Message 1: Recieved the position request successfully from the client'\n",
      "b'Server Message 2: The position is set to 87.4'\n",
      "b'Server Message 1: Recieved the position request successfully from the client'\n",
      "b'Server Message 2: The position is set to 87.41'\n",
      "b'Server Message 1: Recieved the position request successfully from the client'\n",
      "b'Server Message 2: The position is set to 87.42'\n",
      "b'Server Message 1: Recieved the position request successfully from the client'\n",
      "b'Server Message 2: The position is set to 87.43'\n",
      "b'Server Message 1: Recieved the position request successfully from the client'\n",
      "b'Server Message 2: The position is set to 87.44'\n",
      "b'Server Message 1: Recieved the position request successfully from the client'\n",
      "b'Server Message 2: The position is set to 87.45'\n",
      "b'Server Message 1: Recieved the position request successfully from the client'\n",
      "b'Server Message 2: The position is set to 87.46'\n",
      "b'Server Message 1: Recieved the position request successfully from the client'\n",
      "b'Server Message 2: The position is set to 87.47'\n",
      "b'Server Message 1: Recieved the position request successfully from the client'\n",
      "b'Server Message 2: The position is set to 87.48'\n",
      "b'Server Message 1: Recieved the position request successfully from the client'\n",
      "b'Server Message 2: The position is set to 87.49'\n",
      "b'Server Message 1: Recieved the position request successfully from the client'\n",
      "b'Server Message 2: The position is set to 87.5'\n",
      "b'Server Message 1: Recieved the position request successfully from the client'\n",
      "b'Server Message 2: The position is set to 87.51'\n",
      "b'Server Message 1: Recieved the position request successfully from the client'\n",
      "b'Server Message 2: The position is set to 87.52'\n",
      "b'Server Message 1: Recieved the position request successfully from the client'\n",
      "b'Server Message 2: The position is set to 87.53'\n",
      "b'Server Message 1: Recieved the position request successfully from the client'\n",
      "b'Server Message 2: The position is set to 87.54'\n",
      "b'Server Message 1: Recieved the position request successfully from the client'\n",
      "b'Server Message 2: The position is set to 87.55'\n",
      "b'Server Message 1: Recieved the position request successfully from the client'\n",
      "b'Server Message 2: The position is set to 87.56'\n",
      "b'Server Message 1: Recieved the position request successfully from the client'\n",
      "b'Server Message 2: The position is set to 87.57'\n",
      "b'Server Message 1: Recieved the position request successfully from the client'\n",
      "b'Server Message 2: The position is set to 87.58'\n",
      "b'Server Message 1: Recieved the position request successfully from the client'\n",
      "b'Server Message 2: The position is set to 87.59'\n",
      "b'Server Message 1: Recieved the position request successfully from the client'\n",
      "b'Server Message 2: The position is set to 87.6'\n",
      "b'Server Message 1: Recieved the position request successfully from the client'\n",
      "b'Server Message 2: The position is set to 87.61'\n",
      "b'Server Message 1: Recieved the position request successfully from the client'\n",
      "b'Server Message 2: The position is set to 87.62'\n",
      "b'Server Message 1: Recieved the position request successfully from the client'\n",
      "b'Server Message 2: The position is set to 87.63'\n",
      "b'Server Message 1: Recieved the position request successfully from the client'\n",
      "b'Server Message 2: The position is set to 87.64'\n",
      "b'Server Message 1: Recieved the position request successfully from the client'\n",
      "b'Server Message 2: The position is set to 87.65'\n",
      "b'Server Message 1: Recieved the position request successfully from the client'\n",
      "b'Server Message 2: The position is set to 87.66'\n",
      "b'Server Message 1: Recieved the position request successfully from the client'\n",
      "b'Server Message 2: The position is set to 87.67'\n",
      "b'Server Message 1: Recieved the position request successfully from the client'\n",
      "b'Server Message 2: The position is set to 87.68'\n",
      "b'Server Message 1: Recieved the position request successfully from the client'\n",
      "b'Server Message 2: The position is set to 87.69'\n",
      "b'Server Message 1: Recieved the position request successfully from the client'\n",
      "b'Server Message 2: The position is set to 87.7'\n",
      "b'Server Message 1: Recieved the position request successfully from the client'\n",
      "b'Server Message 2: The position is set to 87.71'\n",
      "b'Server Message 1: Recieved the position request successfully from the client'\n",
      "b'Server Message 2: The position is set to 87.72'\n",
      "b'Server Message 1: Recieved the position request successfully from the client'\n",
      "b'Server Message 2: The position is set to 87.73'\n",
      "b'Server Message 1: Recieved the position request successfully from the client'\n",
      "b'Server Message 2: The position is set to 87.74'\n",
      "b'Server Message 1: Recieved the position request successfully from the client'\n",
      "b'Server Message 2: The position is set to 87.75'\n",
      "b'Server Message 1: Recieved the position request successfully from the client'\n",
      "b'Server Message 2: The position is set to 87.76'\n",
      "b'Server Message 1: Recieved the position request successfully from the client'\n",
      "b'Server Message 2: The position is set to 87.77'\n",
      "b'Server Message 1: Recieved the position request successfully from the client'\n",
      "b'Server Message 2: The position is set to 87.78'\n",
      "b'Server Message 1: Recieved the position request successfully from the client'\n",
      "b'Server Message 2: The position is set to 87.79'\n",
      "b'Server Message 1: Recieved the position request successfully from the client'\n",
      "b'Server Message 2: The position is set to 87.8'\n",
      "b'Server Message 1: Recieved the position request successfully from the client'\n",
      "b'Server Message 2: The position is set to 87.81'\n",
      "b'Server Message 1: Recieved the position request successfully from the client'\n",
      "b'Server Message 2: The position is set to 87.82'\n",
      "b'Server Message 1: Recieved the position request successfully from the client'\n",
      "b'Server Message 2: The position is set to 87.83'\n",
      "b'Server Message 1: Recieved the position request successfully from the client'\n",
      "b'Server Message 2: The position is set to 87.84'\n",
      "b'Server Message 1: Recieved the position request successfully from the client'\n",
      "b'Server Message 2: The position is set to 87.85'\n",
      "b'Server Message 1: Recieved the position request successfully from the client'\n",
      "b'Server Message 2: The position is set to 87.86'\n",
      "b'Server Message 1: Recieved the position request successfully from the client'\n",
      "b'Server Message 2: The position is set to 87.87'\n",
      "b'Server Message 1: Recieved the position request successfully from the client'\n",
      "b'Server Message 2: The position is set to 87.88'\n",
      "b'Server Message 1: Recieved the position request successfully from the client'\n",
      "b'Server Message 2: The position is set to 87.89'\n",
      "b'Server Message 1: Recieved the position request successfully from the client'\n",
      "b'Server Message 2: The position is set to 87.9'\n",
      "b'Server Message 1: Recieved the position request successfully from the client'\n",
      "b'Server Message 2: The position is set to 87.91'\n",
      "b'Server Message 1: Recieved the position request successfully from the client'\n",
      "b'Server Message 2: The position is set to 87.92'\n",
      "b'Server Message 1: Recieved the position request successfully from the client'\n",
      "b'Server Message 2: The position is set to 87.93'\n",
      "b'Server Message 1: Recieved the position request successfully from the client'\n",
      "b'Server Message 2: The position is set to 87.94'\n",
      "b'Server Message 1: Recieved the position request successfully from the client'\n",
      "b'Server Message 2: The position is set to 87.95'\n",
      "b'Server Message 1: Recieved the position request successfully from the client'\n",
      "b'Server Message 2: The position is set to 87.96'\n",
      "b'Server Message 1: Recieved the position request successfully from the client'\n",
      "b'Server Message 2: The position is set to 87.97'\n",
      "b'Server Message 1: Recieved the position request successfully from the client'\n",
      "b'Server Message 2: The position is set to 87.98'\n",
      "b'Server Message 1: Recieved the position request successfully from the client'\n",
      "b'Server Message 2: The position is set to 87.99'\n",
      "b'Server Message 1: Recieved the position request successfully from the client'\n",
      "b'Server Message 2: The position is set to 88.0'\n",
      "b'Server Message 1: Recieved the position request successfully from the client'\n",
      "b'Server Message 2: The position is set to 88.01'\n",
      "b'Server Message 1: Recieved the position request successfully from the client'\n",
      "b'Server Message 2: The position is set to 88.02'\n",
      "b'Server Message 1: Recieved the position request successfully from the client'\n",
      "b'Server Message 2: The position is set to 88.03'\n",
      "b'Server Message 1: Recieved the position request successfully from the client'\n",
      "b'Server Message 2: The position is set to 88.04'\n",
      "b'Server Message 1: Recieved the position request successfully from the client'\n",
      "b'Server Message 2: The position is set to 88.05'\n",
      "b'Server Message 1: Recieved the position request successfully from the client'\n",
      "b'Server Message 2: The position is set to 88.06'\n",
      "b'Server Message 1: Recieved the position request successfully from the client'\n",
      "b'Server Message 2: The position is set to 88.07'\n",
      "b'Server Message 1: Recieved the position request successfully from the client'\n",
      "b'Server Message 2: The position is set to 88.08'\n",
      "b'Server Message 1: Recieved the position request successfully from the client'\n",
      "b'Server Message 2: The position is set to 88.09'\n",
      "b'Server Message 1: Recieved the position request successfully from the client'\n",
      "b'Server Message 2: The position is set to 88.1'\n",
      "b'Server Message 1: Recieved the position request successfully from the client'\n",
      "b'Server Message 2: The position is set to 88.11'\n",
      "b'Server Message 1: Recieved the position request successfully from the client'\n",
      "b'Server Message 2: The position is set to 88.12'\n",
      "b'Server Message 1: Recieved the position request successfully from the client'\n",
      "b'Server Message 2: The position is set to 88.13'\n",
      "b'Server Message 1: Recieved the position request successfully from the client'\n",
      "b'Server Message 2: The position is set to 88.14'\n",
      "b'Server Message 1: Recieved the position request successfully from the client'\n",
      "b'Server Message 2: The position is set to 88.15'\n",
      "b'Server Message 1: Recieved the position request successfully from the client'\n",
      "b'Server Message 2: The position is set to 88.16'\n",
      "b'Server Message 1: Recieved the position request successfully from the client'\n",
      "b'Server Message 2: The position is set to 88.17'\n",
      "b'Server Message 1: Recieved the position request successfully from the client'\n",
      "b'Server Message 2: The position is set to 88.18'\n",
      "b'Server Message 1: Recieved the position request successfully from the client'\n",
      "b'Server Message 2: The position is set to 88.19'\n",
      "b'Server Message 1: Recieved the position request successfully from the client'\n",
      "b'Server Message 2: The position is set to 88.2'\n",
      "b'Server Message 1: Recieved the position request successfully from the client'\n",
      "b'Server Message 2: The position is set to 88.21'\n",
      "b'Server Message 1: Recieved the position request successfully from the client'\n",
      "b'Server Message 2: The position is set to 88.22'\n",
      "b'Server Message 1: Recieved the position request successfully from the client'\n",
      "b'Server Message 2: The position is set to 88.23'\n",
      "b'Server Message 1: Recieved the position request successfully from the client'\n",
      "b'Server Message 2: The position is set to 88.24'\n",
      "b'Server Message 1: Recieved the position request successfully from the client'\n",
      "b'Server Message 2: The position is set to 88.25'\n",
      "b'Server Message 1: Recieved the position request successfully from the client'\n",
      "b'Server Message 2: The position is set to 88.26'\n",
      "b'Server Message 1: Recieved the position request successfully from the client'\n",
      "b'Server Message 2: The position is set to 88.27'\n",
      "b'Server Message 1: Recieved the position request successfully from the client'\n",
      "b'Server Message 2: The position is set to 88.28'\n",
      "b'Server Message 1: Recieved the position request successfully from the client'\n",
      "b'Server Message 2: The position is set to 88.29'\n",
      "b'Server Message 1: Recieved the position request successfully from the client'\n",
      "b'Server Message 2: The position is set to 88.3'\n",
      "b'Server Message 1: Recieved the position request successfully from the client'\n",
      "b'Server Message 2: The position is set to 88.31'\n",
      "b'Server Message 1: Recieved the position request successfully from the client'\n",
      "b'Server Message 2: The position is set to 88.32'\n",
      "b'Server Message 1: Recieved the position request successfully from the client'\n",
      "b'Server Message 2: The position is set to 88.33'\n",
      "b'Server Message 1: Recieved the position request successfully from the client'\n",
      "b'Server Message 2: The position is set to 88.34'\n",
      "b'Server Message 1: Recieved the position request successfully from the client'\n",
      "b'Server Message 2: The position is set to 88.35'\n",
      "b'Server Message 1: Recieved the position request successfully from the client'\n",
      "b'Server Message 2: The position is set to 88.36'\n",
      "b'Server Message 1: Recieved the position request successfully from the client'\n",
      "b'Server Message 2: The position is set to 88.37'\n",
      "b'Server Message 1: Recieved the position request successfully from the client'\n",
      "b'Server Message 2: The position is set to 88.38'\n",
      "b'Server Message 1: Recieved the position request successfully from the client'\n",
      "b'Server Message 2: The position is set to 88.39'\n",
      "b'Server Message 1: Recieved the position request successfully from the client'\n",
      "b'Server Message 2: The position is set to 88.4'\n",
      "b'Server Message 1: Recieved the position request successfully from the client'\n",
      "b'Server Message 2: The position is set to 88.41'\n",
      "b'Server Message 1: Recieved the position request successfully from the client'\n",
      "b'Server Message 2: The position is set to 88.42'\n",
      "b'Server Message 1: Recieved the position request successfully from the client'\n",
      "b'Server Message 2: The position is set to 88.43'\n",
      "b'Server Message 1: Recieved the position request successfully from the client'\n",
      "b'Server Message 2: The position is set to 88.44'\n",
      "b'Server Message 1: Recieved the position request successfully from the client'\n",
      "b'Server Message 2: The position is set to 88.45'\n",
      "b'Server Message 1: Recieved the position request successfully from the client'\n",
      "b'Server Message 2: The position is set to 88.46'\n",
      "b'Server Message 1: Recieved the position request successfully from the client'\n",
      "b'Server Message 2: The position is set to 88.47'\n",
      "b'Server Message 1: Recieved the position request successfully from the client'\n",
      "b'Server Message 2: The position is set to 88.48'\n",
      "b'Server Message 1: Recieved the position request successfully from the client'\n",
      "b'Server Message 2: The position is set to 88.49'\n",
      "b'Server Message 1: Recieved the position request successfully from the client'\n",
      "b'Server Message 2: The position is set to 88.5'\n"
     ]
    }
   ],
   "source": [
    "## Fine angle scan\n",
    "\n",
    "ga_deg = np.linspace(87, 88.5, 151)#        grazing angles\n",
    "Es_eV = np.linspace(8000,8000,1)      # same energy range/resolution as nexafs\n",
    "\n",
    "\n",
    "filenames = ()\n",
    "for i_g in range(len(ga_deg)):\n",
    "    position_au = ga_deg[i_g]\n",
    "    apt_move(position_au)\n",
    "    #break\n",
    "    epics.caput('bl531_xps1:mono_angle_deg',mono_deg(Es_eV[0]))\n",
    "    time_sleep(5)\n",
    "    for i_e in range(len(Es_eV)): \n",
    "        \n",
    "        mono_angle_deg = mono_deg(Es_eV[i_e])        \n",
    "        epics.caput('bl531_xps1:mono_angle_deg',mono_angle_deg)\n",
    "        time_sleep(5)\n",
    "\n",
    "        series_nb = \"%03.0f\" % (i_g+1)\n",
    "        image_nb = \"%03.0f\"  % (i_e+1)\n",
    "\n",
    "        current_filename = \"20240606d_tender_grating_\" + series_nb + \"_\" +image_nb\n",
    "        epics.caput('13PIL1:cam1:FileName',current_filename)\n",
    "        epics.caput('13PIL1:cam1:Acquire',1)\n",
    "        time_sleep(5)"
   ]
  },
  {
   "cell_type": "markdown",
   "metadata": {},
   "source": [
    "### Collect a single image (000-000)"
   ]
  },
  {
   "cell_type": "code",
   "execution_count": 123,
   "metadata": {},
   "outputs": [
    {
     "data": {
      "text/plain": [
       "1"
      ]
     },
     "execution_count": 123,
     "metadata": {},
     "output_type": "execute_result"
    }
   ],
   "source": [
    "#sample\n",
    "series_nb = \"%03.0f\" % 0\n",
    "image_nb = \"%03.0f\"  % 0\n",
    "current_filename = \"20240606e_tender_grating_\" + series_nb + \"_\" +image_nb\n",
    "epics.caput('13PIL1:cam1:FileName',current_filename)\n",
    "epics.caput('13PIL1:cam1:Acquire',1)"
   ]
  },
  {
   "cell_type": "markdown",
   "metadata": {},
   "source": [
    "## Changing some beamline settings manually"
   ]
  },
  {
   "cell_type": "markdown",
   "metadata": {},
   "source": [
    "### Change sample slit position"
   ]
  },
  {
   "cell_type": "code",
   "execution_count": 29,
   "metadata": {},
   "outputs": [
    {
     "data": {
      "text/plain": [
       "1"
      ]
     },
     "execution_count": 29,
     "metadata": {},
     "output_type": "execute_result"
    }
   ],
   "source": [
    "# 1 enable motor\n",
    "epics.caput('DMC02:E.CNEN', 1)\n",
    "#E- Outboard slit\n"
   ]
  },
  {
   "cell_type": "code",
   "execution_count": 30,
   "metadata": {},
   "outputs": [
    {
     "data": {
      "text/plain": [
       "-25.0"
      ]
     },
     "execution_count": 30,
     "metadata": {},
     "output_type": "execute_result"
    }
   ],
   "source": [
    "# 2- read motor position\n",
    "epics.caget('DMC02:E', 1)"
   ]
  },
  {
   "cell_type": "code",
   "execution_count": 33,
   "metadata": {},
   "outputs": [
    {
     "data": {
      "text/plain": [
       "1"
      ]
     },
     "execution_count": 33,
     "metadata": {},
     "output_type": "execute_result"
    }
   ],
   "source": [
    "# 3- change slit position\n",
    "epics.caput('DMC02:E', -28) #was -25 initially"
   ]
  },
  {
   "cell_type": "markdown",
   "metadata": {},
   "source": [
    "### Change camera exposure time"
   ]
  },
  {
   "cell_type": "code",
   "execution_count": 64,
   "metadata": {},
   "outputs": [
    {
     "data": {
      "text/plain": [
       "1"
      ]
     },
     "execution_count": 64,
     "metadata": {},
     "output_type": "execute_result"
    }
   ],
   "source": [
    "epics.caput('13PIL1:cam1:AcquireTime', 1)\n",
    "epics.caput('13PIL1:cam1:AcquirePeriod', 1)"
   ]
  },
  {
   "cell_type": "markdown",
   "metadata": {},
   "source": [
    "### Move rotary stage"
   ]
  },
  {
   "cell_type": "code",
   "execution_count": 113,
   "metadata": {},
   "outputs": [
    {
     "name": "stdout",
     "output_type": "stream",
     "text": [
      "b'Server Message 1: Recieved the position request successfully from the client'\n",
      "b'Server Message 2: The position is set to 87.5'\n"
     ]
    }
   ],
   "source": [
    "apt_move(87.5)"
   ]
  },
  {
   "cell_type": "markdown",
   "metadata": {},
   "source": [
    "### Change mono energy"
   ]
  },
  {
   "cell_type": "code",
   "execution_count": 122,
   "metadata": {},
   "outputs": [
    {
     "data": {
      "text/plain": [
       "1"
      ]
     },
     "execution_count": 122,
     "metadata": {},
     "output_type": "execute_result"
    }
   ],
   "source": [
    "# change mon energy\n",
    "epics.caput('bl531_xps1:mono_angle_deg',mono_deg(8000))"
   ]
  },
  {
   "cell_type": "code",
   "execution_count": 108,
   "metadata": {},
   "outputs": [
    {
     "data": {
      "text/plain": [
       "27.097538443499513"
      ]
     },
     "execution_count": 108,
     "metadata": {},
     "output_type": "execute_result"
    }
   ],
   "source": [
    "# readout mono angle\n",
    "epics.caget('bl531_xps1:mono_angle_deg')"
   ]
  },
  {
   "cell_type": "code",
   "execution_count": 117,
   "metadata": {},
   "outputs": [
    {
     "ename": "KeyboardInterrupt",
     "evalue": "",
     "output_type": "error",
     "traceback": [
      "\u001b[0;31m---------------------------------------------------------------------------\u001b[0m",
      "\u001b[0;31mKeyboardInterrupt\u001b[0m                         Traceback (most recent call last)",
      "\u001b[1;32m/home/bl531/bl531/bluesky-test/20240603_XC_tender_grating_efficiency.ipynb Cell 36\u001b[0m in \u001b[0;36m<cell line: 2>\u001b[0;34m()\u001b[0m\n\u001b[1;32m      <a href='vscode-notebook-cell:/home/bl531/bl531/bluesky-test/20240603_XC_tender_grating_efficiency.ipynb#ch0000306?line=0'>1</a>\u001b[0m \u001b[39m# disconnect motor server\u001b[39;00m\n\u001b[0;32m----> <a href='vscode-notebook-cell:/home/bl531/bl531/bluesky-test/20240603_XC_tender_grating_efficiency.ipynb#ch0000306?line=1'>2</a>\u001b[0m apt_stop()\n",
      "\u001b[1;32m/home/bl531/bl531/bluesky-test/20240603_XC_tender_grating_efficiency.ipynb Cell 36\u001b[0m in \u001b[0;36mapt_stop\u001b[0;34m()\u001b[0m\n\u001b[1;32m     <a href='vscode-notebook-cell:/home/bl531/bl531/bluesky-test/20240603_XC_tender_grating_efficiency.ipynb#ch0000306?line=30'>31</a>\u001b[0m \u001b[39mdef\u001b[39;00m \u001b[39mapt_stop\u001b[39m():\n\u001b[0;32m---> <a href='vscode-notebook-cell:/home/bl531/bl531/bluesky-test/20240603_XC_tender_grating_efficiency.ipynb#ch0000306?line=31'>32</a>\u001b[0m     apt_send(\u001b[39mb\u001b[39;49m\u001b[39m\"\u001b[39;49m\u001b[39mclose\u001b[39;49m\u001b[39m\"\u001b[39;49m)\n",
      "\u001b[1;32m/home/bl531/bl531/bluesky-test/20240603_XC_tender_grating_efficiency.ipynb Cell 36\u001b[0m in \u001b[0;36mapt_send\u001b[0;34m(msg_str)\u001b[0m\n\u001b[1;32m      <a href='vscode-notebook-cell:/home/bl531/bl531/bluesky-test/20240603_XC_tender_grating_efficiency.ipynb#ch0000306?line=5'>6</a>\u001b[0m \u001b[39mdef\u001b[39;00m \u001b[39mapt_send\u001b[39m(msg_str):\n\u001b[1;32m      <a href='vscode-notebook-cell:/home/bl531/bl531/bluesky-test/20240603_XC_tender_grating_efficiency.ipynb#ch0000306?line=6'>7</a>\u001b[0m     \u001b[39m# connect to the server\u001b[39;00m\n\u001b[1;32m      <a href='vscode-notebook-cell:/home/bl531/bl531/bluesky-test/20240603_XC_tender_grating_efficiency.ipynb#ch0000306?line=7'>8</a>\u001b[0m     client \u001b[39m=\u001b[39m socket\u001b[39m.\u001b[39msocket(socket\u001b[39m.\u001b[39mAF_INET, socket\u001b[39m.\u001b[39mSOCK_STREAM)\n\u001b[0;32m----> <a href='vscode-notebook-cell:/home/bl531/bl531/bluesky-test/20240603_XC_tender_grating_efficiency.ipynb#ch0000306?line=8'>9</a>\u001b[0m     client\u001b[39m.\u001b[39;49mconnect((host, port))\n\u001b[1;32m     <a href='vscode-notebook-cell:/home/bl531/bl531/bluesky-test/20240603_XC_tender_grating_efficiency.ipynb#ch0000306?line=10'>11</a>\u001b[0m     \u001b[39m# recieve a message from the server to see if the connection is successful\u001b[39;00m\n\u001b[1;32m     <a href='vscode-notebook-cell:/home/bl531/bl531/bluesky-test/20240603_XC_tender_grating_efficiency.ipynb#ch0000306?line=11'>12</a>\u001b[0m     msg_from_server \u001b[39m=\u001b[39m client\u001b[39m.\u001b[39mrecv(\u001b[39m4096\u001b[39m)\n",
      "\u001b[0;31mKeyboardInterrupt\u001b[0m: "
     ]
    }
   ],
   "source": [
    "# disconnect motor server\n",
    "apt_stop()"
   ]
  },
  {
   "cell_type": "code",
   "execution_count": null,
   "metadata": {},
   "outputs": [],
   "source": []
  }
 ],
 "metadata": {
  "kernelspec": {
   "display_name": "Python 3.10.6 64-bit",
   "language": "python",
   "name": "python3"
  },
  "language_info": {
   "codemirror_mode": {
    "name": "ipython",
    "version": 3
   },
   "file_extension": ".py",
   "mimetype": "text/x-python",
   "name": "python",
   "nbconvert_exporter": "python",
   "pygments_lexer": "ipython3",
   "version": "3.10.6"
  },
  "orig_nbformat": 4,
  "vscode": {
   "interpreter": {
    "hash": "916dbcbb3f70747c44a77c7bcd40155683ae19c65e1c03b4aa3499c5328201f1"
   }
  }
 },
 "nbformat": 4,
 "nbformat_minor": 2
}

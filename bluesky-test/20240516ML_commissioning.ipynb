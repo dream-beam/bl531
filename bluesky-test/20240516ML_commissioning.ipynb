{
 "cells": [
  {
   "cell_type": "code",
   "execution_count": null,
   "metadata": {},
   "outputs": [],
   "source": [
    "# BL531 commissioning\n",
    "# matt landsman (mrlandsman@lbl.gov)\n",
    "# may 16, 2024"
   ]
  },
  {
   "cell_type": "code",
   "execution_count": 1,
   "metadata": {},
   "outputs": [
    {
     "name": "stderr",
     "output_type": "stream",
     "text": [
      "WARNING:silx.opencl.common:Unable to import pyOpenCl. Please install it from: https://pypi.org/project/pyopencl\n"
     ]
    }
   ],
   "source": [
    "import epics\n",
    "import numpy as np\n",
    "from PIL import Image\n",
    "import matplotlib.pyplot as plt\n",
    "from time import sleep as time_sleep\n",
    "import pandas as pd\n",
    "import fabio\n",
    "import pyFAI\n",
    "from pyFAI.calibrant import get_calibrant\n",
    "from pyFAI.azimuthalIntegrator import AzimuthalIntegrator\n",
    "from matplotlib.colors import LogNorm\n",
    "\n",
    "from tqdm import tqdm\n",
    "\n",
    "%matplotlib inline"
   ]
  },
  {
   "cell_type": "code",
   "execution_count": null,
   "metadata": {},
   "outputs": [],
   "source": [
    "# pumping/venting directions:\n",
    "    # load sample\n",
    "    # turn on roughing pump (make sure the N2 is off and the sample chamber is closed, pressure should decrease when you turn the pump on)\n",
    "    # wait 30-45 min until you reach <400 mTorr\n",
    "    # turn on turbomolecular pump\n",
    "    # turn on chiller\n",
    "    # once gauge reads zero, you can turn on the camera switch\n",
    "    # search hutch\n",
    "    # start up camera on terminal\n",
    "        # ./runtvx --> good to start here to take test images and make sure detector is good to go\n",
    "        # then close the runtvx terminal and run \"xterm -geometry 80x40+20-5 -e camserver &\" to work in epics\n",
    "\n",
    "# venting directions:\n",
    "    # close shutter and enter hutch\n",
    "    # switch camera off --> check the computer to ensure its disconnected\n",
    "    # switch chiller off\n",
    "    # turn off the turbomolecular pump, wait for LEVITATION\n",
    "    # turn off the roughing pump\n",
    "    # open N2 valve\n",
    "    # open the sample chamber so pressure doesnt build up once vacuum is gone\n",
    "    # once the sample chamber opens, turn off the N2 and leave chamber vented "
   ]
  },
  {
   "cell_type": "code",
   "execution_count": null,
   "metadata": {},
   "outputs": [],
   "source": [
    "# --------------------------------------------------------------------------------------------------------------------------------------------------------------\n",
    "\n",
    "# define mono angle to energy conversion\n",
    "\n",
    "#physical constants\n",
    "h_m2kgps = 6.6261e-34\n",
    "c_mps    = 299792458   \n",
    "e_eV     = 6.2415e+18\n",
    "# Silicon spacing (for Bragg condition)\n",
    "Si_m = 5.43E-10\n",
    "a_Si111_m = Si_m/np.sqrt(1^2+1^2+1^2)\n",
    "# Monochromotor offset\n",
    "mono_offset_deg = 12.787\n",
    "#Wavelength from energy\n",
    "lambda_m = lambda E_eV : h_m2kgps*c_mps*e_eV/E_eV\n",
    "#Bragg angle from Wavelength\n",
    "bragg_deg = lambda E_eV: np.arcsin(lambda_m(E_eV)/(2*a_Si111_m))*180/np.pi\n",
    "# Mono angle from Bragg angle\n",
    "mono_deg = lambda E_eV: bragg_deg(E_eV)+mono_offset_deg\n",
    "mono_deg(10000)\n",
    "\n",
    "energy_eV = lambda mono_deg_input: (mono_deg_input - mono_offset_deg)\n",
    "#energy_eV(26)\n",
    "\n"
   ]
  },
  {
   "cell_type": "code",
   "execution_count": null,
   "metadata": {},
   "outputs": [],
   "source": [
    "# move the beamstop (to block direct beam)\n",
    "epics.caput('bl531_xps2:beamstop_x_mm', 2)"
   ]
  },
  {
   "cell_type": "code",
   "execution_count": null,
   "metadata": {},
   "outputs": [],
   "source": [
    "# set the mono angle\n",
    "epics.caput('bl531_xps1:mono_angle_deg', mono_deg(9000))\n",
    "\n",
    "# print mono angle for reference\n",
    "epics.caget('bl531_xps1:mono_angle_deg')\n"
   ]
  },
  {
   "cell_type": "code",
   "execution_count": null,
   "metadata": {},
   "outputs": [],
   "source": [
    "# --------------------------------------------------------------------------------------------------------------------------------------------------------------\n",
    "\n",
    "# bar 1\n",
    "    # copper(I) chloride\n",
    "    # copper(II) chloride\n",
    "    # copper metal (some oxidized...)\n",
    "\n"
   ]
  },
  {
   "cell_type": "code",
   "execution_count": 57,
   "metadata": {},
   "outputs": [
    {
     "name": "stderr",
     "output_type": "stream",
     "text": [
      " 65%|██████▌   | 66/101 [06:40<03:32,  6.07s/it]\n"
     ]
    },
    {
     "ename": "KeyboardInterrupt",
     "evalue": "",
     "output_type": "error",
     "traceback": [
      "\u001b[0;31m---------------------------------------------------------------------------\u001b[0m",
      "\u001b[0;31mKeyboardInterrupt\u001b[0m                         Traceback (most recent call last)",
      "\u001b[1;32m/home/bl531/bl531/bluesky-test/20240516ML_commissioning.ipynb Cell 13\u001b[0m in \u001b[0;36m<cell line: 15>\u001b[0;34m()\u001b[0m\n\u001b[1;32m     <a href='vscode-notebook-cell:/home/bl531/bl531/bluesky-test/20240516ML_commissioning.ipynb#ch0000022?line=20'>21</a>\u001b[0m time_sleep(time_sleep_variable)\n\u001b[1;32m     <a href='vscode-notebook-cell:/home/bl531/bl531/bluesky-test/20240516ML_commissioning.ipynb#ch0000022?line=21'>22</a>\u001b[0m nexafs_reading_3 \u001b[39m=\u001b[39m epics\u001b[39m.\u001b[39mcaget(\u001b[39m'\u001b[39m\u001b[39mbl201-beamstop:current\u001b[39m\u001b[39m'\u001b[39m)\n\u001b[0;32m---> <a href='vscode-notebook-cell:/home/bl531/bl531/bluesky-test/20240516ML_commissioning.ipynb#ch0000022?line=22'>23</a>\u001b[0m time_sleep(time_sleep_variable)\n\u001b[1;32m     <a href='vscode-notebook-cell:/home/bl531/bl531/bluesky-test/20240516ML_commissioning.ipynb#ch0000022?line=23'>24</a>\u001b[0m nexafs_reading_4 \u001b[39m=\u001b[39m epics\u001b[39m.\u001b[39mcaget(\u001b[39m'\u001b[39m\u001b[39mbl201-beamstop:current\u001b[39m\u001b[39m'\u001b[39m)\n\u001b[1;32m     <a href='vscode-notebook-cell:/home/bl531/bl531/bluesky-test/20240516ML_commissioning.ipynb#ch0000022?line=24'>25</a>\u001b[0m time_sleep(time_sleep_variable)    \n",
      "\u001b[0;31mKeyboardInterrupt\u001b[0m: "
     ]
    }
   ],
   "source": [
    "# Cu K-edge NEXAFS scan\n",
    "\n",
    "input_energies = np.linspace(8750, 8950, 201)   # nexafs Cu K-edge\n",
    "\n",
    "input_energies = np.linspace(8775, 8875, 101)   # nexafs Cu K-edge\n",
    "\n",
    "\n",
    "time_sleep_variable = 1\n",
    "\n",
    "\n",
    "mono_angles_deg = mono_deg(input_energies)\n",
    "pd_val_nA = mono_angles_deg*0\n",
    "epics.caput('bl531_xps1:mono_angle_deg', mono_angles_deg[0])\n",
    "time_sleep(5)\n",
    "for i_a in tqdm(np.arange(len(mono_angles_deg))):\n",
    "    epics.caput('bl531_xps1:mono_angle_deg', mono_angles_deg[i_a])\n",
    "    time_sleep(time_sleep_variable*2)\n",
    "    nexafs_reading_1 = epics.caget('bl201-beamstop:current')\n",
    "    time_sleep(time_sleep_variable)\n",
    "    nexafs_reading_2 = epics.caget('bl201-beamstop:current')\n",
    "    time_sleep(time_sleep_variable)\n",
    "    nexafs_reading_3 = epics.caget('bl201-beamstop:current')\n",
    "    time_sleep(time_sleep_variable)\n",
    "    nexafs_reading_4 = epics.caget('bl201-beamstop:current')\n",
    "    time_sleep(time_sleep_variable)    \n",
    "    pd_val_nA[i_a] = nexafs_reading_1 + nexafs_reading_2 + nexafs_reading_3 + nexafs_reading_4\n",
    "\n",
    "\n",
    "file_name = 'cu_test_may16'\n",
    "np.savetxt(f'/home/bl531/bl531_commissioning/20240424ML_commissioning/{file_name}.txt', np.vstack((input_energies, mono_angles_deg, pd_val_nA)).T)\n",
    "\n",
    "print('done')\n",
    "\n",
    "\n",
    "\n",
    "\n",
    "\n"
   ]
  },
  {
   "cell_type": "code",
   "execution_count": 58,
   "metadata": {},
   "outputs": [
    {
     "data": {
      "text/plain": [
       "[<matplotlib.lines.Line2D at 0x7efe306d8730>]"
      ]
     },
     "execution_count": 58,
     "metadata": {},
     "output_type": "execute_result"
    },
    {
     "data": {
      "image/png": "[encoded data removed]",
      "text/plain": [
       "<Figure size 432x288 with 1 Axes>"
      ]
     },
     "metadata": {
      "needs_background": "light"
     },
     "output_type": "display_data"
    }
   ],
   "source": [
    "plt.plot(input_energies[:-40], pd_val_nA[:-40])"
   ]
  },
  {
   "cell_type": "code",
   "execution_count": null,
   "metadata": {},
   "outputs": [],
   "source": [
    "# not getting very good Cu K-edge NEXAFS... might be the samples... lets move on for now"
   ]
  },
  {
   "cell_type": "code",
   "execution_count": null,
   "metadata": {},
   "outputs": [],
   "source": [
    "# --------------------------------------------------------------------------------------------------------------------------------------------------------------\n",
    "# lets get MAXS (medium angle x-ray scattering, detector pushed forward) on cameron's polyamide samples\n",
    "# bar 2 \n",
    "    # cameron01 - Pristine XLE\n",
    "    # cameron00 - \n",
    "    # cameron02 - SNOM+Na\n",
    "\n"
   ]
  },
  {
   "cell_type": "code",
   "execution_count": null,
   "metadata": {},
   "outputs": [],
   "source": []
  },
  {
   "cell_type": "code",
   "execution_count": null,
   "metadata": {},
   "outputs": [],
   "source": []
  },
  {
   "cell_type": "code",
   "execution_count": null,
   "metadata": {},
   "outputs": [],
   "source": []
  },
  {
   "cell_type": "code",
   "execution_count": 125,
   "metadata": {},
   "outputs": [
    {
     "name": "stderr",
     "output_type": "stream",
     "text": [
      " 82%|████████▏ | 164/201 [16:25<03:42,  6.01s/it]\n"
     ]
    },
    {
     "ename": "KeyboardInterrupt",
     "evalue": "",
     "output_type": "error",
     "traceback": [
      "\u001b[0;31m---------------------------------------------------------------------------\u001b[0m",
      "\u001b[0;31mKeyboardInterrupt\u001b[0m                         Traceback (most recent call last)",
      "\u001b[1;32m/home/bl531/bl531/bluesky-test/20240516ML_commissioning.ipynb Cell 15\u001b[0m in \u001b[0;36m<cell line: 12>\u001b[0;34m()\u001b[0m\n\u001b[1;32m     <a href='vscode-notebook-cell:/home/bl531/bl531/bluesky-test/20240516ML_commissioning.ipynb#ch0000109?line=11'>12</a>\u001b[0m \u001b[39mfor\u001b[39;00m i_a \u001b[39min\u001b[39;00m tqdm(np\u001b[39m.\u001b[39marange(\u001b[39mlen\u001b[39m(mono_angles_deg))):\n\u001b[1;32m     <a href='vscode-notebook-cell:/home/bl531/bl531/bluesky-test/20240516ML_commissioning.ipynb#ch0000109?line=12'>13</a>\u001b[0m     epics\u001b[39m.\u001b[39mcaput(\u001b[39m'\u001b[39m\u001b[39mbl531_xps1:mono_angle_deg\u001b[39m\u001b[39m'\u001b[39m, mono_angles_deg[i_a])\n\u001b[0;32m---> <a href='vscode-notebook-cell:/home/bl531/bl531/bluesky-test/20240516ML_commissioning.ipynb#ch0000109?line=13'>14</a>\u001b[0m     time_sleep(time_sleep_variable\u001b[39m*\u001b[39;49m\u001b[39m2\u001b[39;49m)\n\u001b[1;32m     <a href='vscode-notebook-cell:/home/bl531/bl531/bluesky-test/20240516ML_commissioning.ipynb#ch0000109?line=14'>15</a>\u001b[0m     nexafs_reading_1 \u001b[39m=\u001b[39m epics\u001b[39m.\u001b[39mcaget(\u001b[39m'\u001b[39m\u001b[39mbl201-beamstop:current\u001b[39m\u001b[39m'\u001b[39m)\n\u001b[1;32m     <a href='vscode-notebook-cell:/home/bl531/bl531/bluesky-test/20240516ML_commissioning.ipynb#ch0000109?line=15'>16</a>\u001b[0m     time_sleep(time_sleep_variable)\n",
      "\u001b[0;31mKeyboardInterrupt\u001b[0m: "
     ]
    }
   ],
   "source": [
    "# Cu K-edge NEXAFS scan\n",
    "\n",
    "input_energies = np.linspace(8750, 8950, 201)   # nexafs Cu K-edge\n",
    "\n",
    "time_sleep_variable = 1\n",
    "\n",
    "\n",
    "mono_angles_deg = mono_deg(input_energies)\n",
    "pd_val_nA = mono_angles_deg*0\n",
    "epics.caput('bl531_xps1:mono_angle_deg', mono_angles_deg[0])\n",
    "time_sleep(5)\n",
    "for i_a in tqdm(np.arange(len(mono_angles_deg))):\n",
    "    epics.caput('bl531_xps1:mono_angle_deg', mono_angles_deg[i_a])\n",
    "    time_sleep(time_sleep_variable*2)\n",
    "    nexafs_reading_1 = epics.caget('bl201-beamstop:current')\n",
    "    time_sleep(time_sleep_variable)\n",
    "    nexafs_reading_2 = epics.caget('bl201-beamstop:current')\n",
    "    time_sleep(time_sleep_variable)\n",
    "    nexafs_reading_3 = epics.caget('bl201-beamstop:current')\n",
    "    time_sleep(time_sleep_variable)\n",
    "    nexafs_reading_4 = epics.caget('bl201-beamstop:current')\n",
    "    time_sleep(time_sleep_variable)    \n",
    "    pd_val_nA[i_a] = nexafs_reading_1 + nexafs_reading_2 + nexafs_reading_3 + nexafs_reading_4\n",
    "\n",
    "\n",
    "file_name = 'cu_test_may17_1'\n",
    "np.savetxt(f'/home/bl531/bl531_commissioning/20240424ML_commissioning/{file_name}.txt', np.vstack((input_energies, mono_angles_deg, pd_val_nA)).T)\n",
    "\n",
    "print('done')\n",
    "\n",
    "\n",
    "\n",
    "\n",
    "\n"
   ]
  },
  {
   "cell_type": "code",
   "execution_count": 126,
   "metadata": {},
   "outputs": [
    {
     "data": {
      "text/plain": [
       "[<matplotlib.lines.Line2D at 0x7efe305ed6f0>]"
      ]
     },
     "execution_count": 126,
     "metadata": {},
     "output_type": "execute_result"
    },
    {
     "data": {
      "image/png": "[encoded data removed]",
      "text/plain": [
       "<Figure size 432x288 with 1 Axes>"
      ]
     },
     "metadata": {
      "needs_background": "light"
     },
     "output_type": "display_data"
    }
   ],
   "source": [
    "plt.plot(input_energies[:-40], pd_val_nA[:-40])"
   ]
  },
  {
   "cell_type": "code",
   "execution_count": null,
   "metadata": {},
   "outputs": [],
   "source": [
    "# 5/17/24\n",
    "# new bar with AgB, CuAc, Cr(III) oxide\n"
   ]
  },
  {
   "cell_type": "markdown",
   "metadata": {},
   "source": []
  },
  {
   "cell_type": "code",
   "execution_count": null,
   "metadata": {},
   "outputs": [],
   "source": [
    "# Fe K-edge NEXAFS scan\n",
    "\n",
    "input_energies = np.linspace(6950, 7150, 101)   # nexafs\n",
    "\n",
    "time_sleep_variable = 1\n",
    "\n",
    "\n",
    "mono_angles_deg = mono_deg(input_energies)\n",
    "pd_val_nA = mono_angles_deg*0\n",
    "epics.caput('bl531_xps1:mono_angle_deg', mono_angles_deg[0])\n",
    "time_sleep(5)\n",
    "for i_a in tqdm(np.arange(len(mono_angles_deg))):\n",
    "    epics.caput('bl531_xps1:mono_angle_deg', mono_angles_deg[i_a])\n",
    "    time_sleep(time_sleep_variable*2)\n",
    "    nexafs_reading_1 = epics.caget('bl201-beamstop:current')\n",
    "    time_sleep(time_sleep_variable)\n",
    "    nexafs_reading_2 = epics.caget('bl201-beamstop:current')\n",
    "    time_sleep(time_sleep_variable)\n",
    "    nexafs_reading_3 = epics.caget('bl201-beamstop:current')\n",
    "    time_sleep(time_sleep_variable)\n",
    "    nexafs_reading_4 = epics.caget('bl201-beamstop:current')\n",
    "    time_sleep(time_sleep_variable)    \n",
    "    pd_val_nA[i_a] = nexafs_reading_1 + nexafs_reading_2 + nexafs_reading_3 + nexafs_reading_4\n",
    "\n",
    "\n",
    "file_name = 'fe_test_may16'\n",
    "np.savetxt(f'/home/bl531/bl531_commissioning/20240424ML_commissioning/{file_name}.txt', np.vstack((input_energies, mono_angles_deg, pd_val_nA)).T)\n",
    "\n",
    "print('done')\n",
    "\n",
    "\n",
    "\n",
    "\n",
    "\n"
   ]
  },
  {
   "cell_type": "code",
   "execution_count": null,
   "metadata": {},
   "outputs": [],
   "source": []
  },
  {
   "cell_type": "code",
   "execution_count": null,
   "metadata": {},
   "outputs": [],
   "source": []
  },
  {
   "cell_type": "code",
   "execution_count": null,
   "metadata": {},
   "outputs": [],
   "source": []
  },
  {
   "cell_type": "code",
   "execution_count": 124,
   "metadata": {},
   "outputs": [
    {
     "data": {
      "text/plain": [
       "1"
      ]
     },
     "execution_count": 124,
     "metadata": {},
     "output_type": "execute_result"
    }
   ],
   "source": [
    "epics.caput('bl531_xps1:mono_angle_deg', mono_deg(9000))\n"
   ]
  },
  {
   "cell_type": "code",
   "execution_count": 107,
   "metadata": {},
   "outputs": [
    {
     "data": {
      "text/plain": [
       "54.02126444371078"
      ]
     },
     "execution_count": 107,
     "metadata": {},
     "output_type": "execute_result"
    }
   ],
   "source": [
    "mono_deg(3000)"
   ]
  },
  {
   "cell_type": "code",
   "execution_count": null,
   "metadata": {},
   "outputs": [],
   "source": []
  },
  {
   "cell_type": "code",
   "execution_count": 95,
   "metadata": {},
   "outputs": [],
   "source": [
    "energy_eV = lambda mono_deg_input: (mono_deg_input - mono_offset_deg)\n",
    "energy_eV(28.93957213521199)"
   ]
  },
  {
   "cell_type": "code",
   "execution_count": 104,
   "metadata": {},
   "outputs": [
    {
     "data": {
      "text/plain": [
       "29.821699155862255"
      ]
     },
     "execution_count": 104,
     "metadata": {},
     "output_type": "execute_result"
    }
   ],
   "source": [
    "mono_deg(6750)"
   ]
  },
  {
   "cell_type": "code",
   "execution_count": null,
   "metadata": {},
   "outputs": [],
   "source": []
  },
  {
   "cell_type": "code",
   "execution_count": null,
   "metadata": {},
   "outputs": [],
   "source": []
  },
  {
   "cell_type": "code",
   "execution_count": null,
   "metadata": {},
   "outputs": [],
   "source": []
  },
  {
   "cell_type": "code",
   "execution_count": null,
   "metadata": {},
   "outputs": [],
   "source": []
  },
  {
   "cell_type": "code",
   "execution_count": null,
   "metadata": {},
   "outputs": [],
   "source": []
  },
  {
   "cell_type": "code",
   "execution_count": 59,
   "metadata": {},
   "outputs": [
    {
     "data": {
      "text/plain": [
       "11.8"
      ]
     },
     "execution_count": 59,
     "metadata": {},
     "output_type": "execute_result"
    }
   ],
   "source": [
    "epics.caget('bl531_xps2:beamstop_x_mm')"
   ]
  },
  {
   "cell_type": "code",
   "execution_count": 63,
   "metadata": {},
   "outputs": [
    {
     "data": {
      "text/plain": [
       "1"
      ]
     },
     "execution_count": 63,
     "metadata": {},
     "output_type": "execute_result"
    }
   ],
   "source": [
    "epics.caput('bl531_xps2:beamstop_x_mm', 12.5)"
   ]
  },
  {
   "cell_type": "code",
   "execution_count": 91,
   "metadata": {},
   "outputs": [
    {
     "data": {
      "text/plain": [
       "1"
      ]
     },
     "execution_count": 91,
     "metadata": {},
     "output_type": "execute_result"
    }
   ],
   "source": [
    "epics.caput('bl531_xps1:mono_angle_deg', mono_deg(7000))\n"
   ]
  },
  {
   "cell_type": "code",
   "execution_count": 94,
   "metadata": {},
   "outputs": [
    {
     "data": {
      "text/plain": [
       "28.93957213521199"
      ]
     },
     "execution_count": 94,
     "metadata": {},
     "output_type": "execute_result"
    }
   ],
   "source": [
    "epics.caget('bl531_xps1:mono_angle_deg')\n"
   ]
  },
  {
   "cell_type": "code",
   "execution_count": null,
   "metadata": {},
   "outputs": [],
   "source": []
  },
  {
   "cell_type": "code",
   "execution_count": null,
   "metadata": {},
   "outputs": [],
   "source": []
  },
  {
   "cell_type": "code",
   "execution_count": null,
   "metadata": {},
   "outputs": [],
   "source": [
    "\n",
    "np.savetxt(f'/home/bl531/bl531_commissioning/20240424ML_commissioning/{file_name}.txt', np.vstack((input_energies, mono_angles_deg, pd_val_nA)).T)\n"
   ]
  },
  {
   "cell_type": "code",
   "execution_count": null,
   "metadata": {},
   "outputs": [],
   "source": [
    "# lets look at the nexafs scans\n",
    "\n",
    "mrl_save_path = '/home/bl531/bl531_commissioning/20240507ML_commissioning/'\n",
    "\n",
    "spectra_files = sorted(f for f in os.listdir(mrl_save_path) if '_CuKedge' in f)\n",
    "\n",
    "fig, ax = plt.subplots(figsize=(6,5))\n",
    "\n",
    "for spec in spectra_files:\n",
    "    spec_data = np.loadtxt(os.path.join(mrl_save_path, spec))\n",
    "\n",
    "    energy = spec_data[:,0]\n",
    "    mono_angle = spec_data[:,1]\n",
    "    photodiode = spec_data[:,2]\n",
    "\n",
    "\n",
    "    ax.plot(energy, photodiode, label=spec)\n",
    "    #ax.set_xlim([8800, 8880])\n",
    "   # ax.legend()"
   ]
  },
  {
   "cell_type": "code",
   "execution_count": null,
   "metadata": {},
   "outputs": [],
   "source": []
  },
  {
   "cell_type": "code",
   "execution_count": null,
   "metadata": {},
   "outputs": [],
   "source": []
  },
  {
   "cell_type": "code",
   "execution_count": null,
   "metadata": {},
   "outputs": [],
   "source": []
  },
  {
   "cell_type": "code",
   "execution_count": null,
   "metadata": {},
   "outputs": [],
   "source": [
    "# --------------------------------------------------------------------------------------------------------------------------------------------------------------------\n",
    "# saxs\n"
   ]
  },
  {
   "cell_type": "code",
   "execution_count": null,
   "metadata": {},
   "outputs": [],
   "source": [
    "# single image acquisition on saxs detector\n",
    "aqtime_s = 0.1\n",
    "epics.caput('13PIL1:cam1:AcquireTime', aqtime_s * 1.5)\n",
    "epics.caput('13PIL1:cam1:AcquirePeriod', aqtime_s)\n",
    "epics.caput('13PIL1:cam1:Acquire',1)\n",
    "time_sleep(5)\n",
    "last_filename_ascii = epics.caget('13PIL1:cam1:FullFileName_RBV')\n",
    "last_filename = bytes(last_filename_ascii).decode()\n",
    "print(last_filename)"
   ]
  },
  {
   "cell_type": "code",
   "execution_count": null,
   "metadata": {},
   "outputs": [],
   "source": [
    "# display 2d image \n",
    "\n",
    "#filepath = '/mnt/pilatus/' + 'BinaryNP_231222_WAXS_4802.tif'\n",
    "#filepath = '/home/bl531/bl531_commissioning/20240422ML_commissioning/scan08_saxs_tulasi-PET-SeNP2_4899.tif'\n",
    "filepath = last_filename[:-1]\n",
    "filepath = '/mnt/data531/saxs_AgB_8650eV_1sec_5035.tif'\n",
    "\n",
    "# read the image\n",
    "im_tiff = Image.open(filepath)\n",
    "# make the image a numpy array so that we can process it\n",
    "im_np = np.squeeze(np.array(im_tiff.getdata()).reshape(im_tiff.size[1], im_tiff.size[0], 1))\n",
    "\n",
    "# dealing with dyanmic range\n",
    "#im_np[np.where(im_np>100000.0)] =0\n",
    "\n",
    "dx_m = 172e-6\n",
    "Nx_px = 981\n",
    "Ny_px = 1043\n",
    "Dx_m = Nx_px*dx_m\n",
    "Dy_m = Ny_px*dx_m\n",
    "\n",
    "fig=plt.figure(figsize=(5, 5), dpi= 120, facecolor='w', edgecolor='k')\n",
    "extent = (-Dx_m/2 * 1e3, +Dx_m/2 * 1e3, -Dy_m/2 * 1e3, +Dy_m/2 * 1e3)\n",
    "\n",
    "#mask = im_np > np.max(im_np)\n",
    "#im_np[mask]=0\n",
    "\n",
    "plt.imshow(im_np, extent=extent, cmap = 'inferno', norm=LogNorm())\n",
    "plt.xlabel('horizontal Position [mm]')\n",
    "plt.ylabel('vertical Positon [mm]')\n",
    "plt.show()\n",
    "\n",
    "np.percentile(im_np,99.999)   # this value should be below 1 million\n"
   ]
  },
  {
   "cell_type": "code",
   "execution_count": null,
   "metadata": {},
   "outputs": [],
   "source": []
  },
  {
   "cell_type": "code",
   "execution_count": null,
   "metadata": {},
   "outputs": [],
   "source": []
  },
  {
   "cell_type": "code",
   "execution_count": null,
   "metadata": {},
   "outputs": [],
   "source": []
  },
  {
   "cell_type": "code",
   "execution_count": null,
   "metadata": {},
   "outputs": [],
   "source": [
    "# lets look at the nexafs scans\n",
    "\n",
    "mrl_save_path = '/home/bl531/bl531_commissioning/20240424ML_commissioning/'\n",
    "\n",
    "spectra_files = sorted(f for f in os.listdir(mrl_save_path) if '_nexafs' in f)\n",
    "\n",
    "fig, ax = plt.subplots(figsize=(6,5))\n",
    "\n",
    "for spec in spectra_files:\n",
    "    spec_data = np.loadtxt(os.path.join(mrl_save_path, spec))\n",
    "\n",
    "    energy = spec_data[:,0]\n",
    "    mono_angle = spec_data[:,1]\n",
    "    photodiode = spec_data[:,2]\n",
    "\n",
    "\n",
    "    ax.plot(energy, photodiode, label=spec)\n",
    "   # ax.legend()"
   ]
  },
  {
   "cell_type": "code",
   "execution_count": null,
   "metadata": {},
   "outputs": [],
   "source": []
  },
  {
   "cell_type": "code",
   "execution_count": null,
   "metadata": {},
   "outputs": [],
   "source": [
    "# pilatus single image acquisition\n",
    "aqtime_s = 4\n",
    "epics.caput('13PIL1:cam1:AcquireTime', aqtime_s * 1.5)\n",
    "epics.caput('13PIL1:cam1:AcquirePeriod', aqtime_s)\n",
    "epics.caput('13PIL1:cam1:Acquire',1)\n",
    "time_sleep(5)\n",
    "last_filename_ascii = epics.caget('13PIL1:cam1:FullFileName_RBV')\n",
    "last_filename = bytes(last_filename_ascii).decode()\n",
    "print(last_filename)"
   ]
  },
  {
   "cell_type": "code",
   "execution_count": null,
   "metadata": {},
   "outputs": [],
   "source": [
    "# display 2d image \n",
    "\n",
    "\n",
    "filepath = last_filename[:-1]\n",
    "#filepath = '/mnt/data531/scan05_saxs_FeOH3_2sec_5141.tif'\n",
    "filepath = '/mnt/data531/scan05_saxs_FeOH3_2sec_5141.tif'\n",
    "\n",
    "\n",
    "# read the image\n",
    "im_tiff = Image.open(filepath)\n",
    "# make the image a numpy array so that we can process it\n",
    "im_np = np.squeeze(np.array(im_tiff.getdata()).reshape(im_tiff.size[1], im_tiff.size[0], 1))\n",
    "\n",
    "# dealing with dyanmic range\n",
    "#im_np[np.where(im_np>100000.0)] =0\n",
    "\n",
    "dx_m = 172e-6\n",
    "Nx_px = 981\n",
    "Ny_px = 1043\n",
    "Dx_m = Nx_px*dx_m\n",
    "Dy_m = Ny_px*dx_m\n",
    "\n",
    "fig=plt.figure(figsize=(5, 5), dpi= 120, facecolor='w', edgecolor='k')\n",
    "extent = (-Dx_m/2 * 1e3, +Dx_m/2 * 1e3, -Dy_m/2 * 1e3, +Dy_m/2 * 1e3)\n",
    "\n",
    "#mask = im_np > np.max(im_np)\n",
    "#im_np[mask]=0\n",
    "\n",
    "plt.imshow(im_np, extent=extent, cmap = 'inferno', norm=LogNorm())\n",
    "plt.xlabel('horizontal Position [mm]')\n",
    "plt.ylabel('vertical Positon [mm]')\n",
    "plt.show()"
   ]
  },
  {
   "cell_type": "code",
   "execution_count": null,
   "metadata": {},
   "outputs": [],
   "source": [
    "# radial integration of a single pilatus image\n",
    "\n",
    "#filepath = '/home/bl531/bl531_commissioning/20240422ML_commissioning/scan07_saxs_tulasi-PET-ctrl_10000eV/scan07_saxs_tulasi-PET-ctrl_4891.tif'\n",
    "#filepath = '/home/bl531/bl531_commissioning/20240422ML_commissioning/scan08_saxs_tulasi-PET-SeNP2_dark_4898.tif'\n",
    "#filepath = '/home/bl531/bl531_commissioning/20240422ML_commissioning/scan08_saxs_tulasi-PET-SeNP2_4899.tif'\n",
    "\n",
    "az_range=[-180,180]\n",
    "fig, ax = plt.subplots(figsize=(10,6))\n",
    "#qvector_list = []\n",
    "#radint_list = []\n",
    "#energy_list = []\n",
    "#for idx, image in tqdm(enumerate(images[:])):\n",
    "\n",
    "#mono_angle = float(image[ image.find('deg') - 4: image.find('deg')])\n",
    "#energy = calculate_output_energy(mono_angle)\n",
    "\n",
    "# calibration performed in pyfai-calib2 by mrl on 4/22/24\n",
    "dist = 1.47\n",
    "poni1 = 0.10065476219862225\n",
    "poni2 = 0.07695294434659085\n",
    "rot1 = 0\n",
    "rot2 = 0\n",
    "rot3 = 0\n",
    "\n",
    "energy = 7550\n",
    "\n",
    "wavelength = ( (4.1357 * (10**-15)) * (2.9979 * (10**8))) / energy\n",
    "calibrant = pyFAI.calibrant.get_calibrant(\"AgBh\")\n",
    "calibrant.wavelength = wavelength\n",
    "detector = pyFAI.detectors.Pilatus1M(pixel1=0.000172, pixel2=0.000172, max_shape=(1043, 981))\n",
    "ai = AzimuthalIntegrator(dist=dist, detector=detector, wavelength=wavelength, poni1=poni1, poni2=poni2, rot1=rot1, rot2=rot2, rot3=rot3)\n",
    "#ai.maskfile = os.path.join(master_path, 'waxs_mask_mrl_april2024.edf')\n",
    "\n",
    "im_path = os.path.join(filepath)\n",
    "im_data = fabio.open(im_path)\n",
    "im_array = im_data.data\n",
    "im_array[im_array < 1] = 1\n",
    "im_reduced = ai.integrate1d(im_array, npt=2000, azimuth_range=az_range)\n",
    "qvector = im_reduced[0] / 10\n",
    "intensity = im_reduced[1] # / diode_value\n",
    "\n",
    "#log_intensity = np.log10(intensity)\n",
    "#log_intensity_offset = log_intensity - 1 * idx\n",
    "#intensity_offset = 10**(log_intensity_offset)\n",
    "#intensity = intensity_offset\n",
    "\n",
    "#qvector_list.append(qvector)\n",
    "#radint_list.append(intensity)\n",
    "#energy_list.append(energy)\n",
    "energy_rounded = round(energy, 0)\n",
    "ax.plot(qvector, intensity, label=f'{energy_rounded} eV')\n",
    "ax.set_xscale('log')\n",
    "ax.set_yscale('log')    \n",
    "#ax.set_title(f'Fe(OH)3 Sample\\nRadially integrated WAXS profile\\nEnergy={energy} eV')\n",
    "ax.set_xlabel(r'Scattering vector, $q \\ (\\mathrm{\\AA^{-1}})$')\n",
    "ax.set_ylabel('Scattering intensity (arbitrary units)')\n",
    "ax.grid(which='major', color='lightgrey', linewidth=0.6); ax.grid(which='minor', color='lightgrey', linewidth=0.3)\n",
    "ax.legend()\n",
    "plt.show()\n",
    "\n",
    "#if flag_save:\n",
    "#    path_saxs_plot = os.path.join(save_path, f'{sample_folder}_saxs_{energy}eV.tif')\n",
    "#    path_saxs_txt = os.path.join(save_path, f'{sample_folder}_saxs_{energy}eV.txt')\n",
    "#    fig.savefig(path_saxs_plot, bbox_inches='tight', dpi=300)\n",
    "#    np.savetxt(path_saxs_txt, np.vstack((qvector, intensity)).T)\n",
    "\n"
   ]
  },
  {
   "cell_type": "code",
   "execution_count": null,
   "metadata": {},
   "outputs": [],
   "source": [
    "# saxs energy scan\n",
    "\n",
    "Es_eV = np.linspace(6950, 7150, 101)        # same energy range/resolution as nexafs\n",
    "\n",
    "\n",
    "\n",
    "epics.caput('bl531_xps1:mono_angle_deg',mono_deg(Es_eV[0]))\n",
    "time_sleep(5)\n",
    "filenames = ()\n",
    "for i_e in tqdm(range(len(Es_eV))):\n",
    "    mono_angle_deg = mono_deg(Es_eV[i_e])\n",
    "    \n",
    "    epics.caput('bl531_xps1:mono_angle_deg',mono_angle_deg)\n",
    "    time_sleep(2)\n",
    "\n",
    "\n",
    "    aqtime_s = 2\n",
    "    epics.caput('13PIL1:cam1:AcquireTime', aqtime_s * 1.5)\n",
    "    epics.caput('13PIL1:cam1:AcquirePeriod', aqtime_s)\n",
    "    epics.caput('13PIL1:cam1:Acquire',1)\n",
    "    time_sleep(5)\n",
    "\n",
    "    last_filename_ascii = epics.caget('13PIL1:cam1:FullFileName_RBV')\n",
    "    last_filename = bytes(last_filename_ascii).decode()\n",
    "    filenames += (last_filename,)\n",
    "\n"
   ]
  },
  {
   "cell_type": "code",
   "execution_count": null,
   "metadata": {},
   "outputs": [],
   "source": [
    "np.percentile(im_np, 99.99)"
   ]
  },
  {
   "cell_type": "code",
   "execution_count": null,
   "metadata": {},
   "outputs": [],
   "source": [
    "epics.caget('bl531_xps1:mono_angle_deg')"
   ]
  },
  {
   "cell_type": "code",
   "execution_count": null,
   "metadata": {},
   "outputs": [],
   "source": [
    "mono_deg(7150)"
   ]
  },
  {
   "cell_type": "code",
   "execution_count": null,
   "metadata": {},
   "outputs": [],
   "source": [
    "img = ()\n",
    "for i_e in range(len(Es_eV)):\n",
    "    filepath = filenames[i_e][:-1]\n",
    "    # read the image\n",
    "    im_tiff = Image.open(filepath)\n",
    "    # make the image a numpy array so that we can process it\n",
    "    im_np = np.squeeze(np.array(im_tiff.getdata()).reshape(im_tiff.size[1], im_tiff.size[0], 1))\n",
    "    img += (im_np,)\n"
   ]
  },
  {
   "cell_type": "code",
   "execution_count": null,
   "metadata": {},
   "outputs": [],
   "source": [
    "# tracking flux on top of detector to see if we can see fluorescence nexafs\n",
    "\n",
    "fig, ax = plt.subplots()\n",
    "\n",
    "flux = Es_eV*0\n",
    "for i_e in range(len(Es_eV)):\n",
    "    flux[i_e] = np.sum(img[i_e][0:200, 0:200])\n",
    "\n",
    "ax.plot(Es_eV, flux)\n",
    "#ax.set_xlim([0,100])\n",
    "#ax.set_ylim([2.4e6, 2.8e6])\n"
   ]
  },
  {
   "cell_type": "code",
   "execution_count": null,
   "metadata": {},
   "outputs": [],
   "source": []
  },
  {
   "cell_type": "code",
   "execution_count": null,
   "metadata": {},
   "outputs": [],
   "source": []
  },
  {
   "cell_type": "code",
   "execution_count": null,
   "metadata": {},
   "outputs": [],
   "source": []
  },
  {
   "cell_type": "code",
   "execution_count": null,
   "metadata": {},
   "outputs": [],
   "source": []
  },
  {
   "cell_type": "code",
   "execution_count": null,
   "metadata": {},
   "outputs": [],
   "source": []
  },
  {
   "cell_type": "code",
   "execution_count": null,
   "metadata": {},
   "outputs": [],
   "source": []
  },
  {
   "cell_type": "code",
   "execution_count": null,
   "metadata": {},
   "outputs": [],
   "source": [
    "# ------------------------------------------------------------------------------------------------------------------------------------------------------------------------------------------------------------------------------------------------------------------\n",
    "# below is the code from april 22, 2024"
   ]
  },
  {
   "cell_type": "code",
   "execution_count": null,
   "metadata": {},
   "outputs": [],
   "source": [
    "# execute nexafs scan (to collect on photodiode) across an inputted energy range\n",
    "\n",
    "input_energies = np.linspace(8965, 8995, 101)\n",
    "mono_angles_deg = mono_deg(input_energies)\n",
    "pd_val_nA = mono_angles_deg*0\n",
    "\n",
    "epics.caput('bl531_xps1:mono_angle_deg', mono_angles_deg[0])\n",
    "time_sleep(5)\n",
    "for i_a in np.arange(len(mono_angles_deg)):\n",
    "    epics.caput('bl531_xps1:mono_angle_deg', mono_angles_deg[i_a])\n",
    "    time_sleep(0.5)\n",
    "    pd_val_nA[i_a] = epics.caget('bl201-beamstop:current')"
   ]
  },
  {
   "cell_type": "code",
   "execution_count": null,
   "metadata": {},
   "outputs": [],
   "source": [
    "# make a quick plot of the photodiode signal\n",
    "\n",
    "plt.plot(input_energies,pd_val_nA)\n",
    "plt.xlabel('Beamline Energy (eV)')\n",
    "plt.ylabel('Beamstop Diode Intensity [nA]')\n",
    "plt.show()\n",
    "\n",
    "# save data since photodiode signals are not archived (i think)!\n",
    "file_name = 'scan01_nexafs_CopperFoil_photodiode'\n",
    "#file_name = 'scan02_nexafs_CopperFoil_photodiode_dark'\n",
    "#file_name = 'scan03_nexafs_CopperFoil_photodiode_dark2'\n",
    "\n",
    "#np.savetxt(f'/home/bl531/bl531_commissioning/20240422ML_commissioning/{file_name}.txt', np.vstack((input_energies, mono_angles_deg, pd_val_nA)).T)"
   ]
  },
  {
   "cell_type": "code",
   "execution_count": null,
   "metadata": {},
   "outputs": [],
   "source": [
    "# ------------------------------------------------------------------------------------------------------------------------------------------------------------------------------------------------------------------------------------------------------------------\n",
    "# now i've pulled vacuum on a direct beam sample\n",
    "# and i ran tulasis two PET-SeNP samples using these cells"
   ]
  },
  {
   "cell_type": "code",
   "execution_count": null,
   "metadata": {},
   "outputs": [],
   "source": [
    "# lets do a wide energy scan on the photodiode to see what the bkg on is for a direct beam   \n",
    "\n",
    "input_energies = np.linspace(5000, 11000, 201)\n",
    "mono_angles_deg = mono_deg(input_energies)\n",
    "pd_val_nA = mono_angles_deg*0\n",
    "\n",
    "epics.caput('bl531_xps1:mono_angle_deg', mono_angles_deg[0])\n",
    "time_sleep(5)\n",
    "for i_a in np.arange(len(mono_angles_deg)):\n",
    "    epics.caput('bl531_xps1:mono_angle_deg', mono_angles_deg[i_a])\n",
    "    time_sleep(0.5)\n",
    "    pd_val_nA[i_a] = epics.caget('bl201-beamstop:current')\n",
    "\n",
    "\n",
    "# make a quick plot of the photodiode signal\n",
    "plt.plot(input_energies,pd_val_nA)\n",
    "plt.xlabel('Beamline Energy (eV)')\n",
    "plt.ylabel('Beamstop Diode Intensity [nA]')\n",
    "plt.show()\n",
    "\n",
    "# save data since photodiode signals are not archived (i think)!\n",
    "file_name = 'scan04_nexafs_directbeam_photodiode_dark'\n",
    "file_name = 'scan05_nexafs_directbeam_photodiode'\n",
    "\n",
    "#np.savetxt(f'/home/bl531/bl531_commissioning/20240422ML_commissioning/{file_name}.txt', np.vstack((input_energies, mono_angles_deg, pd_val_nA)).T)"
   ]
  },
  {
   "cell_type": "code",
   "execution_count": null,
   "metadata": {},
   "outputs": [],
   "source": [
    "# pilatus time :)  single image acquisition\n",
    "aqtime_s = 1\n",
    "epics.caput('13PIL1:cam1:AcquireTime', aqtime_s * 1.5)\n",
    "epics.caput('13PIL1:cam1:AcquirePeriod', aqtime_s)\n",
    "epics.caput('13PIL1:cam1:Acquire',1)\n",
    "time_sleep(5)\n",
    "last_filename_ascii = epics.caget('13PIL1:cam1:FullFileName_RBV')\n",
    "last_filename = bytes(last_filename_ascii).decode()\n",
    "print(last_filename)"
   ]
  },
  {
   "cell_type": "code",
   "execution_count": null,
   "metadata": {},
   "outputs": [],
   "source": [
    "# display 2d image \n",
    "\n",
    "#filepath = '/mnt/pilatus/' + 'BinaryNP_231222_WAXS_4802.tif'\n",
    "#filepath = '/mnt/pilatus/' + 'FeNOM_20231221_3756.tif'\n",
    "#filepath = 'afp://bl531user@bl531data.local/User_Data/' + last_filename[13:-1]\n",
    "filepath = f'/home/bl531/bl531_commissioning/20240422ML_commissioning/{last_filename[13:-1]}'\n",
    "#filepath = '/home/bl531/bl531_commissioning/20240422ML_commissioning/scan06_saxs_directbeam_5000-11000eV/scan06_saxs_directbeam_4882.tif'\n",
    "filepath = '/home/bl531/bl531_commissioning/20240422ML_commissioning/scan07_saxs_tulasi-PET-ctrl_4894.tif'\n",
    "filepath = '/home/bl531/bl531_commissioning/20240422ML_commissioning/scan08_saxs_tulasi-PET-SeNP2_4899.tif'\n",
    "\n",
    "\n",
    "# read the image\n",
    "im_tiff = Image.open(filepath)\n",
    "# make the image a numpy array so that we can process it\n",
    "im_np = np.squeeze(np.array(im_tiff.getdata()).reshape(im_tiff.size[1], im_tiff.size[0], 1))\n",
    "\n",
    "# dealing with dyanmic range\n",
    "#im_np[np.where(im_np>100000.0)] =0\n",
    "\n",
    "dx_m = 172e-6\n",
    "Nx_px = 981\n",
    "Ny_px = 1043\n",
    "Dx_m = Nx_px*dx_m\n",
    "Dy_m = Ny_px*dx_m\n",
    "\n",
    "fig=plt.figure(figsize=(5, 5), dpi= 120, facecolor='w', edgecolor='k')\n",
    "extent = (-Dx_m/2 * 1e3, +Dx_m/2 * 1e3, -Dy_m/2 * 1e3, +Dy_m/2 * 1e3)\n",
    "\n",
    "#mask = im_np > np.max(im_np)\n",
    "#im_np[mask]=0\n",
    "\n",
    "plt.imshow(im_np, extent=extent, cmap = 'inferno', norm=LogNorm())\n",
    "plt.xlabel('horizontal Position [mm]')\n",
    "plt.ylabel('vertical Positon [mm]')\n",
    "plt.show()"
   ]
  },
  {
   "cell_type": "code",
   "execution_count": null,
   "metadata": {},
   "outputs": [],
   "source": [
    "# check that you are not oversaturating detector... if so, adjust exposure time \n",
    "\n",
    "np.percentile(im_np,99.9)   # this value should be below 1 million"
   ]
  },
  {
   "cell_type": "code",
   "execution_count": null,
   "metadata": {},
   "outputs": [],
   "source": [
    "# pilatus energy scan\n",
    "\n",
    "Es_eV = np.linspace(5000, 11000, 61)\n",
    "\n",
    "epics.caput('bl531_xps1:mono_angle_deg',mono_deg(Es_eV[0]))\n",
    "time_sleep(5)\n",
    "filenames = ()\n",
    "for i_e in range(len(Es_eV)):\n",
    "    mono_angle_deg = mono_deg(Es_eV[i_e])\n",
    "    \n",
    "    epics.caput('bl531_xps1:mono_angle_deg',mono_angle_deg)\n",
    "    time_sleep(2)\n",
    "\n",
    "    aqtime_s = 1\n",
    "    epics.caput('13PIL1:cam1:AcquireTime', aqtime_s * 1.5)\n",
    "    epics.caput('13PIL1:cam1:AcquirePeriod', aqtime_s)\n",
    "    epics.caput('13PIL1:cam1:Acquire',1)\n",
    "    time_sleep(5)\n",
    "\n",
    "    last_filename_ascii = epics.caget('13PIL1:cam1:FullFileName_RBV')\n",
    "    last_filename = bytes(last_filename_ascii).decode()[13:-1]\n",
    "    filenames += (last_filename,)\n"
   ]
  },
  {
   "cell_type": "code",
   "execution_count": null,
   "metadata": {},
   "outputs": [],
   "source": [
    "# radial integration of a single pilatus image\n",
    "\n",
    "filepath = '/home/bl531/bl531_commissioning/20240422ML_commissioning/scan07_saxs_tulasi-PET-ctrl_10000eV/scan07_saxs_tulasi-PET-ctrl_4891.tif'\n",
    "filepath = '/home/bl531/bl531_commissioning/20240422ML_commissioning/scan08_saxs_tulasi-PET-SeNP2_dark_4898.tif'\n",
    "filepath = '/home/bl531/bl531_commissioning/20240422ML_commissioning/scan08_saxs_tulasi-PET-SeNP2_4899.tif'\n",
    "\n",
    "az_range=[-180,180]\n",
    "fig, ax = plt.subplots(figsize=(10,6))\n",
    "#qvector_list = []\n",
    "#radint_list = []\n",
    "#energy_list = []\n",
    "#for idx, image in tqdm(enumerate(images[:])):\n",
    "mono_angle = 24.19\n",
    "energy = 10000\n",
    "#mono_angle = float(image[ image.find('deg') - 4: image.find('deg')])\n",
    "#energy = calculate_output_energy(mono_angle)\n",
    "\n",
    "# calibration performed in pyfai-calib2 by mrl on 4/22/24\n",
    "dist = 1.47\n",
    "poni1 = 0.10065476219862225\n",
    "poni2 = 0.07695294434659085\n",
    "rot1 = 0\n",
    "rot2 = 0\n",
    "rot3 = 0\n",
    "\n",
    "wavelength = ( (4.1357 * (10**-15)) * (2.9979 * (10**8))) / energy\n",
    "calibrant = pyFAI.calibrant.get_calibrant(\"AgBh\")\n",
    "calibrant.wavelength = wavelength\n",
    "detector = pyFAI.detectors.Pilatus1M(pixel1=0.000172, pixel2=0.000172, max_shape=(1043, 981))\n",
    "ai = AzimuthalIntegrator(dist=dist, detector=detector, wavelength=wavelength, poni1=poni1, poni2=poni2, rot1=rot1, rot2=rot2, rot3=rot3)\n",
    "#ai.maskfile = os.path.join(master_path, 'waxs_mask_mrl_april2024.edf')\n",
    "\n",
    "im_path = os.path.join(filepath)\n",
    "im_data = fabio.open(im_path)\n",
    "im_array = im_data.data\n",
    "im_array[im_array < 1] = 1\n",
    "im_reduced = ai.integrate1d(im_array, npt=2000, azimuth_range=az_range)\n",
    "qvector = im_reduced[0] / 10\n",
    "intensity = im_reduced[1] # / diode_value\n",
    "\n",
    "#log_intensity = np.log10(intensity)\n",
    "#log_intensity_offset = log_intensity - 1 * idx\n",
    "#intensity_offset = 10**(log_intensity_offset)\n",
    "#intensity = intensity_offset\n",
    "\n",
    "#qvector_list.append(qvector)\n",
    "#radint_list.append(intensity)\n",
    "#energy_list.append(energy)\n",
    "energy_rounded = round(energy, 0)\n",
    "ax.plot(qvector, intensity, label=f'{energy_rounded} eV')\n",
    "ax.set_xscale('log')\n",
    "ax.set_yscale('log')    \n",
    "#ax.set_title(f'Fe(OH)3 Sample\\nRadially integrated WAXS profile\\nEnergy={energy} eV')\n",
    "ax.set_xlabel(r'Scattering vector, $q \\ (\\mathrm{\\AA^{-1}})$')\n",
    "ax.set_ylabel('Scattering intensity (arbitrary units)')\n",
    "ax.grid(which='major', color='lightgrey', linewidth=0.6); ax.grid(which='minor', color='lightgrey', linewidth=0.3)\n",
    "ax.legend()\n",
    "plt.show()\n",
    "\n",
    "#if flag_save:\n",
    "#    path_saxs_plot = os.path.join(save_path, f'{sample_folder}_saxs_{energy}eV.tif')\n",
    "#    path_saxs_txt = os.path.join(save_path, f'{sample_folder}_saxs_{energy}eV.txt')\n",
    "#    fig.savefig(path_saxs_plot, bbox_inches='tight', dpi=300)\n",
    "#    np.savetxt(path_saxs_txt, np.vstack((qvector, intensity)).T)\n",
    "\n"
   ]
  },
  {
   "cell_type": "code",
   "execution_count": null,
   "metadata": {},
   "outputs": [],
   "source": []
  },
  {
   "cell_type": "code",
   "execution_count": null,
   "metadata": {},
   "outputs": [],
   "source": [
    "# ------------------------------------------------------------------------------------------------------------------------------------------------------------------------------------------------------------------------------------------------------------------\n",
    "# now i have the Copper Foil back in the chamber and i pulled vacuum\n",
    "# want to try some spectroscopy (NEXAFS, EXAFS) at Cu K-edge"
   ]
  },
  {
   "cell_type": "code",
   "execution_count": null,
   "metadata": {},
   "outputs": [],
   "source": []
  },
  {
   "cell_type": "code",
   "execution_count": null,
   "metadata": {},
   "outputs": [],
   "source": [
    "# lets look at the Cu K-edge\n",
    "\n",
    "input_energies = np.linspace(8965, 8995, 101)\n",
    "mono_angles_deg = mono_deg(input_energies)\n",
    "pd_val_nA = mono_angles_deg*0\n",
    "\n",
    "epics.caput('bl531_xps1:mono_angle_deg', mono_angles_deg[0])\n",
    "time_sleep(5)\n",
    "for i_a in np.arange(len(mono_angles_deg)):\n",
    "    epics.caput('bl531_xps1:mono_angle_deg', mono_angles_deg[i_a])\n",
    "    time_sleep(5)\n",
    "    pd_val_nA[i_a] = epics.caget('bl201-beamstop:current')\n",
    "\n",
    "\n",
    "# make a quick plot of the photodiode signal\n",
    "plt.plot(input_energies,pd_val_nA)\n",
    "plt.xlabel('Beamline Energy (eV)')\n",
    "plt.ylabel('Beamstop Diode Intensity [nA]')\n",
    "plt.show()\n",
    "\n",
    "# save data since photodiode signals are not archived (i think)!\n",
    "file_name = 'scan12_nexafs_CuFoil-vacuum_photodiode_5sec'\n",
    "\n",
    "\n",
    "\n",
    "np.savetxt(f'/home/bl531/bl531_commissioning/20240422ML_commissioning/{file_name}.txt', np.vstack((input_energies, mono_angles_deg, pd_val_nA)).T)"
   ]
  },
  {
   "cell_type": "code",
   "execution_count": null,
   "metadata": {},
   "outputs": [],
   "source": [
    "# 0.5 sec photodiode scan for reference (to compare to 5 sec scan above)\n",
    "\n",
    "plt.plot(input_energies,pd_val_nA)\n",
    "plt.xlabel('Beamline Energy (eV)')\n",
    "plt.ylabel('Beamstop Diode Intensity [nA]')\n",
    "\n",
    "plt.show()"
   ]
  },
  {
   "cell_type": "code",
   "execution_count": null,
   "metadata": {},
   "outputs": [],
   "source": []
  },
  {
   "cell_type": "code",
   "execution_count": null,
   "metadata": {},
   "outputs": [],
   "source": []
  },
  {
   "cell_type": "code",
   "execution_count": null,
   "metadata": {},
   "outputs": [],
   "source": []
  },
  {
   "cell_type": "code",
   "execution_count": null,
   "metadata": {},
   "outputs": [],
   "source": []
  },
  {
   "cell_type": "code",
   "execution_count": null,
   "metadata": {},
   "outputs": [],
   "source": []
  },
  {
   "cell_type": "code",
   "execution_count": null,
   "metadata": {},
   "outputs": [],
   "source": []
  },
  {
   "cell_type": "code",
   "execution_count": null,
   "metadata": {},
   "outputs": [],
   "source": []
  },
  {
   "cell_type": "code",
   "execution_count": null,
   "metadata": {},
   "outputs": [],
   "source": [
    "# ------------------------------------------------------------------------------------------------------------------------------------------------------------------------------------------------------------------------------------------------------------------\n",
    "# antoines code from 20240422ML_calibration.ipynb"
   ]
  },
  {
   "cell_type": "code",
   "execution_count": null,
   "metadata": {},
   "outputs": [],
   "source": [
    "# testing EPICS with the monochromator\n",
    "epics.caget('bl531_xps1:mono_angle_deg')"
   ]
  },
  {
   "cell_type": "code",
   "execution_count": null,
   "metadata": {},
   "outputs": [],
   "source": [
    "\n",
    "epics.caget('bl201-beamstop:current')"
   ]
  },
  {
   "cell_type": "code",
   "execution_count": null,
   "metadata": {},
   "outputs": [],
   "source": [
    "import matplotlib.pyplot as plt\n",
    "from time import sleep as time_sleep\n",
    "\n",
    "mono_angles_deg = np.linspace(25,26,101)\n",
    "pd_val_nA = mono_angles_deg*0\n",
    "\n",
    "\n",
    "epics.caput('bl531_xps1:mono_angle_deg', mono_angles_deg[0])\n",
    "time_sleep(5)\n",
    "for i_a in np.arange(len(mono_angles_deg)):\n",
    "    epics.caput('bl531_xps1:mono_angle_deg', mono_angles_deg[i_a])\n",
    "    time_sleep(0.5)\n",
    "    pd_val_nA[i_a] = epics.caget('bl201-beamstop:current')\n",
    "\n",
    "\n"
   ]
  },
  {
   "cell_type": "code",
   "execution_count": null,
   "metadata": {},
   "outputs": [],
   "source": [
    "plt.plot(mono_angles_deg,pd_val_nA)\n",
    "plt.xlabel('Mono angle [deg]')\n",
    "plt.ylabel('beamstop diode intensity [nA]')\n",
    "plt.show()\n"
   ]
  },
  {
   "cell_type": "code",
   "execution_count": null,
   "metadata": {},
   "outputs": [],
   "source": [
    "pd_val_nA"
   ]
  }
 ],
 "metadata": {
  "kernelspec": {
   "display_name": "Python 3.10.6 64-bit",
   "language": "python",
   "name": "python3"
  },
  "language_info": {
   "codemirror_mode": {
    "name": "ipython",
    "version": 3
   },
   "file_extension": ".py",
   "mimetype": "text/x-python",
   "name": "python",
   "nbconvert_exporter": "python",
   "pygments_lexer": "ipython3",
   "version": "3.10.6"
  },
  "orig_nbformat": 4,
  "vscode": {
   "interpreter": {
    "hash": "916dbcbb3f70747c44a77c7bcd40155683ae19c65e1c03b4aa3499c5328201f1"
   }
  }
 },
 "nbformat": 4,
 "nbformat_minor": 2
}

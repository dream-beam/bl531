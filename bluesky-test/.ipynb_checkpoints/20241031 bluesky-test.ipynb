{
 "cells": [
  {
   "cell_type": "markdown",
   "id": "daad3847",
   "metadata": {},
   "source": [
    "# Bluesky sample stage operation"
   ]
  },
  {
   "cell_type": "markdown",
   "id": "717b6dd2",
   "metadata": {},
   "source": [
    "Cleaning up bluesky routines and testing sample stage scan before commissioning"
   ]
  },
  {
   "cell_type": "code",
   "execution_count": 2,
   "id": "53d02f73",
   "metadata": {},
   "outputs": [],
   "source": [
    "# October 2024\n",
    "# awojdyla@lbl.gov, xchong@lbl.gov, francisho@lbl.gov"
   ]
  },
  {
   "cell_type": "code",
   "execution_count": 3,
   "id": "9e5a92f6",
   "metadata": {},
   "outputs": [],
   "source": [
    "import epics\n",
    "import bluesky\n",
    "#import numpy\n",
    "#import matplotlib.pyplot as plt\n",
    "#import time "
   ]
  },
  {
   "cell_type": "code",
   "execution_count": 4,
   "id": "e3c144e3",
   "metadata": {},
   "outputs": [],
   "source": [
    "from bluesky import RunEngine\n",
    "RE = RunEngine({})"
   ]
  },
  {
   "cell_type": "code",
   "execution_count": 5,
   "id": "9f75eb41",
   "metadata": {},
   "outputs": [
    {
     "data": {
      "text/plain": [
       "0"
      ]
     },
     "execution_count": 5,
     "metadata": {},
     "output_type": "execute_result"
    }
   ],
   "source": [
    "from databroker import Broker\n",
    "db = Broker.named('temp')\n",
    "\n",
    "# Insert all metadata/data captured into db.\n",
    "RE.subscribe(db.insert)"
   ]
  },
  {
   "cell_type": "markdown",
   "id": "f085786c",
   "metadata": {},
   "source": [
    "### Connecting to EPICS motors\n",
    "We had some issues here witht the picoscale interformeter -- we need to use caproto to talk to it (ophyd's motor does not work directly out of the box)\n",
    "\n",
    "from: https://nsls-ii.github.io/bluesky/tutorial.html\n",
    "\n",
    "```\n",
    "from ophyd import EpicsMotor\n",
    "nano_top_x = EpicsMotor('XF:31ID-ES{Dif:Nano-Ax:TopX}Mtr', name='nano_top_x')\n",
    "```\n",
    "see also:\n",
    "\n",
    "https://blueskyproject.io/ophyd/generated/ophyd.epics_motor.EpicsMotor.html#:~:text=class%20ophyd.epics_motor.EpicsMotor%28prefix%3D%27%27%2C%20%2A%2C%20name%2C%20kind%3DNone%2C%20read_attrs%3DNone%2C%20configuration_attrs%3DNone%2C%20parent%3DNone%2C,are%20passed%20through%20to%20the%20base%20class%2C%20Positioner\n",
    "\n",
    "\n"
   ]
  },
  {
   "cell_type": "code",
   "execution_count": 22,
   "id": "3d72c8ac",
   "metadata": {},
   "outputs": [
    {
     "data": {
      "text/plain": [
       "{'beamstop diode': {'value': -0.8894, 'timestamp': 1730411765.611748}}"
      ]
     },
     "execution_count": 22,
     "metadata": {},
     "output_type": "execute_result"
    }
   ],
   "source": [
    "from ophyd import EpicsMotor\n",
    "import ophyd\n",
    "ophyd.set_cl('caproto')\n",
    "\n",
    "sample_x_mm = ophyd.EpicsMotor('bl531_xps2:sample_x_mm', name='sample stage horizontal')\n",
    "sample_y_mm = ophyd.EpicsMotor('bl531_xps2:sample_y_mm', name='sample stage vertical')\n",
    "beamstop_diode = ophyd.EpicsSignal('bl201-beamstop:current', name='beamstop diode')\n",
    "\n",
    "#this works\n",
    "sample_x_mm.wait_for_connection(timeout=2.0)\n",
    "sample_x_mm.read()\n",
    "sample_y_mm.wait_for_connection(timeout=2.0)\n",
    "sample_y_mm.read()\n",
    "beamstop_diode.wait_for_connection(timeout=2.0)\n",
    "beamstop_diode.read()"
   ]
  },
  {
   "cell_type": "code",
   "execution_count": 7,
   "id": "55e3069f",
   "metadata": {},
   "outputs": [
    {
     "data": {
      "text/plain": [
       "('07ac858a-1945-48c2-b1cc-a0099c5176a6',)"
      ]
     },
     "execution_count": 7,
     "metadata": {},
     "output_type": "execute_result"
    }
   ],
   "source": [
    "from bluesky.plans import scan\n",
    "# just a motor scan, no detectors\n",
    "RE(scan([], sample_x_mm, 1, 2, sample_y_mm, 1,2, 11))\n",
    "\n",
    "#works, but does a weird scan\n",
    "#https://nsls-ii.github.io/bluesky/generated/bluesky.plans.grid_scan.html#bluesky.plans.grid_scan\n"
   ]
  },
  {
   "cell_type": "code",
   "execution_count": 7,
   "id": "1ae9cd3a",
   "metadata": {},
   "outputs": [
    {
     "data": {
      "text/plain": [
       "('f1183da2-0559-4b45-9fac-280258be189d',)"
      ]
     },
     "execution_count": 7,
     "metadata": {},
     "output_type": "execute_result"
    }
   ],
   "source": [
    "from bluesky.plans import grid_scan\n",
    "\n",
    "RE(grid_scan([], sample_x_mm, 1, 2, 3, sample_y_mm, 1,2,3))"
   ]
  },
  {
   "cell_type": "code",
   "execution_count": 23,
   "id": "f144da6d",
   "metadata": {},
   "outputs": [
    {
     "data": {
      "text/plain": [
       "('2b5c81a9-69b7-4261-bc74-2f1ab96253ba',)"
      ]
     },
     "execution_count": 23,
     "metadata": {},
     "output_type": "execute_result"
    }
   ],
   "source": [
    "from bluesky.plans import grid_scan\n",
    "\n",
    "RE(grid_scan([beamstop_diode], sample_x_mm, 1, 2, 3, sample_y_mm, 1,2,3))"
   ]
  },
  {
   "cell_type": "code",
   "execution_count": 24,
   "id": "d468e1e0",
   "metadata": {},
   "outputs": [
    {
     "data": {
      "text/html": [
       "<div>\n",
       "<style scoped>\n",
       "    .dataframe tbody tr th:only-of-type {\n",
       "        vertical-align: middle;\n",
       "    }\n",
       "\n",
       "    .dataframe tbody tr th {\n",
       "        vertical-align: top;\n",
       "    }\n",
       "\n",
       "    .dataframe thead th {\n",
       "        text-align: right;\n",
       "    }\n",
       "</style>\n",
       "<table border=\"1\" class=\"dataframe\">\n",
       "  <thead>\n",
       "    <tr style=\"text-align: right;\">\n",
       "      <th></th>\n",
       "      <th>time</th>\n",
       "      <th>sample stage horizontal</th>\n",
       "      <th>sample stage horizontal_user_setpoint</th>\n",
       "      <th>sample stage vertical</th>\n",
       "      <th>sample stage vertical_user_setpoint</th>\n",
       "      <th>beamstop diode</th>\n",
       "    </tr>\n",
       "    <tr>\n",
       "      <th>seq_num</th>\n",
       "      <th></th>\n",
       "      <th></th>\n",
       "      <th></th>\n",
       "      <th></th>\n",
       "      <th></th>\n",
       "      <th></th>\n",
       "    </tr>\n",
       "  </thead>\n",
       "  <tbody>\n",
       "    <tr>\n",
       "      <th>1</th>\n",
       "      <td>2024-10-31 21:56:34.844740868</td>\n",
       "      <td>1.0</td>\n",
       "      <td>1.0</td>\n",
       "      <td>1.0</td>\n",
       "      <td>1.0</td>\n",
       "      <td>-0.8904</td>\n",
       "    </tr>\n",
       "    <tr>\n",
       "      <th>2</th>\n",
       "      <td>2024-10-31 21:56:36.335853338</td>\n",
       "      <td>1.0</td>\n",
       "      <td>1.0</td>\n",
       "      <td>1.5</td>\n",
       "      <td>1.5</td>\n",
       "      <td>-0.8896</td>\n",
       "    </tr>\n",
       "    <tr>\n",
       "      <th>3</th>\n",
       "      <td>2024-10-31 21:56:37.833946705</td>\n",
       "      <td>1.0</td>\n",
       "      <td>1.0</td>\n",
       "      <td>2.0</td>\n",
       "      <td>2.0</td>\n",
       "      <td>-0.8896</td>\n",
       "    </tr>\n",
       "    <tr>\n",
       "      <th>4</th>\n",
       "      <td>2024-10-31 21:56:40.015880346</td>\n",
       "      <td>1.5</td>\n",
       "      <td>1.5</td>\n",
       "      <td>1.0</td>\n",
       "      <td>1.0</td>\n",
       "      <td>-0.8902</td>\n",
       "    </tr>\n",
       "    <tr>\n",
       "      <th>5</th>\n",
       "      <td>2024-10-31 21:56:41.502079487</td>\n",
       "      <td>1.5</td>\n",
       "      <td>1.5</td>\n",
       "      <td>1.5</td>\n",
       "      <td>1.5</td>\n",
       "      <td>-0.8936</td>\n",
       "    </tr>\n",
       "    <tr>\n",
       "      <th>6</th>\n",
       "      <td>2024-10-31 21:56:42.987761974</td>\n",
       "      <td>1.5</td>\n",
       "      <td>1.5</td>\n",
       "      <td>2.0</td>\n",
       "      <td>2.0</td>\n",
       "      <td>-0.8945</td>\n",
       "    </tr>\n",
       "    <tr>\n",
       "      <th>7</th>\n",
       "      <td>2024-10-31 21:56:45.159467697</td>\n",
       "      <td>2.0</td>\n",
       "      <td>2.0</td>\n",
       "      <td>1.0</td>\n",
       "      <td>1.0</td>\n",
       "      <td>-0.8947</td>\n",
       "    </tr>\n",
       "    <tr>\n",
       "      <th>8</th>\n",
       "      <td>2024-10-31 21:56:46.655962467</td>\n",
       "      <td>2.0</td>\n",
       "      <td>2.0</td>\n",
       "      <td>1.5</td>\n",
       "      <td>1.5</td>\n",
       "      <td>-0.8929</td>\n",
       "    </tr>\n",
       "    <tr>\n",
       "      <th>9</th>\n",
       "      <td>2024-10-31 21:56:48.146364450</td>\n",
       "      <td>2.0</td>\n",
       "      <td>2.0</td>\n",
       "      <td>2.0</td>\n",
       "      <td>2.0</td>\n",
       "      <td>-0.8918</td>\n",
       "    </tr>\n",
       "  </tbody>\n",
       "</table>\n",
       "</div>"
      ],
      "text/plain": [
       "                                 time  sample stage horizontal  \\\n",
       "seq_num                                                          \n",
       "1       2024-10-31 21:56:34.844740868                      1.0   \n",
       "2       2024-10-31 21:56:36.335853338                      1.0   \n",
       "3       2024-10-31 21:56:37.833946705                      1.0   \n",
       "4       2024-10-31 21:56:40.015880346                      1.5   \n",
       "5       2024-10-31 21:56:41.502079487                      1.5   \n",
       "6       2024-10-31 21:56:42.987761974                      1.5   \n",
       "7       2024-10-31 21:56:45.159467697                      2.0   \n",
       "8       2024-10-31 21:56:46.655962467                      2.0   \n",
       "9       2024-10-31 21:56:48.146364450                      2.0   \n",
       "\n",
       "         sample stage horizontal_user_setpoint  sample stage vertical  \\\n",
       "seq_num                                                                 \n",
       "1                                          1.0                    1.0   \n",
       "2                                          1.0                    1.5   \n",
       "3                                          1.0                    2.0   \n",
       "4                                          1.5                    1.0   \n",
       "5                                          1.5                    1.5   \n",
       "6                                          1.5                    2.0   \n",
       "7                                          2.0                    1.0   \n",
       "8                                          2.0                    1.5   \n",
       "9                                          2.0                    2.0   \n",
       "\n",
       "         sample stage vertical_user_setpoint  beamstop diode  \n",
       "seq_num                                                       \n",
       "1                                        1.0         -0.8904  \n",
       "2                                        1.5         -0.8896  \n",
       "3                                        2.0         -0.8896  \n",
       "4                                        1.0         -0.8902  \n",
       "5                                        1.5         -0.8936  \n",
       "6                                        2.0         -0.8945  \n",
       "7                                        1.0         -0.8947  \n",
       "8                                        1.5         -0.8929  \n",
       "9                                        2.0         -0.8918  "
      ]
     },
     "execution_count": 24,
     "metadata": {},
     "output_type": "execute_result"
    }
   ],
   "source": [
    "header = db[-1]\n",
    "header.table()"
   ]
  },
  {
   "cell_type": "code",
   "execution_count": 17,
   "id": "09d00948",
   "metadata": {},
   "outputs": [
    {
     "name": "stderr",
     "output_type": "stream",
     "text": [
      "/usr/local/lib/python3.10/dist-packages/bluesky/utils/__init__.py:934: UserWarning: bluesky.utils.install_qt_kicker is no longer necessary and has no effect. Please remove your use of it. It may be removed in a future release of bluesky.\n",
      "  warnings.warn(\"bluesky.utils.install_qt_kicker is no longer necessary and \"\n"
     ]
    }
   ],
   "source": [
    "# some issues here -- not critical\n",
    "from bluesky.callbacks.best_effort import BestEffortCallback\n",
    "bec = BestEffortCallback()\n",
    "# Send all metadata/data captured to the BestEffortCallback.\n",
    "bec_token = RE.subscribe(bec)\n",
    "# Make plots update live while scans run.\n",
    "from bluesky.utils import install_kicker\n"
   ]
  },
  {
   "cell_type": "code",
   "execution_count": 21,
   "id": "939c209f",
   "metadata": {},
   "outputs": [
    {
     "data": {
      "text/plain": [
       "('f59ba064-15f1-4e77-a008-19e88331a6fc',)"
      ]
     },
     "execution_count": 21,
     "metadata": {},
     "output_type": "execute_result"
    }
   ],
   "source": [
    "RE.unsubscribe(bec_token)\n",
    "RE(grid_scan([], sample_x_mm, 1, 2, 3, sample_y_mm, 1,2,3))"
   ]
  },
  {
   "cell_type": "code",
   "execution_count": null,
   "id": "342597cd",
   "metadata": {},
   "outputs": [],
   "source": [
    "RE(scan(dets, motors, 25, 28, 61))"
   ]
  },
  {
   "cell_type": "code",
   "execution_count": null,
   "id": "a8b88b96",
   "metadata": {},
   "outputs": [],
   "source": []
  }
 ],
 "metadata": {
  "kernelspec": {
   "display_name": "Python 3.10.4 64-bit",
   "language": "python",
   "name": "python3"
  },
  "language_info": {
   "codemirror_mode": {
    "name": "ipython",
    "version": 3
   },
   "file_extension": ".py",
   "mimetype": "text/x-python",
   "name": "python",
   "nbconvert_exporter": "python",
   "pygments_lexer": "ipython3",
   "version": "3.10.6"
  },
  "vscode": {
   "interpreter": {
    "hash": "916dbcbb3f70747c44a77c7bcd40155683ae19c65e1c03b4aa3499c5328201f1"
   }
  }
 },
 "nbformat": 4,
 "nbformat_minor": 5
}

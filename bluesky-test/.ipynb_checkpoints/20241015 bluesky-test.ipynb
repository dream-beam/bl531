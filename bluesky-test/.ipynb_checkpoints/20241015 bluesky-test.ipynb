{
 "cells": [
  {
   "cell_type": "markdown",
   "id": "daad3847",
   "metadata": {},
   "source": [
    "# Bluesky sample stage operation"
   ]
  },
  {
   "cell_type": "markdown",
   "id": "717b6dd2",
   "metadata": {},
   "source": [
    "Cleaning up bluesky routines and testing sample stage scan before commissioning"
   ]
  },
  {
   "cell_type": "code",
   "execution_count": 1,
   "id": "53d02f73",
   "metadata": {},
   "outputs": [],
   "source": [
    "# October 2024\n",
    "# awojdyla@lbl.gov, xchong@lbl.gov, francisho@lbl.gov"
   ]
  },
  {
   "cell_type": "code",
   "execution_count": 1,
   "id": "9e5a92f6",
   "metadata": {},
   "outputs": [],
   "source": [
    "import epics\n",
    "import bluesky\n",
    "#import numpy\n",
    "#import matplotlib.pyplot as plt\n",
    "#import time "
   ]
  },
  {
   "cell_type": "code",
   "execution_count": 2,
   "id": "e3c144e3",
   "metadata": {},
   "outputs": [],
   "source": [
    "from bluesky import RunEngine\n",
    "RE = RunEngine({})"
   ]
  },
  {
   "cell_type": "code",
   "execution_count": 3,
   "id": "9f75eb41",
   "metadata": {},
   "outputs": [
    {
     "data": {
      "text/plain": [
       "0"
      ]
     },
     "execution_count": 3,
     "metadata": {},
     "output_type": "execute_result"
    }
   ],
   "source": [
    "from databroker import Broker\n",
    "db = Broker.named('temp')\n",
    "\n",
    "# Insert all metadata/data captured into db.\n",
    "RE.subscribe(db.insert)"
   ]
  },
  {
   "cell_type": "markdown",
   "id": "f085786c",
   "metadata": {},
   "source": [
    "### Connecting to EPICS motors\n",
    "We had some issues here witht the picoscale interformeter -- we need to use caproto to talk to it (ophyd's motor does not work directly out of the box)\n",
    "\n",
    "from: https://nsls-ii.github.io/bluesky/tutorial.html\n",
    "\n",
    "```\n",
    "from ophyd import EpicsMotor\n",
    "nano_top_x = EpicsMotor('XF:31ID-ES{Dif:Nano-Ax:TopX}Mtr', name='nano_top_x')\n",
    "```\n",
    "see also:\n",
    "\n",
    "https://blueskyproject.io/ophyd/generated/ophyd.epics_motor.EpicsMotor.html#:~:text=class%20ophyd.epics_motor.EpicsMotor%28prefix%3D%27%27%2C%20%2A%2C%20name%2C%20kind%3DNone%2C%20read_attrs%3DNone%2C%20configuration_attrs%3DNone%2C%20parent%3DNone%2C,are%20passed%20through%20to%20the%20base%20class%2C%20Positioner\n",
    "\n",
    "\n"
   ]
  },
  {
   "cell_type": "code",
   "execution_count": 5,
   "id": "3d72c8ac",
   "metadata": {},
   "outputs": [
    {
     "data": {
      "text/plain": [
       "OrderedDict([('sample stage vertical',\n",
       "              {'value': 5.0, 'timestamp': 1729019808.553445}),\n",
       "             ('sample stage vertical_user_setpoint',\n",
       "              {'value': 4.0, 'timestamp': 1729020141.7645588})])"
      ]
     },
     "execution_count": 5,
     "metadata": {},
     "output_type": "execute_result"
    }
   ],
   "source": [
    "from ophyd import EpicsMotor\n",
    "import ophyd\n",
    "ophyd.set_cl('caproto')\n",
    "\n",
    "sample_x_mm = ophyd.EpicsMotor('bl531_xps2:sample_x_mm', name='sample stage horizontal')\n",
    "sample_y_mm = ophyd.EpicsMotor('bl531_xps2:sample_y_mm', name='sample stage vertical')\n",
    "\n",
    "#this works\n",
    "sample_x_mm.wait_for_connection(timeout=2.0)\n",
    "sample_x_mm.read()\n",
    "sample_y_mm.wait_for_connection(timeout=2.0)\n",
    "sample_y_mm.read()"
   ]
  },
  {
   "cell_type": "code",
   "execution_count": 11,
   "id": "55e3069f",
   "metadata": {},
   "outputs": [
    {
     "data": {
      "text/plain": [
       "('ac5a2712-1f3c-4c82-b7a9-ea6b1a1cb7ff',)"
      ]
     },
     "execution_count": 11,
     "metadata": {},
     "output_type": "execute_result"
    }
   ],
   "source": [
    "from bluesky.plans import scan\n",
    "# just a motor scan, no detectors\n",
    "RE(scan([], sample_x_mm, 1, 2, sample_y_mm, 1,2, 11))\n",
    "\n",
    "#works, but does a weird scan\n",
    "#https://nsls-ii.github.io/bluesky/generated/bluesky.plans.grid_scan.html#bluesky.plans.grid_scan\n"
   ]
  },
  {
   "cell_type": "code",
   "execution_count": 13,
   "id": "1ae9cd3a",
   "metadata": {},
   "outputs": [
    {
     "data": {
      "text/plain": [
       "('4f8667ba-e510-4218-ae21-26d65cbf3e63',)"
      ]
     },
     "execution_count": 13,
     "metadata": {},
     "output_type": "execute_result"
    }
   ],
   "source": [
    "from bluesky.plans import grid_scan\n",
    "\n",
    "RE(grid_scan([], sample_x_mm, 1, 2, 3, sample_y_mm, 1,2,3))"
   ]
  },
  {
   "cell_type": "code",
   "execution_count": 19,
   "id": "d468e1e0",
   "metadata": {},
   "outputs": [
    {
     "data": {
      "text/html": [
       "<div>\n",
       "<style scoped>\n",
       "    .dataframe tbody tr th:only-of-type {\n",
       "        vertical-align: middle;\n",
       "    }\n",
       "\n",
       "    .dataframe tbody tr th {\n",
       "        vertical-align: top;\n",
       "    }\n",
       "\n",
       "    .dataframe thead th {\n",
       "        text-align: right;\n",
       "    }\n",
       "</style>\n",
       "<table border=\"1\" class=\"dataframe\">\n",
       "  <thead>\n",
       "    <tr style=\"text-align: right;\">\n",
       "      <th></th>\n",
       "      <th>time</th>\n",
       "      <th>newport_x</th>\n",
       "      <th>newport_x_user_setpoint</th>\n",
       "      <th>newport_z</th>\n",
       "      <th>newport_z_user_setpoint</th>\n",
       "      <th>newport_z_in</th>\n",
       "    </tr>\n",
       "    <tr>\n",
       "      <th>seq_num</th>\n",
       "      <th></th>\n",
       "      <th></th>\n",
       "      <th></th>\n",
       "      <th></th>\n",
       "      <th></th>\n",
       "      <th></th>\n",
       "    </tr>\n",
       "  </thead>\n",
       "  <tbody>\n",
       "    <tr>\n",
       "      <th>1</th>\n",
       "      <td>2022-07-03 19:32:07.436300516</td>\n",
       "      <td>-12.0</td>\n",
       "      <td>-12.0</td>\n",
       "      <td>24.9995</td>\n",
       "      <td>25.0</td>\n",
       "      <td>25.0</td>\n",
       "    </tr>\n",
       "    <tr>\n",
       "      <th>2</th>\n",
       "      <td>2022-07-03 19:32:33.023221970</td>\n",
       "      <td>-24.5</td>\n",
       "      <td>-24.5</td>\n",
       "      <td>0.0000</td>\n",
       "      <td>0.0</td>\n",
       "      <td>0.0</td>\n",
       "    </tr>\n",
       "    <tr>\n",
       "      <th>3</th>\n",
       "      <td>2022-07-03 19:32:58.455350876</td>\n",
       "      <td>-37.0</td>\n",
       "      <td>-37.0</td>\n",
       "      <td>-25.0000</td>\n",
       "      <td>-25.0</td>\n",
       "      <td>-25.0</td>\n",
       "    </tr>\n",
       "    <tr>\n",
       "      <th>4</th>\n",
       "      <td>2022-07-03 19:33:23.891828299</td>\n",
       "      <td>-49.5</td>\n",
       "      <td>-49.5</td>\n",
       "      <td>-50.0000</td>\n",
       "      <td>-50.0</td>\n",
       "      <td>-50.0</td>\n",
       "    </tr>\n",
       "    <tr>\n",
       "      <th>5</th>\n",
       "      <td>2022-07-03 19:33:49.307328463</td>\n",
       "      <td>-62.0</td>\n",
       "      <td>-62.0</td>\n",
       "      <td>-75.0000</td>\n",
       "      <td>-75.0</td>\n",
       "      <td>-75.0</td>\n",
       "    </tr>\n",
       "  </tbody>\n",
       "</table>\n",
       "</div>"
      ],
      "text/plain": [
       "                                 time  newport_x  newport_x_user_setpoint  \\\n",
       "seq_num                                                                     \n",
       "1       2022-07-03 19:32:07.436300516      -12.0                    -12.0   \n",
       "2       2022-07-03 19:32:33.023221970      -24.5                    -24.5   \n",
       "3       2022-07-03 19:32:58.455350876      -37.0                    -37.0   \n",
       "4       2022-07-03 19:33:23.891828299      -49.5                    -49.5   \n",
       "5       2022-07-03 19:33:49.307328463      -62.0                    -62.0   \n",
       "\n",
       "         newport_z  newport_z_user_setpoint  newport_z_in  \n",
       "seq_num                                                    \n",
       "1          24.9995                     25.0          25.0  \n",
       "2           0.0000                      0.0           0.0  \n",
       "3         -25.0000                    -25.0         -25.0  \n",
       "4         -50.0000                    -50.0         -50.0  \n",
       "5         -75.0000                    -75.0         -75.0  "
      ]
     },
     "execution_count": 19,
     "metadata": {},
     "output_type": "execute_result"
    }
   ],
   "source": [
    "header = db[-1]\n",
    "header.table()"
   ]
  }
 ],
 "metadata": {
  "kernelspec": {
   "display_name": "Python 3.10.4 64-bit",
   "language": "python",
   "name": "python3"
  },
  "language_info": {
   "codemirror_mode": {
    "name": "ipython",
    "version": 3
   },
   "file_extension": ".py",
   "mimetype": "text/x-python",
   "name": "python",
   "nbconvert_exporter": "python",
   "pygments_lexer": "ipython3",
   "version": "3.10.6"
  },
  "vscode": {
   "interpreter": {
    "hash": "916dbcbb3f70747c44a77c7bcd40155683ae19c65e1c03b4aa3499c5328201f1"
   }
  }
 },
 "nbformat": 4,
 "nbformat_minor": 5
}

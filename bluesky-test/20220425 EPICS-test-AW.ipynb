{
 "cells": [
  {
   "cell_type": "markdown",
   "id": "e27e920c",
   "metadata": {},
   "source": [
    "# BL531 remote EPICS test"
   ]
  },
  {
   "cell_type": "markdown",
   "id": "93c76a2c",
   "metadata": {},
   "source": [
    "We want to use the Windows computer (BCS531-1) to talk to the Linux computer running the EPICS IOCs and brodcasting over the network.\n",
    "\n",
    "We had to make sure the Windosw environment variable \"EPICS_CA_ADDR_LIST\" was set to \"131.243.90.255 131.243.80.255\" (listening), and that the IOCs where running on the Linux/Controls computer"
   ]
  },
  {
   "cell_type": "code",
   "execution_count": 1,
   "id": "6fa90d6b",
   "metadata": {},
   "outputs": [],
   "source": [
    "# April 2022\n",
    "# awojdyla@lbl.gov"
   ]
  },
  {
   "cell_type": "code",
   "execution_count": 2,
   "id": "39dcc363",
   "metadata": {},
   "outputs": [],
   "source": [
    "import epics\n",
    "import bluesky #unused for now"
   ]
  },
  {
   "cell_type": "markdown",
   "id": "5fdd055e",
   "metadata": {},
   "source": [
    "### Read initial hexapod position"
   ]
  },
  {
   "cell_type": "code",
   "execution_count": 1,
   "id": "e8dd9d1a",
   "metadata": {},
   "outputs": [
    {
     "ename": "NameError",
     "evalue": "name 'epics' is not defined",
     "output_type": "error",
     "traceback": [
      "\u001b[1;31m---------------------------------------------------------------------------\u001b[0m",
      "\u001b[1;31mNameError\u001b[0m                                 Traceback (most recent call last)",
      "Input \u001b[1;32mIn [1]\u001b[0m, in \u001b[0;36m<cell line: 1>\u001b[1;34m()\u001b[0m\n\u001b[1;32m----> 1\u001b[0m pre_move_ps_pm \u001b[38;5;241m=\u001b[39m \u001b[43mepics\u001b[49m\u001b[38;5;241m.\u001b[39mcaget(\u001b[38;5;124m'\u001b[39m\u001b[38;5;124mBL531:PS:POS_0\u001b[39m\u001b[38;5;124m'\u001b[39m)\n\u001b[0;32m      2\u001b[0m \u001b[38;5;28mprint\u001b[39m(\u001b[38;5;124m\"\u001b[39m\u001b[38;5;124mhexapod z position (picoscale reading): \u001b[39m\u001b[38;5;132;01m%1.6f\u001b[39;00m\u001b[38;5;124m mm\u001b[39m\u001b[38;5;124m\"\u001b[39m \u001b[38;5;241m%\u001b[39m (pre_move_ps_pm\u001b[38;5;241m*\u001b[39m\u001b[38;5;241m1e-9\u001b[39m))\n",
      "\u001b[1;31mNameError\u001b[0m: name 'epics' is not defined"
     ]
    }
   ],
   "source": [
    "pre_move_ps_pm = epics.caget('BL531:PS:POS_0')\n",
    "print(\"hexapod z position (picoscale reading): %1.6f mm\" % (pre_move_ps_pm*1e-9))"
   ]
  },
  {
   "cell_type": "code",
   "execution_count": 4,
   "id": "0973fe02",
   "metadata": {},
   "outputs": [
    {
     "name": "stdout",
     "output_type": "stream",
     "text": [
      "hexapod z position (hexapod reading): -7.000mm\n"
     ]
    }
   ],
   "source": [
    "pre_move_mm = epics.caget('xxx:hxp:c0:m3')\n",
    "print(\"hexapod z position (hexapod reading): %1.3fmm\" % pre_move_mm)"
   ]
  },
  {
   "cell_type": "markdown",
   "id": "706b6691",
   "metadata": {},
   "source": [
    "### Move hexapod over EPICS"
   ]
  },
  {
   "cell_type": "code",
   "execution_count": 11,
   "id": "078133ea",
   "metadata": {},
   "outputs": [
    {
     "data": {
      "text/plain": [
       "1"
      ]
     },
     "execution_count": 11,
     "metadata": {},
     "output_type": "execute_result"
    }
   ],
   "source": [
    "new_pos_mm = 5.1\n",
    "epics.caput('xxx:hxp:c0:m3',new_pos_mm)"
   ]
  },
  {
   "cell_type": "code",
   "execution_count": 6,
   "id": "e5f927c2",
   "metadata": {},
   "outputs": [
    {
     "data": {
      "text/plain": [
       "-7.01"
      ]
     },
     "execution_count": 6,
     "metadata": {},
     "output_type": "execute_result"
    }
   ],
   "source": [
    "epics.caget('c')"
   ]
  },
  {
   "cell_type": "code",
   "execution_count": 7,
   "id": "9717c6bb",
   "metadata": {},
   "outputs": [
    {
     "name": "stdout",
     "output_type": "stream",
     "text": [
      "hexapod z position (picoscale reading): -1.245949 mm\n"
     ]
    }
   ],
   "source": [
    "post_move_ps_pm = epics.caget('BL531:PS:POS_0')\n",
    "print(\"hexapod z position (picoscale reading): %1.6f mm\" % (post_move_ps_pm*1e-9))"
   ]
  },
  {
   "cell_type": "code",
   "execution_count": null,
   "id": "0814e904",
   "metadata": {},
   "outputs": [],
   "source": []
  },
  {
   "cell_type": "markdown",
   "id": "697f318c",
   "metadata": {},
   "source": [
    "###  Check position difference"
   ]
  },
  {
   "cell_type": "code",
   "execution_count": 8,
   "id": "1fa42589",
   "metadata": {},
   "outputs": [
    {
     "name": "stdout",
     "output_type": "stream",
     "text": [
      "hexapod z position difference (picoscale reading): 0.008771 mm\n"
     ]
    }
   ],
   "source": [
    "delta_ps_um = (post_move_ps_pm-pre_move_ps_pm)*1e-6\n",
    "print(\"hexapod z position difference (picoscale reading): %1.6f mm\" % (delta_ps_um*1e-3))"
   ]
  },
  {
   "cell_type": "markdown",
   "id": "af617a34",
   "metadata": {},
   "source": [
    "success!"
   ]
  }
 ],
 "metadata": {
  "kernelspec": {
   "display_name": "Python 3.10.4 64-bit",
   "language": "python",
   "name": "python3"
  },
  "language_info": {
   "codemirror_mode": {
    "name": "ipython",
    "version": 3
   },
   "file_extension": ".py",
   "mimetype": "text/x-python",
   "name": "python",
   "nbconvert_exporter": "python",
   "pygments_lexer": "ipython3",
   "version": "3.10.6"
  },
  "vscode": {
   "interpreter": {
    "hash": "916dbcbb3f70747c44a77c7bcd40155683ae19c65e1c03b4aa3499c5328201f1"
   }
  }
 },
 "nbformat": 4,
 "nbformat_minor": 5
}

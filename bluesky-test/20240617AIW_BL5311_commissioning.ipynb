{
 "cells": [
  {
   "cell_type": "markdown",
   "metadata": {},
   "source": [
    "# Commissioning of beamline 5.3.1\n",
    "awojdyla@lbl.gov, July 2024\n",
    "\n",
    "Goals:\n",
    "+ recenter the beam on the Be window\n",
    "+ demonstrate 4 keV operations\n",
    "+ attempt operation \n",
    "+ characterize drift in the system\n",
    "+ test bluesky with the pilatus camera\n",
    "\n",
    "What would be nice:\n",
    "+ install x-ray fluorescence sensor with EPICS\n",
    "+ add relays for camers switch and vacuum"
   ]
  },
  {
   "cell_type": "markdown",
   "metadata": {},
   "source": []
  },
  {
   "cell_type": "code",
   "execution_count": 1,
   "metadata": {},
   "outputs": [],
   "source": [
    "import epics\n",
    "import numpy as np\n",
    "from PIL import Image\n",
    "import matplotlib.pyplot as plt\n",
    "from time import sleep as time_sleep\n",
    "from tqdm import tqdm"
   ]
  },
  {
   "cell_type": "markdown",
   "metadata": {},
   "source": [
    "## Several useful EPICS controls"
   ]
  },
  {
   "cell_type": "markdown",
   "metadata": {},
   "source": [
    "### Activate sample slits"
   ]
  },
  {
   "cell_type": "code",
   "execution_count": 99,
   "metadata": {},
   "outputs": [
    {
     "data": {
      "text/plain": [
       "1"
      ]
     },
     "execution_count": 99,
     "metadata": {},
     "output_type": "execute_result"
    }
   ],
   "source": [
    "epics.caput('DMC02:E.CNEN', 1)\n",
    "epics.caput('DMC02:F.CNEN', 1)\n",
    "epics.caput('DMC02:G.CNEN', 1)\n",
    "epics.caput('DMC02:H.CNEN', 1)"
   ]
  },
  {
   "cell_type": "code",
   "execution_count": 113,
   "metadata": {},
   "outputs": [
    {
     "data": {
      "text/plain": [
       "1"
      ]
     },
     "execution_count": 113,
     "metadata": {},
     "output_type": "execute_result"
    }
   ],
   "source": [
    "epics.caget('DMC02:E.CNEN')\n",
    "epics.caget('DMC02:F.CNEN')\n",
    "epics.caget('DMC02:G.CNEN')\n",
    "epics.caget('DMC02:H.CNEN')"
   ]
  },
  {
   "cell_type": "code",
   "execution_count": 121,
   "metadata": {},
   "outputs": [
    {
     "name": "stdout",
     "output_type": "stream",
     "text": [
      "-84.0\n",
      "64.0\n",
      "-30.0\n",
      "0.0\n"
     ]
    }
   ],
   "source": [
    "slit_left_pos = epics.caget('DMC02:E')\n",
    "slit_right_pos = epics.caget('DMC02:F')\n",
    "slit_top_pos = epics.caget('DMC02:G')\n",
    "slit_bot_pos = epics.caget('DMC02:H')\n",
    "\n",
    "#    G-V\n",
    "# E- →   <- F+  \n",
    "#    H+^\n",
    "\n",
    "\n",
    "print(slit_left_pos)\n",
    "print(slit_right_pos)\n",
    "print(slit_top_pos)\n",
    "print(slit_bot_pos)"
   ]
  },
  {
   "cell_type": "markdown",
   "metadata": {},
   "source": [
    "### Move sample slits"
   ]
  },
  {
   "cell_type": "code",
   "execution_count": 108,
   "metadata": {},
   "outputs": [
    {
     "data": {
      "text/plain": [
       "1"
      ]
     },
     "execution_count": 108,
     "metadata": {},
     "output_type": "execute_result"
    }
   ],
   "source": [
    "epics.caput('DMC02:E', -84)"
   ]
  },
  {
   "cell_type": "code",
   "execution_count": 75,
   "metadata": {},
   "outputs": [
    {
     "data": {
      "text/plain": [
       "1"
      ]
     },
     "execution_count": 75,
     "metadata": {},
     "output_type": "execute_result"
    }
   ],
   "source": [
    "\n",
    "epics.caput('DMC02:F', 64)"
   ]
  },
  {
   "cell_type": "code",
   "execution_count": 118,
   "metadata": {},
   "outputs": [
    {
     "data": {
      "text/plain": [
       "1"
      ]
     },
     "execution_count": 118,
     "metadata": {},
     "output_type": "execute_result"
    }
   ],
   "source": [
    "#epics.caput('DMC02:G', -35)\n",
    "epics.caput('DMC02:G', -30)"
   ]
  },
  {
   "cell_type": "code",
   "execution_count": 123,
   "metadata": {},
   "outputs": [
    {
     "data": {
      "text/plain": [
       "1"
      ]
     },
     "execution_count": 123,
     "metadata": {},
     "output_type": "execute_result"
    }
   ],
   "source": [
    "epics.caput('DMC02:H', -50)"
   ]
  },
  {
   "cell_type": "markdown",
   "metadata": {},
   "source": [
    "### deactivate sample slits"
   ]
  },
  {
   "cell_type": "code",
   "execution_count": 98,
   "metadata": {},
   "outputs": [
    {
     "data": {
      "text/plain": [
       "1"
      ]
     },
     "execution_count": 98,
     "metadata": {},
     "output_type": "execute_result"
    }
   ],
   "source": [
    "epics.caput('DMC02:E.CNEN', 0)\n",
    "epics.caput('DMC02:F.CNEN', 0)\n",
    "epics.caput('DMC02:G.CNEN', 0)\n",
    "epics.caput('DMC02:H.CNEN', 0)"
   ]
  },
  {
   "cell_type": "code",
   "execution_count": null,
   "metadata": {},
   "outputs": [],
   "source": []
  },
  {
   "cell_type": "markdown",
   "metadata": {},
   "source": [
    "## Monochromator commissioning\n",
    "\n",
    "\n"
   ]
  },
  {
   "cell_type": "code",
   "execution_count": 124,
   "metadata": {},
   "outputs": [],
   "source": [
    "# define mono angle to energy conversion\n",
    "\n",
    "#physical constants\n",
    "h_m2kgps = 6.6261e-34\n",
    "c_mps    = 299792458   \n",
    "e_eV     = 6.2415e+18\n",
    "# Silicon spacing (for Bragg condition)\n",
    "Si_m = 5.43E-10\n",
    "a_Si111_m = Si_m/np.sqrt(1^2+1^2+1^2)\n",
    "# Monochromotor offset\n",
    "mono_offset_deg = 12.787\n",
    "#Wavelength from energy\n",
    "lambda_m = lambda E_eV : h_m2kgps*c_mps*e_eV/E_eV\n",
    "#Bragg angle from Wavelength\n",
    "bragg_deg = lambda E_eV: np.arcsin(lambda_m(E_eV)/(2*a_Si111_m))*180/np.pi\n",
    "# Mono angle from Bragg angle\n",
    "mono_deg = lambda E_eV: bragg_deg(E_eV)+mono_offset_deg\n",
    "\n",
    "# inverse function to go from mono angle to eV\n",
    "energy_eV = lambda mono_deg_input: (h_m2kgps*c_mps*e_eV)/((2 * a_Si111_m) * np.sin((np.pi/180)*(mono_deg_input - mono_offset_deg)))"
   ]
  },
  {
   "cell_type": "code",
   "execution_count": null,
   "metadata": {},
   "outputs": [],
   "source": []
  },
  {
   "cell_type": "markdown",
   "metadata": {},
   "source": [
    "## Pilatus interaction"
   ]
  },
  {
   "cell_type": "code",
   "execution_count": 4,
   "metadata": {},
   "outputs": [],
   "source": [
    "#sample\n",
    "series_nb = \"%03.0f\" % 0\n",
    "image_nb = \"%03.0f\"  % 0\n",
    "current_filename = \"20240617_commissioning\" + series_nb + \"_\" +image_nb\n",
    "epics.caput('13PIL1:cam1:FileName',current_filename)\n",
    "epics.caput('13PIL1:cam1:Acquire',1)"
   ]
  },
  {
   "cell_type": "markdown",
   "metadata": {},
   "source": [
    "### bluesky!"
   ]
  },
  {
   "cell_type": "code",
   "execution_count": 182,
   "metadata": {},
   "outputs": [
    {
     "data": {
      "text/plain": [
       "1"
      ]
     },
     "execution_count": 182,
     "metadata": {},
     "output_type": "execute_result"
    }
   ],
   "source": [
    "epics.caput('bl531_xps1:mono_angle_deg',mono_deg(4000))"
   ]
  },
  {
   "cell_type": "markdown",
   "metadata": {},
   "source": []
  }
 ],
 "metadata": {
  "kernelspec": {
   "display_name": "Python 3.10.6 64-bit",
   "language": "python",
   "name": "python3"
  },
  "language_info": {
   "codemirror_mode": {
    "name": "ipython",
    "version": 3
   },
   "file_extension": ".py",
   "mimetype": "text/x-python",
   "name": "python",
   "nbconvert_exporter": "python",
   "pygments_lexer": "ipython3",
   "version": "3.10.6"
  },
  "orig_nbformat": 4,
  "vscode": {
   "interpreter": {
    "hash": "916dbcbb3f70747c44a77c7bcd40155683ae19c65e1c03b4aa3499c5328201f1"
   }
  }
 },
 "nbformat": 4,
 "nbformat_minor": 2
}

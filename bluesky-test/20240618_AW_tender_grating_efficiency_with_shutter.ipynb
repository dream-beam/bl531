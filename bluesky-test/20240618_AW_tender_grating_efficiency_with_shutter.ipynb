{
 "cells": [
  {
   "cell_type": "markdown",
   "metadata": {},
   "source": [
    "# BL531 tender grating efficiency measurements\n",
    "Xiaoya Chong, Antoine Islegen-Wojdyla, Sooyeon Park, Dmytro Voronov\n",
    "\n",
    "June 18 June, 2024"
   ]
  },
  {
   "cell_type": "code",
   "execution_count": 1,
   "metadata": {},
   "outputs": [],
   "source": [
    "import epics\n",
    "import numpy as np\n",
    "from PIL import Image\n",
    "import matplotlib.pyplot as plt\n",
    "from time import sleep as time_sleep\n",
    "from tqdm import tqdm\n",
    "import socket\n"
   ]
  },
  {
   "cell_type": "markdown",
   "metadata": {},
   "source": [
    "## Define mono calibration and routine"
   ]
  },
  {
   "cell_type": "code",
   "execution_count": 2,
   "metadata": {},
   "outputs": [],
   "source": [
    "# --------------------------------------------------------------------------------------------------------------------------------------------------------------\n",
    "\n",
    "# define mono angle to energy conversion\n",
    "\n",
    "#physical constants\n",
    "h_m2kgps = 6.6261e-34\n",
    "c_mps    = 299792458   \n",
    "e_eV     = 6.2415e+18\n",
    "# Silicon spacing (for Bragg condition)\n",
    "Si_m = 5.43E-10\n",
    "a_Si111_m = Si_m/np.sqrt(1^2+1^2+1^2)\n",
    "# Monochromotor offset\n",
    "mono_offset_deg = 12.787\n",
    "#Wavelength from energy\n",
    "lambda_m = lambda E_eV : h_m2kgps*c_mps*e_eV/E_eV\n",
    "#Bragg angle from Wavelength\n",
    "bragg_deg = lambda E_eV: np.arcsin(lambda_m(E_eV)/(2*a_Si111_m))*180/np.pi\n",
    "# Mono angle from Bragg angle\n",
    "mono_deg = lambda E_eV: bragg_deg(E_eV)+mono_offset_deg\n",
    "\n",
    "# inverse function to go from mono angle to eV\n",
    "energy_eV = lambda mono_deg_input: (h_m2kgps*c_mps*e_eV)/((2 * a_Si111_m) * np.sin((np.pi/180)*(mono_deg_input - mono_offset_deg)))\n",
    "\n"
   ]
  },
  {
   "cell_type": "code",
   "execution_count": 12,
   "metadata": {},
   "outputs": [
    {
     "data": {
      "text/plain": [
       "1"
      ]
     },
     "execution_count": 12,
     "metadata": {},
     "output_type": "execute_result"
    }
   ],
   "source": [
    "#sample\n",
    "series_nb = \"%03.0f\" % 0\n",
    "image_nb = \"%03.0f\"  % 0\n",
    "current_filename = \"20240618c_tender_grating_\" + series_nb + \"_\" +image_nb\n",
    "epics.caput('13PIL1:cam1:FileName',current_filename)\n",
    "epics.caput('13PIL1:cam1:Acquire',1)"
   ]
  },
  {
   "cell_type": "markdown",
   "metadata": {},
   "source": [
    "## Calibration scan\n",
    "One measurement every 10 seconds for 5 min. Acquiring straight beam.\n",
    "Before the second image, the beam is off, and we're expecting to see a drift in total photon count,\n",
    "\n",
    "Photon energy 8keV.\n",
    "Let's go"
   ]
  },
  {
   "cell_type": "code",
   "execution_count": 4,
   "metadata": {},
   "outputs": [],
   "source": [
    "# reference energy scan\n",
    "calib_id = np.arange(31)       # same energy range/resolution as nexafs\n",
    "\n",
    "\n",
    "filenames = ()\n",
    "for i_c in range(len(calib_id)): \n",
    "    time_sleep(10)\n",
    "\n",
    "    series_nb = \"%03.0f\" % 0\n",
    "    image_nb = \"%03.0f\"  % (i_c+1)\n",
    "\n",
    "    current_filename = \"20240618a_tender_grating_\" + series_nb + \"_\" +image_nb\n",
    "    epics.caput('13PIL1:cam1:FileName',current_filename)\n",
    "    epics.caput('13PIL1:cam1:Acquire',1)\n",
    "    filenames += (current_filename,)"
   ]
  },
  {
   "cell_type": "markdown",
   "metadata": {},
   "source": [
    "## loading data and summing it up"
   ]
  },
  {
   "cell_type": "code",
   "execution_count": 5,
   "metadata": {},
   "outputs": [],
   "source": [
    "# first, display\n",
    "folder = '/mnt/data531/'\n",
    "\n",
    "filepath = folder+filenames[4]+'.tif'\n",
    "# read the image\n",
    "im_tiff = Image.open(filepath)\n",
    "# make the image a numpy array so that we can process it\n",
    "im_np = np.squeeze(np.array(im_tiff.getdata()).reshape(im_tiff.size[1], im_tiff.size[0], 1))\n",
    "\n",
    "im_thr = im_np\n",
    "im_thr[im_np>200000]=0\n",
    "\n",
    "dx_m = 172e-6\n",
    "Nx_px = 487\n",
    "Ny_px = 619\n",
    "Dx_m = Nx_px*dx_m\n",
    "Dy_m = Ny_px*dx_m\n",
    "\n",
    "fig=plt.figure(figsize=(5, 5), dpi= 120, facecolor='w', edgecolor='k')\n",
    "extent = (-Dx_m/2 * 1e3, +Dx_m/2 * 1e3, -Dy_m/2 * 1e3, +Dy_m/2 * 1e3)\n",
    "\n",
    "#mask = im_np > np.max(im_np)\n",
    "#im_np[mask]=0\n",
    "\n",
    "plt.imshow(im_thr, extent=extent, cmap = 'inferno')\n",
    "plt.xlabel('horizontal Position [mm]')\n",
    "plt.ylabel('vertical Positon [mm]')\n",
    "plt.xlim((0,4))\n",
    "plt.ylim((-6,-10))\n",
    "plt.show()"
   ]
  },
  {
   "cell_type": "code",
   "execution_count": 7,
   "metadata": {},
   "outputs": [],
   "source": [
    "# then loop woohoo\n",
    "\n",
    "folder = '/mnt/data531/'\n",
    "imgs_sum = ()\n",
    "for i_im in np.arange(len(filenames)):\n",
    "    filepath = folder+filenames[i_im ]+'.tif'\n",
    "    # read the image\n",
    "    im_tiff = Image.open(filepath)\n",
    "    # make the image a numpy array so that we can process it\n",
    "    im_np = np.squeeze(np.array(im_tiff.getdata()).reshape(im_tiff.size[1], im_tiff.size[0], 1))\n",
    "\n",
    "    im_thr = im_np\n",
    "    im_thr[im_np>200000]=0\n",
    "    img_sum = np.sum(im_thr)\n",
    "    imgs_sum += (img_sum,)\n"
   ]
  },
  {
   "cell_type": "code",
   "execution_count": 8,
   "metadata": {},
   "outputs": [
    {
     "data": {
      "image/png": "[encoded data removed]",
      "text/plain": [
       "<Figure size 432x288 with 1 Axes>"
      ]
     },
     "metadata": {
      "needs_background": "light"
     },
     "output_type": "display_data"
    }
   ],
   "source": [
    "%matplotlib inline\n",
    "plt.plot(calib_id, imgs_sum)\n",
    "plt.xlabel('image id [~10s]')\n",
    "plt.ylabel('total flux (1s exp time) [ph]')\n",
    "plt.title('thermal drift for 5 min at 8keV')\n",
    "plt.show()"
   ]
  },
  {
   "cell_type": "markdown",
   "metadata": {},
   "source": [
    "## Second attempt\n",
    "larger M1 slits"
   ]
  },
  {
   "cell_type": "code",
   "execution_count": 13,
   "metadata": {},
   "outputs": [],
   "source": [
    "# reference energy scan\n",
    "calib_id = np.arange(31)       # same energy range/resolution as nexafs\n",
    "\n",
    "\n",
    "filenames = ()\n",
    "for i_c in range(len(calib_id)): \n",
    "    time_sleep(10)\n",
    "\n",
    "    series_nb = \"%03.0f\" % 0\n",
    "    image_nb = \"%03.0f\"  % (i_c+1)\n",
    "\n",
    "    current_filename = \"20240618c_tender_grating_\" + series_nb + \"_\" +image_nb\n",
    "    epics.caput('13PIL1:cam1:FileName',current_filename)\n",
    "    epics.caput('13PIL1:cam1:Acquire',1)\n",
    "    filenames += (current_filename,)"
   ]
  },
  {
   "cell_type": "code",
   "execution_count": 11,
   "metadata": {},
   "outputs": [
    {
     "data": {
      "image/png": "[encoded data removed]",
      "text/plain": [
       "<Figure size 432x288 with 1 Axes>"
      ]
     },
     "metadata": {
      "needs_background": "light"
     },
     "output_type": "display_data"
    }
   ],
   "source": [
    "# then loop woohoo\n",
    "\n",
    "folder = '/mnt/data531/'\n",
    "imgs_sum = ()\n",
    "for i_im in np.arange(len(filenames)):\n",
    "    filepath = folder+filenames[i_im ]+'.tif'\n",
    "    # read the image\n",
    "    im_tiff = Image.open(filepath)\n",
    "    # make the image a numpy array so that we can process it\n",
    "    im_np = np.squeeze(np.array(im_tiff.getdata()).reshape(im_tiff.size[1], im_tiff.size[0], 1))\n",
    "\n",
    "    im_thr = im_np\n",
    "    im_thr[im_np>200000]=0\n",
    "    img_sum = np.sum(im_thr)\n",
    "    imgs_sum += (img_sum,)\n",
    "\n",
    "%matplotlib inline\n",
    "plt.plot(calib_id, imgs_sum)\n",
    "plt.xlabel('image id [~10s]')\n",
    "plt.ylabel('total flux (1s exp time) [ph]')\n",
    "plt.title('thermal drift for 5 min at 8keV')\n",
    "plt.show()\n"
   ]
  },
  {
   "cell_type": "code",
   "execution_count": 14,
   "metadata": {},
   "outputs": [
    {
     "data": {
      "image/png": "[encoded data removed]",
      "text/plain": [
       "<Figure size 432x288 with 1 Axes>"
      ]
     },
     "metadata": {
      "needs_background": "light"
     },
     "output_type": "display_data"
    }
   ],
   "source": [
    "# then loop woohoo\n",
    "\n",
    "folder = '/mnt/data531/'\n",
    "imgs_sum = ()\n",
    "for i_im in np.arange(len(filenames)):\n",
    "    filepath = folder+filenames[i_im ]+'.tif'\n",
    "    # read the image\n",
    "    im_tiff = Image.open(filepath)\n",
    "    # make the image a numpy array so that we can process it\n",
    "    im_np = np.squeeze(np.array(im_tiff.getdata()).reshape(im_tiff.size[1], im_tiff.size[0], 1))\n",
    "\n",
    "    im_thr = im_np\n",
    "    im_thr[im_np>200000]=0\n",
    "    img_sum = np.sum(im_thr)\n",
    "    imgs_sum += (img_sum,)\n",
    "\n",
    "%matplotlib inline\n",
    "plt.plot(calib_id, imgs_sum)\n",
    "plt.xlabel('image id [~10s]')\n",
    "plt.ylabel('total flux (1s exp time) [ph]')\n",
    "plt.title('thermal drift for 5 min at 8keV')\n",
    "plt.show()"
   ]
  },
  {
   "cell_type": "markdown",
   "metadata": {},
   "source": [
    "it didn't cool down completely. thermal drift roughly repeatable"
   ]
  },
  {
   "cell_type": "markdown",
   "metadata": {},
   "source": [
    "## Define connection to rotary stage"
   ]
  },
  {
   "cell_type": "code",
   "execution_count": 19,
   "metadata": {},
   "outputs": [],
   "source": [
    "# settings: the host and port of the Windows PC\n",
    "host = '131.243.80.251'  # Standard loopback interface address         \n",
    "port = 6000        # Port to listen on (non-privileged ports are > 1023)\n",
    "\n",
    "# send a message (tpye: bytes) to the Windows PC \n",
    "def apt_send(msg_str):\n",
    "    # connect to the server\n",
    "    client = socket.socket(socket.AF_INET, socket.SOCK_STREAM)\n",
    "    client.connect((host, port))\n",
    "\n",
    "    # recieve a message from the server to see if the connection is successful\n",
    "    msg_from_server = client.recv(4096)\n",
    "    print (msg_from_server)\n",
    "\n",
    "    # send the message to the server\n",
    "    client.send(msg_str)\n",
    "\n",
    "    msg_from_server2 = client.recv(4096)\n",
    "    print(msg_from_server2)\n",
    "\n",
    "    # close the connection\n",
    "    client.close()\n",
    "    return msg_from_server2\n",
    "\n",
    "\n",
    "# transfer the position value from int to bytes and call apt_send() \n",
    "def apt_move(position_au):\n",
    "    msg_str = str(position_au).encode(\"utf-8\")\n",
    "    apt_send(msg_str)\n",
    "\n",
    "# send \"close\" to the Windows PC to close the server\n",
    "def apt_stop():\n",
    "    apt_send(b\"close\")"
   ]
  },
  {
   "cell_type": "code",
   "execution_count": null,
   "metadata": {},
   "outputs": [],
   "source": [
    "# define the postion value, call apt_move() to send the message to the server\n",
    "position_au = 0\n",
    "apt_move(position_au)"
   ]
  },
  {
   "cell_type": "code",
   "execution_count": 22,
   "metadata": {},
   "outputs": [
    {
     "name": "stdout",
     "output_type": "stream",
     "text": [
      "b'Server Message 1: Recieved the position request successfully from the client'\n"
     ]
    },
    {
     "ename": "KeyboardInterrupt",
     "evalue": "",
     "output_type": "error",
     "traceback": [
      "\u001b[0;31m---------------------------------------------------------------------------\u001b[0m",
      "\u001b[0;31mKeyboardInterrupt\u001b[0m                         Traceback (most recent call last)",
      "\u001b[1;32m/home/bl531/bl531/bluesky-test/20240618_AW_tender_grating_efficiency_with_shutter.ipynb Cell 20\u001b[0m in \u001b[0;36m<cell line: 4>\u001b[0;34m()\u001b[0m\n\u001b[1;32m      <a href='vscode-notebook-cell:/home/bl531/bl531/bluesky-test/20240618_AW_tender_grating_efficiency_with_shutter.ipynb#ch0000018?line=0'>1</a>\u001b[0m \u001b[39m# close the server\u001b[39;00m\n\u001b[1;32m      <a href='vscode-notebook-cell:/home/bl531/bl531/bluesky-test/20240618_AW_tender_grating_efficiency_with_shutter.ipynb#ch0000018?line=1'>2</a>\u001b[0m \n\u001b[1;32m      <a href='vscode-notebook-cell:/home/bl531/bl531/bluesky-test/20240618_AW_tender_grating_efficiency_with_shutter.ipynb#ch0000018?line=2'>3</a>\u001b[0m \u001b[39m#ARE YOU SURE???????\u001b[39;00m\n\u001b[0;32m----> <a href='vscode-notebook-cell:/home/bl531/bl531/bluesky-test/20240618_AW_tender_grating_efficiency_with_shutter.ipynb#ch0000018?line=3'>4</a>\u001b[0m apt_stop()\n",
      "\u001b[1;32m/home/bl531/bl531/bluesky-test/20240618_AW_tender_grating_efficiency_with_shutter.ipynb Cell 20\u001b[0m in \u001b[0;36mapt_stop\u001b[0;34m()\u001b[0m\n\u001b[1;32m     <a href='vscode-notebook-cell:/home/bl531/bl531/bluesky-test/20240618_AW_tender_grating_efficiency_with_shutter.ipynb#ch0000018?line=31'>32</a>\u001b[0m \u001b[39mdef\u001b[39;00m \u001b[39mapt_stop\u001b[39m():\n\u001b[0;32m---> <a href='vscode-notebook-cell:/home/bl531/bl531/bluesky-test/20240618_AW_tender_grating_efficiency_with_shutter.ipynb#ch0000018?line=32'>33</a>\u001b[0m     apt_send(\u001b[39mb\u001b[39;49m\u001b[39m\"\u001b[39;49m\u001b[39mclose\u001b[39;49m\u001b[39m\"\u001b[39;49m)\n",
      "\u001b[1;32m/home/bl531/bl531/bluesky-test/20240618_AW_tender_grating_efficiency_with_shutter.ipynb Cell 20\u001b[0m in \u001b[0;36mapt_send\u001b[0;34m(msg_str)\u001b[0m\n\u001b[1;32m     <a href='vscode-notebook-cell:/home/bl531/bl531/bluesky-test/20240618_AW_tender_grating_efficiency_with_shutter.ipynb#ch0000018?line=14'>15</a>\u001b[0m \u001b[39m# send the message to the server\u001b[39;00m\n\u001b[1;32m     <a href='vscode-notebook-cell:/home/bl531/bl531/bluesky-test/20240618_AW_tender_grating_efficiency_with_shutter.ipynb#ch0000018?line=15'>16</a>\u001b[0m client\u001b[39m.\u001b[39msend(msg_str)\n\u001b[0;32m---> <a href='vscode-notebook-cell:/home/bl531/bl531/bluesky-test/20240618_AW_tender_grating_efficiency_with_shutter.ipynb#ch0000018?line=17'>18</a>\u001b[0m msg_from_server2 \u001b[39m=\u001b[39m client\u001b[39m.\u001b[39;49mrecv(\u001b[39m4096\u001b[39;49m)\n\u001b[1;32m     <a href='vscode-notebook-cell:/home/bl531/bl531/bluesky-test/20240618_AW_tender_grating_efficiency_with_shutter.ipynb#ch0000018?line=18'>19</a>\u001b[0m \u001b[39mprint\u001b[39m(msg_from_server2)\n\u001b[1;32m     <a href='vscode-notebook-cell:/home/bl531/bl531/bluesky-test/20240618_AW_tender_grating_efficiency_with_shutter.ipynb#ch0000018?line=20'>21</a>\u001b[0m \u001b[39m# close the connection\u001b[39;00m\n",
      "\u001b[0;31mKeyboardInterrupt\u001b[0m: "
     ]
    }
   ],
   "source": [
    "# close the server\n",
    "\n",
    "#ARE YOU SURE???????\n",
    "apt_stop()"
   ]
  },
  {
   "cell_type": "markdown",
   "metadata": {},
   "source": [
    "## Move the monochromator with EPICS"
   ]
  },
  {
   "cell_type": "code",
   "execution_count": null,
   "metadata": {},
   "outputs": [],
   "source": [
    "# set the mono angle\n",
    "epics.caput('bl531_xps1:mono_angle_deg', mono_deg(8000))\n",
    "\n",
    "time_sleep(2)\n",
    "\n",
    "# print mono angle for reference\n",
    "epics.caget('bl531_xps1:mono_angle_deg')\n"
   ]
  },
  {
   "cell_type": "code",
   "execution_count": 15,
   "metadata": {},
   "outputs": [
    {
     "data": {
      "text/plain": [
       "27.097538443499513"
      ]
     },
     "execution_count": 15,
     "metadata": {},
     "output_type": "execute_result"
    }
   ],
   "source": [
    "mono_deg(8000)"
   ]
  },
  {
   "cell_type": "markdown",
   "metadata": {},
   "source": [
    "## Save and read a Pilatus image"
   ]
  },
  {
   "cell_type": "code",
   "execution_count": null,
   "metadata": {},
   "outputs": [],
   "source": [
    "filepath = '/mnt/data531/WAXS531_016.tif'\n",
    "\n",
    "\n",
    "# read the image\n",
    "im_tiff = Image.open(filepath)\n",
    "# make the image a numpy array so that we can process it\n",
    "im_np = np.squeeze(np.array(im_tiff.getdata()).reshape(im_tiff.size[1], im_tiff.size[0], 1))\n",
    "\n",
    "# dealing with dyanmic range\n",
    "#im_np[np.where(im_np>100000.0)] =0\n",
    "\n",
    "dx_m = 172e-6\n",
    "Nx_px = 487\n",
    "Ny_px = 619\n",
    "Dx_m = Nx_px*dx_m\n",
    "Dy_m = Ny_px*dx_m\n",
    "\n",
    "fig=plt.figure(figsize=(5, 5), dpi= 120, facecolor='w', edgecolor='k')\n",
    "extent = (-Dx_m/2 * 1e3, +Dx_m/2 * 1e3, -Dy_m/2 * 1e3, +Dy_m/2 * 1e3)\n",
    "\n",
    "#mask = im_np > np.max(im_np)\n",
    "#im_np[mask]=0\n",
    "\n",
    "plt.imshow(im_np, extent=extent, cmap = 'inferno', norm=LogNorm())\n",
    "plt.xlabel('horizontal Position [mm]')\n",
    "plt.ylabel('vertical Positon [mm]')\n",
    "plt.show()"
   ]
  },
  {
   "cell_type": "markdown",
   "metadata": {},
   "source": [
    "## Energy scan"
   ]
  },
  {
   "cell_type": "code",
   "execution_count": null,
   "metadata": {},
   "outputs": [],
   "source": [
    "# # saxs energy scan\n",
    "\n",
    "# Es_eV = np.linspace(6000, 10000, 9)        # same energy range/resolution as nexafs\n",
    "\n",
    "\n",
    "# epics.caput('bl531_xps1:mono_angle_deg',mono_deg(Es_eV[0]))\n",
    "# time_sleep(5)\n",
    "# filenames = ()\n",
    "# for i_e in tqdm(range(len(Es_eV))):\n",
    "#     mono_angle_deg = mono_deg(Es_eV[i_e])\n",
    "    \n",
    "#     epics.caput('bl531_xps1:mono_angle_deg',mono_angle_deg)\n",
    "#     time_sleep(5)\n",
    "\n",
    "\n",
    "#     aqtime_s = 2\n",
    "#     # epics.caput('13PIL1:cam1:AcquireTime', 1)\n",
    "#     #epics.caput('13PIL1:cam1:AcquirePeriod', 1)\n",
    "#     #epics.caput('13PIL1:cam1:Acquire',1)\n",
    "#     time_sleep(5)\n",
    "\n",
    "#     # last_filename_ascii = epics.caget('13PIL1:cam1:FullFileName_RBV')\n",
    "#     # last_filename = bytes(last_filename_ascii).decode()\n",
    "#     # filenames += (last_filename,)"
   ]
  },
  {
   "cell_type": "code",
   "execution_count": 46,
   "metadata": {},
   "outputs": [
    {
     "data": {
      "text/plain": [
       "1"
      ]
     },
     "execution_count": 46,
     "metadata": {},
     "output_type": "execute_result"
    }
   ],
   "source": [
    "epics.caput('bl531_xps1:mono_angle_deg',mono_deg(8000))"
   ]
  },
  {
   "cell_type": "code",
   "execution_count": null,
   "metadata": {},
   "outputs": [],
   "source": [
    "## Energy scan nested into angle scan\n",
    "\n",
    "# ga_deg = np.linspace(87, 88.5, 31  )#        grazing angles\n",
    "# Es_eV = np.linspace(6000, 10000, 9)        # same energy range/resolution as nexafs\n",
    "\n",
    "\n",
    "# filenames = ()\n",
    "# for i_g in range(len(ga_deg)):\n",
    "#     position_au = ga_deg[i_g]\n",
    "#     apt_move(position_au)\n",
    "#     time_sleep(2)\n",
    "#     #break\n",
    "#     epics.caput('bl531_xps1:mono_angle_deg',mono_deg(Es_eV[0]))\n",
    "#     time_sleep(5)\n",
    "#     for i_e in range(len(Es_eV)): \n",
    "        \n",
    "#         mono_angle_deg = mono_deg(Es_eV[i_e])        \n",
    "#         epics.caput('bl531_xps1:mono_angle_deg',mono_angle_deg)\n",
    "#         time_sleep(10)\n",
    "\n",
    "#         series_nb = \"%03.0f\" % (i_g+1)\n",
    "#         image_nb = \"%03.0f\"  % (i_e+1)\n",
    "\n",
    "#         current_filename = \"20240604_tender_grating_\" + series_nb + \"_\" +image_nb\n",
    "#         epics.caput('13PIL1:cam1:FileName',current_filename)\n",
    "#         epics.caput('13PIL1:cam1:Acquire',1)"
   ]
  },
  {
   "cell_type": "markdown",
   "metadata": {},
   "source": [
    "## Angle and energy scan"
   ]
  },
  {
   "cell_type": "code",
   "execution_count": null,
   "metadata": {},
   "outputs": [],
   "source": [
    "## Energy scan nested into angle scan\n",
    "\n",
    "ga_deg = np.linspace(87, 88.5, 61)#        grazing angles\n",
    "Es_eV = np.linspace(6000, 10000, 9)        # same energy range/resolution as nexafs\n",
    "\n",
    "\n",
    "filenames = ()\n",
    "for i_g in range(len(ga_deg)):\n",
    "    position_au = ga_deg[i_g]\n",
    "    apt_move(position_au)\n",
    "    epics.caput('bl531_xps1:mono_angle_deg',mono_deg(Es_eV[0]))\n",
    "    time_sleep(5)\n",
    "    for i_e in range(len(Es_eV)): \n",
    "        \n",
    "        mono_angle_deg = mono_deg(Es_eV[i_e])        \n",
    "        epics.caput('bl531_xps1:mono_angle_deg',mono_angle_deg)\n",
    "        time_sleep(5)\n",
    "\n",
    "        series_nb = \"%03.0f\" % (i_g+1)\n",
    "        image_nb = \"%03.0f\"  % (i_e+1)\n",
    "\n",
    "        current_filename = \"20240606e_tender_grating_\" + series_nb + \"_\" +image_nb\n",
    "        epics.caput('13PIL1:cam1:FileName',current_filename)\n",
    "        epics.caput('13PIL1:cam1:Acquire',1)\n",
    "        time_sleep(5)"
   ]
  },
  {
   "cell_type": "markdown",
   "metadata": {},
   "source": [
    "## reference energy scan"
   ]
  },
  {
   "cell_type": "code",
   "execution_count": null,
   "metadata": {},
   "outputs": [],
   "source": [
    "# reference energy scan\n",
    "Es_eV = np.linspace(6000, 10000, 9)        # same energy range/resolution as nexafs\n",
    "\n",
    "\n",
    "filenames = ()\n",
    "epics.caput('bl531_xps1:mono_angle_deg',mono_deg(Es_eV[0]))\n",
    "time_sleep(5)\n",
    "for i_e in range(len(Es_eV)): \n",
    "    \n",
    "    mono_angle_deg = mono_deg(Es_eV[i_e])        \n",
    "    epics.caput('bl531_xps1:mono_angle_deg',mono_angle_deg)\n",
    "    time_sleep(10)\n",
    "\n",
    "    series_nb = \"%03.0f\" % 0\n",
    "    image_nb = \"%03.0f\"  % (i_e+1)\n",
    "\n",
    "    current_filename = \"20240606e_tender_grating_\" + series_nb + \"_\" +image_nb\n",
    "    epics.caput('13PIL1:cam1:FileName',current_filename)\n",
    "    epics.caput('13PIL1:cam1:Acquire',1)"
   ]
  },
  {
   "cell_type": "markdown",
   "metadata": {},
   "source": [
    "## Fine angle scan at fixed energy"
   ]
  },
  {
   "cell_type": "code",
   "execution_count": 20,
   "metadata": {},
   "outputs": [
    {
     "name": "stdout",
     "output_type": "stream",
     "text": [
      "b'Server Message 1: Recieved the position request successfully from the client'\n",
      "b'Server Message 2: The position is set to 87'\n"
     ]
    }
   ],
   "source": [
    "apt_move(87)"
   ]
  },
  {
   "cell_type": "code",
   "execution_count": 43,
   "metadata": {},
   "outputs": [
    {
     "data": {
      "text/plain": [
       "1"
      ]
     },
     "execution_count": 43,
     "metadata": {},
     "output_type": "execute_result"
    }
   ],
   "source": [
    "#sample\n",
    "series_nb = \"%03.0f\" % 0\n",
    "image_nb = \"%03.0f\"  % 1\n",
    "current_filename = \"20240618h_tender_grating_\" + series_nb + \"_\" +image_nb\n",
    "epics.caput('13PIL1:cam1:FileName',current_filename)\n",
    "epics.caput('13PIL1:cam1:Acquire',1)"
   ]
  },
  {
   "cell_type": "code",
   "execution_count": 39,
   "metadata": {},
   "outputs": [
    {
     "name": "stdout",
     "output_type": "stream",
     "text": [
      "b'Server Message 1: Recieved the position request successfully from the client'\n",
      "b'Server Message 2: The position is set to 358.5'\n",
      "b'Server Message 1: Recieved the position request successfully from the client'\n",
      "b'Server Message 2: The position is set to 358.51'\n",
      "b'Server Message 1: Recieved the position request successfully from the client'\n",
      "b'Server Message 2: The position is set to 358.52'\n",
      "b'Server Message 1: Recieved the position request successfully from the client'\n",
      "b'Server Message 2: The position is set to 358.53'\n",
      "b'Server Message 1: Recieved the position request successfully from the client'\n",
      "b'Server Message 2: The position is set to 358.54'\n",
      "b'Server Message 1: Recieved the position request successfully from the client'\n",
      "b'Server Message 2: The position is set to 358.55'\n",
      "b'Server Message 1: Recieved the position request successfully from the client'\n",
      "b'Server Message 2: The position is set to 358.56'\n",
      "b'Server Message 1: Recieved the position request successfully from the client'\n",
      "b'Server Message 2: The position is set to 358.57'\n",
      "b'Server Message 1: Recieved the position request successfully from the client'\n",
      "b'Server Message 2: The position is set to 358.58'\n",
      "b'Server Message 1: Recieved the position request successfully from the client'\n",
      "b'Server Message 2: The position is set to 358.59'\n",
      "b'Server Message 1: Recieved the position request successfully from the client'\n",
      "b'Server Message 2: The position is set to 358.6'\n",
      "b'Server Message 1: Recieved the position request successfully from the client'\n",
      "b'Server Message 2: The position is set to 358.61'\n",
      "b'Server Message 1: Recieved the position request successfully from the client'\n",
      "b'Server Message 2: The position is set to 358.62'\n",
      "b'Server Message 1: Recieved the position request successfully from the client'\n",
      "b'Server Message 2: The position is set to 358.63'\n",
      "b'Server Message 1: Recieved the position request successfully from the client'\n",
      "b'Server Message 2: The position is set to 358.64'\n",
      "b'Server Message 1: Recieved the position request successfully from the client'\n",
      "b'Server Message 2: The position is set to 358.65'\n",
      "b'Server Message 1: Recieved the position request successfully from the client'\n",
      "b'Server Message 2: The position is set to 358.66'\n",
      "b'Server Message 1: Recieved the position request successfully from the client'\n",
      "b'Server Message 2: The position is set to 358.67'\n",
      "b'Server Message 1: Recieved the position request successfully from the client'\n",
      "b'Server Message 2: The position is set to 358.68'\n",
      "b'Server Message 1: Recieved the position request successfully from the client'\n",
      "b'Server Message 2: The position is set to 358.69'\n",
      "b'Server Message 1: Recieved the position request successfully from the client'\n",
      "b'Server Message 2: The position is set to 358.7'\n",
      "b'Server Message 1: Recieved the position request successfully from the client'\n",
      "b'Server Message 2: The position is set to 358.71'\n",
      "b'Server Message 1: Recieved the position request successfully from the client'\n",
      "b'Server Message 2: The position is set to 358.72'\n",
      "b'Server Message 1: Recieved the position request successfully from the client'\n",
      "b'Server Message 2: The position is set to 358.73'\n",
      "b'Server Message 1: Recieved the position request successfully from the client'\n",
      "b'Server Message 2: The position is set to 358.74'\n",
      "b'Server Message 1: Recieved the position request successfully from the client'\n",
      "b'Server Message 2: The position is set to 358.75'\n",
      "b'Server Message 1: Recieved the position request successfully from the client'\n",
      "b'Server Message 2: The position is set to 358.76'\n",
      "b'Server Message 1: Recieved the position request successfully from the client'\n",
      "b'Server Message 2: The position is set to 358.77'\n",
      "b'Server Message 1: Recieved the position request successfully from the client'\n",
      "b'Server Message 2: The position is set to 358.78000000000003'\n",
      "b'Server Message 1: Recieved the position request successfully from the client'\n",
      "b'Server Message 2: The position is set to 358.79'\n",
      "b'Server Message 1: Recieved the position request successfully from the client'\n",
      "b'Server Message 2: The position is set to 358.8'\n",
      "b'Server Message 1: Recieved the position request successfully from the client'\n",
      "b'Server Message 2: The position is set to 358.81'\n",
      "b'Server Message 1: Recieved the position request successfully from the client'\n",
      "b'Server Message 2: The position is set to 358.82'\n",
      "b'Server Message 1: Recieved the position request successfully from the client'\n",
      "b'Server Message 2: The position is set to 358.83'\n",
      "b'Server Message 1: Recieved the position request successfully from the client'\n",
      "b'Server Message 2: The position is set to 358.84'\n",
      "b'Server Message 1: Recieved the position request successfully from the client'\n",
      "b'Server Message 2: The position is set to 358.85'\n",
      "b'Server Message 1: Recieved the position request successfully from the client'\n",
      "b'Server Message 2: The position is set to 358.86'\n",
      "b'Server Message 1: Recieved the position request successfully from the client'\n",
      "b'Server Message 2: The position is set to 358.87'\n",
      "b'Server Message 1: Recieved the position request successfully from the client'\n",
      "b'Server Message 2: The position is set to 358.88'\n",
      "b'Server Message 1: Recieved the position request successfully from the client'\n",
      "b'Server Message 2: The position is set to 358.89'\n",
      "b'Server Message 1: Recieved the position request successfully from the client'\n",
      "b'Server Message 2: The position is set to 358.9'\n",
      "b'Server Message 1: Recieved the position request successfully from the client'\n",
      "b'Server Message 2: The position is set to 358.91'\n",
      "b'Server Message 1: Recieved the position request successfully from the client'\n",
      "b'Server Message 2: The position is set to 358.92'\n",
      "b'Server Message 1: Recieved the position request successfully from the client'\n",
      "b'Server Message 2: The position is set to 358.93'\n",
      "b'Server Message 1: Recieved the position request successfully from the client'\n",
      "b'Server Message 2: The position is set to 358.94'\n",
      "b'Server Message 1: Recieved the position request successfully from the client'\n",
      "b'Server Message 2: The position is set to 358.95'\n",
      "b'Server Message 1: Recieved the position request successfully from the client'\n",
      "b'Server Message 2: The position is set to 358.96'\n",
      "b'Server Message 1: Recieved the position request successfully from the client'\n",
      "b'Server Message 2: The position is set to 358.97'\n",
      "b'Server Message 1: Recieved the position request successfully from the client'\n",
      "b'Server Message 2: The position is set to 358.98'\n",
      "b'Server Message 1: Recieved the position request successfully from the client'\n",
      "b'Server Message 2: The position is set to 358.99'\n",
      "b'Server Message 1: Recieved the position request successfully from the client'\n",
      "b'Server Message 2: The position is set to 359.0'\n",
      "b'Server Message 1: Recieved the position request successfully from the client'\n",
      "b'Server Message 2: The position is set to 359.01'\n",
      "b'Server Message 1: Recieved the position request successfully from the client'\n",
      "b'Server Message 2: The position is set to 359.02'\n",
      "b'Server Message 1: Recieved the position request successfully from the client'\n",
      "b'Server Message 2: The position is set to 359.03000000000003'\n",
      "b'Server Message 1: Recieved the position request successfully from the client'\n",
      "b'Server Message 2: The position is set to 359.04'\n",
      "b'Server Message 1: Recieved the position request successfully from the client'\n",
      "b'Server Message 2: The position is set to 359.05'\n",
      "b'Server Message 1: Recieved the position request successfully from the client'\n",
      "b'Server Message 2: The position is set to 359.06'\n",
      "b'Server Message 1: Recieved the position request successfully from the client'\n",
      "b'Server Message 2: The position is set to 359.07'\n",
      "b'Server Message 1: Recieved the position request successfully from the client'\n",
      "b'Server Message 2: The position is set to 359.08'\n",
      "b'Server Message 1: Recieved the position request successfully from the client'\n",
      "b'Server Message 2: The position is set to 359.09000000000003'\n",
      "b'Server Message 1: Recieved the position request successfully from the client'\n",
      "b'Server Message 2: The position is set to 359.1'\n",
      "b'Server Message 1: Recieved the position request successfully from the client'\n",
      "b'Server Message 2: The position is set to 359.11'\n",
      "b'Server Message 1: Recieved the position request successfully from the client'\n",
      "b'Server Message 2: The position is set to 359.12'\n",
      "b'Server Message 1: Recieved the position request successfully from the client'\n",
      "b'Server Message 2: The position is set to 359.13'\n",
      "b'Server Message 1: Recieved the position request successfully from the client'\n",
      "b'Server Message 2: The position is set to 359.14'\n",
      "b'Server Message 1: Recieved the position request successfully from the client'\n",
      "b'Server Message 2: The position is set to 359.15'\n",
      "b'Server Message 1: Recieved the position request successfully from the client'\n",
      "b'Server Message 2: The position is set to 359.16'\n",
      "b'Server Message 1: Recieved the position request successfully from the client'\n",
      "b'Server Message 2: The position is set to 359.17'\n",
      "b'Server Message 1: Recieved the position request successfully from the client'\n",
      "b'Server Message 2: The position is set to 359.18'\n",
      "b'Server Message 1: Recieved the position request successfully from the client'\n",
      "b'Server Message 2: The position is set to 359.19'\n",
      "b'Server Message 1: Recieved the position request successfully from the client'\n",
      "b'Server Message 2: The position is set to 359.2'\n",
      "b'Server Message 1: Recieved the position request successfully from the client'\n",
      "b'Server Message 2: The position is set to 359.21'\n",
      "b'Server Message 1: Recieved the position request successfully from the client'\n",
      "b'Server Message 2: The position is set to 359.22'\n",
      "b'Server Message 1: Recieved the position request successfully from the client'\n",
      "b'Server Message 2: The position is set to 359.23'\n",
      "b'Server Message 1: Recieved the position request successfully from the client'\n",
      "b'Server Message 2: The position is set to 359.24'\n",
      "b'Server Message 1: Recieved the position request successfully from the client'\n",
      "b'Server Message 2: The position is set to 359.25'\n",
      "b'Server Message 1: Recieved the position request successfully from the client'\n",
      "b'Server Message 2: The position is set to 359.26'\n",
      "b'Server Message 1: Recieved the position request successfully from the client'\n",
      "b'Server Message 2: The position is set to 359.27'\n",
      "b'Server Message 1: Recieved the position request successfully from the client'\n",
      "b'Server Message 2: The position is set to 359.28000000000003'\n",
      "b'Server Message 1: Recieved the position request successfully from the client'\n",
      "b'Server Message 2: The position is set to 359.29'\n",
      "b'Server Message 1: Recieved the position request successfully from the client'\n",
      "b'Server Message 2: The position is set to 359.3'\n",
      "b'Server Message 1: Recieved the position request successfully from the client'\n",
      "b'Server Message 2: The position is set to 359.31'\n",
      "b'Server Message 1: Recieved the position request successfully from the client'\n",
      "b'Server Message 2: The position is set to 359.32'\n",
      "b'Server Message 1: Recieved the position request successfully from the client'\n",
      "b'Server Message 2: The position is set to 359.33'\n",
      "b'Server Message 1: Recieved the position request successfully from the client'\n",
      "b'Server Message 2: The position is set to 359.34000000000003'\n",
      "b'Server Message 1: Recieved the position request successfully from the client'\n",
      "b'Server Message 2: The position is set to 359.35'\n",
      "b'Server Message 1: Recieved the position request successfully from the client'\n",
      "b'Server Message 2: The position is set to 359.36'\n",
      "b'Server Message 1: Recieved the position request successfully from the client'\n",
      "b'Server Message 2: The position is set to 359.37'\n",
      "b'Server Message 1: Recieved the position request successfully from the client'\n",
      "b'Server Message 2: The position is set to 359.38'\n",
      "b'Server Message 1: Recieved the position request successfully from the client'\n",
      "b'Server Message 2: The position is set to 359.39'\n",
      "b'Server Message 1: Recieved the position request successfully from the client'\n",
      "b'Server Message 2: The position is set to 359.40000000000003'\n",
      "b'Server Message 1: Recieved the position request successfully from the client'\n",
      "b'Server Message 2: The position is set to 359.41'\n",
      "b'Server Message 1: Recieved the position request successfully from the client'\n",
      "b'Server Message 2: The position is set to 359.42'\n",
      "b'Server Message 1: Recieved the position request successfully from the client'\n",
      "b'Server Message 2: The position is set to 359.43'\n",
      "b'Server Message 1: Recieved the position request successfully from the client'\n",
      "b'Server Message 2: The position is set to 359.44'\n",
      "b'Server Message 1: Recieved the position request successfully from the client'\n",
      "b'Server Message 2: The position is set to 359.45'\n",
      "b'Server Message 1: Recieved the position request successfully from the client'\n",
      "b'Server Message 2: The position is set to 359.46000000000004'\n",
      "b'Server Message 1: Recieved the position request successfully from the client'\n",
      "b'Server Message 2: The position is set to 359.47'\n",
      "b'Server Message 1: Recieved the position request successfully from the client'\n",
      "b'Server Message 2: The position is set to 359.48'\n",
      "b'Server Message 1: Recieved the position request successfully from the client'\n",
      "b'Server Message 2: The position is set to 359.49'\n",
      "b'Server Message 1: Recieved the position request successfully from the client'\n",
      "b'Server Message 2: The position is set to 359.5'\n",
      "b'Server Message 1: Recieved the position request successfully from the client'\n",
      "b'Server Message 2: The position is set to 359.51'\n",
      "b'Server Message 1: Recieved the position request successfully from the client'\n",
      "b'Server Message 2: The position is set to 359.52'\n",
      "b'Server Message 1: Recieved the position request successfully from the client'\n",
      "b'Server Message 2: The position is set to 359.53000000000003'\n",
      "b'Server Message 1: Recieved the position request successfully from the client'\n",
      "b'Server Message 2: The position is set to 359.54'\n",
      "b'Server Message 1: Recieved the position request successfully from the client'\n",
      "b'Server Message 2: The position is set to 359.55'\n",
      "b'Server Message 1: Recieved the position request successfully from the client'\n",
      "b'Server Message 2: The position is set to 359.56'\n",
      "b'Server Message 1: Recieved the position request successfully from the client'\n",
      "b'Server Message 2: The position is set to 359.57'\n",
      "b'Server Message 1: Recieved the position request successfully from the client'\n",
      "b'Server Message 2: The position is set to 359.58'\n",
      "b'Server Message 1: Recieved the position request successfully from the client'\n",
      "b'Server Message 2: The position is set to 359.59000000000003'\n",
      "b'Server Message 1: Recieved the position request successfully from the client'\n",
      "b'Server Message 2: The position is set to 359.6'\n",
      "b'Server Message 1: Recieved the position request successfully from the client'\n",
      "b'Server Message 2: The position is set to 359.61'\n",
      "b'Server Message 1: Recieved the position request successfully from the client'\n",
      "b'Server Message 2: The position is set to 359.62'\n",
      "b'Server Message 1: Recieved the position request successfully from the client'\n",
      "b'Server Message 2: The position is set to 359.63'\n",
      "b'Server Message 1: Recieved the position request successfully from the client'\n",
      "b'Server Message 2: The position is set to 359.64'\n",
      "b'Server Message 1: Recieved the position request successfully from the client'\n",
      "b'Server Message 2: The position is set to 359.65000000000003'\n",
      "b'Server Message 1: Recieved the position request successfully from the client'\n",
      "b'Server Message 2: The position is set to 359.66'\n",
      "b'Server Message 1: Recieved the position request successfully from the client'\n",
      "b'Server Message 2: The position is set to 359.67'\n",
      "b'Server Message 1: Recieved the position request successfully from the client'\n",
      "b'Server Message 2: The position is set to 359.68'\n",
      "b'Server Message 1: Recieved the position request successfully from the client'\n",
      "b'Server Message 2: The position is set to 359.69'\n",
      "b'Server Message 1: Recieved the position request successfully from the client'\n",
      "b'Server Message 2: The position is set to 359.7'\n",
      "b'Server Message 1: Recieved the position request successfully from the client'\n",
      "b'Server Message 2: The position is set to 359.71000000000004'\n",
      "b'Server Message 1: Recieved the position request successfully from the client'\n",
      "b'Server Message 2: The position is set to 359.72'\n",
      "b'Server Message 1: Recieved the position request successfully from the client'\n",
      "b'Server Message 2: The position is set to 359.73'\n",
      "b'Server Message 1: Recieved the position request successfully from the client'\n",
      "b'Server Message 2: The position is set to 359.74'\n",
      "b'Server Message 1: Recieved the position request successfully from the client'\n",
      "b'Server Message 2: The position is set to 359.75'\n",
      "b'Server Message 1: Recieved the position request successfully from the client'\n",
      "b'Server Message 2: The position is set to 359.76'\n",
      "b'Server Message 1: Recieved the position request successfully from the client'\n",
      "b'Server Message 2: The position is set to 359.77000000000004'\n",
      "b'Server Message 1: Recieved the position request successfully from the client'\n",
      "b'Server Message 2: The position is set to 359.78000000000003'\n",
      "b'Server Message 1: Recieved the position request successfully from the client'\n",
      "b'Server Message 2: The position is set to 359.79'\n",
      "b'Server Message 1: Recieved the position request successfully from the client'\n",
      "b'Server Message 2: The position is set to 359.8'\n"
     ]
    }
   ],
   "source": [
    "## Fine angle scan\n",
    "\n",
    "#ga_deg = np.linspace(86.4, 88.10, 171)#        grazing angles\n",
    "ga_deg = np.linspace(358.5, 359.8, 131)#        grazing angles\n",
    "Es_eV = np.linspace(8000,8000,1)      # same energy range/resolution as nexafs\n",
    "\n",
    "epics.caput('bl531_xps1:mono_angle_deg',mono_deg(Es_eV[0]))\n",
    "time_sleep(5)\n",
    "filenames = ()\n",
    "for i_g in range(len(ga_deg)):\n",
    "    position_au = ga_deg[i_g]\n",
    "    apt_move(position_au)\n",
    "    time_sleep(1)\n",
    "    for i_e in range(len(Es_eV)): \n",
    "\n",
    "        series_nb = \"%03.0f\" % (i_g+1)\n",
    "        image_nb = \"%03.0f\"  % (1)\n",
    "\n",
    "        current_filename = \"20240618h_tender_grating_\" + series_nb + \"_\" +image_nb\n",
    "        epics.caput('13PIL1:cam1:FileName',current_filename)\n",
    "        epics.caput('13PIL1:cam1:Acquire',1)\n",
    "        time_sleep(5)"
   ]
  },
  {
   "cell_type": "code",
   "execution_count": 38,
   "metadata": {},
   "outputs": [
    {
     "data": {
      "text/plain": [
       "-130.00000000000114"
      ]
     },
     "execution_count": 38,
     "metadata": {},
     "output_type": "execute_result"
    }
   ],
   "source": [
    "(358.5-359.8)/0.01"
   ]
  },
  {
   "cell_type": "markdown",
   "metadata": {},
   "source": [
    "### Collect a single image (000-000)"
   ]
  },
  {
   "cell_type": "markdown",
   "metadata": {},
   "source": [
    "## Changing some beamline settings manually"
   ]
  },
  {
   "cell_type": "markdown",
   "metadata": {},
   "source": [
    "### Change sample slit position"
   ]
  },
  {
   "cell_type": "code",
   "execution_count": null,
   "metadata": {},
   "outputs": [],
   "source": [
    "# 1 enable motor\n",
    "epics.caput('DMC02:E.CNEN', 1)\n",
    "#E- Outboard slit\n"
   ]
  },
  {
   "cell_type": "code",
   "execution_count": null,
   "metadata": {},
   "outputs": [],
   "source": [
    "# 2- read motor position\n",
    "epics.caget('DMC02:E', 1)"
   ]
  },
  {
   "cell_type": "code",
   "execution_count": null,
   "metadata": {},
   "outputs": [],
   "source": [
    "# 3- change slit position\n",
    "epics.caput('DMC02:E', -28) #was -25 initially"
   ]
  },
  {
   "cell_type": "markdown",
   "metadata": {},
   "source": [
    "### Change camera exposure time"
   ]
  },
  {
   "cell_type": "code",
   "execution_count": null,
   "metadata": {},
   "outputs": [],
   "source": [
    "epics.caput('13PIL1:cam1:AcquireTime', 1)\n",
    "epics.caput('13PIL1:cam1:AcquirePeriod', 1)"
   ]
  },
  {
   "cell_type": "markdown",
   "metadata": {},
   "source": [
    "### Move rotary stage"
   ]
  },
  {
   "cell_type": "code",
   "execution_count": null,
   "metadata": {},
   "outputs": [],
   "source": [
    "apt_move(87.5)"
   ]
  },
  {
   "cell_type": "markdown",
   "metadata": {},
   "source": [
    "### Change mono energy"
   ]
  },
  {
   "cell_type": "code",
   "execution_count": 4,
   "metadata": {},
   "outputs": [
    {
     "data": {
      "text/plain": [
       "1"
      ]
     },
     "execution_count": 4,
     "metadata": {},
     "output_type": "execute_result"
    }
   ],
   "source": [
    "# change mon energy\n",
    "epics.caput('bl531_xps1:mono_angle_deg',mono_deg(8000))"
   ]
  },
  {
   "cell_type": "code",
   "execution_count": 5,
   "metadata": {},
   "outputs": [
    {
     "data": {
      "text/plain": [
       "27.097538443499513"
      ]
     },
     "execution_count": 5,
     "metadata": {},
     "output_type": "execute_result"
    }
   ],
   "source": [
    "# readout mono angle\n",
    "epics.caget('bl531_xps1:mono_angle_deg')"
   ]
  },
  {
   "cell_type": "code",
   "execution_count": 40,
   "metadata": {},
   "outputs": [
    {
     "name": "stdout",
     "output_type": "stream",
     "text": [
      "b'Server Message 1: Recieved the position request successfully from the client'\n"
     ]
    },
    {
     "ename": "ConnectionResetError",
     "evalue": "[Errno 104] Connection reset by peer",
     "output_type": "error",
     "traceback": [
      "\u001b[0;31m---------------------------------------------------------------------------\u001b[0m",
      "\u001b[0;31mConnectionResetError\u001b[0m                      Traceback (most recent call last)",
      "\u001b[1;32m/home/bl531/bl531/bluesky-test/20240618_AW_tender_grating_efficiency_with_shutter.ipynb Cell 51\u001b[0m in \u001b[0;36m<cell line: 2>\u001b[0;34m()\u001b[0m\n\u001b[1;32m      <a href='vscode-notebook-cell:/home/bl531/bl531/bluesky-test/20240618_AW_tender_grating_efficiency_with_shutter.ipynb#ch0000046?line=0'>1</a>\u001b[0m \u001b[39m# disconnect motor server\u001b[39;00m\n\u001b[0;32m----> <a href='vscode-notebook-cell:/home/bl531/bl531/bluesky-test/20240618_AW_tender_grating_efficiency_with_shutter.ipynb#ch0000046?line=1'>2</a>\u001b[0m apt_stop()\n",
      "\u001b[1;32m/home/bl531/bl531/bluesky-test/20240618_AW_tender_grating_efficiency_with_shutter.ipynb Cell 51\u001b[0m in \u001b[0;36mapt_stop\u001b[0;34m()\u001b[0m\n\u001b[1;32m     <a href='vscode-notebook-cell:/home/bl531/bl531/bluesky-test/20240618_AW_tender_grating_efficiency_with_shutter.ipynb#ch0000046?line=31'>32</a>\u001b[0m \u001b[39mdef\u001b[39;00m \u001b[39mapt_stop\u001b[39m():\n\u001b[0;32m---> <a href='vscode-notebook-cell:/home/bl531/bl531/bluesky-test/20240618_AW_tender_grating_efficiency_with_shutter.ipynb#ch0000046?line=32'>33</a>\u001b[0m     apt_send(\u001b[39mb\u001b[39;49m\u001b[39m\"\u001b[39;49m\u001b[39mclose\u001b[39;49m\u001b[39m\"\u001b[39;49m)\n",
      "\u001b[1;32m/home/bl531/bl531/bluesky-test/20240618_AW_tender_grating_efficiency_with_shutter.ipynb Cell 51\u001b[0m in \u001b[0;36mapt_send\u001b[0;34m(msg_str)\u001b[0m\n\u001b[1;32m     <a href='vscode-notebook-cell:/home/bl531/bl531/bluesky-test/20240618_AW_tender_grating_efficiency_with_shutter.ipynb#ch0000046?line=14'>15</a>\u001b[0m \u001b[39m# send the message to the server\u001b[39;00m\n\u001b[1;32m     <a href='vscode-notebook-cell:/home/bl531/bl531/bluesky-test/20240618_AW_tender_grating_efficiency_with_shutter.ipynb#ch0000046?line=15'>16</a>\u001b[0m client\u001b[39m.\u001b[39msend(msg_str)\n\u001b[0;32m---> <a href='vscode-notebook-cell:/home/bl531/bl531/bluesky-test/20240618_AW_tender_grating_efficiency_with_shutter.ipynb#ch0000046?line=17'>18</a>\u001b[0m msg_from_server2 \u001b[39m=\u001b[39m client\u001b[39m.\u001b[39;49mrecv(\u001b[39m4096\u001b[39;49m)\n\u001b[1;32m     <a href='vscode-notebook-cell:/home/bl531/bl531/bluesky-test/20240618_AW_tender_grating_efficiency_with_shutter.ipynb#ch0000046?line=18'>19</a>\u001b[0m \u001b[39mprint\u001b[39m(msg_from_server2)\n\u001b[1;32m     <a href='vscode-notebook-cell:/home/bl531/bl531/bluesky-test/20240618_AW_tender_grating_efficiency_with_shutter.ipynb#ch0000046?line=20'>21</a>\u001b[0m \u001b[39m# close the connection\u001b[39;00m\n",
      "\u001b[0;31mConnectionResetError\u001b[0m: [Errno 104] Connection reset by peer"
     ]
    }
   ],
   "source": [
    "# disconnect motor server\n",
    "apt_stop()"
   ]
  },
  {
   "cell_type": "code",
   "execution_count": null,
   "metadata": {},
   "outputs": [],
   "source": []
  }
 ],
 "metadata": {
  "kernelspec": {
   "display_name": "Python 3.10.6 64-bit",
   "language": "python",
   "name": "python3"
  },
  "language_info": {
   "codemirror_mode": {
    "name": "ipython",
    "version": 3
   },
   "file_extension": ".py",
   "mimetype": "text/x-python",
   "name": "python",
   "nbconvert_exporter": "python",
   "pygments_lexer": "ipython3",
   "version": "3.10.6"
  },
  "orig_nbformat": 4,
  "vscode": {
   "interpreter": {
    "hash": "916dbcbb3f70747c44a77c7bcd40155683ae19c65e1c03b4aa3499c5328201f1"
   }
  }
 },
 "nbformat": 4,
 "nbformat_minor": 2
}

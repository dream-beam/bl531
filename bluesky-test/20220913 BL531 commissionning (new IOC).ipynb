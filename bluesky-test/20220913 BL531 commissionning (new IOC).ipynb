{
 "cells": [
  {
   "cell_type": "markdown",
   "id": "daad3847",
   "metadata": {},
   "source": [
    "# Testing bluesky + EPICS"
   ]
  },
  {
   "cell_type": "markdown",
   "id": "717b6dd2",
   "metadata": {},
   "source": [
    "Following the bluesky tutorial https://nsls-ii.github.io/bluesky/tutorial.html with simulated and live motors"
   ]
  },
  {
   "cell_type": "code",
   "execution_count": 1,
   "id": "53d02f73",
   "metadata": {},
   "outputs": [],
   "source": [
    "# September 2022\n",
    "# awojdyla@lbl.gov"
   ]
  },
  {
   "cell_type": "code",
   "execution_count": 2,
   "id": "9e5a92f6",
   "metadata": {},
   "outputs": [],
   "source": [
    "import epics\n",
    "import bluesky\n",
    "#import numpy\n",
    "#import matplotlib.pyplot as plt\n",
    "#import time "
   ]
  },
  {
   "cell_type": "markdown",
   "id": "f085786c",
   "metadata": {},
   "source": [
    "### Connecting to EPICS motors\n",
    "We had some issues here witht the picoscale interformeter -- we need to use caproto to talk to it (ophyd's motor does not work directly out of the box)\n",
    "\n",
    "from: https://nsls-ii.github.io/bluesky/tutorial.html\n",
    "\n",
    "```\n",
    "from ophyd import EpicsMotor\n",
    "nano_top_x = EpicsMotor('XF:31ID-ES{Dif:Nano-Ax:TopX}Mtr', name='nano_top_x')\n",
    "```\n"
   ]
  },
  {
   "cell_type": "code",
   "execution_count": 3,
   "id": "3d72c8ac",
   "metadata": {},
   "outputs": [],
   "source": [
    "from ophyd import EpicsMotor\n",
    "import ophyd\n",
    "ophyd.set_cl('caproto')\n",
    "os.environ['EPICS_CA_ADDR_LIST'] = '192.168.10.255'\n",
    "os.environ['EPICS_CA_AUTO_ADDR_LIST'] = 'NO'"
   ]
  },
  {
   "cell_type": "code",
   "execution_count": 4,
   "id": "5a6ddbed",
   "metadata": {},
   "outputs": [],
   "source": [
    "m1_pitch = EpicsMotor('newport:m21', name='m1_pitch')"
   ]
  },
  {
   "cell_type": "code",
   "execution_count": 5,
   "id": "53d55a63",
   "metadata": {},
   "outputs": [
    {
     "data": {
      "text/plain": [
       "0.030015999999999998"
      ]
     },
     "execution_count": 5,
     "metadata": {},
     "output_type": "execute_result"
    }
   ],
   "source": [
    "#worked\n",
    "m1_pitch.position"
   ]
  },
  {
   "cell_type": "code",
   "execution_count": 14,
   "id": "5e0eef38",
   "metadata": {},
   "outputs": [
    {
     "data": {
      "text/plain": [
       "MoveStatus(done=True, pos=m1_pitch, elapsed=2.5, success=True, settle_time=0.0)"
      ]
     },
     "execution_count": 14,
     "metadata": {},
     "output_type": "execute_result"
    }
   ],
   "source": [
    "#worked\n",
    "m1_pitch.move(0.055)"
   ]
  },
  {
   "cell_type": "code",
   "execution_count": 34,
   "id": "7b9e911b",
   "metadata": {},
   "outputs": [],
   "source": [
    "m1_bend = EpicsMotor('newport:m22', name='m1_bend')\n"
   ]
  },
  {
   "cell_type": "code",
   "execution_count": 35,
   "id": "c1db42a2",
   "metadata": {},
   "outputs": [
    {
     "data": {
      "text/plain": [
       "0.0"
      ]
     },
     "execution_count": 35,
     "metadata": {},
     "output_type": "execute_result"
    }
   ],
   "source": [
    "m1_bend.position"
   ]
  },
  {
   "cell_type": "code",
   "execution_count": 39,
   "id": "a4b6abd9",
   "metadata": {},
   "outputs": [
    {
     "data": {
      "text/plain": [
       "MoveStatus(done=True, pos=m1_bend, elapsed=3.4, success=True, settle_time=0.0)"
      ]
     },
     "execution_count": 39,
     "metadata": {},
     "output_type": "execute_result"
    }
   ],
   "source": [
    "#m1_bend.move(1)"
   ]
  },
  {
   "cell_type": "code",
   "execution_count": 36,
   "id": "264c621f",
   "metadata": {},
   "outputs": [],
   "source": [
    "m1_slit = EpicsMotor('newport:m23', name='m1_slit')\n"
   ]
  },
  {
   "cell_type": "code",
   "execution_count": 37,
   "id": "6b1770c0",
   "metadata": {},
   "outputs": [
    {
     "data": {
      "text/plain": [
       "0.0"
      ]
     },
     "execution_count": 37,
     "metadata": {},
     "output_type": "execute_result"
    }
   ],
   "source": [
    "m1_slit.position"
   ]
  },
  {
   "cell_type": "code",
   "execution_count": null,
   "id": "5b5dd36d",
   "metadata": {},
   "outputs": [],
   "source": []
  },
  {
   "cell_type": "code",
   "execution_count": 10,
   "id": "b3892e98",
   "metadata": {},
   "outputs": [],
   "source": [
    "#m1_bend = EpicsMotor('newport:m22', name='m1_bend')\n",
    "#m1_bend.position"
   ]
  },
  {
   "cell_type": "code",
   "execution_count": 10,
   "id": "c5361cf1",
   "metadata": {},
   "outputs": [],
   "source": [
    "#hs_m1 = EpicsMotor('micronix:m1', name='hs_m1')"
   ]
  },
  {
   "cell_type": "markdown",
   "id": "0071361a",
   "metadata": {},
   "source": [
    "### Reading motor position"
   ]
  },
  {
   "cell_type": "code",
   "execution_count": 2,
   "id": "48254711",
   "metadata": {},
   "outputs": [
    {
     "ename": "NameError",
     "evalue": "name 'EpicsMotor' is not defined",
     "output_type": "error",
     "traceback": [
      "\u001b[0;31m---------------------------------------------------------------------------\u001b[0m",
      "\u001b[0;31mNameError\u001b[0m                                 Traceback (most recent call last)",
      "\u001b[1;32m/home/bl531/bl531/bluesky-test/20220913 BL531 commissionning (new IOC).ipynb Cell 19\u001b[0m in \u001b[0;36m<cell line: 1>\u001b[0;34m()\u001b[0m\n\u001b[0;32m----> <a href='vscode-notebook-cell:/home/bl531/bl531/bluesky-test/20220913%20BL531%20commissionning%20%28new%20IOC%29.ipynb#ch0000054?line=0'>1</a>\u001b[0m mono_theta \u001b[39m=\u001b[39m EpicsMotor(\u001b[39m'\u001b[39m\u001b[39mIOC:m1\u001b[39m\u001b[39m'\u001b[39m, name\u001b[39m=\u001b[39m\u001b[39m'\u001b[39m\u001b[39mtheta\u001b[39m\u001b[39m'\u001b[39m)\n",
      "\u001b[0;31mNameError\u001b[0m: name 'EpicsMotor' is not defined"
     ]
    }
   ],
   "source": [
    "mono_theta = EpicsMotor('IOC:m1', name='theta')"
   ]
  },
  {
   "cell_type": "code",
   "execution_count": 16,
   "id": "fe034b49",
   "metadata": {},
   "outputs": [
    {
     "name": "stdout",
     "output_type": "stream",
     "text": [
      "0.0\n"
     ]
    }
   ],
   "source": [
    "a = mono_theta.position\n",
    "print(a)"
   ]
  },
  {
   "cell_type": "code",
   "execution_count": 26,
   "id": "7dbd152c",
   "metadata": {},
   "outputs": [],
   "source": [
    "mono_z = EpicsMotor('IOC:m2', name='z')"
   ]
  },
  {
   "cell_type": "code",
   "execution_count": 27,
   "id": "5b389817",
   "metadata": {},
   "outputs": [
    {
     "name": "stdout",
     "output_type": "stream",
     "text": [
      "25.0\n"
     ]
    }
   ],
   "source": [
    "#works\n",
    "a = mono_z.position\n",
    "print(a)"
   ]
  },
  {
   "cell_type": "code",
   "execution_count": 3,
   "id": "1c9822ce",
   "metadata": {},
   "outputs": [],
   "source": [
    "hs_m1 = EpicsMotor('micronix:m1', name='test')"
   ]
  },
  {
   "cell_type": "code",
   "execution_count": 6,
   "id": "8c78e7f1",
   "metadata": {},
   "outputs": [
    {
     "name": "stdout",
     "output_type": "stream",
     "text": [
      "0.0\n"
     ]
    }
   ],
   "source": [
    "#doesn't work\n",
    "print(hs_m1.position)"
   ]
  },
  {
   "cell_type": "code",
   "execution_count": 12,
   "id": "bab893b8",
   "metadata": {},
   "outputs": [],
   "source": [
    "#a = m101_pitch.position\n",
    "#a = mono_theta.position\n",
    "#a = mono_z.position\n",
    "#print(a)"
   ]
  },
  {
   "cell_type": "code",
   "execution_count": 7,
   "id": "8824de96",
   "metadata": {},
   "outputs": [],
   "source": [
    "# does not work -- not a motor, no dval or val\n",
    "manta = EpicsMotor('AVT_Manta_507C:cam1:AcquireTime', name='manta')"
   ]
  },
  {
   "cell_type": "code",
   "execution_count": 8,
   "id": "944ff663",
   "metadata": {},
   "outputs": [
    {
     "ename": "DisconnectedError",
     "evalue": "manta is not connected",
     "output_type": "error",
     "traceback": [
      "\u001b[0;31m---------------------------------------------------------------------------\u001b[0m",
      "\u001b[0;31mDisconnectedError\u001b[0m                         Traceback (most recent call last)",
      "\u001b[1;32m/home/bl531/bl531/bluesky-test/20220913 BL531 commissionning (new IOC).ipynb Cell 27\u001b[0m in \u001b[0;36m<cell line: 1>\u001b[0;34m()\u001b[0m\n\u001b[0;32m----> <a href='vscode-notebook-cell:/home/bl531/bl531/bluesky-test/20220913%20BL531%20commissionning%20%28new%20IOC%29.ipynb#ch0000065?line=0'>1</a>\u001b[0m manta\u001b[39m.\u001b[39;49mposition\n",
      "File \u001b[0;32m~/.local/lib/python3.10/site-packages/ophyd/utils/epics_pvs.py:200\u001b[0m, in \u001b[0;36mraise_if_disconnected.<locals>.wrapper\u001b[0;34m(self, *args, **kwargs)\u001b[0m\n\u001b[1;32m    198\u001b[0m     \u001b[39mreturn\u001b[39;00m fcn(\u001b[39mself\u001b[39m, \u001b[39m*\u001b[39margs, \u001b[39m*\u001b[39m\u001b[39m*\u001b[39mkwargs)\n\u001b[1;32m    199\u001b[0m \u001b[39melse\u001b[39;00m:\n\u001b[0;32m--> 200\u001b[0m     \u001b[39mraise\u001b[39;00m DisconnectedError(\u001b[39m'\u001b[39m\u001b[39m{}\u001b[39;00m\u001b[39m is not connected\u001b[39m\u001b[39m'\u001b[39m\u001b[39m.\u001b[39mformat(\u001b[39mself\u001b[39m\u001b[39m.\u001b[39mname))\n",
      "\u001b[0;31mDisconnectedError\u001b[0m: manta is not connected"
     ]
    }
   ],
   "source": [
    "manta.position"
   ]
  },
  {
   "cell_type": "markdown",
   "id": "aacf1e5d",
   "metadata": {},
   "source": [
    "#\n"
   ]
  },
  {
   "cell_type": "code",
   "execution_count": 34,
   "id": "f3471ca9",
   "metadata": {},
   "outputs": [
    {
     "data": {
      "text/plain": [
       "'XPS ch1 10.000000 mm'"
      ]
     },
     "execution_count": 34,
     "metadata": {},
     "output_type": "execute_result"
    }
   ],
   "source": [
    "# this works\n",
    "import epics\n",
    "import os\n",
    "os.environ['EPICS_CA_ADDR_LIST'] = '192.168.10.123'\n",
    "os.environ['EPICS_CA_AUTO_ADDR_LIST'] = 'NO'\n",
    "pre_move_ps_mm = epics.caget('IOC:m1')\n",
    "(\"XPS ch1 %1.6f mm\" % (pre_move_ps_mm))"
   ]
  },
  {
   "cell_type": "code",
   "execution_count": 26,
   "id": "6e10a17e",
   "metadata": {},
   "outputs": [
    {
     "data": {
      "text/plain": [
       "'XPS ch1 0.010000 mm'"
      ]
     },
     "execution_count": 26,
     "metadata": {},
     "output_type": "execute_result"
    }
   ],
   "source": [
    "# this works\n",
    "import epics\n",
    "import os\n",
    "os.environ['EPICS_CA_ADDR_LIST'] = '192.168.10.123'\n",
    "pre_move_ps_mm = epics.caget('newport:m21')\n",
    "(\"XPS ch1 %1.6f mm\" % (pre_move_ps_mm))"
   ]
  },
  {
   "cell_type": "code",
   "execution_count": 25,
   "id": "073f055d",
   "metadata": {},
   "outputs": [
    {
     "data": {
      "text/plain": [
       "'reading: 0.000000 mm'"
      ]
     },
     "execution_count": 25,
     "metadata": {},
     "output_type": "execute_result"
    }
   ],
   "source": [
    "# this works\n",
    "import epics\n",
    "import os\n",
    "os.environ['EPICS_CA_ADDR_LIST'] = '192.168.10.123'\n",
    "reading = epics.caget('newport:m23')\n",
    "(\"reading: %1.6f mm\" % (reading))"
   ]
  },
  {
   "cell_type": "code",
   "execution_count": 34,
   "id": "36dd22f0",
   "metadata": {},
   "outputs": [
    {
     "data": {
      "text/plain": [
       "'reading: 1.000000'"
      ]
     },
     "execution_count": 34,
     "metadata": {},
     "output_type": "execute_result"
    }
   ],
   "source": [
    "# this works\n",
    "import epics\n",
    "import os\n",
    "os.environ['EPICS_CA_ADDR_LIST'] = '192.168.10.123'\n",
    "#reading = epics.caget('newport:m22')\n",
    "reading = epics.caget('newport:m22.VELO')\n",
    "(\"reading: %1.6f\" % (reading))"
   ]
  },
  {
   "cell_type": "code",
   "execution_count": 24,
   "id": "a5a84c09",
   "metadata": {},
   "outputs": [
    {
     "data": {
      "text/plain": [
       "'reading: 0.000000'"
      ]
     },
     "execution_count": 24,
     "metadata": {},
     "output_type": "execute_result"
    }
   ],
   "source": [
    "# this works\n",
    "import epics\n",
    "import os\n",
    "os.environ['EPICS_CA_ADDR_LIST'] = '192.168.10.123'\n",
    "reading = epics.caget('IOC:m1')\n",
    "(\"reading: %1.6f\" % (reading))"
   ]
  },
  {
   "cell_type": "code",
   "execution_count": 25,
   "id": "bcdecacb",
   "metadata": {},
   "outputs": [
    {
     "data": {
      "text/plain": [
       "'reading: 25.000000'"
      ]
     },
     "execution_count": 25,
     "metadata": {},
     "output_type": "execute_result"
    }
   ],
   "source": [
    "reading = epics.caget('IOC:m2')\n",
    "(\"reading: %1.6f\" % (reading))"
   ]
  },
  {
   "cell_type": "code",
   "execution_count": 5,
   "id": "7d6df2ab",
   "metadata": {},
   "outputs": [
    {
     "data": {
      "text/plain": [
       "'reading: 1.000000'"
      ]
     },
     "execution_count": 5,
     "metadata": {},
     "output_type": "execute_result"
    }
   ],
   "source": [
    "#works\n",
    "reading = epics.caget('micronix:m1')\n",
    "(\"reading: %1.6f\" % (reading))"
   ]
  },
  {
   "cell_type": "code",
   "execution_count": 27,
   "id": "41d67efe",
   "metadata": {},
   "outputs": [
    {
     "data": {
      "text/plain": [
       "'reading: 0.900000'"
      ]
     },
     "execution_count": 27,
     "metadata": {},
     "output_type": "execute_result"
    }
   ],
   "source": [
    "reading = epics.caget('AVT_Manta_507C:cam1:AcquireTime')\n",
    "(\"reading: %1.6f\" % (reading))"
   ]
  },
  {
   "cell_type": "code",
   "execution_count": 32,
   "id": "488ff0a9",
   "metadata": {},
   "outputs": [],
   "source": [
    "os.environ['EPICS_CA_MAX_ARRAY_BYTES'] = '20000000'\n",
    "reading = epics.caput('AVT_Manta_507C:cam1:Acquire',1)"
   ]
  },
  {
   "cell_type": "code",
   "execution_count": 33,
   "id": "7205ba12",
   "metadata": {},
   "outputs": [],
   "source": [
    "reading = epics.caget('AVT_Manta_507C:image1:ArrayData')"
   ]
  },
  {
   "cell_type": "code",
   "execution_count": 34,
   "id": "55fd0315",
   "metadata": {},
   "outputs": [
    {
     "data": {
      "text/plain": [
       "array([], dtype=int16)"
      ]
     },
     "execution_count": 34,
     "metadata": {},
     "output_type": "execute_result"
    }
   ],
   "source": [
    "reading #why? -->use ophyd"
   ]
  },
  {
   "cell_type": "code",
   "execution_count": null,
   "id": "260075f2",
   "metadata": {},
   "outputs": [],
   "source": []
  }
 ],
 "metadata": {
  "kernelspec": {
   "display_name": "Python 3.10.4 64-bit",
   "language": "python",
   "name": "python3"
  },
  "language_info": {
   "codemirror_mode": {
    "name": "ipython",
    "version": 3
   },
   "file_extension": ".py",
   "mimetype": "text/x-python",
   "name": "python",
   "nbconvert_exporter": "python",
   "pygments_lexer": "ipython3",
   "version": "3.10.6"
  },
  "vscode": {
   "interpreter": {
    "hash": "916dbcbb3f70747c44a77c7bcd40155683ae19c65e1c03b4aa3499c5328201f1"
   }
  }
 },
 "nbformat": 4,
 "nbformat_minor": 5
}

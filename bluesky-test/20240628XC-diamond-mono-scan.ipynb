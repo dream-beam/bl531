{
 "cells": [
  {
   "cell_type": "markdown",
   "metadata": {},
   "source": [
    "# Diamond sensor data collection and analysis\n",
    "\n",
    "xchong@lbl.gov, awojdyla@lbl.gov, May 2024"
   ]
  },
  {
   "cell_type": "markdown",
   "metadata": {},
   "source": [
    "# Step 1: Move the m101 pitch slightly and see what happens"
   ]
  },
  {
   "cell_type": "code",
   "execution_count": 1,
   "metadata": {},
   "outputs": [],
   "source": [
    "import epics\n",
    "import bluesky\n",
    "import numpy as np"
   ]
  },
  {
   "cell_type": "code",
   "execution_count": 2,
   "metadata": {},
   "outputs": [
    {
     "data": {
      "text/plain": [
       "0"
      ]
     },
     "execution_count": 2,
     "metadata": {},
     "output_type": "execute_result"
    }
   ],
   "source": [
    "from bluesky import RunEngine\n",
    "RE = RunEngine({})\n",
    "\n",
    "from databroker import Broker\n",
    "db = Broker.named('temp')\n",
    "\n",
    "# Insert all metadata/data captured into db.\n",
    "RE.subscribe(db.insert)"
   ]
  },
  {
   "cell_type": "code",
   "execution_count": 3,
   "metadata": {},
   "outputs": [
    {
     "data": {
      "text/plain": [
       "{'photodiode': {'value': -0.4903, 'timestamp': 1719615721.053714}}"
      ]
     },
     "execution_count": 3,
     "metadata": {},
     "output_type": "execute_result"
    }
   ],
   "source": [
    "from ophyd import EpicsMotor\n",
    "import ophyd\n",
    "#ophyd.set_cl('caproto')\n",
    "\n",
    "#for diode_mA, use EpicsSignal() instead of EpicsMotor\n",
    "diode_mA = ophyd.EpicsSignal('bl201-beamstop:current', name='photodiode') \n",
    "diode_mA.wait_for_connection(timeout=2.0)\n",
    "diode_mA.read()"
   ]
  },
  {
   "cell_type": "code",
   "execution_count": 4,
   "metadata": {},
   "outputs": [],
   "source": [
    "#For the 1st experiment on 20231215, we use mono_angle_deg only (which does not work, no edge found)\n",
    "#pv_mono_angle_deg = 'bl531_xps1:mono_angle_deg'\n",
    "#pv_photodiode_mA  = 'bl201-beamstop:current'\n",
    "\n",
    "\n",
    "pv_m101_pitch_mm  = 'bl531_esp300:m101_pitch_mm'\n",
    "# #pv_m101_bend_um   = 'bl531_esp300:m101_bend_um'\n",
    "# pv_mono_height_mm = 'bl531_xps1:mono_height_mm'"
   ]
  },
  {
   "cell_type": "code",
   "execution_count": 5,
   "metadata": {},
   "outputs": [
    {
     "data": {
      "text/plain": [
       "OrderedDict([('m101_pitch_mm',\n",
       "              {'value': 0.7983699999999999, 'timestamp': 1719515701.875241}),\n",
       "             ('m101_pitch_mm_user_setpoint',\n",
       "              {'value': 0.7983512282371521, 'timestamp': 1719515701.875241})])"
      ]
     },
     "execution_count": 5,
     "metadata": {},
     "output_type": "execute_result"
    }
   ],
   "source": [
    "m101_pitch_mm = EpicsMotor(pv_m101_pitch_mm, name='m101_pitch_mm')\n",
    "m101_pitch_mm.wait_for_connection(timeout=2.0)\n",
    "m101_pitch_mm.read()"
   ]
  },
  {
   "cell_type": "code",
   "execution_count": 6,
   "metadata": {},
   "outputs": [
    {
     "data": {
      "text/plain": [
       "OrderedDict([('m101_pitch_mm',\n",
       "              {'value': 0.7983699999999999, 'timestamp': 1719515701.875241}),\n",
       "             ('m101_pitch_mm_user_setpoint',\n",
       "              {'value': 0.7983512282371521, 'timestamp': 1719515701.875241})])"
      ]
     },
     "execution_count": 6,
     "metadata": {},
     "output_type": "execute_result"
    }
   ],
   "source": [
    "#Run this line before starting angle scan, otherwise the edge does not look good\n",
    "m101_pitch_mm.read()"
   ]
  },
  {
   "cell_type": "code",
   "execution_count": 7,
   "metadata": {},
   "outputs": [],
   "source": [
    "\n",
    "#physical constants\n",
    "h_m2kgps = 6.6261e-34\n",
    "c_mps    = 299792458   \n",
    "e_eV     = 6.2415e+18\n",
    "# Silicon spacing (for Bragg condition)\n",
    "Si_m = 5.43E-10\n",
    "a_Si111_m = Si_m/np.sqrt(1^2+1^2+1^2)\n",
    "# Monochromotor offset\n",
    "mono_offset_deg = 12.787\n",
    "#Wavelength from energy\n",
    "lambda_m = lambda E_eV : h_m2kgps*c_mps*e_eV/E_eV\n",
    "#Bragg angle from Wavelength\n",
    "bragg_deg = lambda E_eV: np.arcsin(lambda_m(E_eV)/(2*a_Si111_m))*180/np.pi\n",
    "# Mono angle from Bragg angle\n",
    "mono_deg = lambda E_eV: bragg_deg(E_eV)+mono_offset_deg\n",
    "\n",
    "# inverse function to go from mono angle to eV\n",
    "energy_eV = lambda mono_deg_input: (h_m2kgps*c_mps*e_eV)/((2 * a_Si111_m) * np.sin((np.pi/180)*(mono_deg_input - mono_offset_deg)))"
   ]
  },
  {
   "cell_type": "code",
   "execution_count": 103,
   "metadata": {},
   "outputs": [
    {
     "data": {
      "text/plain": [
       "25.479182679068188"
      ]
     },
     "execution_count": 103,
     "metadata": {},
     "output_type": "execute_result"
    }
   ],
   "source": [
    "#m101_pitch_mm.move(0.819982)\n",
    "#6-9kev\n",
    "energy=9000\n",
    "mono_deg(energy)\n",
    "\n",
    "epics.caput('bl531_xps1:mono_angle_deg',mono_deg(energy))\n",
    "epics.caget('bl531_xps1:mono_angle_deg')"
   ]
  },
  {
   "cell_type": "markdown",
   "metadata": {},
   "source": [
    "# Step 2 Get the diamond sensor image"
   ]
  },
  {
   "cell_type": "markdown",
   "metadata": {},
   "source": [
    "# parse the ice-cream data"
   ]
  },
  {
   "cell_type": "code",
   "execution_count": 104,
   "metadata": {},
   "outputs": [],
   "source": [
    "def find_all(sub,s):\n",
    "    index_list=[]\n",
    "    index = s.find(sub)\n",
    "    while index!=-1:\n",
    "        index_list.append(index)\n",
    "        index = s.find(sub,index+1)\n",
    "    if len(index_list)>0:\n",
    "        return index_list\n",
    "    else:\n",
    "        return -1"
   ]
  },
  {
   "cell_type": "code",
   "execution_count": 105,
   "metadata": {},
   "outputs": [],
   "source": [
    "import subprocess\n",
    "import numpy as np\n",
    "\n",
    "# cmd = \"pvget ice-cream/image\"\n",
    "# process = subprocess.Popen(cmd.split(),\n",
    "#                      stdout=subprocess.PIPE)\n",
    "# processed, _ = process.communicate()\n",
    "# ice_cream= processed.decode(\"utf-8\")\n",
    "# x = ice_cream.split('\\n')\n",
    "# for i in range (len(x)):\n",
    "#     print(i,x[i])\n",
    "# start = find_all(\"[\",x[2])[-1]\n",
    "# end = find_all(\"]\",x[2])[-1]\n",
    "# value = x[2][start+1:end].split(',')\n",
    "# res = [eval(i) for i in value]\n",
    "# res = np.resize(np.array(res),(50,48))\n",
    "# process.kill()\n",
    "# process.terminate()"
   ]
  },
  {
   "cell_type": "code",
   "execution_count": 115,
   "metadata": {},
   "outputs": [
    {
     "name": "stdout",
     "output_type": "stream",
     "text": [
      "0 ice-cream/image structure \n",
      "1     any value\n",
      "2         int[]  [42,-15,46,-1,83,-38,62,-34,51,-58,40,-21,25,-25,50,-36,65,-22,33,-28,19,-44,37,-18,26,-41,45,-27,63,-27,36,-49,51,-10,48,-6,85,17,70,-5,56,-5,53,-1,44,-8,49,-37,21,14,14,-47,8,28,17,16,-10,-90,61,47,31,9,53,4,79,38,-22,14,31,55,33,-7,34,10,66,26,0,11,31,54,50,-39,56,50,70,-19,34,40,14,23,-1,12,-6,31,3,-49,37,-57,49,16,42,-13,31,-19,62,-26,19,-51,29,-36,31,-30,24,-43,20,-29,52,-33,20,-11,45,-43,43,-26,17,-38,26,-15,39,-2,12,-53,67,-16,20,-11,49,2,96,14,51,3,41,6,61,0,49,-37,30,-9,36,-9,-2,32,-8,1,23,-60,29,74,21,11,59,15,64,23,-40,23,26,52,25,-15,-3,3,23,32,-17,32,22,47,41,-35,34,46,64,15,8,51,2,32,-13,47,-9,25,-1,-14,22,-38,13,10,26,22,11,-1,25,-5,22,-13,23,-9,1,-18,7,-17,29,-32,47,2,0,-7,5,-23,22,12,11,-17,0,-15,14,-1,20,-18,20,1,-19,-26,40,-27,20,15,42,8,45,20,37,35,57,0,13,9,47,-13,25,43,21,14,0,-55,55,44,30,17,32,-2,56,21,-37,23,11,55,20,-25,27,18,45,17,15,27,25,61,37,-44,37,21,62,1,46,55,18,23,11,30,3,44,-4,-42,44,-48,19,23,4,-5,14,2,37,-6,2,-2,-18,-8,14,-3,1,-18,-7,18,9,10,12,-2,25,5,6,10,17,-12,12,-4,16,2,5,-11,8,-9,27,-9,11,-3,-8,-16,8,-3,9,-1,29,17,35,26,8,33,30,-4,19,52,25,13,2,-79,40,53,-10,-5,39,0,63,16,-26,23,20,61,48,-25,24,-13,45,25,1,5,32,49,56,-20,32,16,80,-1,38,16,16,20,0,19,1,15,26,-26,46,-19,31,6,11,2,17,8,-6,11,13,-7,-4,-7,9,1,-15,-7,-3,-3,11,-7,35,10,13,12,17,2,3,5,44,11,21,7,16,11,0,-11,18,1,12,19,12,22,3,-6,8,-3,37,12,17,-4,15,50,65,9,-2,40,25,5,11,-47,41,27,-1,-10,50,23,50,-5,-36,27,23,49,34,1,54,12,52,40,3,36,30,58,31,-22,49,10,45,17,25,38,9,7,0,18,0,14,1,-23,34,-33,38,1,20,2,2,7,24,4,32,-9,30,-1,0,-1,15,-35,10,9,20,21,26,27,52,36,35,35,52,16,31,29,36,1,35,35,31,-9,22,12,32,7,5,-5,4,-3,13,-21,9,-13,11,-10,0,45,33,22,1,15,3,18,-18,-23,52,19,17,23,30,25,62,17,-12,46,38,67,89,29,59,68,77,98,59,65,68,110,81,-6,110,64,43,37,25,32,37,25,-22,45,-5,3,21,-30,-3,-20,15,34,-16,-6,10,-2,30,-19,7,-8,-14,0,5,0,0,-4,-9,12,27,-13,20,18,50,78,74,49,72,58,79,66,103,81,83,69,81,58,42,28,33,19,18,12,20,-14,12,4,10,6,4,-1,18,43,38,2,16,49,-9,30,-16,-73,57,54,-13,-20,28,22,52,32,-45,32,30,79,44,-8,45,51,69,103,70,83,103,130,101,41,108,86,113,29,47,76,0,13,11,44,-32,10,-3,-33,23,-25,0,19,24,8,34,-12,16,-10,15,9,19,-9,13,-21,-1,-9,21,-15,30,-12,-2,20,29,5,16,21,34,-13,53,27,69,35,68,13,67,29,37,26,42,19,16,12,19,4,18,26,14,2,0,-20,7,0,45,1,-5,27,24,26,5,-37,60,50,19,10,6,30,50,35,-29,29,16,56,22,-23,38,31,23,36,3,31,26,73,57,2,39,41,60,28,21,59,12,17,-4,41,-11,6,10,-30,33,-17,33,38,-2,4,-6,-2,5,-13,22,0,4,7,14,17,22,21,8,8,30,-13,-1,-15,0,11,0,-32,19,-2,16,12,8,17,37,-8,48,-23,9,2,2,1,1,-1,18,-10,-8,13,11,-8,28,-16,15,28,33,15,5,34,4,16,5,-4,36,20,21,17,46,16,43,17,-19,0,13,46,13,-18,29,-19,16,28,-7,10,30,14,27,-9,18,8,39,0,2,13,-4,15,0,18,-17,34,0,0,16,-22,4,35,37,-14,15,-4,10,-14,31,-5,-12,-7,12,0,11,8,3,-13,8,-4,5,-1,0,-8,9,15,0,1,16,-11,10,18,6,5,-3,-38,10,-8,30,-10,8,-7,13,-22,7,-16,16,-25,36,-1,9,15,39,8,24,22,11,26,-13,-17,33,24,15,7,11,28,59,13,-4,2,11,14,7,-19,17,-6,35,7,-12,18,11,10,23,-15,29,13,67,-2,-8,37,5,2,-1,3,13,24,3,-10,13,-24,-6,26,36,-12,-10,1,31,0,15,-10,-3,15,1,-19,15,16,-18,-10,25,-5,19,2,4,0,11,-6,19,-3,9,-9,4,-17,10,8,20,-1,19,-15,17,24,8,-14,7,12,0,20,14,-21,20,0,12,17,11,10,18,-7,10,44,-9,-10,44,39,19,6,5,17,36,-2,-26,15,-17,26,20,-3,28,-7,13,18,4,-1,20,22,22,-21,17,15,50,-8,19,34,15,12,19,22,9,9,-1,-3,10,-20,-10,39,11,-15,6,0,14,7,-6,8,2,-11,9,-10,-10,-19,3,10,22,13,-15,-14,2,3,11,-6,12,-13,-1,16,5,-2,20,-3,18,-9,32,3,37,6,12,6,-5,5,2,7,1,11,2,-33,-7,-6,52,33,44,26,24,37,0,-2,63,10,36,-3,25,26,49,4,-1,11,4,15,12,-25,28,3,17,18,13,0,18,17,9,1,20,2,42,-11,10,32,0,14,32,19,2,20,9,-17,62,-3,27,30,30,-17,11,5,19,-12,5,-29,12,-4,19,6,9,-1,18,16,16,5,9,7,13,-16,-8,-4,22,-23,14,10,17,14,24,-4,22,12,-4,0,-4,1,9,13,4,-13,2,8,26,-36,8,-11,2,30,74,0,52,57,27,36,32,-30,39,45,13,9,34,0,49,5,19,22,27,24,39,-4,27,-1,30,-13,10,16,28,40,33,-7,40,29,69,21,44,46,18,24,20,32,34,17,37,-24,37,-24,22,14,26,-6,-10,0,10,16,26,-26,5,3,16,19,-5,26,47,-7,24,-3,3,20,17,-16,-2,-2,32,21,-10,-15,8,9,13,-11,6,-15,25,17,7,5,43,8,3,-5,7,6,23,-2,15,-21,24,12,97,27,71,53,48,22,28,-22,53,32,25,20,47,5,52,32,1,9,16,16,15,-21,9,-29,35,27,28,7,39,46,35,-24,28,27,56,-12,45,42,32,26,57,48,28,45,35,2,79,-8,35,82,29,10,-16,-4,3,3,3,-42,14,-15,-5,-7,1,18,14,-11,18,17,-12,22,-5,-6,4,-14,10,10,-9,5,-30,13,30,-12,9,-3,13,7,6,-1,19,20,14,7,18,11,-1,-21,2,-8,-9,16,47,22,36,41,35,27,18,-10,43,27,1,2,27,27,38,12,6,27,19,21,10,-4,33,-24,33,-4,-3,13,5,29,49,-30,32,20,17,6,25,15,9,2,8,7,15,9,21,-5,28,-26,30,21,46,-1,8,16,3,-10,13,-33,-20,-30,14,-10,-4,-6,17,-4,40,-4,4,10,-1,-17,20,-22,21,8,11,-5,7,17,3,-26,14,-24,5,1,19,-7,5,2,6,-4,39,-8,24,-15,6,-15,26,20,25,14,22,32,0,18,17,13,38,38,7,19,17,-14,36,-18,-1,0,26,20,23,-9,16,-4,17,2,9,3,10,31,27,-2,20,7,40,9,23,13,5,-2,16,-4,4,21,-10,-7,15,-26,7,26,12,-1,1,0,7,0,8,1,13,-19,11,-6,29,5,23,-3,21,-6,11,-20,11,-3,12,15,7,-10,1,16,16,4,7,-24,7,-13,-7,-2,12,7,13,-8,0,7,6,13,25,-7,-4,-2,18,37,38,-11,25,11,18,29,9,-31,41,24,0,-16,30,23,50,20,-3,14,11,-5,0,11,7,0,27,-2,-10,-2,7,32,26,-11,12,-8,40,-19,-8,21,5,0,22,2,-31,-3,6,-14,0,-9,-7,24,31,-11,1,-2,6,-5,-1,-17,14,-14,4,8,18,12,9,-10,40,-2,20,5,14,-33,0,3,1,0,18,-17,4,22,-1,-11,24,2,13,9,0,-2,5,4,-12,-18,6,5,6,6,18,-9,27,1,29,18,40,-8,18,2,-9,9,40,12,46,18,-12,30,37,-6,8,8,7,25,36,-28,32,17,-1,18,26,-13,19,26,17,-34,21,6,23,13,1,15,10,10,-24,56,4,-12,0,-16,-10,26,19,30,-1,4,2,-3,-6,-9,25,5,25,-28,5,-18,12,-14,12,9,20,-9,2,0,13,11,10,0,18,-21,1,-6,-1,11,13,-4,4,-6,11,15,28,12,4,10,11,-20,10,5,16,3,12,0,17,25,54,7,31,9,30,-1,25,-22,25,37,25,16,37,16,48,12,9,12,14,27,31,-30,32,4,17,10,31,14,22,19,0,-21,22,-5,27,-14,15,10,20,35,22,10,7,11,6,4,24,-35,17,61,23,19,21,11,16,9,15,-17,-11,-39,-13,1,-11,-2,11,-9,25,-8,-4,18,29,2,30,-12,24,-25,17,17,-18,-6,36,-1,9,-5,22,6,-1,19,25,9,20,7,-3,-1,22,-2,4,36,30,10,42,8,11,15,13,35,-2,-21,17,22,28,4,13,1,38,20,-12,4,4,13,18,-25,20,6,-5,19,27,23,0,12,18,3,26,19,21,5,9,28,-4,32,11,34,-8,-12,-6,-1,22,6,-4,44,45,-11,13,17,19,-18,19,-3,22,-6,38,0,27,-7,27,-9,5,-6,-6,-21,21,1,10,-14,35,-10,12,0,27,2,17,-12,15,-25,18,-12,24,-14,30,6,10,3,20,-9,37,-4,26,16,20,5,49,16,26,20,4,24,6,-19,15,20,6,0,27,19,32,21,-18,-1,14,24,10,-5,10,0,23,14,3,9,34,18,27,-24,31,2,29,6,30,27,11,25,11,20,-5,20,-3,-12,22,-4,1,48,18,-7,14,16,15,-14,14,-9,6,-21,15,-17,13,-12,0,3,5,1,14,-2,13,-6,11,8,27,-17,-12,4,5,-5,8,-17,23,21,14,4,17,-7,20,1,-6,-5,13,-1,2,21,26,1,9,-1,53,19,14,14,3,26,-4,-30,7,28,8,-2,19,15,40,16,-15,5,9,37,6,-9,3,-7,30,12,15,27,18,33,33,-5,11,2,15,18,9,7,0,16,4,11,9,22,8,3,17,-6,0,47,2,1,-16,5,37,-10,22,2,4,2,6,24,2,-3,22,-12,14,15,10,-1,1,-10,0,-9,11,3,6,0,6,5,1,-3,-9,0,-2,3,12,-6,19,3,13,1,18,30,21,19,42,14,3,20,20,4,23,34,17,26,19,-16,8,45,14,12,22,1,30,25,-12,-6,31,44,21,-5,38,-3,7,13,-20,6,38,26,23,-1,25,2,46,24,16,24,10,16,-1,34,1,0,-3,-16,18,-5,-3,44,32,-3,24,3,7,13,-1,-9,17,6,27,0,22,0,5,4,20,-1,3,-10,6,-4,12,-24,11,-33,3,-8,17,6,33,-17,13,-3,23,16,13,19,32,17,22,27,35,22,46,14,41,8,19,42,34,-22,11,42,33,32,-2,-40,44,41,32,6,14,27,45,35,3,19,16,40,10,-11,16,-7,13,10,4,27,13,15,18,-22,30,17,64,11,6,37,10,6,10,27,4,3,0,-2,29,-14,5,24]\n",
      "3     structure[] dimension\n",
      "4         structure \n",
      "5             int size 50\n",
      "6         structure \n",
      "7             int size 48\n",
      "8     structure codec\n",
      "9         string name \n"
     ]
    }
   ],
   "source": [
    "import subprocess\n",
    "output = subprocess.getoutput('pvget ice-cream/image')\n",
    "x = output.split('\\n')\n",
    "for i in range (len(x)):\n",
    "    print(i,x[i])\n",
    "start = find_all(\"[\",x[2])[-1]\n",
    "end = find_all(\"]\",x[2])[-1]\n",
    "value = x[2][start+1:end].split(',')\n",
    "res = [eval(i) for i in value]\n",
    "res = np.resize(np.array(res),(48,50))"
   ]
  },
  {
   "cell_type": "code",
   "execution_count": 116,
   "metadata": {},
   "outputs": [],
   "source": [
    "import os\n",
    "import matplotlib.pyplot as plt\n",
    "%matplotlib inline\n",
    "# subprocess = os.popen('pvget ice-cream/image')\n",
    "# ice_cream = subprocess.read()\n",
    "# x = ice_cream.split('\\n')\n",
    "# for i in range (len(x)):\n",
    "#     print(i,x[i])\n",
    "# start = find_all(\"[\",x[2])[-1]\n",
    "# end = find_all(\"]\",x[2])[-1]\n",
    "# value = x[2][start+1:end].split(',')\n",
    "# res = [eval(i) for i in value]\n",
    "# res = np.resize(np.array(res),(50,48))\n",
    "# subprocess.close()\n"
   ]
  },
  {
   "cell_type": "markdown",
   "metadata": {},
   "source": [
    "## calculate size and center for the collected gaussian source"
   ]
  },
  {
   "cell_type": "code",
   "execution_count": 117,
   "metadata": {},
   "outputs": [],
   "source": [
    "def centroid1(x_px,I):\n",
    "    xc_px = np.sum(I*x_px)/np.sum(I)\n",
    "    return xc_px\n",
    "\n",
    "def size_rms1(x_px,I):\n",
    "    xc_px = centroid1(x_px,I)\n",
    "    stdev = np.sqrt(np.sum(I*(x_px-xc_px)**2)/np.sum(I))\n",
    "    return stdev"
   ]
  },
  {
   "cell_type": "code",
   "execution_count": 118,
   "metadata": {},
   "outputs": [
    {
     "data": {
      "image/png": "[encoded data removed]",
      "text/plain": [
       "<Figure size 640x480 with 1 Axes>"
      ]
     },
     "metadata": {},
     "output_type": "display_data"
    }
   ],
   "source": [
    "Nx = 50\n",
    "x_px = np.arange(Nx)\n",
    "Ny = 48\n",
    "y_px = np.arange(Ny)\n",
    "\n",
    "\n",
    "source_gaussian = res\n",
    "plt.xlabel(\"x position (px)\")\n",
    "plt.ylabel(\"y position (px)\")\n",
    "plt.title(\"single measurement of the pixel-ated diamond sensor\")\n",
    "plt.imshow(source_gaussian)\n",
    "plt.show()"
   ]
  },
  {
   "cell_type": "code",
   "execution_count": 119,
   "metadata": {},
   "outputs": [
    {
     "data": {
      "image/png": "[encoded data removed]",
      "text/plain": [
       "<Figure size 640x480 with 1 Axes>"
      ]
     },
     "metadata": {},
     "output_type": "display_data"
    }
   ],
   "source": [
    "source_gaussian_masked = np.where(source_gaussian>(0.6*np.max(source_gaussian)),source_gaussian,0)\n",
    "plt.imshow(source_gaussian_masked)\n",
    "plt.xlabel(\"x position (px)\")\n",
    "plt.ylabel(\"y position (px)\")\n",
    "plt.title(\"masked measurement of the pixel-ated diamond sensor\")\n",
    "plt.show()"
   ]
  },
  {
   "cell_type": "code",
   "execution_count": 120,
   "metadata": {},
   "outputs": [
    {
     "name": "stdout",
     "output_type": "stream",
     "text": [
      "x-axis center and size: 28.135091926458834 23.285735768955288\n",
      "y-axis center and size: 12.0171862509992 15.208730326593956\n"
     ]
    }
   ],
   "source": [
    "center_x_px = centroid1(x_px, np.sum(source_gaussian_masked,0))\n",
    "size_x_px = size_rms1(x_px, np.sum(source_gaussian_masked,0))\n",
    "print(\"x-axis center and size:\",center_x_px,size_x_px*2.35)\n",
    "\n",
    "center_y_px = centroid1(y_px, np.sum(source_gaussian_masked,1))\n",
    "size_y_px = size_rms1(y_px, np.sum(source_gaussian_masked,1))\n",
    "print(\"y-axis center and size:\",center_y_px,size_y_px*2.35)"
   ]
  },
  {
   "cell_type": "code",
   "execution_count": 121,
   "metadata": {},
   "outputs": [
    {
     "name": "stdout",
     "output_type": "stream",
     "text": [
      "x-axis center and rms size: 1406.7545963229413 495.44118657351675\n",
      "y-axis center and rms size: 600.85931254996 323.5900069488075\n"
     ]
    }
   ],
   "source": [
    "dx_m=50*1e-6\n",
    "\n",
    "y_m = np.arange(48)*dx_m\n",
    "x_m = np.arange(50)*dx_m\n",
    "\n",
    "center_x_m = centroid1(x_m, np.sum(source_gaussian_masked,0))\n",
    "size_x_m = size_rms1(x_m, np.sum(source_gaussian_masked,0))\n",
    "print(\"x-axis center and rms size:\",center_x_m*1e6,size_x_m*1e6)\n",
    "\n",
    "center_y_m = centroid1(y_m, np.sum(source_gaussian_masked,1))\n",
    "size_y_m = size_rms1(y_m, np.sum(source_gaussian_masked,1))\n",
    "print(\"y-axis center and rms size:\",center_y_m*1e6,size_y_m*1e6)"
   ]
  },
  {
   "cell_type": "markdown",
   "metadata": {},
   "source": [
    "# Step 3 collect 100 images and save locally"
   ]
  },
  {
   "cell_type": "code",
   "execution_count": 122,
   "metadata": {},
   "outputs": [],
   "source": [
    "from PIL import Image\n",
    "from tqdm import tqdm\n",
    "import time\n",
    "\n",
    "\n",
    "number_of_data = 100\n",
    "data = np.zeros((number_of_data*1,48,50))"
   ]
  },
  {
   "cell_type": "code",
   "execution_count": 123,
   "metadata": {},
   "outputs": [
    {
     "name": "stderr",
     "output_type": "stream",
     "text": [
      "100%|██████████| 100/100 [00:21<00:00,  4.67it/s]\n"
     ]
    }
   ],
   "source": [
    "# for i in tqdm(range(number_of_data)):\n",
    "#     subprocess = os.popen('pvget ice-cream/image')\n",
    "#     ice_cream = subprocess.read()\n",
    "#     x = ice_cream.split('\\n')\n",
    "    \n",
    "#     start = find_all(\"[\",x[2])[-1]\n",
    "#     end = find_all(\"]\",x[2])[-1]\n",
    "#     value = x[2][start+1:end].split(',')\n",
    "#     res = [eval(i) for i in value]\n",
    "#     res = np.resize(np.array(res),(50,48))\n",
    "#     data[i]=res\n",
    "#     subprocess.close()\n",
    "    \n",
    "#     time.sleep(1)\n",
    "\n",
    "# for i in tqdm(range(number_of_data)):\n",
    "#     cmd = \"pvget ice-cream/image\"\n",
    "#     process = subprocess.Popen(cmd.split(),\n",
    "#                         stdout=subprocess.PIPE)\n",
    "#     processed, _ = process.communicate()\n",
    "#     ice_cream= processed.decode(\"utf-8\")\n",
    "#     x = ice_cream.split('\\n')\n",
    "\n",
    "#     start = find_all(\"[\",x[2])[-1]\n",
    "#     end = find_all(\"]\",x[2])[-1]\n",
    "#     value = x[2][start+1:end].split(',')\n",
    "#     res = [eval(i) for i in value]\n",
    "#     res = np.resize(np.array(res),(50,48))\n",
    "#     data[i]=res\n",
    "#     process.kill()\n",
    "#     process.terminate()\n",
    "#     time.sleep(1)\n",
    "\n",
    "folder_index=1\n",
    "\n",
    "save_path = '/home/bl531/Documents/diamond_images_0628_diamond/'+str(energy)+'/'\n",
    "if not os.path.exists(save_path):\n",
    "    os.makedirs(save_path)\n",
    "\n",
    "for i in tqdm(range(number_of_data)):\n",
    "    output = subprocess.getoutput('pvget ice-cream/image')\n",
    "    x = output.split('\\n')\n",
    "    start = find_all(\"[\",x[2])[-1]\n",
    "    end = find_all(\"]\",x[2])[-1]\n",
    "    value = x[2][start+1:end].split(',')\n",
    "    res = [eval(i) for i in value]\n",
    "    res = np.resize(np.array(res),(48,50))\n",
    "    #print(res)\n",
    "\n",
    "    save_image_path = save_path + 'images_tiff_'+str(folder_index)+'/'\n",
    "    if not os.path.exists(save_image_path):\n",
    "        os.makedirs(save_image_path)\n",
    "\n",
    "    im = Image.fromarray(res.astype(np.float32))\n",
    "    im.save(save_image_path+str(i)+'.tiff',\"tiff\")\n",
    "\n",
    "    #data[folder_index*100+i]=res\n",
    "\n"
   ]
  },
  {
   "cell_type": "code",
   "execution_count": 124,
   "metadata": {},
   "outputs": [
    {
     "data": {
      "text/plain": [
       "Text(0.5, 1.0, 'single measurement of the pixel-ated diamond sensor')"
      ]
     },
     "execution_count": 124,
     "metadata": {},
     "output_type": "execute_result"
    },
    {
     "data": {
      "image/png": "[encoded data removed]",
      "text/plain": [
       "<Figure size 640x480 with 1 Axes>"
      ]
     },
     "metadata": {},
     "output_type": "display_data"
    }
   ],
   "source": [
    "test_index =99\n",
    "im_png = Image.open(save_path + 'images_tiff_1/'+str(test_index)+'.tiff')\n",
    "im_png_arr = np.array(im_png)\n",
    "plt.imshow(im_png_arr)\n",
    "plt.xlabel(\"x position (px)\")\n",
    "plt.ylabel(\"y position (px)\")\n",
    "plt.title(\"single measurement of the pixel-ated diamond sensor\")"
   ]
  },
  {
   "cell_type": "code",
   "execution_count": null,
   "metadata": {},
   "outputs": [],
   "source": [
    "\n",
    "\n",
    "#for i_a in tqdm(np.arange(len(mono_angles_deg))):"
   ]
  },
  {
   "cell_type": "code",
   "execution_count": 35,
   "metadata": {},
   "outputs": [
    {
     "data": {
      "image/png": "[encoded data removed]",
      "text/plain": [
       "<Figure size 640x480 with 1 Axes>"
      ]
     },
     "metadata": {},
     "output_type": "display_data"
    }
   ],
   "source": [
    "# import csv\n",
    "\n",
    "# filepath = '/home/bl531/Downloads/run_19700101T054256Z.csv'\n",
    "# a = csv.reader(filepath)\n",
    "# i=0\n",
    "# with open(filepath,mode='r') as file:\n",
    "#     csvFile =csv.reader(file)\n",
    "#     for lines in csvFile:\n",
    "#         i+=1\n",
    "#         if i==2:\n",
    "#             #value = lines.split(',')\n",
    "#             res = [eval(i) for i in lines]\n",
    "#             res = np.resize(np.array(res),(50,48))\n",
    "#             plt.imshow(res)\n",
    "\n"
   ]
  },
  {
   "cell_type": "code",
   "execution_count": 24,
   "metadata": {},
   "outputs": [
    {
     "data": {
      "text/plain": [
       "<_csv.reader at 0x7fd8b7ca5070>"
      ]
     },
     "execution_count": 24,
     "metadata": {},
     "output_type": "execute_result"
    }
   ],
   "source": []
  },
  {
   "cell_type": "markdown",
   "metadata": {},
   "source": [
    "# Step 4: get the avg of 100 images and cal center/size"
   ]
  },
  {
   "cell_type": "code",
   "execution_count": 125,
   "metadata": {},
   "outputs": [
    {
     "name": "stdout",
     "output_type": "stream",
     "text": [
      "(100, 48, 50)\n"
     ]
    },
    {
     "data": {
      "text/plain": [
       "Text(0.5, 1.0, 'single measurement of the pixel-ated diamond sensor')"
      ]
     },
     "execution_count": 125,
     "metadata": {},
     "output_type": "execute_result"
    },
    {
     "data": {
      "image/png": "[encoded data removed]",
      "text/plain": [
       "<Figure size 640x480 with 1 Axes>"
      ]
     },
     "metadata": {},
     "output_type": "display_data"
    }
   ],
   "source": [
    "\n",
    "save_path = '/home/bl531/Documents/diamond_images_0628_diamond/'+str(energy)+'/'\n",
    "data = np.zeros((100,48,50))\n",
    "for folder in range (1):\n",
    "    for i in range (100):\n",
    "        filename = save_path + 'images_tiff_'+str(folder+1)+'/'+str(i)+'.tiff'\n",
    "        #print(filename)\n",
    "        im_png = Image.open(filename)\n",
    "        im_png_arr = np.array(im_png)\n",
    "        data[folder*100+i]=im_png_arr\n",
    "print(data.shape)\n",
    "plt.imshow(data[-1])\n",
    "plt.xlabel(\"x position (px)\")\n",
    "plt.ylabel(\"y position (px)\")\n",
    "plt.title(\"single measurement of the pixel-ated diamond sensor\")"
   ]
  },
  {
   "cell_type": "code",
   "execution_count": 126,
   "metadata": {},
   "outputs": [
    {
     "data": {
      "text/plain": [
       "Text(0.5, 1.0, 'masked measurement of the pixel-ated diamond sensor')"
      ]
     },
     "execution_count": 126,
     "metadata": {},
     "output_type": "execute_result"
    },
    {
     "data": {
      "image/png": "[encoded data removed]",
      "text/plain": [
       "<Figure size 640x480 with 1 Axes>"
      ]
     },
     "metadata": {},
     "output_type": "display_data"
    }
   ],
   "source": [
    "data_avg = np.mean(data,0)\n",
    "data_avg_masked = np.where(data_avg>(0.3*np.max(data_avg)),data_avg,0)\n",
    "plt.imshow(data_avg_masked)\n",
    "plt.xlabel(\"x position (px)\")\n",
    "plt.ylabel(\"y position (px)\")\n",
    "plt.title(\"masked measurement of the pixel-ated diamond sensor\")"
   ]
  },
  {
   "cell_type": "code",
   "execution_count": 127,
   "metadata": {},
   "outputs": [
    {
     "name": "stdout",
     "output_type": "stream",
     "text": [
      "x-axis center and rms size: 26.237116228841092 16.95902413884414\n",
      "y-axis center and rms size: 17.149038339853142 11.493730004170736\n"
     ]
    }
   ],
   "source": [
    "avg_center_x_px = centroid1(x_px, np.sum(data_avg_masked,0))\n",
    "avg_size_x_px = size_rms1(x_px, np.sum(data_avg_masked,0))\n",
    "print(\"x-axis center and rms size:\",avg_center_x_px,avg_size_x_px)\n",
    "avg_center_y_px = centroid1(y_px, np.sum(data_avg_masked,1))\n",
    "avg_size_y_px = size_rms1(y_px, np.sum(data_avg_masked,1))\n",
    "print(\"y-axis center and rms size:\",avg_center_y_px,avg_size_y_px)"
   ]
  },
  {
   "cell_type": "markdown",
   "metadata": {},
   "source": [
    "## create a fake gaussian with same center and size"
   ]
  },
  {
   "cell_type": "code",
   "execution_count": 128,
   "metadata": {},
   "outputs": [
    {
     "data": {
      "text/plain": [
       "Text(0.5, 1.0, 'fake gaussian simulation')"
      ]
     },
     "execution_count": 128,
     "metadata": {},
     "output_type": "execute_result"
    },
    {
     "data": {
      "image/png": "[encoded data removed]",
      "text/plain": [
       "<Figure size 640x480 with 1 Axes>"
      ]
     },
     "metadata": {},
     "output_type": "display_data"
    }
   ],
   "source": [
    "#define the gaussian function\n",
    "def gaussian(x_px, mean_px, fwhm_px):\n",
    "    '''\n",
    "    GAUSSIAN Returns a 1D gaussian\n",
    "    gaussian(x_px, mean_px, fwhm_px)\n",
    "    :param x_px: numpy array\n",
    "    :param mean_px: double\n",
    "    :param fwhm_px: double\n",
    "    :return: numpy array\n",
    "    '''\n",
    "    sigma_x = fwhm_px/(2*np.sqrt(2*np.log(2)))\n",
    "    return np.exp(-((x_px-mean_px)/(np.sqrt(2)*sigma_x))**2)\n",
    "X,Y = np.meshgrid(x_px,y_px)\n",
    "fake_gaussian = gaussian(X, avg_center_x_px, avg_size_x_px)*gaussian(Y, avg_center_y_px, avg_size_y_px)\n",
    "plt.imshow(fake_gaussian)\n",
    "plt.xlabel(\"x position (px)\")\n",
    "plt.ylabel(\"y position (px)\")\n",
    "plt.title(\"fake gaussian simulation\")"
   ]
  },
  {
   "cell_type": "code",
   "execution_count": 129,
   "metadata": {},
   "outputs": [],
   "source": [
    "# center_x_list=[]\n",
    "# size_x_list=[]\n",
    "# center_y_list=[]\n",
    "# size_y_list=[]\n",
    "# for k in range(data.shape[0]):\n",
    "#     each_data = data[k]\n",
    "\n",
    "#     each_center_x_px = centroid1(x_px, np.sum(each_data,0))\n",
    "#     each_size_x_px = size_rms1(x_px, np.sum(each_data,0))*2.35\n",
    "#     each_center_y_px = centroid1(y_px, np.sum(each_data,1))\n",
    "#     each_size_y_px = size_rms1(y_px, np.sum(each_data,1))*2.35\n",
    "\n",
    "#     center_x_list.append(each_center_x_px)\n",
    "#     size_x_list.append(each_size_x_px)\n",
    "#     center_y_list.append(each_center_y_px)\n",
    "#     size_y_list.append(each_size_y_px)\n",
    "\n",
    "center_x_list=[]\n",
    "size_x_list=[]\n",
    "center_y_list=[]\n",
    "size_y_list=[]\n",
    "for k in range(data.shape[0]):\n",
    "    each_data = data[k]\n",
    "\n",
    "    each_center_x_m = centroid1(x_m, np.sum(each_data,0))\n",
    "    each_size_x_m = size_rms1(x_m, np.sum(each_data,0))*2.35\n",
    "    each_center_y_m = centroid1(y_m, np.sum(each_data,1))\n",
    "    each_size_y_m= size_rms1(y_m, np.sum(each_data,1))*2.35\n",
    "\n",
    "    center_x_list.append(each_center_x_m*1e6)\n",
    "    size_x_list.append(each_size_x_m)\n",
    "    center_y_list.append(each_center_y_m)\n",
    "    size_y_list.append(each_size_y_m)"
   ]
  },
  {
   "cell_type": "code",
   "execution_count": 130,
   "metadata": {},
   "outputs": [
    {
     "name": "stdout",
     "output_type": "stream",
     "text": [
      "centroid error std: 89.74143515518554 um\n"
     ]
    },
    {
     "data": {
      "text/plain": [
       "Text(0, 0.5, 'frequency')"
      ]
     },
     "execution_count": 130,
     "metadata": {},
     "output_type": "execute_result"
    },
    {
     "data": {
      "image/png": "[encoded data removed]",
      "text/plain": [
       "<Figure size 640x480 with 1 Axes>"
      ]
     },
     "metadata": {},
     "output_type": "display_data"
    }
   ],
   "source": [
    "\n",
    "# #print(len(center_x_list))\n",
    "# #print(center_x_list)\n",
    "# print(np.std(center_x_list))\n",
    "# plt.hist(center_x_list, bins=10,color='skyblue',alpha=0.8)\n",
    "# plt.title('x-axis center histogram for 100 image samples')\n",
    "# plt.xlabel('x-axis center (px)')\n",
    "# plt.ylabel('frequency')\n",
    "print(\"centroid error std:\",np.std(center_x_list),\"um\")\n",
    "plt.hist(center_x_list, bins=10,color='skyblue',alpha=0.8)\n",
    "plt.title('x-axis center histogram for 100 image samples')\n",
    "plt.xlabel('x-axis center (um)')\n",
    "plt.ylabel('frequency')"
   ]
  },
  {
   "cell_type": "code",
   "execution_count": null,
   "metadata": {},
   "outputs": [],
   "source": []
  },
  {
   "cell_type": "code",
   "execution_count": null,
   "metadata": {},
   "outputs": [],
   "source": []
  },
  {
   "cell_type": "code",
   "execution_count": null,
   "metadata": {},
   "outputs": [],
   "source": []
  },
  {
   "cell_type": "code",
   "execution_count": null,
   "metadata": {},
   "outputs": [
    {
     "data": {
      "text/plain": [
       "[<matplotlib.lines.Line2D at 0x7efe305ed6f0>]"
      ]
     },
     "metadata": {},
     "output_type": "display_data"
    },
    {
     "data": {
      "image/png": "[encoded data removed]",
      "text/plain": [
       "<Figure size 432x288 with 1 Axes>"
      ]
     },
     "metadata": {},
     "output_type": "display_data"
    }
   ],
   "source": [
    "plt.plot(input_energies[:-40], pd_val_nA[:-40])"
   ]
  },
  {
   "cell_type": "code",
   "execution_count": null,
   "metadata": {},
   "outputs": [],
   "source": [
    "# 5/17/24\n",
    "# new bar with AgB, CuAc, Cr(III) oxide\n"
   ]
  },
  {
   "cell_type": "markdown",
   "metadata": {},
   "source": []
  },
  {
   "cell_type": "code",
   "execution_count": null,
   "metadata": {},
   "outputs": [],
   "source": [
    "energy_eV = lambda mono_deg_input: (mono_deg_input - mono_offset_deg)\n",
    "energy_eV(28.93957213521199)"
   ]
  },
  {
   "cell_type": "code",
   "execution_count": null,
   "metadata": {},
   "outputs": [
    {
     "data": {
      "text/plain": [
       "29.821699155862255"
      ]
     },
     "metadata": {},
     "output_type": "display_data"
    }
   ],
   "source": [
    "mono_deg(6750)"
   ]
  },
  {
   "cell_type": "code",
   "execution_count": null,
   "metadata": {},
   "outputs": [],
   "source": []
  },
  {
   "cell_type": "code",
   "execution_count": null,
   "metadata": {},
   "outputs": [],
   "source": []
  },
  {
   "cell_type": "code",
   "execution_count": null,
   "metadata": {},
   "outputs": [],
   "source": []
  },
  {
   "cell_type": "code",
   "execution_count": null,
   "metadata": {},
   "outputs": [],
   "source": []
  },
  {
   "cell_type": "code",
   "execution_count": null,
   "metadata": {},
   "outputs": [],
   "source": []
  },
  {
   "cell_type": "code",
   "execution_count": null,
   "metadata": {},
   "outputs": [
    {
     "data": {
      "text/plain": [
       "11.8"
      ]
     },
     "metadata": {},
     "output_type": "display_data"
    }
   ],
   "source": [
    "epics.caget('bl531_xps2:beamstop_x_mm')"
   ]
  },
  {
   "cell_type": "code",
   "execution_count": null,
   "metadata": {},
   "outputs": [
    {
     "data": {
      "text/plain": [
       "1"
      ]
     },
     "metadata": {},
     "output_type": "display_data"
    }
   ],
   "source": [
    "epics.caput('bl531_xps2:beamstop_x_mm', 12.5)"
   ]
  },
  {
   "cell_type": "code",
   "execution_count": null,
   "metadata": {},
   "outputs": [
    {
     "data": {
      "text/plain": [
       "1"
      ]
     },
     "metadata": {},
     "output_type": "display_data"
    }
   ],
   "source": [
    "epics.caput('bl531_xps1:mono_angle_deg', mono_deg(7000))\n"
   ]
  },
  {
   "cell_type": "code",
   "execution_count": null,
   "metadata": {},
   "outputs": [
    {
     "data": {
      "text/plain": [
       "28.93957213521199"
      ]
     },
     "metadata": {},
     "output_type": "display_data"
    }
   ],
   "source": [
    "epics.caget('bl531_xps1:mono_angle_deg')\n"
   ]
  },
  {
   "cell_type": "code",
   "execution_count": null,
   "metadata": {},
   "outputs": [],
   "source": []
  },
  {
   "cell_type": "code",
   "execution_count": null,
   "metadata": {},
   "outputs": [],
   "source": []
  },
  {
   "cell_type": "code",
   "execution_count": null,
   "metadata": {},
   "outputs": [],
   "source": [
    "\n",
    "np.savetxt(f'/home/bl531/bl531_commissioning/20240424ML_commissioning/{file_name}.txt', np.vstack((input_energies, mono_angles_deg, pd_val_nA)).T)\n"
   ]
  },
  {
   "cell_type": "code",
   "execution_count": null,
   "metadata": {},
   "outputs": [],
   "source": [
    "# lets look at the nexafs scans\n",
    "\n",
    "mrl_save_path = '/home/bl531/bl531_commissioning/20240507ML_commissioning/'\n",
    "\n",
    "spectra_files = sorted(f for f in os.listdir(mrl_save_path) if '_CuKedge' in f)\n",
    "\n",
    "fig, ax = plt.subplots(figsize=(6,5))\n",
    "\n",
    "for spec in spectra_files:\n",
    "    spec_data = np.loadtxt(os.path.join(mrl_save_path, spec))\n",
    "\n",
    "    energy = spec_data[:,0]\n",
    "    mono_angle = spec_data[:,1]\n",
    "    photodiode = spec_data[:,2]\n",
    "\n",
    "\n",
    "    ax.plot(energy, photodiode, label=spec)\n",
    "    #ax.set_xlim([8800, 8880])\n",
    "   # ax.legend()"
   ]
  },
  {
   "cell_type": "code",
   "execution_count": null,
   "metadata": {},
   "outputs": [],
   "source": []
  },
  {
   "cell_type": "code",
   "execution_count": null,
   "metadata": {},
   "outputs": [],
   "source": []
  },
  {
   "cell_type": "code",
   "execution_count": null,
   "metadata": {},
   "outputs": [],
   "source": []
  },
  {
   "cell_type": "code",
   "execution_count": null,
   "metadata": {},
   "outputs": [],
   "source": [
    "# --------------------------------------------------------------------------------------------------------------------------------------------------------------------\n",
    "# saxs\n"
   ]
  },
  {
   "cell_type": "code",
   "execution_count": null,
   "metadata": {},
   "outputs": [],
   "source": [
    "# single image acquisition on saxs detector\n",
    "aqtime_s = 0.1\n",
    "epics.caput('13PIL1:cam1:AcquireTime', aqtime_s * 1.5)\n",
    "epics.caput('13PIL1:cam1:AcquirePeriod', aqtime_s)\n",
    "epics.caput('13PIL1:cam1:Acquire',1)\n",
    "time_sleep(5)\n",
    "last_filename_ascii = epics.caget('13PIL1:cam1:FullFileName_RBV')\n",
    "last_filename = bytes(last_filename_ascii).decode()\n",
    "print(last_filename)"
   ]
  },
  {
   "cell_type": "code",
   "execution_count": null,
   "metadata": {},
   "outputs": [],
   "source": [
    "# display 2d image \n",
    "\n",
    "#filepath = '/mnt/pilatus/' + 'BinaryNP_231222_WAXS_4802.tif'\n",
    "#filepath = '/home/bl531/bl531_commissioning/20240422ML_commissioning/scan08_saxs_tulasi-PET-SeNP2_4899.tif'\n",
    "filepath = last_filename[:-1]\n",
    "filepath = '/mnt/data531/saxs_AgB_8650eV_1sec_5035.tif'\n",
    "\n",
    "# read the image\n",
    "im_tiff = Image.open(filepath)\n",
    "# make the image a numpy array so that we can process it\n",
    "im_np = np.squeeze(np.array(im_tiff.getdata()).reshape(im_tiff.size[1], im_tiff.size[0], 1))\n",
    "\n",
    "# dealing with dyanmic range\n",
    "#im_np[np.where(im_np>100000.0)] =0\n",
    "\n",
    "dx_m = 172e-6\n",
    "Nx_px = 981\n",
    "Ny_px = 1043\n",
    "Dx_m = Nx_px*dx_m\n",
    "Dy_m = Ny_px*dx_m\n",
    "\n",
    "fig=plt.figure(figsize=(5, 5), dpi= 120, facecolor='w', edgecolor='k')\n",
    "extent = (-Dx_m/2 * 1e3, +Dx_m/2 * 1e3, -Dy_m/2 * 1e3, +Dy_m/2 * 1e3)\n",
    "\n",
    "#mask = im_np > np.max(im_np)\n",
    "#im_np[mask]=0\n",
    "\n",
    "plt.imshow(im_np, extent=extent, cmap = 'inferno', norm=LogNorm())\n",
    "plt.xlabel('horizontal Position [mm]')\n",
    "plt.ylabel('vertical Positon [mm]')\n",
    "plt.show()\n",
    "\n",
    "np.percentile(im_np,99.999)   # this value should be below 1 million\n"
   ]
  },
  {
   "cell_type": "code",
   "execution_count": null,
   "metadata": {},
   "outputs": [],
   "source": []
  },
  {
   "cell_type": "code",
   "execution_count": null,
   "metadata": {},
   "outputs": [],
   "source": []
  },
  {
   "cell_type": "code",
   "execution_count": null,
   "metadata": {},
   "outputs": [],
   "source": []
  },
  {
   "cell_type": "code",
   "execution_count": null,
   "metadata": {},
   "outputs": [],
   "source": [
    "# lets look at the nexafs scans\n",
    "\n",
    "mrl_save_path = '/home/bl531/bl531_commissioning/20240424ML_commissioning/'\n",
    "\n",
    "spectra_files = sorted(f for f in os.listdir(mrl_save_path) if '_nexafs' in f)\n",
    "\n",
    "fig, ax = plt.subplots(figsize=(6,5))\n",
    "\n",
    "for spec in spectra_files:\n",
    "    spec_data = np.loadtxt(os.path.join(mrl_save_path, spec))\n",
    "\n",
    "    energy = spec_data[:,0]\n",
    "    mono_angle = spec_data[:,1]\n",
    "    photodiode = spec_data[:,2]\n",
    "\n",
    "\n",
    "    ax.plot(energy, photodiode, label=spec)\n",
    "   # ax.legend()"
   ]
  },
  {
   "cell_type": "code",
   "execution_count": null,
   "metadata": {},
   "outputs": [],
   "source": []
  },
  {
   "cell_type": "code",
   "execution_count": null,
   "metadata": {},
   "outputs": [],
   "source": [
    "# pilatus single image acquisition\n",
    "aqtime_s = 4\n",
    "epics.caput('13PIL1:cam1:AcquireTime', aqtime_s * 1.5)\n",
    "epics.caput('13PIL1:cam1:AcquirePeriod', aqtime_s)\n",
    "epics.caput('13PIL1:cam1:Acquire',1)\n",
    "time_sleep(5)\n",
    "last_filename_ascii = epics.caget('13PIL1:cam1:FullFileName_RBV')\n",
    "last_filename = bytes(last_filename_ascii).decode()\n",
    "print(last_filename)"
   ]
  },
  {
   "cell_type": "code",
   "execution_count": null,
   "metadata": {},
   "outputs": [],
   "source": [
    "# display 2d image \n",
    "\n",
    "\n",
    "filepath = last_filename[:-1]\n",
    "#filepath = '/mnt/data531/scan05_saxs_FeOH3_2sec_5141.tif'\n",
    "filepath = '/mnt/data531/scan05_saxs_FeOH3_2sec_5141.tif'\n",
    "\n",
    "\n",
    "# read the image\n",
    "im_tiff = Image.open(filepath)\n",
    "# make the image a numpy array so that we can process it\n",
    "im_np = np.squeeze(np.array(im_tiff.getdata()).reshape(im_tiff.size[1], im_tiff.size[0], 1))\n",
    "\n",
    "# dealing with dyanmic range\n",
    "#im_np[np.where(im_np>100000.0)] =0\n",
    "\n",
    "dx_m = 172e-6\n",
    "Nx_px = 981\n",
    "Ny_px = 1043\n",
    "Dx_m = Nx_px*dx_m\n",
    "Dy_m = Ny_px*dx_m\n",
    "\n",
    "fig=plt.figure(figsize=(5, 5), dpi= 120, facecolor='w', edgecolor='k')\n",
    "extent = (-Dx_m/2 * 1e3, +Dx_m/2 * 1e3, -Dy_m/2 * 1e3, +Dy_m/2 * 1e3)\n",
    "\n",
    "#mask = im_np > np.max(im_np)\n",
    "#im_np[mask]=0\n",
    "\n",
    "plt.imshow(im_np, extent=extent, cmap = 'inferno', norm=LogNorm())\n",
    "plt.xlabel('horizontal Position [mm]')\n",
    "plt.ylabel('vertical Positon [mm]')\n",
    "plt.show()"
   ]
  },
  {
   "cell_type": "code",
   "execution_count": null,
   "metadata": {},
   "outputs": [],
   "source": [
    "# radial integration of a single pilatus image\n",
    "\n",
    "#filepath = '/home/bl531/bl531_commissioning/20240422ML_commissioning/scan07_saxs_tulasi-PET-ctrl_10000eV/scan07_saxs_tulasi-PET-ctrl_4891.tif'\n",
    "#filepath = '/home/bl531/bl531_commissioning/20240422ML_commissioning/scan08_saxs_tulasi-PET-SeNP2_dark_4898.tif'\n",
    "#filepath = '/home/bl531/bl531_commissioning/20240422ML_commissioning/scan08_saxs_tulasi-PET-SeNP2_4899.tif'\n",
    "\n",
    "az_range=[-180,180]\n",
    "fig, ax = plt.subplots(figsize=(10,6))\n",
    "#qvector_list = []\n",
    "#radint_list = []\n",
    "#energy_list = []\n",
    "#for idx, image in tqdm(enumerate(images[:])):\n",
    "\n",
    "#mono_angle = float(image[ image.find('deg') - 4: image.find('deg')])\n",
    "#energy = calculate_output_energy(mono_angle)\n",
    "\n",
    "# calibration performed in pyfai-calib2 by mrl on 4/22/24\n",
    "dist = 1.47\n",
    "poni1 = 0.10065476219862225\n",
    "poni2 = 0.07695294434659085\n",
    "rot1 = 0\n",
    "rot2 = 0\n",
    "rot3 = 0\n",
    "\n",
    "energy = 7550\n",
    "\n",
    "wavelength = ( (4.1357 * (10**-15)) * (2.9979 * (10**8))) / energy\n",
    "calibrant = pyFAI.calibrant.get_calibrant(\"AgBh\")\n",
    "calibrant.wavelength = wavelength\n",
    "detector = pyFAI.detectors.Pilatus1M(pixel1=0.000172, pixel2=0.000172, max_shape=(1043, 981))\n",
    "ai = AzimuthalIntegrator(dist=dist, detector=detector, wavelength=wavelength, poni1=poni1, poni2=poni2, rot1=rot1, rot2=rot2, rot3=rot3)\n",
    "#ai.maskfile = os.path.join(master_path, 'waxs_mask_mrl_april2024.edf')\n",
    "\n",
    "im_path = os.path.join(filepath)\n",
    "im_data = fabio.open(im_path)\n",
    "im_array = im_data.data\n",
    "im_array[im_array < 1] = 1\n",
    "im_reduced = ai.integrate1d(im_array, npt=2000, azimuth_range=az_range)\n",
    "qvector = im_reduced[0] / 10\n",
    "intensity = im_reduced[1] # / diode_value\n",
    "\n",
    "#log_intensity = np.log10(intensity)\n",
    "#log_intensity_offset = log_intensity - 1 * idx\n",
    "#intensity_offset = 10**(log_intensity_offset)\n",
    "#intensity = intensity_offset\n",
    "\n",
    "#qvector_list.append(qvector)\n",
    "#radint_list.append(intensity)\n",
    "#energy_list.append(energy)\n",
    "energy_rounded = round(energy, 0)\n",
    "ax.plot(qvector, intensity, label=f'{energy_rounded} eV')\n",
    "ax.set_xscale('log')\n",
    "ax.set_yscale('log')    \n",
    "#ax.set_title(f'Fe(OH)3 Sample\\nRadially integrated WAXS profile\\nEnergy={energy} eV')\n",
    "ax.set_xlabel(r'Scattering vector, $q \\ (\\mathrm{\\AA^{-1}})$')\n",
    "ax.set_ylabel('Scattering intensity (arbitrary units)')\n",
    "ax.grid(which='major', color='lightgrey', linewidth=0.6); ax.grid(which='minor', color='lightgrey', linewidth=0.3)\n",
    "ax.legend()\n",
    "plt.show()\n",
    "\n",
    "#if flag_save:\n",
    "#    path_saxs_plot = os.path.join(save_path, f'{sample_folder}_saxs_{energy}eV.tif')\n",
    "#    path_saxs_txt = os.path.join(save_path, f'{sample_folder}_saxs_{energy}eV.txt')\n",
    "#    fig.savefig(path_saxs_plot, bbox_inches='tight', dpi=300)\n",
    "#    np.savetxt(path_saxs_txt, np.vstack((qvector, intensity)).T)\n",
    "\n"
   ]
  },
  {
   "cell_type": "code",
   "execution_count": null,
   "metadata": {},
   "outputs": [],
   "source": [
    "# saxs energy scan\n",
    "\n",
    "Es_eV = np.linspace(6950, 7150, 101)        # same energy range/resolution as nexafs\n",
    "\n",
    "\n",
    "\n",
    "epics.caput('bl531_xps1:mono_angle_deg',mono_deg(Es_eV[0]))\n",
    "time_sleep(5)\n",
    "filenames = ()\n",
    "for i_e in tqdm(range(len(Es_eV))):\n",
    "    mono_angle_deg = mono_deg(Es_eV[i_e])\n",
    "    \n",
    "    epics.caput('bl531_xps1:mono_angle_deg',mono_angle_deg)\n",
    "    time_sleep(2)\n",
    "\n",
    "\n",
    "    aqtime_s = 2\n",
    "    epics.caput('13PIL1:cam1:AcquireTime', aqtime_s * 1.5)\n",
    "    epics.caput('13PIL1:cam1:AcquirePeriod', aqtime_s)\n",
    "    epics.caput('13PIL1:cam1:Acquire',1)\n",
    "    time_sleep(5)\n",
    "\n",
    "    last_filename_ascii = epics.caget('13PIL1:cam1:FullFileName_RBV')\n",
    "    last_filename = bytes(last_filename_ascii).decode()\n",
    "    filenames += (last_filename,)\n",
    "\n"
   ]
  },
  {
   "cell_type": "code",
   "execution_count": null,
   "metadata": {},
   "outputs": [],
   "source": [
    "np.percentile(im_np, 99.99)"
   ]
  },
  {
   "cell_type": "code",
   "execution_count": null,
   "metadata": {},
   "outputs": [],
   "source": [
    "epics.caget('bl531_xps1:mono_angle_deg')"
   ]
  },
  {
   "cell_type": "code",
   "execution_count": null,
   "metadata": {},
   "outputs": [],
   "source": [
    "mono_deg(7150)"
   ]
  },
  {
   "cell_type": "code",
   "execution_count": null,
   "metadata": {},
   "outputs": [],
   "source": [
    "img = ()\n",
    "for i_e in range(len(Es_eV)):\n",
    "    filepath = filenames[i_e][:-1]\n",
    "    # read the image\n",
    "    im_tiff = Image.open(filepath)\n",
    "    # make the image a numpy array so that we can process it\n",
    "    im_np = np.squeeze(np.array(im_tiff.getdata()).reshape(im_tiff.size[1], im_tiff.size[0], 1))\n",
    "    img += (im_np,)\n"
   ]
  },
  {
   "cell_type": "code",
   "execution_count": null,
   "metadata": {},
   "outputs": [],
   "source": [
    "# tracking flux on top of detector to see if we can see fluorescence nexafs\n",
    "\n",
    "fig, ax = plt.subplots()\n",
    "\n",
    "flux = Es_eV*0\n",
    "for i_e in range(len(Es_eV)):\n",
    "    flux[i_e] = np.sum(img[i_e][0:200, 0:200])\n",
    "\n",
    "ax.plot(Es_eV, flux)\n",
    "#ax.set_xlim([0,100])\n",
    "#ax.set_ylim([2.4e6, 2.8e6])\n"
   ]
  },
  {
   "cell_type": "code",
   "execution_count": null,
   "metadata": {},
   "outputs": [],
   "source": []
  },
  {
   "cell_type": "code",
   "execution_count": null,
   "metadata": {},
   "outputs": [],
   "source": []
  },
  {
   "cell_type": "code",
   "execution_count": null,
   "metadata": {},
   "outputs": [],
   "source": []
  },
  {
   "cell_type": "code",
   "execution_count": null,
   "metadata": {},
   "outputs": [],
   "source": []
  },
  {
   "cell_type": "code",
   "execution_count": null,
   "metadata": {},
   "outputs": [],
   "source": []
  },
  {
   "cell_type": "code",
   "execution_count": null,
   "metadata": {},
   "outputs": [],
   "source": []
  },
  {
   "cell_type": "code",
   "execution_count": null,
   "metadata": {},
   "outputs": [],
   "source": [
    "# ------------------------------------------------------------------------------------------------------------------------------------------------------------------------------------------------------------------------------------------------------------------\n",
    "# below is the code from april 22, 2024"
   ]
  },
  {
   "cell_type": "code",
   "execution_count": null,
   "metadata": {},
   "outputs": [],
   "source": [
    "# execute nexafs scan (to collect on photodiode) across an inputted energy range\n",
    "\n",
    "input_energies = np.linspace(8965, 8995, 101)\n",
    "mono_angles_deg = mono_deg(input_energies)\n",
    "pd_val_nA = mono_angles_deg*0\n",
    "\n",
    "epics.caput('bl531_xps1:mono_angle_deg', mono_angles_deg[0])\n",
    "time_sleep(5)\n",
    "for i_a in np.arange(len(mono_angles_deg)):\n",
    "    epics.caput('bl531_xps1:mono_angle_deg', mono_angles_deg[i_a])\n",
    "    time_sleep(0.5)\n",
    "    pd_val_nA[i_a] = epics.caget('bl201-beamstop:current')"
   ]
  },
  {
   "cell_type": "code",
   "execution_count": null,
   "metadata": {},
   "outputs": [],
   "source": [
    "# make a quick plot of the photodiode signal\n",
    "\n",
    "plt.plot(input_energies,pd_val_nA)\n",
    "plt.xlabel('Beamline Energy (eV)')\n",
    "plt.ylabel('Beamstop Diode Intensity [nA]')\n",
    "plt.show()\n",
    "\n",
    "# save data since photodiode signals are not archived (i think)!\n",
    "file_name = 'scan01_nexafs_CopperFoil_photodiode'\n",
    "#file_name = 'scan02_nexafs_CopperFoil_photodiode_dark'\n",
    "#file_name = 'scan03_nexafs_CopperFoil_photodiode_dark2'\n",
    "\n",
    "#np.savetxt(f'/home/bl531/bl531_commissioning/20240422ML_commissioning/{file_name}.txt', np.vstack((input_energies, mono_angles_deg, pd_val_nA)).T)"
   ]
  },
  {
   "cell_type": "code",
   "execution_count": null,
   "metadata": {},
   "outputs": [],
   "source": [
    "# ------------------------------------------------------------------------------------------------------------------------------------------------------------------------------------------------------------------------------------------------------------------\n",
    "# now i've pulled vacuum on a direct beam sample\n",
    "# and i ran tulasis two PET-SeNP samples using these cells"
   ]
  },
  {
   "cell_type": "code",
   "execution_count": null,
   "metadata": {},
   "outputs": [],
   "source": [
    "# lets do a wide energy scan on the photodiode to see what the bkg on is for a direct beam   \n",
    "\n",
    "input_energies = np.linspace(5000, 11000, 201)\n",
    "mono_angles_deg = mono_deg(input_energies)\n",
    "pd_val_nA = mono_angles_deg*0\n",
    "\n",
    "epics.caput('bl531_xps1:mono_angle_deg', mono_angles_deg[0])\n",
    "time_sleep(5)\n",
    "for i_a in np.arange(len(mono_angles_deg)):\n",
    "    epics.caput('bl531_xps1:mono_angle_deg', mono_angles_deg[i_a])\n",
    "    time_sleep(0.5)\n",
    "    pd_val_nA[i_a] = epics.caget('bl201-beamstop:current')\n",
    "\n",
    "\n",
    "# make a quick plot of the photodiode signal\n",
    "plt.plot(input_energies,pd_val_nA)\n",
    "plt.xlabel('Beamline Energy (eV)')\n",
    "plt.ylabel('Beamstop Diode Intensity [nA]')\n",
    "plt.show()\n",
    "\n",
    "# save data since photodiode signals are not archived (i think)!\n",
    "file_name = 'scan04_nexafs_directbeam_photodiode_dark'\n",
    "file_name = 'scan05_nexafs_directbeam_photodiode'\n",
    "\n",
    "#np.savetxt(f'/home/bl531/bl531_commissioning/20240422ML_commissioning/{file_name}.txt', np.vstack((input_energies, mono_angles_deg, pd_val_nA)).T)"
   ]
  },
  {
   "cell_type": "code",
   "execution_count": null,
   "metadata": {},
   "outputs": [],
   "source": [
    "# pilatus time :)  single image acquisition\n",
    "aqtime_s = 1\n",
    "epics.caput('13PIL1:cam1:AcquireTime', aqtime_s * 1.5)\n",
    "epics.caput('13PIL1:cam1:AcquirePeriod', aqtime_s)\n",
    "epics.caput('13PIL1:cam1:Acquire',1)\n",
    "time_sleep(5)\n",
    "last_filename_ascii = epics.caget('13PIL1:cam1:FullFileName_RBV')\n",
    "last_filename = bytes(last_filename_ascii).decode()\n",
    "print(last_filename)"
   ]
  },
  {
   "cell_type": "code",
   "execution_count": null,
   "metadata": {},
   "outputs": [],
   "source": [
    "# display 2d image \n",
    "\n",
    "#filepath = '/mnt/pilatus/' + 'BinaryNP_231222_WAXS_4802.tif'\n",
    "#filepath = '/mnt/pilatus/' + 'FeNOM_20231221_3756.tif'\n",
    "#filepath = 'afp://bl531user@bl531data.local/User_Data/' + last_filename[13:-1]\n",
    "filepath = f'/home/bl531/bl531_commissioning/20240422ML_commissioning/{last_filename[13:-1]}'\n",
    "#filepath = '/home/bl531/bl531_commissioning/20240422ML_commissioning/scan06_saxs_directbeam_5000-11000eV/scan06_saxs_directbeam_4882.tif'\n",
    "filepath = '/home/bl531/bl531_commissioning/20240422ML_commissioning/scan07_saxs_tulasi-PET-ctrl_4894.tif'\n",
    "filepath = '/home/bl531/bl531_commissioning/20240422ML_commissioning/scan08_saxs_tulasi-PET-SeNP2_4899.tif'\n",
    "\n",
    "\n",
    "# read the image\n",
    "im_tiff = Image.open(filepath)\n",
    "# make the image a numpy array so that we can process it\n",
    "im_np = np.squeeze(np.array(im_tiff.getdata()).reshape(im_tiff.size[1], im_tiff.size[0], 1))\n",
    "\n",
    "# dealing with dyanmic range\n",
    "#im_np[np.where(im_np>100000.0)] =0\n",
    "\n",
    "dx_m = 172e-6\n",
    "Nx_px = 981\n",
    "Ny_px = 1043\n",
    "Dx_m = Nx_px*dx_m\n",
    "Dy_m = Ny_px*dx_m\n",
    "\n",
    "fig=plt.figure(figsize=(5, 5), dpi= 120, facecolor='w', edgecolor='k')\n",
    "extent = (-Dx_m/2 * 1e3, +Dx_m/2 * 1e3, -Dy_m/2 * 1e3, +Dy_m/2 * 1e3)\n",
    "\n",
    "#mask = im_np > np.max(im_np)\n",
    "#im_np[mask]=0\n",
    "\n",
    "plt.imshow(im_np, extent=extent, cmap = 'inferno', norm=LogNorm())\n",
    "plt.xlabel('horizontal Position [mm]')\n",
    "plt.ylabel('vertical Positon [mm]')\n",
    "plt.show()"
   ]
  },
  {
   "cell_type": "code",
   "execution_count": null,
   "metadata": {},
   "outputs": [],
   "source": [
    "# check that you are not oversaturating detector... if so, adjust exposure time \n",
    "\n",
    "np.percentile(im_np,99.9)   # this value should be below 1 million"
   ]
  },
  {
   "cell_type": "code",
   "execution_count": null,
   "metadata": {},
   "outputs": [],
   "source": [
    "# pilatus energy scan\n",
    "\n",
    "Es_eV = np.linspace(5000, 11000, 61)\n",
    "\n",
    "epics.caput('bl531_xps1:mono_angle_deg',mono_deg(Es_eV[0]))\n",
    "time_sleep(5)\n",
    "filenames = ()\n",
    "for i_e in range(len(Es_eV)):\n",
    "    mono_angle_deg = mono_deg(Es_eV[i_e])\n",
    "    \n",
    "    epics.caput('bl531_xps1:mono_angle_deg',mono_angle_deg)\n",
    "    time_sleep(2)\n",
    "\n",
    "    aqtime_s = 1\n",
    "    epics.caput('13PIL1:cam1:AcquireTime', aqtime_s * 1.5)\n",
    "    epics.caput('13PIL1:cam1:AcquirePeriod', aqtime_s)\n",
    "    epics.caput('13PIL1:cam1:Acquire',1)\n",
    "    time_sleep(5)\n",
    "\n",
    "    last_filename_ascii = epics.caget('13PIL1:cam1:FullFileName_RBV')\n",
    "    last_filename = bytes(last_filename_ascii).decode()[13:-1]\n",
    "    filenames += (last_filename,)\n"
   ]
  },
  {
   "cell_type": "code",
   "execution_count": null,
   "metadata": {},
   "outputs": [],
   "source": [
    "# radial integration of a single pilatus image\n",
    "\n",
    "filepath = '/home/bl531/bl531_commissioning/20240422ML_commissioning/scan07_saxs_tulasi-PET-ctrl_10000eV/scan07_saxs_tulasi-PET-ctrl_4891.tif'\n",
    "filepath = '/home/bl531/bl531_commissioning/20240422ML_commissioning/scan08_saxs_tulasi-PET-SeNP2_dark_4898.tif'\n",
    "filepath = '/home/bl531/bl531_commissioning/20240422ML_commissioning/scan08_saxs_tulasi-PET-SeNP2_4899.tif'\n",
    "\n",
    "az_range=[-180,180]\n",
    "fig, ax = plt.subplots(figsize=(10,6))\n",
    "#qvector_list = []\n",
    "#radint_list = []\n",
    "#energy_list = []\n",
    "#for idx, image in tqdm(enumerate(images[:])):\n",
    "mono_angle = 24.19\n",
    "energy = 10000\n",
    "#mono_angle = float(image[ image.find('deg') - 4: image.find('deg')])\n",
    "#energy = calculate_output_energy(mono_angle)\n",
    "\n",
    "# calibration performed in pyfai-calib2 by mrl on 4/22/24\n",
    "dist = 1.47\n",
    "poni1 = 0.10065476219862225\n",
    "poni2 = 0.07695294434659085\n",
    "rot1 = 0\n",
    "rot2 = 0\n",
    "rot3 = 0\n",
    "\n",
    "wavelength = ( (4.1357 * (10**-15)) * (2.9979 * (10**8))) / energy\n",
    "calibrant = pyFAI.calibrant.get_calibrant(\"AgBh\")\n",
    "calibrant.wavelength = wavelength\n",
    "detector = pyFAI.detectors.Pilatus1M(pixel1=0.000172, pixel2=0.000172, max_shape=(1043, 981))\n",
    "ai = AzimuthalIntegrator(dist=dist, detector=detector, wavelength=wavelength, poni1=poni1, poni2=poni2, rot1=rot1, rot2=rot2, rot3=rot3)\n",
    "#ai.maskfile = os.path.join(master_path, 'waxs_mask_mrl_april2024.edf')\n",
    "\n",
    "im_path = os.path.join(filepath)\n",
    "im_data = fabio.open(im_path)\n",
    "im_array = im_data.data\n",
    "im_array[im_array < 1] = 1\n",
    "im_reduced = ai.integrate1d(im_array, npt=2000, azimuth_range=az_range)\n",
    "qvector = im_reduced[0] / 10\n",
    "intensity = im_reduced[1] # / diode_value\n",
    "\n",
    "#log_intensity = np.log10(intensity)\n",
    "#log_intensity_offset = log_intensity - 1 * idx\n",
    "#intensity_offset = 10**(log_intensity_offset)\n",
    "#intensity = intensity_offset\n",
    "\n",
    "#qvector_list.append(qvector)\n",
    "#radint_list.append(intensity)\n",
    "#energy_list.append(energy)\n",
    "energy_rounded = round(energy, 0)\n",
    "ax.plot(qvector, intensity, label=f'{energy_rounded} eV')\n",
    "ax.set_xscale('log')\n",
    "ax.set_yscale('log')    \n",
    "#ax.set_title(f'Fe(OH)3 Sample\\nRadially integrated WAXS profile\\nEnergy={energy} eV')\n",
    "ax.set_xlabel(r'Scattering vector, $q \\ (\\mathrm{\\AA^{-1}})$')\n",
    "ax.set_ylabel('Scattering intensity (arbitrary units)')\n",
    "ax.grid(which='major', color='lightgrey', linewidth=0.6); ax.grid(which='minor', color='lightgrey', linewidth=0.3)\n",
    "ax.legend()\n",
    "plt.show()\n",
    "\n",
    "#if flag_save:\n",
    "#    path_saxs_plot = os.path.join(save_path, f'{sample_folder}_saxs_{energy}eV.tif')\n",
    "#    path_saxs_txt = os.path.join(save_path, f'{sample_folder}_saxs_{energy}eV.txt')\n",
    "#    fig.savefig(path_saxs_plot, bbox_inches='tight', dpi=300)\n",
    "#    np.savetxt(path_saxs_txt, np.vstack((qvector, intensity)).T)\n",
    "\n"
   ]
  },
  {
   "cell_type": "code",
   "execution_count": null,
   "metadata": {},
   "outputs": [],
   "source": []
  },
  {
   "cell_type": "code",
   "execution_count": null,
   "metadata": {},
   "outputs": [],
   "source": [
    "# ------------------------------------------------------------------------------------------------------------------------------------------------------------------------------------------------------------------------------------------------------------------\n",
    "# now i have the Copper Foil back in the chamber and i pulled vacuum\n",
    "# want to try some spectroscopy (NEXAFS, EXAFS) at Cu K-edge"
   ]
  },
  {
   "cell_type": "code",
   "execution_count": null,
   "metadata": {},
   "outputs": [],
   "source": []
  },
  {
   "cell_type": "code",
   "execution_count": null,
   "metadata": {},
   "outputs": [],
   "source": [
    "# lets look at the Cu K-edge\n",
    "\n",
    "input_energies = np.linspace(8965, 8995, 101)\n",
    "mono_angles_deg = mono_deg(input_energies)\n",
    "pd_val_nA = mono_angles_deg*0\n",
    "\n",
    "epics.caput('bl531_xps1:mono_angle_deg', mono_angles_deg[0])\n",
    "time_sleep(5)\n",
    "for i_a in np.arange(len(mono_angles_deg)):\n",
    "    epics.caput('bl531_xps1:mono_angle_deg', mono_angles_deg[i_a])\n",
    "    time_sleep(5)\n",
    "    pd_val_nA[i_a] = epics.caget('bl201-beamstop:current')\n",
    "\n",
    "\n",
    "# make a quick plot of the photodiode signal\n",
    "plt.plot(input_energies,pd_val_nA)\n",
    "plt.xlabel('Beamline Energy (eV)')\n",
    "plt.ylabel('Beamstop Diode Intensity [nA]')\n",
    "plt.show()\n",
    "\n",
    "# save data since photodiode signals are not archived (i think)!\n",
    "file_name = 'scan12_nexafs_CuFoil-vacuum_photodiode_5sec'\n",
    "\n",
    "\n",
    "\n",
    "np.savetxt(f'/home/bl531/bl531_commissioning/20240422ML_commissioning/{file_name}.txt', np.vstack((input_energies, mono_angles_deg, pd_val_nA)).T)"
   ]
  },
  {
   "cell_type": "code",
   "execution_count": null,
   "metadata": {},
   "outputs": [],
   "source": [
    "# 0.5 sec photodiode scan for reference (to compare to 5 sec scan above)\n",
    "\n",
    "plt.plot(input_energies,pd_val_nA)\n",
    "plt.xlabel('Beamline Energy (eV)')\n",
    "plt.ylabel('Beamstop Diode Intensity [nA]')\n",
    "\n",
    "plt.show()"
   ]
  },
  {
   "cell_type": "code",
   "execution_count": null,
   "metadata": {},
   "outputs": [],
   "source": []
  },
  {
   "cell_type": "code",
   "execution_count": null,
   "metadata": {},
   "outputs": [],
   "source": []
  },
  {
   "cell_type": "code",
   "execution_count": null,
   "metadata": {},
   "outputs": [],
   "source": []
  },
  {
   "cell_type": "code",
   "execution_count": null,
   "metadata": {},
   "outputs": [],
   "source": []
  },
  {
   "cell_type": "code",
   "execution_count": null,
   "metadata": {},
   "outputs": [],
   "source": []
  },
  {
   "cell_type": "code",
   "execution_count": null,
   "metadata": {},
   "outputs": [],
   "source": []
  },
  {
   "cell_type": "code",
   "execution_count": null,
   "metadata": {},
   "outputs": [],
   "source": []
  },
  {
   "cell_type": "code",
   "execution_count": null,
   "metadata": {},
   "outputs": [],
   "source": [
    "# ------------------------------------------------------------------------------------------------------------------------------------------------------------------------------------------------------------------------------------------------------------------\n",
    "# antoines code from 20240422ML_calibration.ipynb"
   ]
  },
  {
   "cell_type": "code",
   "execution_count": null,
   "metadata": {},
   "outputs": [],
   "source": [
    "# testing EPICS with the monochromator\n",
    "epics.caget('bl531_xps1:mono_angle_deg')"
   ]
  },
  {
   "cell_type": "code",
   "execution_count": null,
   "metadata": {},
   "outputs": [],
   "source": [
    "\n",
    "epics.caget('bl201-beamstop:current')"
   ]
  },
  {
   "cell_type": "code",
   "execution_count": null,
   "metadata": {},
   "outputs": [],
   "source": [
    "import matplotlib.pyplot as plt\n",
    "from time import sleep as time_sleep\n",
    "\n",
    "mono_angles_deg = np.linspace(25,26,101)\n",
    "pd_val_nA = mono_angles_deg*0\n",
    "\n",
    "\n",
    "epics.caput('bl531_xps1:mono_angle_deg', mono_angles_deg[0])\n",
    "time_sleep(5)\n",
    "for i_a in np.arange(len(mono_angles_deg)):\n",
    "    epics.caput('bl531_xps1:mono_angle_deg', mono_angles_deg[i_a])\n",
    "    time_sleep(0.5)\n",
    "    pd_val_nA[i_a] = epics.caget('bl201-beamstop:current')\n",
    "\n",
    "\n"
   ]
  },
  {
   "cell_type": "code",
   "execution_count": null,
   "metadata": {},
   "outputs": [],
   "source": [
    "plt.plot(mono_angles_deg,pd_val_nA)\n",
    "plt.xlabel('Mono angle [deg]')\n",
    "plt.ylabel('beamstop diode intensity [nA]')\n",
    "plt.show()\n"
   ]
  },
  {
   "cell_type": "code",
   "execution_count": null,
   "metadata": {},
   "outputs": [],
   "source": [
    "pd_val_nA"
   ]
  },
  {
   "cell_type": "code",
   "execution_count": 31,
   "metadata": {},
   "outputs": [
    {
     "name": "stdout",
     "output_type": "stream",
     "text": [
      "2.3411957430688592\n"
     ]
    },
    {
     "data": {
      "text/plain": [
       "Text(0, 0.5, 'frequency')"
      ]
     },
     "execution_count": 31,
     "metadata": {},
     "output_type": "execute_result"
    },
    {
     "data": {
      "image/png": "[encoded data removed]",
      "text/plain": [
       "<Figure size 640x480 with 1 Axes>"
      ]
     },
     "metadata": {},
     "output_type": "display_data"
    }
   ],
   "source": [
    "print(np.std(size_x_list))\n",
    "plt.hist(size_x_list, bins=10,color='skyblue',alpha=0.8)\n",
    "plt.title('x-axis size histogram for 100 image samples')\n",
    "plt.xlabel('x-axis size (px)')\n",
    "plt.ylabel('frequency')"
   ]
  },
  {
   "cell_type": "code",
   "execution_count": 32,
   "metadata": {},
   "outputs": [
    {
     "name": "stdout",
     "output_type": "stream",
     "text": [
      "0.39180980508812135\n"
     ]
    },
    {
     "data": {
      "text/plain": [
       "Text(0, 0.5, 'frequency')"
      ]
     },
     "execution_count": 32,
     "metadata": {},
     "output_type": "execute_result"
    },
    {
     "data": {
      "image/png": "[encoded data removed]",
      "text/plain": [
       "<Figure size 640x480 with 1 Axes>"
      ]
     },
     "metadata": {},
     "output_type": "display_data"
    }
   ],
   "source": [
    "print(np.std(center_y_list))\n",
    "plt.hist(center_y_list, bins=10,color='skyblue',alpha=0.8)\n",
    "plt.title('y-axis center histogram for 100 image samples')\n",
    "plt.xlabel('y-axis center (px)')\n",
    "plt.ylabel('frequency')"
   ]
  },
  {
   "cell_type": "code",
   "execution_count": 33,
   "metadata": {},
   "outputs": [
    {
     "data": {
      "text/plain": [
       "Text(0, 0.5, 'frequency')"
      ]
     },
     "execution_count": 33,
     "metadata": {},
     "output_type": "execute_result"
    },
    {
     "data": {
      "image/png": "[encoded data removed]",
      "text/plain": [
       "<Figure size 640x480 with 1 Axes>"
      ]
     },
     "metadata": {},
     "output_type": "display_data"
    }
   ],
   "source": [
    "plt.hist(size_y_list, bins=10,color='skyblue',alpha=0.8)\n",
    "plt.title('y-axis size histogram for 100 image samples')\n",
    "plt.xlabel('y-axis size (px)')\n",
    "plt.ylabel('frequency')"
   ]
  },
  {
   "cell_type": "code",
   "execution_count": null,
   "metadata": {},
   "outputs": [],
   "source": []
  }
 ],
 "metadata": {
  "kernelspec": {
   "display_name": "Python 3.11.9 ('blop')",
   "language": "python",
   "name": "python3"
  },
  "language_info": {
   "codemirror_mode": {
    "name": "ipython",
    "version": 3
   },
   "file_extension": ".py",
   "mimetype": "text/x-python",
   "name": "python",
   "nbconvert_exporter": "python",
   "pygments_lexer": "ipython3",
   "version": "3.11.9"
  },
  "orig_nbformat": 4,
  "vscode": {
   "interpreter": {
    "hash": "09f2f5ddae0e8299b88e9233674f846101eb93a9f60a84f324d1fc02577b70ef"
   }
  }
 },
 "nbformat": 4,
 "nbformat_minor": 2
}

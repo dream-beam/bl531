{
 "cells": [
  {
   "cell_type": "markdown",
   "metadata": {},
   "source": [
    "# Commissioning of BL5.3.1 using EPICS/bluesky"
   ]
  },
  {
   "cell_type": "markdown",
   "metadata": {},
   "source": [
    "### This notebook is being used by Tanny Chavez (TC) to test connection to Bluesky/EPICS\n",
    "### Contact info: tanchavez@lbl.gov"
   ]
  },
  {
   "cell_type": "markdown",
   "metadata": {},
   "source": [
    "#### The following exercise connects to a motor and reads it's current position (Mono)"
   ]
  },
  {
   "cell_type": "code",
   "execution_count": 1,
   "metadata": {},
   "outputs": [],
   "source": [
    "from ophyd.log import config_ophyd_logging\n",
    "# config_ophyd_logging(level='DEBUG')\n",
    "\n",
    "from bluesky import RunEngine\n",
    "RE = RunEngine({})\n"
   ]
  },
  {
   "cell_type": "code",
   "execution_count": 3,
   "metadata": {},
   "outputs": [
    {
     "name": "stderr",
     "output_type": "stream",
     "text": [
      "PV IOC:m1.RBV with cid 28772 found on multiple servers. Accepted address is 192.168.10.123:36853. Also found on 131.243.80.239:36853\n",
      "PV IOC:m1.VAL with cid 28773 found on multiple servers. Accepted address is 192.168.10.123:36853. Also found on 131.243.80.239:36853\n",
      "PV IOC:m1.OFF with cid 28774 found on multiple servers. Accepted address is 192.168.10.123:36853. Also found on 131.243.80.239:36853\n",
      "PV IOC:m1.DIR with cid 28775 found on multiple servers. Accepted address is 192.168.10.123:36853. Also found on 131.243.80.239:36853\n",
      "PV IOC:m1.FOFF with cid 28776 found on multiple servers. Accepted address is 192.168.10.123:36853. Also found on 131.243.80.239:36853\n",
      "PV IOC:m1.SET with cid 28777 found on multiple servers. Accepted address is 192.168.10.123:36853. Also found on 131.243.80.239:36853\n",
      "PV IOC:m1.VELO with cid 28778 found on multiple servers. Accepted address is 192.168.10.123:36853. Also found on 131.243.80.239:36853\n",
      "PV IOC:m1.ACCL with cid 28779 found on multiple servers. Accepted address is 192.168.10.123:36853. Also found on 131.243.80.239:36853\n",
      "PV IOC:m1.EGU with cid 28780 found on multiple servers. Accepted address is 192.168.10.123:36853. Also found on 131.243.80.239:36853\n",
      "PV IOC:m1.MOVN with cid 28781 found on multiple servers. Accepted address is 192.168.10.123:36853. Also found on 131.243.80.239:36853\n",
      "PV IOC:m1.DMOV with cid 28782 found on multiple servers. Accepted address is 192.168.10.123:36853. Also found on 131.243.80.239:36853\n",
      "PV IOC:m1.HLS with cid 28783 found on multiple servers. Accepted address is 192.168.10.123:36853. Also found on 131.243.80.239:36853\n",
      "PV IOC:m1.LLS with cid 28784 found on multiple servers. Accepted address is 192.168.10.123:36853. Also found on 131.243.80.239:36853\n",
      "PV IOC:m1.HLM with cid 28785 found on multiple servers. Accepted address is 192.168.10.123:36853. Also found on 131.243.80.239:36853\n",
      "PV IOC:m1.LLM with cid 28786 found on multiple servers. Accepted address is 192.168.10.123:36853. Also found on 131.243.80.239:36853\n",
      "PV IOC:m1.TDIR with cid 28787 found on multiple servers. Accepted address is 192.168.10.123:36853. Also found on 131.243.80.239:36853\n",
      "PV IOC:m1.STOP with cid 28788 found on multiple servers. Accepted address is 192.168.10.123:36853. Also found on 131.243.80.239:36853\n",
      "PV IOC:m1.HOMF with cid 28789 found on multiple servers. Accepted address is 192.168.10.123:36853. Also found on 131.243.80.239:36853\n",
      "PV IOC:m1.HOMR with cid 28790 found on multiple servers. Accepted address is 192.168.10.123:36853. Also found on 131.243.80.239:36853\n"
     ]
    }
   ],
   "source": [
    "import epics\n",
    "import bluesky\n",
    "\n",
    "import ophyd\n",
    "from ophyd import EpicsMotor\n",
    "ophyd.set_cl('caproto')\n",
    "\n",
    "\n",
    "bl531_mono = EpicsMotor('IOC:m1', name='Mono theta [deg]')\n",
    "bl531_mono.wait_for_connection(timeout=2.0)"
   ]
  },
  {
   "cell_type": "code",
   "execution_count": 4,
   "metadata": {},
   "outputs": [
    {
     "name": "stdout",
     "output_type": "stream",
     "text": [
      "25.0\n"
     ]
    }
   ],
   "source": [
    "test = bl531_mono.read()\n",
    "\n",
    "print(test['Mono theta [deg]']['value'])"
   ]
  },
  {
   "cell_type": "markdown",
   "metadata": {},
   "source": [
    "#### Moving the motor from command line"
   ]
  },
  {
   "cell_type": "code",
   "execution_count": 6,
   "metadata": {},
   "outputs": [
    {
     "name": "stdout",
     "output_type": "stream",
     "text": [
      "[D 14:54:00.912 signal:1132] [Mono theta [deg]_motor_egu] pv[IOC:m3.EGU].get_with_metadata(as_string=False, form=time, timeout=2.0)\n",
      "[D 14:54:00.914 signal:1139] [Mono theta [deg]_motor_egu] pv[IOC:m3.EGU].get_with_metadata(...) returned\n",
      "[D 14:54:00.915 signal:1747] [Mono theta [deg]_user_setpoint] _write_pv.put(value=-33, use_complete=False, callback=None, kwargs={'wait': False})\n",
      "[D 14:54:00.916 signal:215] [Mono theta [deg]_user_setpoint] put(value=-33, timestamp=1670367240.9166358, force=True, metadata=None)\n",
      "[D 14:54:00.918 signal:215] [Mono theta [deg]_motor_done_move] put(value=0, timestamp=1670367153.297686, force=True, metadata={'status': <AlarmStatus.NO_ALARM: 0>, 'severity': <AlarmSeverity.NO_ALARM: 0>, 'lower_ctrl_limit': -32768, 'upper_ctrl_limit': 32767, 'units': 'mm'})\n",
      "[D 14:54:00.919 epics_motor:258] [Mono theta [deg]] [ts=2022-12-06 14:52:33.29769] EpicsMotor(prefix='IOC:m3', name='Mono theta [deg]', settle_time=0.0, timeout=None, read_attrs=['user_readback', 'user_setpoint'], configuration_attrs=['user_offset', 'user_offset_dir', 'velocity', 'acceleration', 'motor_egu']) moving: True (value=0)\n",
      "[D 14:54:00.920 signal:215] [Mono theta [deg]_motor_done_move] put(value=0, timestamp=1670367153.297686, force=True, metadata={'status': <AlarmStatus.NO_ALARM: 0>, 'severity': <AlarmSeverity.NO_ALARM: 0>, 'lower_ctrl_limit': -32768, 'upper_ctrl_limit': 32767, 'units': 'mm'})\n",
      "[D 14:54:00.921 epics_motor:258] [Mono theta [deg]] [ts=2022-12-06 14:52:33.29769] EpicsMotor(prefix='IOC:m3', name='Mono theta [deg]', settle_time=0.0, timeout=None, read_attrs=['user_readback', 'user_setpoint'], configuration_attrs=['user_offset', 'user_offset_dir', 'velocity', 'acceleration', 'motor_egu']) moving: True (value=0)\n",
      "[D 14:54:00.922 signal:215] [Mono theta [deg]_user_setpoint] put(value=-33.0, timestamp=1670367240.916165, force=True, metadata={'status': <AlarmStatus.NO_ALARM: 0>, 'severity': <AlarmSeverity.NO_ALARM: 0>, 'precision': 4, 'lower_ctrl_limit': -100.0, 'upper_ctrl_limit': 180.0, 'units': 'mm'})\n",
      "[D 14:54:00.927 signal:215] [Mono theta [deg]_motor_done_move] put(value=1, timestamp=1670367240.926164, force=True, metadata={'status': <AlarmStatus.NO_ALARM: 0>, 'severity': <AlarmSeverity.NO_ALARM: 0>, 'lower_ctrl_limit': -32768, 'upper_ctrl_limit': 32767, 'units': 'mm'})\n",
      "[D 14:54:00.928 epics_motor:258] [Mono theta [deg]] [ts=2022-12-06 14:54:00.92616] EpicsMotor(prefix='IOC:m3', name='Mono theta [deg]', settle_time=0.0, timeout=None, read_attrs=['user_readback', 'user_setpoint'], configuration_attrs=['user_offset', 'user_offset_dir', 'velocity', 'acceleration', 'motor_egu']) moving: False (value=1)\n",
      "[D 14:54:00.929 signal:1132] [Mono theta [deg]_direction_of_travel] pv[IOC:m3.TDIR].get_with_metadata(as_string=False, form=time, timeout=2.0)\n",
      "[D 14:54:00.930 signal:1139] [Mono theta [deg]_direction_of_travel] pv[IOC:m3.TDIR].get_with_metadata(...) returned\n",
      "[D 14:54:00.931 signal:1132] [Mono theta [deg]_low_limit_switch] pv[IOC:m3.LLS].get_with_metadata(as_string=False, form=time, timeout=2.0)\n",
      "[D 14:54:00.933 signal:1139] [Mono theta [deg]_low_limit_switch] pv[IOC:m3.LLS].get_with_metadata(...) returned\n",
      "[D 14:54:00.934 signal:215] [Mono theta [deg]_motor_done_move] put(value=1, timestamp=1670367240.926164, force=True, metadata={'status': <AlarmStatus.NO_ALARM: 0>, 'severity': <AlarmSeverity.NO_ALARM: 0>, 'lower_ctrl_limit': -32768, 'upper_ctrl_limit': 32767, 'units': 'mm'})\n",
      "[D 14:54:00.935 signal:1132] [Mono theta [deg]_user_readback] pv[IOC:m3.RBV].get_with_metadata(as_string=False, form=time, timeout=2.0)\n",
      "[D 14:54:00.936 epics_motor:258] [Mono theta [deg]] [ts=2022-12-06 14:54:00.92616] EpicsMotor(prefix='IOC:m3', name='Mono theta [deg]', settle_time=0.0, timeout=None, read_attrs=['user_readback', 'user_setpoint'], configuration_attrs=['user_offset', 'user_offset_dir', 'velocity', 'acceleration', 'motor_egu']) moving: False (value=1)\n",
      "[D 14:54:00.937 signal:1139] [Mono theta [deg]_user_readback] pv[IOC:m3.RBV].get_with_metadata(...) returned\n",
      "[D 14:54:00.940 signal:1132] [Mono theta [deg]_user_setpoint] pv[IOC:m3.VAL].get_with_metadata(as_string=False, form=time, timeout=2.0)\n",
      "[D 14:54:00.942 signal:1139] [Mono theta [deg]_user_setpoint] pv[IOC:m3.VAL].get_with_metadata(...) returned\n",
      "-43.0\n"
     ]
    }
   ],
   "source": [
    "bl531_mono.move(-33, wait=True)\n",
    "\n",
    "test_after = bl531_mono.read()\n",
    "\n",
    "print(test_after['Mono theta [deg]']['value'])"
   ]
  },
  {
   "cell_type": "markdown",
   "metadata": {},
   "source": [
    "#### The following cells of this notebook are previous notes that can be use as future reference"
   ]
  },
  {
   "cell_type": "code",
   "execution_count": 12,
   "metadata": {},
   "outputs": [],
   "source": [
    "from bluesky import RunEngine\n",
    "RE = RunEngine({})"
   ]
  },
  {
   "cell_type": "code",
   "execution_count": 28,
   "metadata": {},
   "outputs": [
    {
     "data": {
      "text/plain": [
       "1"
      ]
     },
     "execution_count": 28,
     "metadata": {},
     "output_type": "execute_result"
    }
   ],
   "source": [
    "from databroker import Broker\n",
    "db = Broker.named('temp')\n",
    "\n",
    "# Insert all metadata/data captured into db.\n",
    "RE.subscribe(db.insert)"
   ]
  },
  {
   "cell_type": "code",
   "execution_count": 16,
   "metadata": {},
   "outputs": [
    {
     "data": {
      "text/plain": [
       "{'picoammeter': {'value': 424700.0, 'timestamp': 1670544365.63568}}"
      ]
     },
     "execution_count": 16,
     "metadata": {},
     "output_type": "execute_result"
    }
   ],
   "source": [
    "from ophyd import EpicsMotor\n",
    "import ophyd\n",
    "ophyd.set_cl('caproto')\n",
    "\n",
    "#that does not work\n",
    "#det = ophyd.EpicsMotor('BL531:PS:POS_0', name='picoscale') \n",
    "#det.read()\n",
    "\n",
    "bl531_current = ophyd.EpicsSignal('bl201-beamstop:current', name='picoammeter')\n",
    "# do not do a read in the same cell! too fast\n",
    "\n",
    "#this works\n",
    "bl531_current.wait_for_connection(timeout=2.0)\n",
    "bl531_current.read()"
   ]
  },
  {
   "cell_type": "code",
   "execution_count": 16,
   "metadata": {},
   "outputs": [
    {
     "name": "stderr",
     "output_type": "stream",
     "text": [
      "PV IOC:m1.RBV with cid 1876 found on multiple servers. Accepted address is 131.243.80.239:5064. Also found on 192.168.10.123:5064\n",
      "PV IOC:m1.VAL with cid 1877 found on multiple servers. Accepted address is 131.243.80.239:5064. Also found on 192.168.10.123:5064\n",
      "PV IOC:m1.OFF with cid 1878 found on multiple servers. Accepted address is 131.243.80.239:5064. Also found on 192.168.10.123:5064\n",
      "PV IOC:m1.DIR with cid 1879 found on multiple servers. Accepted address is 131.243.80.239:5064. Also found on 192.168.10.123:5064\n",
      "PV IOC:m1.FOFF with cid 1880 found on multiple servers. Accepted address is 131.243.80.239:5064. Also found on 192.168.10.123:5064\n",
      "PV IOC:m1.SET with cid 1881 found on multiple servers. Accepted address is 131.243.80.239:5064. Also found on 192.168.10.123:5064\n",
      "PV IOC:m1.VELO with cid 1882 found on multiple servers. Accepted address is 131.243.80.239:5064. Also found on 192.168.10.123:5064\n",
      "PV IOC:m1.ACCL with cid 1883 found on multiple servers. Accepted address is 131.243.80.239:5064. Also found on 192.168.10.123:5064\n",
      "PV IOC:m1.EGU with cid 1884 found on multiple servers. Accepted address is 131.243.80.239:5064. Also found on 192.168.10.123:5064\n",
      "PV IOC:m1.MOVN with cid 1885 found on multiple servers. Accepted address is 131.243.80.239:5064. Also found on 192.168.10.123:5064\n",
      "PV IOC:m1.DMOV with cid 1886 found on multiple servers. Accepted address is 131.243.80.239:5064. Also found on 192.168.10.123:5064\n",
      "PV IOC:m1.HLS with cid 1887 found on multiple servers. Accepted address is 131.243.80.239:5064. Also found on 192.168.10.123:5064\n",
      "PV IOC:m1.LLS with cid 1888 found on multiple servers. Accepted address is 131.243.80.239:5064. Also found on 192.168.10.123:5064\n",
      "PV IOC:m1.HLM with cid 1889 found on multiple servers. Accepted address is 131.243.80.239:5064. Also found on 192.168.10.123:5064\n",
      "PV IOC:m1.LLM with cid 1890 found on multiple servers. Accepted address is 131.243.80.239:5064. Also found on 192.168.10.123:5064\n",
      "PV IOC:m1.TDIR with cid 1891 found on multiple servers. Accepted address is 131.243.80.239:5064. Also found on 192.168.10.123:5064\n",
      "PV IOC:m1.STOP with cid 1892 found on multiple servers. Accepted address is 131.243.80.239:5064. Also found on 192.168.10.123:5064\n",
      "PV IOC:m1.HOMF with cid 1893 found on multiple servers. Accepted address is 131.243.80.239:5064. Also found on 192.168.10.123:5064\n",
      "PV IOC:m1.HOMR with cid 1894 found on multiple servers. Accepted address is 131.243.80.239:5064. Also found on 192.168.10.123:5064\n"
     ]
    },
    {
     "data": {
      "text/plain": [
       "OrderedDict([('Mono theta', {'value': 16.0, 'timestamp': 1667100567.824899}),\n",
       "             ('Mono theta_user_setpoint',\n",
       "              {'value': 16.0, 'timestamp': 1667100567.824899})])"
      ]
     },
     "execution_count": 16,
     "metadata": {},
     "output_type": "execute_result"
    }
   ],
   "source": [
    "#worked at some point... needs to be launched\n",
    "bl531_mono = EpicsMotor('IOC:m1', name='Mono theta')\n",
    "#mono_theta = EpicsMotor('IOC:m1', name='theta')\n",
    "bl531_mono.wait_for_connection(timeout=2.0)\n",
    "bl531_mono.read()"
   ]
  },
  {
   "cell_type": "code",
   "execution_count": 7,
   "metadata": {},
   "outputs": [
    {
     "data": {
      "text/plain": [
       "('fd970a6d-9932-48e4-bc19-f03806e32ea7',)"
      ]
     },
     "execution_count": 7,
     "metadata": {},
     "output_type": "execute_result"
    }
   ],
   "source": [
    "from bluesky.plans import count\n",
    "#dets = [det1, det2]   # a list of any number of detectors\n",
    "\n",
    "dets = [bl531_current]   # a list of any number of detectors\n",
    "motors = bl531_mono \n",
    "\n",
    "RE(count(dets))"
   ]
  },
  {
   "cell_type": "code",
   "execution_count": 36,
   "metadata": {},
   "outputs": [
    {
     "name": "stdout",
     "output_type": "stream",
     "text": [
      "[EpicsSignal(read_pv='bl201-beamstop:current', name='picoammeter', value=453100.0, timestamp=1670628603.011583, auto_monitor=False, string=False, write_pv='bl201-beamstop:current', limits=False, put_complete=False)]\n"
     ]
    }
   ],
   "source": [
    "print(dets)"
   ]
  },
  {
   "cell_type": "markdown",
   "metadata": {},
   "source": [
    "### Scan!"
   ]
  },
  {
   "cell_type": "code",
   "execution_count": 29,
   "metadata": {},
   "outputs": [
    {
     "name": "stdout",
     "output_type": "stream",
     "text": [
      "\n",
      "\n",
      "Transient Scan ID: 9     Time: 2022-12-13 11:31:20\n",
      "Persistent Unique Scan ID: '7652805d-76f3-4bce-a8c5-56a6a7ed006a'\n",
      "New stream: 'primary'\n",
      "+-----------+------------+------------------+-------------+\n",
      "|   seq_num |       time | Mono theta [deg] | picoammeter |\n",
      "+-----------+------------+------------------+-------------+\n",
      "|         1 | 11:31:27.1 |          20.0000 |      453100 |\n",
      "|         2 | 11:31:30.4 |          23.0000 |      453100 |\n",
      "|         3 | 11:31:33.7 |          26.0000 |      453100 |\n",
      "+-----------+------------+------------------+-------------+\n",
      "generator scan ['7652805d'] (scan num: 9)\n",
      "\n",
      "\n",
      "\n"
     ]
    },
    {
     "data": {
      "image/png": "[encoded data removed]",
      "text/plain": [
       "<Figure size 360x360 with 1 Axes>"
      ]
     },
     "metadata": {
      "needs_background": "light"
     },
     "output_type": "display_data"
    }
   ],
   "source": [
    "from bluesky.plans import scan\n",
    "test = RE(scan(dets, motors, 20, 26, 3))"
   ]
  },
  {
   "cell_type": "code",
   "execution_count": 35,
   "metadata": {},
   "outputs": [
    {
     "data": {
      "text/html": [
       "<div>\n",
       "<style scoped>\n",
       "    .dataframe tbody tr th:only-of-type {\n",
       "        vertical-align: middle;\n",
       "    }\n",
       "\n",
       "    .dataframe tbody tr th {\n",
       "        vertical-align: top;\n",
       "    }\n",
       "\n",
       "    .dataframe thead th {\n",
       "        text-align: right;\n",
       "    }\n",
       "</style>\n",
       "<table border=\"1\" class=\"dataframe\">\n",
       "  <thead>\n",
       "    <tr style=\"text-align: right;\">\n",
       "      <th></th>\n",
       "      <th>time</th>\n",
       "      <th>picoammeter</th>\n",
       "      <th>Mono theta [deg]</th>\n",
       "      <th>Mono theta [deg]_user_setpoint</th>\n",
       "    </tr>\n",
       "    <tr>\n",
       "      <th>seq_num</th>\n",
       "      <th></th>\n",
       "      <th></th>\n",
       "      <th></th>\n",
       "      <th></th>\n",
       "    </tr>\n",
       "  </thead>\n",
       "  <tbody>\n",
       "    <tr>\n",
       "      <th>1</th>\n",
       "      <td>2022-12-13 19:31:27.153378487</td>\n",
       "      <td>453100.0</td>\n",
       "      <td>20.0</td>\n",
       "      <td>20.0</td>\n",
       "    </tr>\n",
       "    <tr>\n",
       "      <th>2</th>\n",
       "      <td>2022-12-13 19:31:30.424196243</td>\n",
       "      <td>453100.0</td>\n",
       "      <td>23.0</td>\n",
       "      <td>23.0</td>\n",
       "    </tr>\n",
       "    <tr>\n",
       "      <th>3</th>\n",
       "      <td>2022-12-13 19:31:33.719572544</td>\n",
       "      <td>453100.0</td>\n",
       "      <td>26.0</td>\n",
       "      <td>26.0</td>\n",
       "    </tr>\n",
       "  </tbody>\n",
       "</table>\n",
       "</div>"
      ],
      "text/plain": [
       "                                 time  picoammeter  Mono theta [deg]  \\\n",
       "seq_num                                                                \n",
       "1       2022-12-13 19:31:27.153378487     453100.0              20.0   \n",
       "2       2022-12-13 19:31:30.424196243     453100.0              23.0   \n",
       "3       2022-12-13 19:31:33.719572544     453100.0              26.0   \n",
       "\n",
       "         Mono theta [deg]_user_setpoint  \n",
       "seq_num                                  \n",
       "1                                  20.0  \n",
       "2                                  23.0  \n",
       "3                                  26.0  "
      ]
     },
     "execution_count": 35,
     "metadata": {},
     "output_type": "execute_result"
    }
   ],
   "source": [
    "db[-1].table()\n",
    "# exp_id = test[0]"
   ]
  },
  {
   "cell_type": "markdown",
   "metadata": {},
   "source": [
    "Same but make it fancy"
   ]
  },
  {
   "cell_type": "code",
   "execution_count": 17,
   "metadata": {},
   "outputs": [
    {
     "ename": "NotImplementedError",
     "evalue": "The matplotlib backend module://matplotlib_inline.backend_inline is not yet supported.",
     "output_type": "error",
     "traceback": [
      "\u001b[0;31m---------------------------------------------------------------------------\u001b[0m",
      "\u001b[0;31mNotImplementedError\u001b[0m                       Traceback (most recent call last)",
      "\u001b[1;32m/home/bl531/bl531/bluesky-test/20221117TC BL531 bluesky commissioning.ipynb Cell 19\u001b[0m in \u001b[0;36m<cell line: 10>\u001b[0;34m()\u001b[0m\n\u001b[1;32m      <a href='vscode-notebook-cell:/home/bl531/bl531/bluesky-test/20221117TC%20BL531%20bluesky%20commissioning.ipynb#ch0000010?line=7'>8</a>\u001b[0m \u001b[39m# Make plots update live while scans run.\u001b[39;00m\n\u001b[1;32m      <a href='vscode-notebook-cell:/home/bl531/bl531/bluesky-test/20221117TC%20BL531%20bluesky%20commissioning.ipynb#ch0000010?line=8'>9</a>\u001b[0m \u001b[39mfrom\u001b[39;00m \u001b[39mbluesky\u001b[39;00m\u001b[39m.\u001b[39;00m\u001b[39mutils\u001b[39;00m \u001b[39mimport\u001b[39;00m install_kicker\n\u001b[0;32m---> <a href='vscode-notebook-cell:/home/bl531/bl531/bluesky-test/20221117TC%20BL531%20bluesky%20commissioning.ipynb#ch0000010?line=9'>10</a>\u001b[0m install_kicker()\n",
      "File \u001b[0;32m~/.local/lib/python3.10/site-packages/bluesky/utils/__init__.py:909\u001b[0m, in \u001b[0;36minstall_kicker\u001b[0;34m(loop, update_rate)\u001b[0m\n\u001b[1;32m    907\u001b[0m     install_qt_kicker(loop\u001b[39m=\u001b[39mloop, update_rate\u001b[39m=\u001b[39mupdate_rate)\n\u001b[1;32m    908\u001b[0m \u001b[39melse\u001b[39;00m:\n\u001b[0;32m--> 909\u001b[0m     \u001b[39mraise\u001b[39;00m \u001b[39mNotImplementedError\u001b[39;00m(\u001b[39m\"\u001b[39m\u001b[39mThe matplotlib backend \u001b[39m\u001b[39m{}\u001b[39;00m\u001b[39m is not yet \u001b[39m\u001b[39m\"\u001b[39m\n\u001b[1;32m    910\u001b[0m                               \u001b[39m\"\u001b[39m\u001b[39msupported.\u001b[39m\u001b[39m\"\u001b[39m\u001b[39m.\u001b[39mformat(backend))\n",
      "\u001b[0;31mNotImplementedError\u001b[0m: The matplotlib backend module://matplotlib_inline.backend_inline is not yet supported."
     ]
    }
   ],
   "source": [
    "# some issues here -- not critical\n",
    "from bluesky.callbacks.best_effort import BestEffortCallback\n",
    "bec = BestEffortCallback()\n",
    "\n",
    "# Send all metadata/data captured to the BestEffortCallback.\n",
    "RE.subscribe(bec)\n",
    "\n",
    "# Make plots update live while scans run.\n",
    "from bluesky.utils import install_kicker\n",
    "install_kicker()"
   ]
  },
  {
   "cell_type": "code",
   "execution_count": 27,
   "metadata": {},
   "outputs": [
    {
     "name": "stdout",
     "output_type": "stream",
     "text": [
      "\n",
      "\n",
      "Transient Scan ID: 6     Time: 2022-10-29 20:46:39\n",
      "Persistent Unique Scan ID: 'cab11e95-8e34-4fbe-8bd2-63d17391cb79'\n",
      "New stream: 'primary'\n",
      "+-----------+------------+------------+-------------+\n",
      "|   seq_num |       time | Mono theta | picoammeter |\n",
      "+-----------+------------+------------+-------------+\n",
      "|         1 | 20:46:39.7 |    21.0000 |         116 |\n",
      "|         2 | 20:46:41.1 |    22.0000 |         115 |\n",
      "|         3 | 20:46:42.4 |    23.0000 |         115 |\n",
      "|         4 | 20:46:43.8 |    24.0000 |         115 |\n",
      "|         5 | 20:46:45.2 |    25.0000 |         114 |\n",
      "|         6 | 20:46:46.5 |    26.0000 |         112 |\n",
      "|         7 | 20:46:47.9 |    27.0000 |         192 |\n",
      "|         8 | 20:46:49.3 |    28.0000 |         200 |\n",
      "|         9 | 20:46:50.7 |    29.0000 |         195 |\n",
      "|        10 | 20:46:52.1 |    30.0000 |         112 |\n",
      "|        11 | 20:46:53.5 |    31.0000 |          90 |\n",
      "+-----------+------------+------------+-------------+\n",
      "generator scan ['cab11e95'] (scan num: 6)\n",
      "\n",
      "\n",
      "\n"
     ]
    },
    {
     "data": {
      "text/plain": [
       "('cab11e95-8e34-4fbe-8bd2-63d17391cb79',)"
      ]
     },
     "execution_count": 27,
     "metadata": {},
     "output_type": "execute_result"
    },
    {
     "data": {
      "image/png": "[encoded data removed]",
      "text/plain": [
       "<Figure size 360x360 with 1 Axes>"
      ]
     },
     "metadata": {
      "needs_background": "light"
     },
     "output_type": "display_data"
    }
   ],
   "source": [
    "from bluesky.plans import scan\n",
    "RE(scan(dets, motors, 21, 31, 11))"
   ]
  },
  {
   "cell_type": "code",
   "execution_count": 24,
   "metadata": {},
   "outputs": [
    {
     "data": {
      "text/html": [
       "<div>\n",
       "<style scoped>\n",
       "    .dataframe tbody tr th:only-of-type {\n",
       "        vertical-align: middle;\n",
       "    }\n",
       "\n",
       "    .dataframe tbody tr th {\n",
       "        vertical-align: top;\n",
       "    }\n",
       "\n",
       "    .dataframe thead th {\n",
       "        text-align: right;\n",
       "    }\n",
       "</style>\n",
       "<table border=\"1\" class=\"dataframe\">\n",
       "  <thead>\n",
       "    <tr style=\"text-align: right;\">\n",
       "      <th></th>\n",
       "      <th>time</th>\n",
       "      <th>Mono theta</th>\n",
       "      <th>Mono theta_user_setpoint</th>\n",
       "      <th>picoammeter</th>\n",
       "    </tr>\n",
       "    <tr>\n",
       "      <th>seq_num</th>\n",
       "      <th></th>\n",
       "      <th></th>\n",
       "      <th></th>\n",
       "      <th></th>\n",
       "    </tr>\n",
       "  </thead>\n",
       "  <tbody>\n",
       "    <tr>\n",
       "      <th>1</th>\n",
       "      <td>2022-10-30 03:44:05.538543701</td>\n",
       "      <td>20.0</td>\n",
       "      <td>20.0</td>\n",
       "      <td>116.21</td>\n",
       "    </tr>\n",
       "    <tr>\n",
       "      <th>2</th>\n",
       "      <td>2022-10-30 03:44:06.952156305</td>\n",
       "      <td>21.0</td>\n",
       "      <td>21.0</td>\n",
       "      <td>116.03</td>\n",
       "    </tr>\n",
       "  </tbody>\n",
       "</table>\n",
       "</div>"
      ],
      "text/plain": [
       "                                 time  Mono theta  Mono theta_user_setpoint  \\\n",
       "seq_num                                                                       \n",
       "1       2022-10-30 03:44:05.538543701        20.0                      20.0   \n",
       "2       2022-10-30 03:44:06.952156305        21.0                      21.0   \n",
       "\n",
       "         picoammeter  \n",
       "seq_num               \n",
       "1             116.21  \n",
       "2             116.03  "
      ]
     },
     "execution_count": 24,
     "metadata": {},
     "output_type": "execute_result"
    }
   ],
   "source": [
    "header = db[-1]\n",
    "header.table()"
   ]
  },
  {
   "cell_type": "code",
   "execution_count": 35,
   "metadata": {},
   "outputs": [
    {
     "name": "stdout",
     "output_type": "stream",
     "text": [
      "\n",
      "\n",
      "Transient Scan ID: 12     Time: 2022-10-29 20:52:38\n",
      "Persistent Unique Scan ID: '420fe84a-d75e-44df-bf00-c5a1eb5d7733'\n",
      "New stream: 'primary'\n",
      "+-----------+------------+------------+-------------+\n",
      "|   seq_num |       time | Mono theta | picoammeter |\n",
      "+-----------+------------+------------+-------------+\n",
      "|         1 | 20:52:38.4 |    25.0000 |         107 |\n",
      "|         2 | 20:52:38.8 |    25.0500 |         107 |\n",
      "|         3 | 20:52:39.2 |    25.1000 |         107 |\n",
      "|         4 | 20:52:39.6 |    25.1500 |         106 |\n",
      "|         5 | 20:52:40.0 |    25.2000 |         106 |\n",
      "|         6 | 20:52:40.4 |    25.2500 |         106 |\n",
      "|         7 | 20:52:40.8 |    25.3000 |         105 |\n",
      "|         8 | 20:52:41.2 |    25.3500 |         105 |\n",
      "|         9 | 20:52:41.6 |    25.4000 |         105 |\n",
      "|        10 | 20:52:42.0 |    25.4500 |         103 |\n",
      "|        11 | 20:52:42.3 |    25.5000 |         103 |\n",
      "|        12 | 20:52:42.7 |    25.5500 |         103 |\n",
      "|        13 | 20:52:43.1 |    25.6000 |         103 |\n",
      "|        14 | 20:52:43.5 |    25.6500 |         107 |\n",
      "|        15 | 20:52:43.9 |    25.7000 |         107 |\n",
      "|        16 | 20:52:44.3 |    25.7500 |         107 |\n",
      "|        17 | 20:52:44.6 |    25.8000 |         190 |\n",
      "|        18 | 20:52:45.0 |    25.8500 |         190 |\n",
      "|        19 | 20:52:45.4 |    25.9000 |         190 |\n",
      "|        20 | 20:52:45.8 |    25.9500 |         193 |\n",
      "|        21 | 20:52:46.2 |    26.0000 |         193 |\n",
      "|        22 | 20:52:46.6 |    26.0500 |         193 |\n",
      "|        23 | 20:52:47.0 |    26.1000 |         195 |\n",
      "|        24 | 20:52:47.4 |    26.1500 |         195 |\n",
      "|        25 | 20:52:47.8 |    26.2000 |         195 |\n",
      "|        26 | 20:52:48.2 |    26.2500 |         195 |\n",
      "|        27 | 20:52:48.6 |    26.3000 |         195 |\n",
      "|        28 | 20:52:48.9 |    26.3500 |         195 |\n",
      "|        29 | 20:52:49.3 |    26.4000 |         197 |\n",
      "|        30 | 20:52:49.7 |    26.4500 |         197 |\n",
      "|        31 | 20:52:50.0 |    26.5000 |         197 |\n",
      "|        32 | 20:52:50.4 |    26.5500 |         200 |\n",
      "|        33 | 20:52:50.9 |    26.6000 |         200 |\n",
      "|        34 | 20:52:51.3 |    26.6500 |         200 |\n",
      "|        35 | 20:52:51.7 |    26.7000 |         201 |\n",
      "|        36 | 20:52:52.1 |    26.7500 |         201 |\n",
      "|        37 | 20:52:52.4 |    26.8000 |         201 |\n",
      "|        38 | 20:52:52.8 |    26.8500 |         201 |\n",
      "|        39 | 20:52:53.2 |    26.9000 |         201 |\n",
      "|        40 | 20:52:53.6 |    26.9500 |         201 |\n",
      "|        41 | 20:52:54.0 |    27.0000 |         200 |\n",
      "|        42 | 20:52:54.3 |    27.0500 |         200 |\n",
      "|        43 | 20:52:54.7 |    27.1000 |         200 |\n",
      "|        44 | 20:52:55.1 |    27.1500 |         200 |\n",
      "|        45 | 20:52:55.5 |    27.2000 |         199 |\n",
      "|        46 | 20:52:55.9 |    27.2500 |         199 |\n",
      "|        47 | 20:52:56.3 |    27.3000 |         199 |\n",
      "|        48 | 20:52:56.7 |    27.3500 |         199 |\n",
      "|        49 | 20:52:57.0 |    27.4000 |         199 |\n",
      "+-----------+------------+------------+-------------+\n",
      "|   seq_num |       time | Mono theta | picoammeter |\n",
      "+-----------+------------+------------+-------------+\n",
      "|        50 | 20:52:57.4 |    27.4500 |         199 |\n",
      "|        51 | 20:52:57.8 |    27.5000 |         198 |\n",
      "|        52 | 20:52:58.2 |    27.5500 |         198 |\n",
      "|        53 | 20:52:58.6 |    27.6000 |         198 |\n",
      "|        54 | 20:52:59.0 |    27.6500 |         195 |\n",
      "|        55 | 20:52:59.4 |    27.7000 |         195 |\n",
      "|        56 | 20:52:59.7 |    27.7500 |         195 |\n",
      "|        57 | 20:53:00.1 |    27.8000 |         192 |\n",
      "|        58 | 20:53:00.6 |    27.8500 |         192 |\n",
      "|        59 | 20:53:01.0 |    27.9000 |         192 |\n",
      "|        60 | 20:53:01.4 |    27.9500 |         187 |\n",
      "|        61 | 20:53:01.7 |    28.0000 |         187 |\n",
      "+-----------+------------+------------+-------------+\n",
      "generator scan ['420fe84a'] (scan num: 12)\n",
      "\n",
      "\n",
      "\n"
     ]
    },
    {
     "data": {
      "text/plain": [
       "('420fe84a-d75e-44df-bf00-c5a1eb5d7733',)"
      ]
     },
     "execution_count": 35,
     "metadata": {},
     "output_type": "execute_result"
    },
    {
     "data": {
      "image/png": "[encoded data removed]",
      "text/plain": [
       "<Figure size 360x360 with 1 Axes>"
      ]
     },
     "metadata": {
      "needs_background": "light"
     },
     "output_type": "display_data"
    }
   ],
   "source": [
    "RE(scan(dets, motors, 25, 28, 61))"
   ]
  },
  {
   "cell_type": "code",
   "execution_count": 39,
   "metadata": {},
   "outputs": [
    {
     "name": "stdout",
     "output_type": "stream",
     "text": [
      "\n",
      "\n",
      "Transient Scan ID: 14     Time: 2022-10-29 20:55:22\n",
      "Persistent Unique Scan ID: '9df04103-0f16-426e-a28a-5c0f0c4fa997'\n",
      "New stream: 'primary'\n",
      "+-----------+------------+------------+-------------+\n",
      "|   seq_num |       time | Mono theta | picoammeter |\n",
      "+-----------+------------+------------+-------------+\n",
      "|         1 | 20:55:23.8 |    25.5000 |         107 |\n",
      "|         2 | 20:55:23.8 |    25.5000 |         107 |\n",
      "|         3 | 20:55:23.8 |    25.5000 |         107 |\n",
      "|         4 | 20:55:23.9 |    25.5000 |         107 |\n",
      "|         5 | 20:55:23.9 |    25.5000 |         107 |\n",
      "|         6 | 20:55:24.1 |    25.5100 |         107 |\n",
      "|         7 | 20:55:24.1 |    25.5100 |         107 |\n",
      "|         8 | 20:55:24.1 |    25.5100 |         107 |\n",
      "|         9 | 20:55:24.2 |    25.5100 |         107 |\n",
      "|        10 | 20:55:24.2 |    25.5100 |         107 |\n",
      "|        11 | 20:55:24.2 |    25.5100 |         107 |\n",
      "|        12 | 20:55:24.2 |    25.5100 |         107 |\n",
      "|        13 | 20:55:24.2 |    25.5100 |         107 |\n",
      "|        14 | 20:55:24.3 |    25.5100 |         107 |\n",
      "|        15 | 20:55:24.3 |    25.5100 |         107 |\n",
      "|        16 | 20:55:24.6 |    25.5200 |         107 |\n",
      "|        17 | 20:55:24.6 |    25.5200 |         107 |\n",
      "|        18 | 20:55:24.6 |    25.5200 |         107 |\n",
      "|        19 | 20:55:24.7 |    25.5200 |         107 |\n",
      "|        20 | 20:55:24.7 |    25.5200 |         107 |\n",
      "|        21 | 20:55:24.7 |    25.5200 |         107 |\n",
      "|        22 | 20:55:24.8 |    25.5200 |         107 |\n",
      "|        23 | 20:55:24.8 |    25.5200 |         107 |\n",
      "|        24 | 20:55:24.8 |    25.5200 |         107 |\n",
      "|        25 | 20:55:24.8 |    25.5200 |         107 |\n",
      "|        26 | 20:55:25.0 |    25.5300 |         107 |\n",
      "|        27 | 20:55:25.0 |    25.5300 |         107 |\n",
      "|        28 | 20:55:25.2 |    25.5300 |         107 |\n",
      "|        29 | 20:55:25.3 |    25.5300 |         107 |\n",
      "|        30 | 20:55:25.3 |    25.5300 |         107 |\n",
      "|        31 | 20:55:25.3 |    25.5300 |         107 |\n",
      "|        32 | 20:55:25.3 |    25.5300 |         107 |\n",
      "|        33 | 20:55:25.4 |    25.5300 |         107 |\n",
      "|        34 | 20:55:25.4 |    25.5300 |         107 |\n",
      "|        35 | 20:55:25.4 |    25.5300 |         107 |\n",
      "|        36 | 20:55:25.7 |    25.5400 |         107 |\n",
      "|        37 | 20:55:25.7 |    25.5400 |         144 |\n",
      "|        38 | 20:55:25.7 |    25.5400 |         144 |\n",
      "|        39 | 20:55:25.7 |    25.5400 |         144 |\n",
      "|        40 | 20:55:25.8 |    25.5400 |         144 |\n",
      "|        41 | 20:55:25.8 |    25.5400 |         144 |\n",
      "|        42 | 20:55:25.8 |    25.5400 |         144 |\n",
      "|        43 | 20:55:25.8 |    25.5400 |         144 |\n",
      "|        44 | 20:55:25.9 |    25.5400 |         144 |\n",
      "|        45 | 20:55:25.9 |    25.5400 |         144 |\n",
      "|        46 | 20:55:26.1 |    25.5500 |         144 |\n",
      "|        47 | 20:55:26.2 |    25.5500 |         144 |\n",
      "|        48 | 20:55:26.2 |    25.5500 |         144 |\n",
      "|        49 | 20:55:26.2 |    25.5500 |         144 |\n",
      "+-----------+------------+------------+-------------+\n",
      "|   seq_num |       time | Mono theta | picoammeter |\n",
      "+-----------+------------+------------+-------------+\n",
      "|        50 | 20:55:26.2 |    25.5500 |         144 |\n",
      "|        51 | 20:55:26.3 |    25.5500 |         144 |\n",
      "|        52 | 20:55:26.3 |    25.5500 |         144 |\n",
      "|        53 | 20:55:26.3 |    25.5500 |         144 |\n",
      "|        54 | 20:55:26.3 |    25.5500 |         144 |\n",
      "|        55 | 20:55:26.4 |    25.5500 |         144 |\n",
      "|        56 | 20:55:26.6 |    25.5600 |         144 |\n",
      "|        57 | 20:55:26.7 |    25.5600 |         144 |\n",
      "|        58 | 20:55:26.7 |    25.5600 |         144 |\n",
      "|        59 | 20:55:26.7 |    25.5600 |         144 |\n",
      "|        60 | 20:55:26.7 |    25.5600 |         144 |\n",
      "|        61 | 20:55:26.8 |    25.5600 |         144 |\n",
      "|        62 | 20:55:26.8 |    25.5600 |         144 |\n",
      "|        63 | 20:55:26.8 |    25.5600 |         144 |\n",
      "|        64 | 20:55:26.8 |    25.5600 |         144 |\n",
      "|        65 | 20:55:26.9 |    25.5600 |         144 |\n",
      "|        66 | 20:55:27.1 |    25.5700 |         178 |\n",
      "|        67 | 20:55:27.1 |    25.5700 |         178 |\n",
      "|        68 | 20:55:27.2 |    25.5700 |         178 |\n",
      "|        69 | 20:55:27.2 |    25.5700 |         178 |\n",
      "|        70 | 20:55:27.2 |    25.5700 |         178 |\n",
      "|        71 | 20:55:27.2 |    25.5700 |         178 |\n",
      "|        72 | 20:55:27.3 |    25.5700 |         178 |\n",
      "|        73 | 20:55:27.3 |    25.5700 |         178 |\n",
      "|        74 | 20:55:27.3 |    25.5700 |         178 |\n",
      "|        75 | 20:55:27.3 |    25.5700 |         178 |\n",
      "|        76 | 20:55:27.6 |    25.5800 |         178 |\n",
      "|        77 | 20:55:27.6 |    25.5800 |         178 |\n",
      "|        78 | 20:55:27.6 |    25.5800 |         178 |\n",
      "|        79 | 20:55:27.7 |    25.5800 |         178 |\n",
      "|        80 | 20:55:27.7 |    25.5800 |         178 |\n",
      "|        81 | 20:55:27.7 |    25.5800 |         178 |\n",
      "|        82 | 20:55:27.8 |    25.5800 |         178 |\n",
      "|        83 | 20:55:27.8 |    25.5800 |         178 |\n",
      "|        84 | 20:55:27.8 |    25.5800 |         178 |\n",
      "|        85 | 20:55:27.8 |    25.5800 |         178 |\n",
      "|        86 | 20:55:28.2 |    25.5900 |         186 |\n",
      "|        87 | 20:55:28.2 |    25.5900 |         186 |\n",
      "|        88 | 20:55:28.2 |    25.5900 |         186 |\n",
      "|        89 | 20:55:28.3 |    25.5900 |         186 |\n",
      "|        90 | 20:55:28.3 |    25.5900 |         186 |\n",
      "|        91 | 20:55:28.3 |    25.5900 |         186 |\n",
      "|        92 | 20:55:28.4 |    25.5900 |         186 |\n",
      "|        93 | 20:55:28.4 |    25.5900 |         186 |\n",
      "|        94 | 20:55:28.4 |    25.5900 |         186 |\n",
      "|        95 | 20:55:28.4 |    25.5900 |         186 |\n",
      "|        96 | 20:55:28.6 |    25.6000 |         186 |\n",
      "|        97 | 20:55:28.7 |    25.6000 |         186 |\n",
      "|        98 | 20:55:28.7 |    25.6000 |         186 |\n",
      "|        99 | 20:55:28.7 |    25.6000 |         186 |\n",
      "+-----------+------------+------------+-------------+\n",
      "|   seq_num |       time | Mono theta | picoammeter |\n",
      "+-----------+------------+------------+-------------+\n",
      "|       100 | 20:55:28.8 |    25.6000 |         186 |\n",
      "|       101 | 20:55:28.8 |    25.6000 |         186 |\n",
      "+-----------+------------+------------+-------------+\n",
      "generator scan ['9df04103'] (scan num: 14)\n",
      "\n",
      "\n",
      "\n"
     ]
    },
    {
     "data": {
      "text/plain": [
       "('9df04103-0f16-426e-a28a-5c0f0c4fa997',)"
      ]
     },
     "execution_count": 39,
     "metadata": {},
     "output_type": "execute_result"
    },
    {
     "data": {
      "image/png": "[encoded data removed]",
      "text/plain": [
       "<Figure size 360x360 with 1 Axes>"
      ]
     },
     "metadata": {
      "needs_background": "light"
     },
     "output_type": "display_data"
    }
   ],
   "source": [
    "RE(scan(dets, motors, 25.5, 25.6, 101))"
   ]
  },
  {
   "cell_type": "code",
   "execution_count": 41,
   "metadata": {},
   "outputs": [
    {
     "name": "stdout",
     "output_type": "stream",
     "text": [
      "\n",
      "\n",
      "Transient Scan ID: 15     Time: 2022-10-29 20:59:47\n",
      "Persistent Unique Scan ID: '70c3295b-1718-47c8-9ceb-fa4e3e48babc'\n",
      "New stream: 'primary'\n",
      "+-----------+------------+------------+-------------+\n",
      "|   seq_num |       time | Mono theta | picoammeter |\n",
      "+-----------+------------+------------+-------------+\n",
      "|         1 | 20:59:47.6 |    17.0000 |         114 |\n",
      "|         2 | 20:59:49.0 |    18.0000 |         114 |\n",
      "|         3 | 20:59:50.4 |    19.0000 |         114 |\n",
      "|         4 | 20:59:51.7 |    20.0000 |         114 |\n",
      "|         5 | 20:59:53.1 |    21.0000 |         114 |\n",
      "|         6 | 20:59:54.5 |    22.0000 |         114 |\n",
      "|         7 | 20:59:55.9 |    23.0000 |         114 |\n",
      "|         8 | 20:59:57.3 |    24.0000 |         114 |\n",
      "|         9 | 20:59:58.7 |    25.0000 |         112 |\n",
      "|        10 | 21:00:00.1 |    26.0000 |         109 |\n",
      "|        11 | 21:00:01.5 |    27.0000 |         194 |\n",
      "|        12 | 21:00:02.9 |    28.0000 |         200 |\n",
      "|        13 | 21:00:04.3 |    29.0000 |         173 |\n",
      "|        14 | 21:00:05.8 |    30.0000 |         140 |\n",
      "|        15 | 21:00:07.1 |    31.0000 |          90 |\n",
      "|        16 | 21:00:08.5 |    32.0000 |          72 |\n",
      "|        17 | 21:00:09.9 |    33.0000 |          58 |\n",
      "|        18 | 21:00:11.2 |    34.0000 |          52 |\n",
      "|        19 | 21:00:12.6 |    35.0000 |          48 |\n",
      "|        20 | 21:00:14.0 |    36.0000 |          42 |\n",
      "|        21 | 21:00:15.3 |    37.0000 |          42 |\n",
      "|        22 | 21:00:16.8 |    38.0000 |          41 |\n",
      "|        23 | 21:00:18.2 |    39.0000 |          40 |\n",
      "|        24 | 21:00:19.6 |    40.0000 |          40 |\n",
      "|        25 | 21:00:21.1 |    41.0000 |          39 |\n",
      "|        26 | 21:00:22.5 |    42.0000 |          39 |\n",
      "|        27 | 21:00:23.8 |    43.0000 |          38 |\n",
      "|        28 | 21:00:25.3 |    44.0000 |          38 |\n",
      "|        29 | 21:00:26.6 |    45.0000 |          53 |\n",
      "|        30 | 21:00:28.0 |    46.0000 |          54 |\n",
      "|        31 | 21:00:29.4 |    47.0000 |          53 |\n",
      "|        32 | 21:00:30.8 |    48.0000 |          51 |\n",
      "|        33 | 21:00:32.1 |    49.0000 |          49 |\n",
      "|        34 | 21:00:33.6 |    50.0000 |          48 |\n",
      "|        35 | 21:00:35.0 |    51.0000 |          46 |\n",
      "|        36 | 21:00:36.4 |    52.0000 |          45 |\n",
      "|        37 | 21:00:37.8 |    53.0000 |          44 |\n",
      "|        38 | 21:00:39.2 |    54.0000 |          43 |\n",
      "|        39 | 21:00:40.6 |    55.0000 |          42 |\n",
      "|        40 | 21:00:41.9 |    56.0000 |          48 |\n",
      "|        41 | 21:00:43.3 |    57.0000 |          48 |\n",
      "|        42 | 21:00:44.7 |    58.0000 |          44 |\n",
      "|        43 | 21:00:46.1 |    59.0000 |          44 |\n",
      "|        44 | 21:00:47.5 |    60.0000 |          43 |\n",
      "|        45 | 21:00:48.9 |    61.0000 |          42 |\n",
      "|        46 | 21:00:50.3 |    62.0000 |          40 |\n",
      "|        47 | 21:00:51.7 |    63.0000 |          40 |\n",
      "|        48 | 21:00:53.1 |    64.0000 |          39 |\n",
      "|        49 | 21:00:54.4 |    65.0000 |          39 |\n",
      "+-----------+------------+------------+-------------+\n",
      "|   seq_num |       time | Mono theta | picoammeter |\n",
      "+-----------+------------+------------+-------------+\n",
      "|        50 | 21:00:55.8 |    66.0000 |          41 |\n",
      "|        51 | 21:00:57.2 |    67.0000 |          41 |\n",
      "+-----------+------------+------------+-------------+\n",
      "generator scan ['70c3295b'] (scan num: 15)\n",
      "\n",
      "\n",
      "\n"
     ]
    },
    {
     "data": {
      "text/plain": [
       "('70c3295b-1718-47c8-9ceb-fa4e3e48babc',)"
      ]
     },
     "execution_count": 41,
     "metadata": {},
     "output_type": "execute_result"
    },
    {
     "data": {
      "image/png": "[encoded data removed]",
      "text/plain": [
       "<Figure size 360x360 with 1 Axes>"
      ]
     },
     "metadata": {
      "needs_background": "light"
     },
     "output_type": "display_data"
    }
   ],
   "source": [
    "RE(scan(dets, motors, 17, 67, 51))"
   ]
  },
  {
   "cell_type": "markdown",
   "metadata": {},
   "source": [
    "Testing EPICS standalone"
   ]
  },
  {
   "cell_type": "code",
   "execution_count": 4,
   "metadata": {},
   "outputs": [
    {
     "name": "stderr",
     "output_type": "stream",
     "text": [
      "**** The executable \"caRepeater\" couldn't be located\n",
      "**** because of errno = \"No such file or directory\".\n",
      "**** You may need to modify your PATH environment variable.\n",
      "**** Unable to start \"CA Repeater\" process.\n"
     ]
    },
    {
     "name": "stdout",
     "output_type": "stream",
     "text": [
      "cannot connect to bl201-beamstop:current\n"
     ]
    },
    {
     "ename": "TypeError",
     "evalue": "must be real number, not NoneType",
     "output_type": "error",
     "traceback": [
      "\u001b[0;31m---------------------------------------------------------------------------\u001b[0m",
      "\u001b[0;31mTypeError\u001b[0m                                 Traceback (most recent call last)",
      "\u001b[1;32m/home/bl531/bl531/bluesky-test/20221117TC BL531 bluesky commissioning.ipynb Cell 25\u001b[0m in \u001b[0;36m<cell line: 4>\u001b[0;34m()\u001b[0m\n\u001b[1;32m      <a href='vscode-notebook-cell:/home/bl531/bl531/bluesky-test/20221117TC%20BL531%20bluesky%20commissioning.ipynb#ch0000017?line=0'>1</a>\u001b[0m \u001b[39mimport\u001b[39;00m \u001b[39mepics\u001b[39;00m\n\u001b[1;32m      <a href='vscode-notebook-cell:/home/bl531/bl531/bluesky-test/20221117TC%20BL531%20bluesky%20commissioning.ipynb#ch0000017?line=2'>3</a>\u001b[0m current_uA \u001b[39m=\u001b[39m epics\u001b[39m.\u001b[39mcaget(\u001b[39m'\u001b[39m\u001b[39mbl201-beamstop:current\u001b[39m\u001b[39m'\u001b[39m)\n\u001b[0;32m----> <a href='vscode-notebook-cell:/home/bl531/bl531/bluesky-test/20221117TC%20BL531%20bluesky%20commissioning.ipynb#ch0000017?line=3'>4</a>\u001b[0m \u001b[39mprint\u001b[39m(\u001b[39m\"\u001b[39;49m\u001b[39mmeasured diode current: \u001b[39;49m\u001b[39m%1.6f\u001b[39;49;00m\u001b[39m uA\u001b[39;49m\u001b[39m\"\u001b[39;49m \u001b[39m%\u001b[39;49m (current_uA))\n",
      "\u001b[0;31mTypeError\u001b[0m: must be real number, not NoneType"
     ]
    }
   ],
   "source": [
    "import epics\n",
    "\n",
    "current_uA = epics.caget('bl201-beamstop:current')\n",
    "print(\"measured diode current: %1.6f uA\" % (current_uA))\n"
   ]
  },
  {
   "cell_type": "code",
   "execution_count": 49,
   "metadata": {},
   "outputs": [
    {
     "name": "stdout",
     "output_type": "stream",
     "text": [
      "Monochromator angle: 31.000000 deg\n"
     ]
    }
   ],
   "source": [
    "monoTheta_deg = epics.caget('IOC:m1')\n",
    "print(\"Monochromator angle: %1.6f deg\" % (monoTheta_deg))"
   ]
  },
  {
   "cell_type": "code",
   "execution_count": 42,
   "metadata": {},
   "outputs": [
    {
     "data": {
      "text/plain": [
       "1"
      ]
     },
     "execution_count": 42,
     "metadata": {},
     "output_type": "execute_result"
    }
   ],
   "source": [
    "epics.caput('IOC:m1', 26)"
   ]
  },
  {
   "cell_type": "code",
   "execution_count": null,
   "metadata": {},
   "outputs": [],
   "source": [
    "epics.caput('IOC:m1', 26)"
   ]
  },
  {
   "cell_type": "code",
   "execution_count": 44,
   "metadata": {},
   "outputs": [
    {
     "name": "stderr",
     "output_type": "stream",
     "text": [
      "CA.Client.Exception...............................................\n",
      "    Warning: \"Identical process variable names on multiple servers\"\n",
      "    Context: \"Channel: \"newport:m21\", Connecting to: 131.243.80.239:42285, Ignored: 192.168.10.123:42285\"\n",
      "    Source File: ../cac.cpp line 1320\n"
     ]
    },
    {
     "data": {
      "text/plain": [
       "1.6e-05"
      ]
     },
     "execution_count": 44,
     "metadata": {},
     "output_type": "execute_result"
    },
    {
     "name": "stderr",
     "output_type": "stream",
     "text": [
      "    Current Time: Thu Nov 03 2022 17:26:17.896080361\n",
      "..................................................................\n"
     ]
    }
   ],
   "source": [
    "epics.caget('newport:m21')"
   ]
  },
  {
   "cell_type": "code",
   "execution_count": 47,
   "metadata": {},
   "outputs": [
    {
     "data": {
      "text/plain": [
       "1"
      ]
     },
     "execution_count": 47,
     "metadata": {},
     "output_type": "execute_result"
    }
   ],
   "source": [
    "epics.caput('newport:m21', 0.0)"
   ]
  },
  {
   "cell_type": "code",
   "execution_count": null,
   "metadata": {},
   "outputs": [],
   "source": []
  }
 ],
 "metadata": {
  "kernelspec": {
   "display_name": "Python 3.10.4 64-bit",
   "language": "python",
   "name": "python3"
  },
  "language_info": {
   "codemirror_mode": {
    "name": "ipython",
    "version": 3
   },
   "file_extension": ".py",
   "mimetype": "text/x-python",
   "name": "python",
   "nbconvert_exporter": "python",
   "pygments_lexer": "ipython3",
   "version": "3.10.6"
  },
  "orig_nbformat": 4,
  "vscode": {
   "interpreter": {
    "hash": "916dbcbb3f70747c44a77c7bcd40155683ae19c65e1c03b4aa3499c5328201f1"
   }
  }
 },
 "nbformat": 4,
 "nbformat_minor": 2
}

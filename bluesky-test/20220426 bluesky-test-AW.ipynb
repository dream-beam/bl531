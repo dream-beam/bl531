{
 "cells": [
  {
   "cell_type": "markdown",
   "id": "daad3847",
   "metadata": {},
   "source": [
    "# Testing bluesky + EPICS"
   ]
  },
  {
   "cell_type": "markdown",
   "id": "717b6dd2",
   "metadata": {},
   "source": [
    "Following the bluesky tutorial https://nsls-ii.github.io/bluesky/tutorial.html with simulated and live motors"
   ]
  },
  {
   "cell_type": "code",
   "execution_count": null,
   "id": "53d02f73",
   "metadata": {},
   "outputs": [],
   "source": [
    "# April 2022\n",
    "# awojdyla@lbl.gov"
   ]
  },
  {
   "cell_type": "code",
   "execution_count": 2,
   "id": "9e5a92f6",
   "metadata": {},
   "outputs": [],
   "source": [
    "import epics\n",
    "import bluesky\n",
    "#import numpy\n",
    "#import matplotlib.pyplot as plt\n",
    "#import time "
   ]
  },
  {
   "cell_type": "code",
   "execution_count": 3,
   "id": "e3c144e3",
   "metadata": {},
   "outputs": [],
   "source": [
    "from bluesky import RunEngine\n",
    "RE = RunEngine({})"
   ]
  },
  {
   "cell_type": "code",
   "execution_count": 4,
   "id": "ac71f7aa",
   "metadata": {},
   "outputs": [
    {
     "ename": "NotImplementedError",
     "evalue": "The matplotlib backend module://matplotlib_inline.backend_inline is not yet supported.",
     "output_type": "error",
     "traceback": [
      "\u001b[1;31m---------------------------------------------------------------------------\u001b[0m",
      "\u001b[1;31mNotImplementedError\u001b[0m                       Traceback (most recent call last)",
      "Input \u001b[1;32mIn [4]\u001b[0m, in \u001b[0;36m<cell line: 10>\u001b[1;34m()\u001b[0m\n\u001b[0;32m      8\u001b[0m \u001b[38;5;66;03m# Make plots update live while scans run.\u001b[39;00m\n\u001b[0;32m      9\u001b[0m \u001b[38;5;28;01mfrom\u001b[39;00m \u001b[38;5;21;01mbluesky\u001b[39;00m\u001b[38;5;21;01m.\u001b[39;00m\u001b[38;5;21;01mutils\u001b[39;00m \u001b[38;5;28;01mimport\u001b[39;00m install_kicker\n\u001b[1;32m---> 10\u001b[0m \u001b[43minstall_kicker\u001b[49m\u001b[43m(\u001b[49m\u001b[43m)\u001b[49m\n",
      "File \u001b[1;32m~\\anaconda3\\lib\\site-packages\\bluesky\\utils\\__init__.py:909\u001b[0m, in \u001b[0;36minstall_kicker\u001b[1;34m(loop, update_rate)\u001b[0m\n\u001b[0;32m    907\u001b[0m     install_qt_kicker(loop\u001b[38;5;241m=\u001b[39mloop, update_rate\u001b[38;5;241m=\u001b[39mupdate_rate)\n\u001b[0;32m    908\u001b[0m \u001b[38;5;28;01melse\u001b[39;00m:\n\u001b[1;32m--> 909\u001b[0m     \u001b[38;5;28;01mraise\u001b[39;00m \u001b[38;5;167;01mNotImplementedError\u001b[39;00m(\u001b[38;5;124m\"\u001b[39m\u001b[38;5;124mThe matplotlib backend \u001b[39m\u001b[38;5;132;01m{}\u001b[39;00m\u001b[38;5;124m is not yet \u001b[39m\u001b[38;5;124m\"\u001b[39m\n\u001b[0;32m    910\u001b[0m                               \u001b[38;5;124m\"\u001b[39m\u001b[38;5;124msupported.\u001b[39m\u001b[38;5;124m\"\u001b[39m\u001b[38;5;241m.\u001b[39mformat(backend))\n",
      "\u001b[1;31mNotImplementedError\u001b[0m: The matplotlib backend module://matplotlib_inline.backend_inline is not yet supported."
     ]
    }
   ],
   "source": [
    "# some issues here -- not critical\n",
    "from bluesky.callbacks.best_effort import BestEffortCallback\n",
    "bec = BestEffortCallback()\n",
    "\n",
    "# Send all metadata/data captured to the BestEffortCallback.\n",
    "RE.subscribe(bec)\n",
    "\n",
    "# Make plots update live while scans run.\n",
    "from bluesky.utils import install_kicker\n",
    "install_kicker()"
   ]
  },
  {
   "cell_type": "code",
   "execution_count": 5,
   "id": "9f75eb41",
   "metadata": {},
   "outputs": [
    {
     "data": {
      "text/plain": [
       "1"
      ]
     },
     "execution_count": 5,
     "metadata": {},
     "output_type": "execute_result"
    }
   ],
   "source": [
    "from databroker import Broker\n",
    "db = Broker.named('temp')\n",
    "\n",
    "# Insert all metadata/data captured into db.\n",
    "RE.subscribe(db.insert)"
   ]
  },
  {
   "cell_type": "code",
   "execution_count": 6,
   "id": "841715c1",
   "metadata": {},
   "outputs": [],
   "source": [
    "from bluesky.utils import ProgressBarManager\n",
    "RE.waiting_hook = ProgressBarManager()"
   ]
  },
  {
   "cell_type": "markdown",
   "id": "f085786c",
   "metadata": {},
   "source": [
    "### Connecting to EPICS motors\n",
    "We had some issues here witht the picoscale interformeter -- we need to use caproto to talk to it (ophyd's motor does not work directly out of the box)\n",
    "\n",
    "from: https://nsls-ii.github.io/bluesky/tutorial.html\n",
    "\n",
    "```\n",
    "from ophyd import EpicsMotor\n",
    "nano_top_x = EpicsMotor('XF:31ID-ES{Dif:Nano-Ax:TopX}Mtr', name='nano_top_x')\n",
    "```\n",
    "see also:\n",
    "\n",
    "https://blueskyproject.io/ophyd/generated/ophyd.epics_motor.EpicsMotor.html#:~:text=class%20ophyd.epics_motor.EpicsMotor%28prefix%3D%27%27%2C%20%2A%2C%20name%2C%20kind%3DNone%2C%20read_attrs%3DNone%2C%20configuration_attrs%3DNone%2C%20parent%3DNone%2C,are%20passed%20through%20to%20the%20base%20class%2C%20Positioner\n",
    "\n",
    "\n"
   ]
  },
  {
   "cell_type": "code",
   "execution_count": 25,
   "id": "3d72c8ac",
   "metadata": {},
   "outputs": [
    {
     "data": {
      "text/plain": [
       "{'picoscale': {'value': -1983179686, 'timestamp': 1651275975.901231}}"
      ]
     },
     "execution_count": 25,
     "metadata": {},
     "output_type": "execute_result"
    }
   ],
   "source": [
    "from ophyd import EpicsMotor\n",
    "import ophyd\n",
    "ophyd.set_cl('caproto')\n",
    "\n",
    "#that does not work\n",
    "#det = ophyd.EpicsMotor('BL531:PS:POS_0', name='picoscale') \n",
    "#det.read()\n",
    "\n",
    "det_ps = ophyd.EpicsSignal('BL531:PS:POS_0', name='picoscale')\n",
    "# do not do a read in the same cell! too fast\n",
    "\n",
    "#this works\n",
    "det_ps.wait_for_connection(timeout=2.0)\n",
    "det_ps.read()"
   ]
  },
  {
   "cell_type": "code",
   "execution_count": 19,
   "id": "65ecf431",
   "metadata": {},
   "outputs": [
    {
     "data": {
      "text/plain": [
       "OrderedDict([('hxp hexapod',\n",
       "              {'value': -8.260530000000001, 'timestamp': 631152000.0}),\n",
       "             ('hxp hexapod_user_setpoint',\n",
       "              {'value': -8.260530000000001, 'timestamp': 1651274112.3965483})])"
      ]
     },
     "execution_count": 19,
     "metadata": {},
     "output_type": "execute_result"
    }
   ],
   "source": [
    "## works!\n",
    "det_hxp = EpicsMotor('BL531:hxp:c0:m3', name='hxp hexapod')\n",
    "det_hxp.wait_for_connection(timeout=2.0)\n",
    "det_hxp.read()"
   ]
  },
  {
   "cell_type": "code",
   "execution_count": 23,
   "id": "2317a81c",
   "metadata": {},
   "outputs": [
    {
     "name": "stdout",
     "output_type": "stream",
     "text": [
      "hexapod z position (hexapod status): -8.260530 mm\n"
     ]
    }
   ],
   "source": [
    "hexpod_z_mm = epics.caget('BL531:hxp:c0:m3')\n",
    "print(\"hexapod z position (hexapod status): %1.6f mm\" % (hexpod_z_mm))"
   ]
  },
  {
   "cell_type": "code",
   "execution_count": 20,
   "id": "e48873b5",
   "metadata": {},
   "outputs": [
    {
     "ename": "TimeoutError",
     "evalue": "Failed to connect to all signals: virtual motor.user_readback (IOC:m1.RBV), virtual motor.user_setpoint (IOC:m1.VAL), virtual motor.user_offset (IOC:m1.OFF), virtual motor.user_offset_dir (IOC:m1.DIR), virtual motor.offset_freeze_switch (IOC:m1.FOFF), virtual motor.set_use_switch (IOC:m1.SET), virtual motor.velocity (IOC:m1.VELO), virtual motor.acceleration (IOC:m1.ACCL), virtual motor.motor_egu (IOC:m1.EGU), virtual motor.motor_is_moving (IOC:m1.MOVN), virtual motor.motor_done_move (IOC:m1.DMOV), virtual motor.high_limit_switch (IOC:m1.HLS), virtual motor.low_limit_switch (IOC:m1.LLS), virtual motor.high_limit_travel (IOC:m1.HLM), virtual motor.low_limit_travel (IOC:m1.LLM), virtual motor.direction_of_travel (IOC:m1.TDIR), virtual motor.motor_stop (IOC:m1.STOP), virtual motor.home_forward (IOC:m1.HOMF), virtual motor.home_reverse (IOC:m1.HOMR); Pending operations: EpicsMotor(prefix='IOC:m1', name='virtual motor', settle_time=0.0, timeout=None, read_attrs=['user_readback', 'user_setpoint'], configuration_attrs=['user_offset', 'user_offset_dir', 'velocity', 'acceleration', 'motor_egu'])._pos_changed[value] subscription, EpicsMotor(prefix='IOC:m1', name='virtual motor', settle_time=0.0, timeout=None, read_attrs=['user_readback', 'user_setpoint'], configuration_attrs=['user_offset', 'user_offset_dir', 'velocity', 'acceleration', 'motor_egu'])._move_changed[value] subscription",
     "output_type": "error",
     "traceback": [
      "\u001b[1;31m---------------------------------------------------------------------------\u001b[0m",
      "\u001b[1;31mTimeoutError\u001b[0m                              Traceback (most recent call last)",
      "Input \u001b[1;32mIn [20]\u001b[0m, in \u001b[0;36m<cell line: 3>\u001b[1;34m()\u001b[0m\n\u001b[0;32m      1\u001b[0m \u001b[38;5;66;03m#works\u001b[39;00m\n\u001b[0;32m      2\u001b[0m det_virtual \u001b[38;5;241m=\u001b[39m EpicsMotor(\u001b[38;5;124m'\u001b[39m\u001b[38;5;124mIOC:m1\u001b[39m\u001b[38;5;124m'\u001b[39m, name\u001b[38;5;241m=\u001b[39m\u001b[38;5;124m'\u001b[39m\u001b[38;5;124mvirtual motor\u001b[39m\u001b[38;5;124m'\u001b[39m)\n\u001b[1;32m----> 3\u001b[0m \u001b[43mdet_virtual\u001b[49m\u001b[38;5;241;43m.\u001b[39;49m\u001b[43mwait_for_connection\u001b[49m\u001b[43m(\u001b[49m\u001b[43mtimeout\u001b[49m\u001b[38;5;241;43m=\u001b[39;49m\u001b[38;5;241;43m2.0\u001b[39;49m\u001b[43m)\u001b[49m\n\u001b[0;32m      4\u001b[0m det_virtual\u001b[38;5;241m.\u001b[39mread()\n",
      "File \u001b[1;32m~\\anaconda3\\lib\\site-packages\\ophyd\\device.py:1153\u001b[0m, in \u001b[0;36mDevice.wait_for_connection\u001b[1;34m(self, all_signals, timeout)\u001b[0m\n\u001b[0;32m   1149\u001b[0m     pending \u001b[38;5;241m=\u001b[39m \u001b[38;5;124m'\u001b[39m\u001b[38;5;124m, \u001b[39m\u001b[38;5;124m'\u001b[39m\u001b[38;5;241m.\u001b[39mjoin(description\u001b[38;5;241m.\u001b[39mformat(device\u001b[38;5;241m=\u001b[39mdev)\n\u001b[0;32m   1150\u001b[0m                         \u001b[38;5;28;01mfor\u001b[39;00m dev, funcs \u001b[38;5;129;01min\u001b[39;00m pending_funcs\u001b[38;5;241m.\u001b[39mitems()\n\u001b[0;32m   1151\u001b[0m                         \u001b[38;5;28;01mfor\u001b[39;00m obj, description \u001b[38;5;129;01min\u001b[39;00m funcs\u001b[38;5;241m.\u001b[39mitems())\n\u001b[0;32m   1152\u001b[0m     reasons\u001b[38;5;241m.\u001b[39mappend(\u001b[38;5;124mf\u001b[39m\u001b[38;5;124m'\u001b[39m\u001b[38;5;124mPending operations: \u001b[39m\u001b[38;5;132;01m{\u001b[39;00mpending\u001b[38;5;132;01m}\u001b[39;00m\u001b[38;5;124m'\u001b[39m)\n\u001b[1;32m-> 1153\u001b[0m \u001b[38;5;28;01mraise\u001b[39;00m \u001b[38;5;167;01mTimeoutError\u001b[39;00m(\u001b[38;5;124m'\u001b[39m\u001b[38;5;124m; \u001b[39m\u001b[38;5;124m'\u001b[39m\u001b[38;5;241m.\u001b[39mjoin(reasons))\n",
      "\u001b[1;31mTimeoutError\u001b[0m: Failed to connect to all signals: virtual motor.user_readback (IOC:m1.RBV), virtual motor.user_setpoint (IOC:m1.VAL), virtual motor.user_offset (IOC:m1.OFF), virtual motor.user_offset_dir (IOC:m1.DIR), virtual motor.offset_freeze_switch (IOC:m1.FOFF), virtual motor.set_use_switch (IOC:m1.SET), virtual motor.velocity (IOC:m1.VELO), virtual motor.acceleration (IOC:m1.ACCL), virtual motor.motor_egu (IOC:m1.EGU), virtual motor.motor_is_moving (IOC:m1.MOVN), virtual motor.motor_done_move (IOC:m1.DMOV), virtual motor.high_limit_switch (IOC:m1.HLS), virtual motor.low_limit_switch (IOC:m1.LLS), virtual motor.high_limit_travel (IOC:m1.HLM), virtual motor.low_limit_travel (IOC:m1.LLM), virtual motor.direction_of_travel (IOC:m1.TDIR), virtual motor.motor_stop (IOC:m1.STOP), virtual motor.home_forward (IOC:m1.HOMF), virtual motor.home_reverse (IOC:m1.HOMR); Pending operations: EpicsMotor(prefix='IOC:m1', name='virtual motor', settle_time=0.0, timeout=None, read_attrs=['user_readback', 'user_setpoint'], configuration_attrs=['user_offset', 'user_offset_dir', 'velocity', 'acceleration', 'motor_egu'])._pos_changed[value] subscription, EpicsMotor(prefix='IOC:m1', name='virtual motor', settle_time=0.0, timeout=None, read_attrs=['user_readback', 'user_setpoint'], configuration_attrs=['user_offset', 'user_offset_dir', 'velocity', 'acceleration', 'motor_egu'])._move_changed[value] subscription"
     ]
    }
   ],
   "source": [
    "#worked at some point... needs to be launched\n",
    "det_virtual = EpicsMotor('IOC:m1', name='virtual motor')\n",
    "det_virtual.wait_for_connection(timeout=2.0)\n",
    "det_virtual.read()"
   ]
  },
  {
   "cell_type": "code",
   "execution_count": null,
   "id": "955c1185",
   "metadata": {},
   "outputs": [],
   "source": [
    "epics.caget('IOC:m1')"
   ]
  },
  {
   "cell_type": "markdown",
   "id": "cc18e806",
   "metadata": {},
   "source": [
    "### Simulated detectors"
   ]
  },
  {
   "cell_type": "code",
   "execution_count": 26,
   "id": "1a6b2027",
   "metadata": {},
   "outputs": [
    {
     "name": "stdout",
     "output_type": "stream",
     "text": [
      "\n",
      "\n",
      "Transient Scan ID: 1     Time: 2022-04-29 16:46:22\n",
      "Persistent Unique Scan ID: '8c99bdd4-7f2f-473b-96f4-601df48ad008'\n",
      "New stream: 'primary'\n",
      "+-----------+------------+-------------+------------+\n",
      "|   seq_num |       time | hxp hexapod |  picoscale |\n",
      "+-----------+------------+-------------+------------+\n",
      "|         1 | 16:46:22.9 |    -8.26053 | -1983077098 |\n",
      "+-----------+------------+-------------+------------+\n",
      "generator count ['8c99bdd4'] (scan num: 1)\n",
      "\n",
      "\n",
      "\n"
     ]
    },
    {
     "data": {
      "text/plain": [
       "('8c99bdd4-7f2f-473b-96f4-601df48ad008',)"
      ]
     },
     "execution_count": 26,
     "metadata": {},
     "output_type": "execute_result"
    }
   ],
   "source": [
    "from ophyd.sim import det1, det2  # two simulated detectors\n",
    "from bluesky.plans import count\n",
    "#dets = [det1, det2]   # a list of any number of detectors\n",
    "\n",
    "dets = [det_ps, det_hxp]   # a list of any number of detectors\n",
    "\n",
    "RE(count(dets))"
   ]
  },
  {
   "cell_type": "code",
   "execution_count": 27,
   "id": "b99faa15",
   "metadata": {},
   "outputs": [
    {
     "name": "stdout",
     "output_type": "stream",
     "text": [
      "\n",
      "\n",
      "Transient Scan ID: 2     Time: 2022-04-29 16:46:54\n",
      "Persistent Unique Scan ID: '9118cb84-9870-470c-96f5-b9feaa1059d2'\n",
      "New stream: 'primary'\n",
      "+-----------+------------+-------------+------------+\n",
      "|   seq_num |       time | hxp hexapod |  picoscale |\n",
      "+-----------+------------+-------------+------------+\n",
      "|         1 | 16:46:54.9 |    -8.26053 | -1983157320 |\n",
      "|         2 | 16:46:55.1 |    -8.26053 | -1983186464 |\n",
      "|         3 | 16:46:55.3 |    -8.26053 | -1983122829 |\n",
      "|         4 | 16:46:55.5 |    -8.26053 | -1983165160 |\n",
      "|         5 | 16:46:55.7 |    -8.26053 | -1983154571 |\n",
      "+-----------+------------+-------------+------------+\n",
      "generator count ['9118cb84'] (scan num: 2)\n",
      "\n",
      "\n",
      "\n",
      "\n",
      "\n",
      "Transient Scan ID: 3     Time: 2022-04-29 16:46:56\n",
      "Persistent Unique Scan ID: '603059c6-9653-4102-bfd9-be0d16325158'\n",
      "New stream: 'primary'\n",
      "+-----------+------------+-------------+------------+\n",
      "|   seq_num |       time | hxp hexapod |  picoscale |\n",
      "+-----------+------------+-------------+------------+\n",
      "|         1 | 16:46:56.2 |    -8.26053 | -1983171505 |\n",
      "|         2 | 16:46:57.1 |    -8.26053 | -1983174020 |\n",
      "|         3 | 16:46:58.2 |    -8.26053 | -1983156502 |\n",
      "|         4 | 16:46:59.2 |    -8.26053 | -1983214850 |\n",
      "|         5 | 16:47:00.2 |    -8.26053 | -1983170447 |\n",
      "+-----------+------------+-------------+------------+\n",
      "generator count ['603059c6'] (scan num: 3)\n",
      "\n",
      "\n",
      "\n",
      "\n",
      "\n",
      "Transient Scan ID: 4     Time: 2022-04-29 16:47:01\n",
      "Persistent Unique Scan ID: '98292c83-d7ea-427e-a596-763b848f45bc'\n",
      "New stream: 'primary'\n",
      "+-----------+------------+-------------+------------+\n",
      "|   seq_num |       time | hxp hexapod |  picoscale |\n",
      "+-----------+------------+-------------+------------+\n",
      "|         1 | 16:47:01.6 |    -8.26053 | -1983134500 |\n",
      "|         2 | 16:47:02.5 |    -8.26053 | -1983188982 |\n",
      "|         3 | 16:47:04.5 |    -8.26053 | -1983190678 |\n",
      "|         4 | 16:47:07.5 |    -8.26053 | -1983225895 |\n",
      "|         5 | 16:47:11.5 |    -8.26053 | -1983177738 |\n",
      "+-----------+------------+-------------+------------+\n",
      "generator count ['98292c83'] (scan num: 4)\n",
      "\n",
      "\n",
      "\n"
     ]
    },
    {
     "data": {
      "text/plain": [
       "('98292c83-d7ea-427e-a596-763b848f45bc',)"
      ]
     },
     "execution_count": 27,
     "metadata": {},
     "output_type": "execute_result"
    },
    {
     "data": {
      "image/png": "[encoded data removed]",
      "text/plain": [
       "<Figure size 360x720 with 2 Axes>"
      ]
     },
     "metadata": {
      "needs_background": "light"
     },
     "output_type": "display_data"
    }
   ],
   "source": [
    "# five consecutive readings\n",
    "RE(count(dets, num=5))\n",
    "\n",
    "# five sequential readings separated by a 1-second delay\n",
    "RE(count(dets, num=5, delay=1))\n",
    "\n",
    "# a variable delay\n",
    "RE(count(dets, num=5, delay=[1, 2, 3, 4]))"
   ]
  },
  {
   "cell_type": "code",
   "execution_count": 44,
   "id": "55e3069f",
   "metadata": {},
   "outputs": [
    {
     "name": "stdout",
     "output_type": "stream",
     "text": [
      "\n",
      "\n",
      "Transient Scan ID: 7     Time: 2022-04-29 17:22:27\n",
      "Persistent Unique Scan ID: '76294f93-5388-4b2e-9054-368675719786'\n",
      "New stream: 'primary'\n",
      "+-----------+------------+-------------+------------+\n",
      "|   seq_num |       time | hxp hexapod |  picoscale |\n",
      "+-----------+------------+-------------+------------+\n",
      "|         1 | 17:22:27.5 |    -8.00000 | 1016895013 |\n",
      "hxp hexapod:  11%|██████▉                                                        | 0.01096/0.1 [00:00<00:00, 10.18s/mm]\n",
      "hxp hexapod:  94%|██████████████████████████████████████████████████████████▉    | 0.09361/0.1 [00:00<00:00,  3.35s/mm]\n",
      "hxp hexapod:  94%|██████████████████████████████████████████████████████████▉    | 0.09361/0.1 [00:00<00:00,  3.45s/mm]\n",
      "hxp hexapod: 100%|███████████████████████████████████████████████████████████████████| 0.1/0.1 [00:00<00:00,  5.18s/mm]\n",
      "hxp hexapod: 100%|███████████████████████████████████████████████████████████████████| 0.1/0.1 [00:00<00:00,  5.24s/mm]\n",
      "hxp hexapod [In progress. No progress bar available.]                                                                  \n",
      "                                                                                                                       \n",
      "|         2 | 17:22:28.1 |    -7.89997 |  916854806 |\n",
      "hxp hexapod:  10%|█████▉                                                     | 0.01011/0.09997 [00:00<00:00, 10.68s/mm]\n",
      "hxp hexapod:  93%|██████████████████████████████████████████████████████▊    | 0.09288/0.09997 [00:00<00:00,  3.34s/mm]\n",
      "hxp hexapod:  93%|██████████████████████████████████████████████████████▊    | 0.09288/0.09997 [00:00<00:00,  3.41s/mm]\n",
      "hxp hexapod: 100%|███████████████████████████████████████████████████████████| 0.09997/0.09997 [00:00<00:00,  5.15s/mm]\n",
      "hxp hexapod: 100%|███████████████████████████████████████████████████████████| 0.09997/0.09997 [00:00<00:00,  5.21s/mm]\n",
      "hxp hexapod [In progress. No progress bar available.]                                                                  \n",
      "                                                                                                                       \n",
      "|         3 | 17:22:28.7 |    -7.79994 |  816850605 |\n",
      "hxp hexapod:  10%|██████▏                                                    | 0.01043/0.09994 [00:00<00:00, 10.34s/mm]\n",
      "hxp hexapod:  93%|███████████████████████████████████████████████████████    | 0.09318/0.09994 [00:00<00:00,  3.33s/mm]\n",
      "hxp hexapod:  93%|███████████████████████████████████████████████████████    | 0.09318/0.09994 [00:00<00:00,  3.39s/mm]\n",
      "hxp hexapod: 100%|███████████████████████████████████████████████████████████| 0.09994/0.09994 [00:00<00:00,  5.14s/mm]\n",
      "hxp hexapod: 100%|███████████████████████████████████████████████████████████| 0.09994/0.09994 [00:00<00:00,  5.20s/mm]\n",
      "hxp hexapod [In progress. No progress bar available.]                                                                  \n",
      "                                                                                                                       \n",
      "|         4 | 17:22:29.3 |    -7.69992 |  717223508 |\n",
      "hxp hexapod:  10%|█████▉                                                     | 0.01001/0.09992 [00:00<00:00, 10.75s/mm]\n",
      "hxp hexapod:  93%|██████████████████████████████████████████████████████▊    | 0.09277/0.09992 [00:00<00:00,  3.34s/mm]\n",
      "hxp hexapod:  93%|██████████████████████████████████████████████████████▊    | 0.09277/0.09992 [00:00<00:00,  3.41s/mm]\n",
      "hxp hexapod: 100%|███████████████████████████████████████████████████████████| 0.09992/0.09992 [00:00<00:00,  5.14s/mm]\n",
      "hxp hexapod: 100%|███████████████████████████████████████████████████████████| 0.09992/0.09992 [00:00<00:00,  5.21s/mm]\n",
      "hxp hexapod [In progress. No progress bar available.]                                                                  \n",
      "                                                                                                                       \n",
      "|         5 | 17:22:29.9 |    -7.59992 |  617049937 |\n",
      "hxp hexapod:  10%|██████▏                                                    | 0.01043/0.09992 [00:00<00:00, 10.40s/mm]\n",
      "hxp hexapod:  93%|███████████████████████████████████████████████████████    | 0.09315/0.09992 [00:00<00:00,  3.33s/mm]\n",
      "hxp hexapod:  93%|███████████████████████████████████████████████████████    | 0.09315/0.09992 [00:00<00:00,  3.39s/mm]\n",
      "hxp hexapod: 100%|███████████████████████████████████████████████████████████| 0.09992/0.09992 [00:00<00:00,  5.14s/mm]\n",
      "hxp hexapod: 100%|███████████████████████████████████████████████████████████| 0.09992/0.09992 [00:00<00:00,  5.21s/mm]\n",
      "hxp hexapod [In progress. No progress bar available.]                                                                  \n",
      "                                                                                                                       \n",
      "|         6 | 17:22:30.5 |    -7.49993 |  517127091 |\n",
      "hxp hexapod:  11%|██████▏                                                    | 0.01054/0.09993 [00:00<00:00, 10.34s/mm]\n",
      "hxp hexapod:  93%|███████████████████████████████████████████████████████    | 0.09327/0.09993 [00:00<00:00,  3.33s/mm]\n",
      "hxp hexapod:  93%|███████████████████████████████████████████████████████    | 0.09327/0.09993 [00:00<00:00,  3.39s/mm]\n",
      "hxp hexapod: 100%|███████████████████████████████████████████████████████████| 0.09993/0.09993 [00:00<00:00,  5.15s/mm]\n",
      "hxp hexapod: 100%|███████████████████████████████████████████████████████████| 0.09993/0.09993 [00:00<00:00,  5.22s/mm]\n",
      "hxp hexapod [In progress. No progress bar available.]                                                                  \n",
      "                                                                                                                       \n",
      "|         7 | 17:22:31.1 |    -7.39996 |  417160277 |\n",
      "hxp hexapod:  11%|██████▎                                                    | 0.01059/0.09996 [00:00<00:00, 10.17s/mm]\n",
      "hxp hexapod:  93%|███████████████████████████████████████████████████████    | 0.09326/0.09996 [00:00<00:00,  3.32s/mm]\n",
      "hxp hexapod:  93%|███████████████████████████████████████████████████████    | 0.09326/0.09996 [00:00<00:00,  3.38s/mm]\n",
      "hxp hexapod: 100%|███████████████████████████████████████████████████████████| 0.09996/0.09996 [00:00<00:00,  5.14s/mm]\n",
      "hxp hexapod: 100%|███████████████████████████████████████████████████████████| 0.09996/0.09996 [00:00<00:00,  5.19s/mm]\n",
      "hxp hexapod [In progress. No progress bar available.]                                                                  \n",
      "                                                                                                                       \n",
      "|         8 | 17:22:31.7 |    -7.30000 |  317074994 |\n",
      "hxp hexapod:  10%|██████▍                                                        | 0.01027/0.1 [00:00<00:00, 10.46s/mm]\n",
      "hxp hexapod:  93%|██████████████████████████████████████████████████████████▌    | 0.09294/0.1 [00:00<00:00,  3.33s/mm]\n",
      "hxp hexapod:  93%|██████████████████████████████████████████████████████████▌    | 0.09294/0.1 [00:00<00:00,  3.38s/mm]\n",
      "hxp hexapod: 100%|██████████████████████████████████████████████████████████████▉| 0.09995/0.1 [00:00<00:00,  5.13s/mm]\n",
      "hxp hexapod: 100%|██████████████████████████████████████████████████████████████▉| 0.09995/0.1 [00:00<00:00,  5.19s/mm]\n",
      "hxp hexapod [In progress. No progress bar available.]                                                                  \n",
      "                                                                                                                       \n",
      "|         9 | 17:22:32.3 |    -7.20005 |  217184663 |\n",
      "hxp hexapod:  10%|██████▏                                                    | 0.01042/0.10005 [00:00<00:00, 10.38s/mm]\n",
      "hxp hexapod:  93%|███████████████████████████████████████████████████████▊    | 0.0931/0.10005 [00:00<00:00,  3.33s/mm]\n",
      "hxp hexapod:  93%|███████████████████████████████████████████████████████▊    | 0.0931/0.10005 [00:00<00:00,  3.40s/mm]\n",
      "hxp hexapod: 100%|██████████████████████████████████████████████████████████▉| 0.09993/0.10005 [00:00<00:00,  5.15s/mm]\n",
      "hxp hexapod: 100%|██████████████████████████████████████████████████████████▉| 0.09993/0.10005 [00:00<00:00,  5.21s/mm]\n"
     ]
    },
    {
     "name": "stdout",
     "output_type": "stream",
     "text": [
      "hxp hexapod [In progress. No progress bar available.]                                                                  \n",
      "                                                                                                                       \n",
      "|        10 | 17:22:32.9 |    -7.10012 |  117389869 |\n",
      "hxp hexapod:  10%|█████▉                                                     | 0.01007/0.10012 [00:00<00:00, 10.79s/mm]\n",
      "hxp hexapod:  93%|██████████████████████████████████████████████████████▊    | 0.09295/0.10012 [00:00<00:00,  3.34s/mm]\n",
      "hxp hexapod:  93%|██████████████████████████████████████████████████████▊    | 0.09295/0.10012 [00:00<00:00,  3.41s/mm]\n",
      "hxp hexapod: 100%|███████████████████████████████████████████████████████████| 0.10012/0.10012 [00:00<00:00,  5.13s/mm]\n",
      "hxp hexapod: 100%|███████████████████████████████████████████████████████████| 0.10012/0.10012 [00:00<00:00,  5.19s/mm]\n",
      "hxp hexapod [In progress. No progress bar available.]                                                                  \n",
      "                                                                                                                       \n",
      "|        11 | 17:22:33.5 |    -6.99997 |   17299483 |\n",
      "+-----------+------------+-------------+------------+\n",
      "generator scan ['76294f93'] (scan num: 7)\n",
      "\n",
      "\n",
      "\n"
     ]
    },
    {
     "data": {
      "text/plain": [
       "('76294f93-5388-4b2e-9054-368675719786',)"
      ]
     },
     "execution_count": 44,
     "metadata": {},
     "output_type": "execute_result"
    },
    {
     "data": {
      "image/png": "[encoded data removed]",
      "text/plain": [
       "<Figure size 360x360 with 1 Axes>"
      ]
     },
     "metadata": {
      "needs_background": "light"
     },
     "output_type": "display_data"
    }
   ],
   "source": [
    "from bluesky.plans import scan\n",
    "motors = det_hxp\n",
    "dets = [det_ps]\n",
    "RE(scan(dets, motors, -8, -7, 11))"
   ]
  },
  {
   "cell_type": "code",
   "execution_count": 48,
   "id": "d468e1e0",
   "metadata": {},
   "outputs": [
    {
     "data": {
      "text/html": [
       "<div>\n",
       "<style scoped>\n",
       "    .dataframe tbody tr th:only-of-type {\n",
       "        vertical-align: middle;\n",
       "    }\n",
       "\n",
       "    .dataframe tbody tr th {\n",
       "        vertical-align: top;\n",
       "    }\n",
       "\n",
       "    .dataframe thead th {\n",
       "        text-align: right;\n",
       "    }\n",
       "</style>\n",
       "<table border=\"1\" class=\"dataframe\">\n",
       "  <thead>\n",
       "    <tr style=\"text-align: right;\">\n",
       "      <th></th>\n",
       "      <th>time</th>\n",
       "      <th>hxp hexapod</th>\n",
       "      <th>hxp hexapod_user_setpoint</th>\n",
       "      <th>picoscale</th>\n",
       "    </tr>\n",
       "    <tr>\n",
       "      <th>seq_num</th>\n",
       "      <th></th>\n",
       "      <th></th>\n",
       "      <th></th>\n",
       "      <th></th>\n",
       "    </tr>\n",
       "  </thead>\n",
       "  <tbody>\n",
       "    <tr>\n",
       "      <th>1</th>\n",
       "      <td>2022-04-30 00:22:27.503547430</td>\n",
       "      <td>-8.00000</td>\n",
       "      <td>-8.0</td>\n",
       "      <td>1016895013</td>\n",
       "    </tr>\n",
       "    <tr>\n",
       "      <th>2</th>\n",
       "      <td>2022-04-30 00:22:28.126782656</td>\n",
       "      <td>-7.89997</td>\n",
       "      <td>-7.9</td>\n",
       "      <td>916854806</td>\n",
       "    </tr>\n",
       "    <tr>\n",
       "      <th>3</th>\n",
       "      <td>2022-04-30 00:22:28.735365152</td>\n",
       "      <td>-7.79994</td>\n",
       "      <td>-7.8</td>\n",
       "      <td>816850605</td>\n",
       "    </tr>\n",
       "    <tr>\n",
       "      <th>4</th>\n",
       "      <td>2022-04-30 00:22:29.337175369</td>\n",
       "      <td>-7.69992</td>\n",
       "      <td>-7.7</td>\n",
       "      <td>717223508</td>\n",
       "    </tr>\n",
       "    <tr>\n",
       "      <th>5</th>\n",
       "      <td>2022-04-30 00:22:29.948419809</td>\n",
       "      <td>-7.59992</td>\n",
       "      <td>-7.6</td>\n",
       "      <td>617049937</td>\n",
       "    </tr>\n",
       "    <tr>\n",
       "      <th>6</th>\n",
       "      <td>2022-04-30 00:22:30.555237055</td>\n",
       "      <td>-7.49993</td>\n",
       "      <td>-7.5</td>\n",
       "      <td>517127091</td>\n",
       "    </tr>\n",
       "    <tr>\n",
       "      <th>7</th>\n",
       "      <td>2022-04-30 00:22:31.163182020</td>\n",
       "      <td>-7.39996</td>\n",
       "      <td>-7.4</td>\n",
       "      <td>417160277</td>\n",
       "    </tr>\n",
       "    <tr>\n",
       "      <th>8</th>\n",
       "      <td>2022-04-30 00:22:31.775228977</td>\n",
       "      <td>-7.30000</td>\n",
       "      <td>-7.3</td>\n",
       "      <td>317074994</td>\n",
       "    </tr>\n",
       "    <tr>\n",
       "      <th>9</th>\n",
       "      <td>2022-04-30 00:22:32.389083147</td>\n",
       "      <td>-7.20005</td>\n",
       "      <td>-7.2</td>\n",
       "      <td>217184663</td>\n",
       "    </tr>\n",
       "    <tr>\n",
       "      <th>10</th>\n",
       "      <td>2022-04-30 00:22:32.994201660</td>\n",
       "      <td>-7.10012</td>\n",
       "      <td>-7.1</td>\n",
       "      <td>117389869</td>\n",
       "    </tr>\n",
       "    <tr>\n",
       "      <th>11</th>\n",
       "      <td>2022-04-30 00:22:33.592644453</td>\n",
       "      <td>-6.99997</td>\n",
       "      <td>-7.0</td>\n",
       "      <td>17299483</td>\n",
       "    </tr>\n",
       "  </tbody>\n",
       "</table>\n",
       "</div>"
      ],
      "text/plain": [
       "                                 time  hxp hexapod  hxp hexapod_user_setpoint  \\\n",
       "seq_num                                                                         \n",
       "1       2022-04-30 00:22:27.503547430     -8.00000                       -8.0   \n",
       "2       2022-04-30 00:22:28.126782656     -7.89997                       -7.9   \n",
       "3       2022-04-30 00:22:28.735365152     -7.79994                       -7.8   \n",
       "4       2022-04-30 00:22:29.337175369     -7.69992                       -7.7   \n",
       "5       2022-04-30 00:22:29.948419809     -7.59992                       -7.6   \n",
       "6       2022-04-30 00:22:30.555237055     -7.49993                       -7.5   \n",
       "7       2022-04-30 00:22:31.163182020     -7.39996                       -7.4   \n",
       "8       2022-04-30 00:22:31.775228977     -7.30000                       -7.3   \n",
       "9       2022-04-30 00:22:32.389083147     -7.20005                       -7.2   \n",
       "10      2022-04-30 00:22:32.994201660     -7.10012                       -7.1   \n",
       "11      2022-04-30 00:22:33.592644453     -6.99997                       -7.0   \n",
       "\n",
       "          picoscale  \n",
       "seq_num              \n",
       "1        1016895013  \n",
       "2         916854806  \n",
       "3         816850605  \n",
       "4         717223508  \n",
       "5         617049937  \n",
       "6         517127091  \n",
       "7         417160277  \n",
       "8         317074994  \n",
       "9         217184663  \n",
       "10        117389869  \n",
       "11         17299483  "
      ]
     },
     "execution_count": 48,
     "metadata": {},
     "output_type": "execute_result"
    }
   ],
   "source": [
    "header.table()"
   ]
  },
  {
   "cell_type": "code",
   "execution_count": 41,
   "id": "8a55ff6b",
   "metadata": {},
   "outputs": [
    {
     "data": {
      "text/plain": [
       "MoveStatus(done=True, pos=hxp hexapod, elapsed=0.0, success=True, settle_time=0.0)"
      ]
     },
     "execution_count": 41,
     "metadata": {},
     "output_type": "execute_result"
    }
   ],
   "source": [
    "det_hxp.move(-8)"
   ]
  },
  {
   "cell_type": "code",
   "execution_count": 43,
   "id": "e034ef17",
   "metadata": {},
   "outputs": [
    {
     "data": {
      "text/plain": [
       "-8.000020000000001"
      ]
     },
     "execution_count": 43,
     "metadata": {},
     "output_type": "execute_result"
    }
   ],
   "source": [
    "det_hxp.position"
   ]
  },
  {
   "cell_type": "code",
   "execution_count": 42,
   "id": "445924d9",
   "metadata": {},
   "outputs": [],
   "source": [
    "move_done = epics.caput('BL531:hxp:c0:m3',-8)"
   ]
  },
  {
   "cell_type": "code",
   "execution_count": null,
   "id": "f2afcd50",
   "metadata": {},
   "outputs": [],
   "source": [
    "76294f93-5388-4b2e-9054-368675719786"
   ]
  },
  {
   "cell_type": "code",
   "execution_count": 46,
   "id": "e27a7246",
   "metadata": {},
   "outputs": [],
   "source": [
    "header = db[-1]"
   ]
  },
  {
   "cell_type": "code",
   "execution_count": 60,
   "id": "e5389762",
   "metadata": {},
   "outputs": [],
   "source": [
    "a = header.data('picoscale')"
   ]
  },
  {
   "cell_type": "code",
   "execution_count": 61,
   "id": "7744c676",
   "metadata": {},
   "outputs": [
    {
     "data": {
      "text/plain": [
       "<generator object Header.data at 0x000002078863B740>"
      ]
     },
     "execution_count": 61,
     "metadata": {},
     "output_type": "execute_result"
    }
   ],
   "source": []
  },
  {
   "cell_type": "code",
   "execution_count": null,
   "id": "fb8373be",
   "metadata": {},
   "outputs": [],
   "source": [
    "import matplotlib.pyplot as plt\n",
    "plot. "
   ]
  },
  {
   "cell_type": "code",
   "execution_count": 56,
   "id": "86fb517d",
   "metadata": {},
   "outputs": [
    {
     "name": "stdout",
     "output_type": "stream",
     "text": [
      "Help on Header in module databroker.v1 object:\n",
      "\n",
      "class Header(builtins.object)\n",
      " |  Header(datasource)\n",
      " |  \n",
      " |  This supports the original Header API but implemented on intake's Entry.\n",
      " |  \n",
      " |  Methods defined here:\n",
      " |  \n",
      " |  __eq__(self, other)\n",
      " |      Return self==value.\n",
      " |  \n",
      " |  __getitem__(self, k)\n",
      " |  \n",
      " |  __init__(self, datasource)\n",
      " |      Initialize self.  See help(type(self)) for accurate signature.\n",
      " |  \n",
      " |  __iter__(self)\n",
      " |  \n",
      " |  config_data(self, device_name)\n",
      " |      Extract device configuration data from Event Descriptors.\n",
      " |      \n",
      " |      This refers to the data obtained from ``device.read_configuration()``.\n",
      " |      \n",
      " |      See example below. The result is structed as a [...deep breath...]\n",
      " |      dictionary of lists of dictionaries because:\n",
      " |      \n",
      " |      * The device might have been read in multiple event streams\n",
      " |        ('primary', 'baseline', etc.). Each stream name is a key in the\n",
      " |        outer dictionary.\n",
      " |      * The configuration is typically read once per event stream, but in\n",
      " |        general may be read multiple times if the configuration is changed\n",
      " |        mid-stream. Thus, a list is needed.\n",
      " |      * Each device typically produces multiple configuration fields\n",
      " |        ('exposure_time', 'period', etc.). These are the keys of the inner\n",
      " |        dictionary.\n",
      " |      \n",
      " |      Parameters\n",
      " |      ----------\n",
      " |      device_name : string\n",
      " |          device name (originally obtained from the ``name`` attribute of\n",
      " |          some readable Device)\n",
      " |      \n",
      " |      Returns\n",
      " |      -------\n",
      " |      result : dict\n",
      " |          mapping each stream name (such as 'primary' or 'baseline') to a\n",
      " |          list of data dictionaries\n",
      " |      \n",
      " |      Examples\n",
      " |      --------\n",
      " |      Get the device configuration recorded for the device named 'eiger'.\n",
      " |      \n",
      " |      >>> h.config_data('eiger')\n",
      " |      {'primary': [{'exposure_time': 1.0}]}\n",
      " |      \n",
      " |      Assign the exposure time to a variable.\n",
      " |      \n",
      " |      >>> exp_time = h.config_data('eiger')['primary'][0]['exposure_time']\n",
      " |      \n",
      " |      How did we know that ``'eiger'`` was a valid argument? We can query for\n",
      " |      the complete list of device names:\n",
      " |      \n",
      " |      >>> h.devices()\n",
      " |      {'eiger', 'cs700'}\n",
      " |  \n",
      " |  data(self, field, stream_name='primary', fill=True)\n",
      " |      Extract data for one field. This is convenient for loading image data.\n",
      " |      \n",
      " |      Parameters\n",
      " |      ----------\n",
      " |      field : string\n",
      " |          such as 'image' or 'intensity'\n",
      " |      \n",
      " |      stream_name : string, optional\n",
      " |          Get data from a single \"event stream.\" Default is 'primary'\n",
      " |      \n",
      " |      fill : bool, optional\n",
      " |           If the data should be filled.\n",
      " |      \n",
      " |      Yields\n",
      " |      ------\n",
      " |      data\n",
      " |  \n",
      " |  devices(self, stream_name=<class 'databroker.utils.ALL'>)\n",
      " |      Return the names of the devices in this run.\n",
      " |      \n",
      " |      Parameters\n",
      " |      ----------\n",
      " |      stream_name : string or ``ALL``, optional\n",
      " |          Filter results by stream name (e.g., 'primary', 'baseline'). The\n",
      " |          default, ``ALL``, combines results from all streams.\n",
      " |      \n",
      " |      Returns\n",
      " |      -------\n",
      " |      devices : set\n",
      " |      \n",
      " |      Examples\n",
      " |      --------\n",
      " |      Load the most recent run and list its devices.\n",
      " |      \n",
      " |      >>> h = db[-1]\n",
      " |      >>> h.devices()\n",
      " |      {'eiger'}\n",
      " |      \n",
      " |      See Also\n",
      " |      --------\n",
      " |      :meth:`Header.fields`\n",
      " |  \n",
      " |  documents(self, stream_name=<class 'databroker.utils.ALL'>, fields=None, fill=False)\n",
      " |      Load all documents from the run.\n",
      " |      \n",
      " |      This is a generator the yields ``(name, doc)``.\n",
      " |      \n",
      " |      Parameters\n",
      " |      ----------\n",
      " |      stream_name : string or ``ALL``, optional\n",
      " |          Filter results by stream name (e.g., 'primary', 'baseline'). The\n",
      " |          default, ``ALL``, combines results from all streams.\n",
      " |      fill : bool, optional\n",
      " |          Whether externally-stored data should be filled in. False by\n",
      " |          default.\n",
      " |      \n",
      " |      Yields\n",
      " |      ------\n",
      " |      name, doc : (string, dict)\n",
      " |      \n",
      " |      Examples\n",
      " |      --------\n",
      " |      Loop through the documents from a run.\n",
      " |      \n",
      " |      >>> h = db[-1]\n",
      " |      >>> for name, doc in h.documents():\n",
      " |      ...     # do something\n",
      " |  \n",
      " |  events(self, stream_name='primary', fields=None, fill=False)\n",
      " |      Load all Event documents from one event stream.\n",
      " |      \n",
      " |      This is a generator the yields Event documents.\n",
      " |      \n",
      " |      Parameters\n",
      " |      ----------\n",
      " |      stream_name : str, optional\n",
      " |          Get events from only \"event stream\" with this name.\n",
      " |      \n",
      " |          Default is 'primary'\n",
      " |      \n",
      " |      fields : List[str], optional\n",
      " |          whitelist of field names of interest; if None, all are returned\n",
      " |      \n",
      " |          Default is None\n",
      " |      \n",
      " |      fill : bool or Iterable[str], optional\n",
      " |          Which fields to fill.  If `True`, fill all\n",
      " |          possible fields.\n",
      " |      \n",
      " |          Each event will have the data filled for the intersection\n",
      " |          of it's external keys and the fields requested filled.\n",
      " |      \n",
      " |          Default is False\n",
      " |      \n",
      " |      Yields\n",
      " |      ------\n",
      " |      doc : dict\n",
      " |      \n",
      " |      Examples\n",
      " |      --------\n",
      " |      Loop through the Event documents from a run. This is 'lazy', meaning\n",
      " |      that only one Event at a time is loaded into memory.\n",
      " |      \n",
      " |      >>> h = db[-1]\n",
      " |      >>> for event in h.events():\n",
      " |      ...    # do something\n",
      " |      \n",
      " |      List the Events documents from a run, loading them all into memory at\n",
      " |      once.\n",
      " |      \n",
      " |      >>> events = list(h.events())\n",
      " |  \n",
      " |  fields(self, stream_name=<class 'databroker.utils.ALL'>)\n",
      " |      Return the names of the fields ('data keys') in this run.\n",
      " |      \n",
      " |      Parameters\n",
      " |      ----------\n",
      " |      stream_name : string or ``ALL``, optional\n",
      " |          Filter results by stream name (e.g., 'primary', 'baseline'). The\n",
      " |          default, ``ALL``, combines results from all streams.\n",
      " |      \n",
      " |      Returns\n",
      " |      -------\n",
      " |      fields : set\n",
      " |      \n",
      " |      Examples\n",
      " |      --------\n",
      " |      Load the most recent run and list its fields.\n",
      " |      \n",
      " |      >>> h = db[-1]\n",
      " |      >>> h.fields()\n",
      " |      {'eiger_stats1_total', 'eiger_image'}\n",
      " |      \n",
      " |      See Also\n",
      " |      --------\n",
      " |      :meth:`Header.devices`\n",
      " |  \n",
      " |  get(self, *args, **kwargs)\n",
      " |  \n",
      " |  items(self)\n",
      " |  \n",
      " |  keys(self)\n",
      " |  \n",
      " |  stream(self, *args, **kwargs)\n",
      " |  \n",
      " |  table(self, stream_name='primary', fields=None, fill=False, timezone=None, convert_times=True, localize_times=True)\n",
      " |      Load the data from one event stream as a table (``pandas.DataFrame``).\n",
      " |      \n",
      " |      Parameters\n",
      " |      ----------\n",
      " |      stream_name : str, optional\n",
      " |          Get events from only \"event stream\" with this name.\n",
      " |      \n",
      " |          Default is 'primary'\n",
      " |      \n",
      " |      fields : List[str], optional\n",
      " |          whitelist of field names of interest; if None, all are returned\n",
      " |      \n",
      " |          Default is None\n",
      " |      \n",
      " |      fill : bool or Iterable[str], optional\n",
      " |          Which fields to fill.  If `True`, fill all\n",
      " |          possible fields.\n",
      " |      \n",
      " |          Each event will have the data filled for the intersection\n",
      " |          of it's external keys and the fields requested filled.\n",
      " |      \n",
      " |          Default is False\n",
      " |      \n",
      " |      handler_registry : dict, optional\n",
      " |          mapping filestore specs (strings) to handlers (callable classes)\n",
      " |      \n",
      " |      convert_times : bool, optional\n",
      " |          Whether to convert times from float (seconds since 1970) to\n",
      " |          numpy datetime64, using pandas. True by default.\n",
      " |      \n",
      " |      timezone : str, optional\n",
      " |          e.g., 'US/Eastern'; if None, use metadatastore configuration in\n",
      " |          `self.mds.config['timezone']`\n",
      " |      \n",
      " |      localize_times : bool, optional\n",
      " |          If the times should be localized to the 'local' time zone.  If\n",
      " |          True (the default) the time stamps are converted to the localtime\n",
      " |          zone (as configure in mds).\n",
      " |      \n",
      " |          This is problematic for several reasons:\n",
      " |      \n",
      " |            - apparent gaps or duplicate times around DST transitions\n",
      " |            - incompatibility with every other time stamp (which is in UTC)\n",
      " |      \n",
      " |          however, this makes the dataframe repr look nicer\n",
      " |      \n",
      " |          This implies convert_times.\n",
      " |      \n",
      " |          Defaults to True to preserve back-compatibility.\n",
      " |      \n",
      " |      Returns\n",
      " |      -------\n",
      " |      table : pandas.DataFrame\n",
      " |      \n",
      " |      Examples\n",
      " |      --------\n",
      " |      Load the 'primary' data stream from the most recent run into a table.\n",
      " |      \n",
      " |      >>> h = db[-1]\n",
      " |      >>> h.table()\n",
      " |      \n",
      " |      This is equivalent. (The default stream_name is 'primary'.)\n",
      " |      \n",
      " |      >>> h.table(stream_name='primary')\n",
      " |                                  time intensity\n",
      " |      0  2017-07-16 12:12:37.239582345       102\n",
      " |      1  2017-07-16 12:12:39.958385283       103\n",
      " |      \n",
      " |      Load the 'baseline' data stream.\n",
      " |      \n",
      " |      >>> h.table(stream_name='baseline')\n",
      " |                                  time temperature\n",
      " |      0  2017-07-16 12:12:35.128515999         273\n",
      " |      1  2017-07-16 12:12:40.128515999         274\n",
      " |  \n",
      " |  values(self)\n",
      " |  \n",
      " |  xarray(self, stream_name='primary')\n",
      " |  \n",
      " |  xarray_dask(self, stream_name='primary')\n",
      " |  \n",
      " |  ----------------------------------------------------------------------\n",
      " |  Readonly properties defined here:\n",
      " |  \n",
      " |  descriptors\n",
      " |  \n",
      " |  start\n",
      " |  \n",
      " |  stop\n",
      " |  \n",
      " |  stream_names\n",
      " |  \n",
      " |  uid\n",
      " |  \n",
      " |  ----------------------------------------------------------------------\n",
      " |  Data descriptors defined here:\n",
      " |  \n",
      " |  __dict__\n",
      " |      dictionary for instance variables (if defined)\n",
      " |  \n",
      " |  __weakref__\n",
      " |      list of weak references to the object (if defined)\n",
      " |  \n",
      " |  ----------------------------------------------------------------------\n",
      " |  Data and other attributes defined here:\n",
      " |  \n",
      " |  __hash__ = None\n"
     ]
    },
    {
     "name": "stdout",
     "output_type": "stream",
     "text": [
      "\n"
     ]
    }
   ],
   "source": [
    "help(header)"
   ]
  },
  {
   "cell_type": "code",
   "execution_count": null,
   "id": "b22c5207",
   "metadata": {},
   "outputs": [],
   "source": []
  }
 ],
 "metadata": {
  "kernelspec": {
   "display_name": "Python 3 (ipykernel)",
   "language": "python",
   "name": "python3"
  },
  "language_info": {
   "codemirror_mode": {
    "name": "ipython",
    "version": 3
   },
   "file_extension": ".py",
   "mimetype": "text/x-python",
   "name": "python",
   "nbconvert_exporter": "python",
   "pygments_lexer": "ipython3",
   "version": "3.9.7"
  }
 },
 "nbformat": 4,
 "nbformat_minor": 5
}

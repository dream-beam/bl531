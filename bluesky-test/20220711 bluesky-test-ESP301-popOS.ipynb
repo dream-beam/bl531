{
 "cells": [
  {
   "cell_type": "markdown",
   "id": "daad3847",
   "metadata": {},
   "source": [
    "# Testing bluesky + EPICS"
   ]
  },
  {
   "cell_type": "markdown",
   "id": "717b6dd2",
   "metadata": {},
   "source": [
    "Following the bluesky tutorial https://nsls-ii.github.io/bluesky/tutorial.html with simulated and live motors"
   ]
  },
  {
   "cell_type": "code",
   "execution_count": 1,
   "id": "53d02f73",
   "metadata": {},
   "outputs": [],
   "source": [
    "# July\n",
    "# awojdyla@lbl.gov"
   ]
  },
  {
   "cell_type": "code",
   "execution_count": 2,
   "id": "9e5a92f6",
   "metadata": {},
   "outputs": [],
   "source": [
    "import epics\n",
    "import bluesky\n",
    "#import numpy\n",
    "#import matplotlib.pyplot as plt\n",
    "#import time "
   ]
  },
  {
   "cell_type": "code",
   "execution_count": 3,
   "id": "e3c144e3",
   "metadata": {},
   "outputs": [],
   "source": [
    "from bluesky import RunEngine\n",
    "RE = RunEngine({})"
   ]
  },
  {
   "cell_type": "code",
   "execution_count": 4,
   "id": "9f75eb41",
   "metadata": {},
   "outputs": [
    {
     "data": {
      "text/plain": [
       "0"
      ]
     },
     "execution_count": 4,
     "metadata": {},
     "output_type": "execute_result"
    }
   ],
   "source": [
    "from databroker import Broker\n",
    "db = Broker.named('temp')\n",
    "\n",
    "# Insert all metadata/data captured into db.\n",
    "RE.subscribe(db.insert)"
   ]
  },
  {
   "cell_type": "markdown",
   "id": "f085786c",
   "metadata": {},
   "source": [
    "### Connecting to EPICS motors\n",
    "We had some issues here witht the picoscale interformeter -- we need to use caproto to talk to it (ophyd's motor does not work directly out of the box)\n",
    "\n",
    "from: https://nsls-ii.github.io/bluesky/tutorial.html\n",
    "\n",
    "```\n",
    "from ophyd import EpicsMotor\n",
    "nano_top_x = EpicsMotor('XF:31ID-ES{Dif:Nano-Ax:TopX}Mtr', name='nano_top_x')\n",
    "```\n"
   ]
  },
  {
   "cell_type": "code",
   "execution_count": 12,
   "id": "3d72c8ac",
   "metadata": {},
   "outputs": [
    {
     "data": {
      "text/plain": [
       "{'newport_z_in': {'value': -0.1, 'timestamp': 1661368448.897208}}"
      ]
     },
     "execution_count": 12,
     "metadata": {},
     "output_type": "execute_result"
    }
   ],
   "source": [
    "from ophyd import EpicsMotor\n",
    "import ophyd\n",
    "ophyd.set_cl('caproto')\n",
    "\n",
    "#that does not work\n",
    "#det = ophyd.EpicsMotor('BL531:PS:POS_0', name='picoscale') \n",
    "#det.read()\n",
    "\n",
    "det_ps = ophyd.EpicsSignal('newport:m21', name='newport_z_in')\n",
    "# do not do a read in the same cell! too fast\n",
    "\n",
    "#this works\n",
    "det_ps.wait_for_connection(timeout=2.0)\n",
    "det_ps.read()"
   ]
  },
  {
   "cell_type": "code",
   "execution_count": 14,
   "id": "65ecf431",
   "metadata": {},
   "outputs": [
    {
     "data": {
      "text/plain": [
       "OrderedDict([('newport_x',\n",
       "              {'value': 0.000136, 'timestamp': 1661462696.877598}),\n",
       "             ('newport_x_user_setpoint',\n",
       "              {'value': 2.1999880000000003, 'timestamp': 1661472554.8331456})])"
      ]
     },
     "execution_count": 14,
     "metadata": {},
     "output_type": "execute_result"
    }
   ],
   "source": [
    "#motor_z = EpicsMotor('newport:m13', name='newport_z')\n",
    "#motor_x = EpicsMotor('newport:m11', name='newport_x')\n",
    "m101_pitch = EpicsMotor('newport:m21', name='newport_x')\n",
    "m101_pitch.wait_for_connection(timeout=2.0)\n",
    "m101_pitch.read()"
   ]
  },
  {
   "cell_type": "code",
   "execution_count": 16,
   "id": "bab893b8",
   "metadata": {},
   "outputs": [
    {
     "data": {
      "text/plain": [
       "0.000136"
      ]
     },
     "execution_count": 16,
     "metadata": {},
     "output_type": "execute_result"
    }
   ],
   "source": [
    "a = m101_pitch.position\n",
    "a"
   ]
  },
  {
   "cell_type": "code",
   "execution_count": 34,
   "id": "91d9e4ae",
   "metadata": {},
   "outputs": [
    {
     "data": {
      "text/plain": [
       "MoveStatus(done=True, pos=newport_x, elapsed=8.3, success=True, settle_time=0.0)"
      ]
     },
     "execution_count": 34,
     "metadata": {},
     "output_type": "execute_result"
    }
   ],
   "source": [
    "m101_pitch.move(0.5)"
   ]
  },
  {
   "cell_type": "code",
   "execution_count": 11,
   "id": "55e3069f",
   "metadata": {},
   "outputs": [],
   "source": [
    "#from bluesky.plans import scan\n",
    "#dets = [det_ps]\n",
    "#RE(scan(dets, motor_z, 25, -75, motor_x, -12, -62, 5))"
   ]
  },
  {
   "cell_type": "code",
   "execution_count": 9,
   "id": "d468e1e0",
   "metadata": {},
   "outputs": [],
   "source": [
    "#header = db[-1]\n",
    "#header.table()"
   ]
  },
  {
   "cell_type": "code",
   "execution_count": 10,
   "id": "8a55ff6b",
   "metadata": {},
   "outputs": [],
   "source": [
    "#det_hxp.move(-8)"
   ]
  },
  {
   "cell_type": "code",
   "execution_count": null,
   "id": "cb4f8909",
   "metadata": {},
   "outputs": [],
   "source": []
  }
 ],
 "metadata": {
  "kernelspec": {
   "display_name": "Python 3.10.4 64-bit",
   "language": "python",
   "name": "python3"
  },
  "language_info": {
   "codemirror_mode": {
    "name": "ipython",
    "version": 3
   },
   "file_extension": ".py",
   "mimetype": "text/x-python",
   "name": "python",
   "nbconvert_exporter": "python",
   "pygments_lexer": "ipython3",
   "version": "3.10.4"
  },
  "vscode": {
   "interpreter": {
    "hash": "916dbcbb3f70747c44a77c7bcd40155683ae19c65e1c03b4aa3499c5328201f1"
   }
  }
 },
 "nbformat": 4,
 "nbformat_minor": 5
}
